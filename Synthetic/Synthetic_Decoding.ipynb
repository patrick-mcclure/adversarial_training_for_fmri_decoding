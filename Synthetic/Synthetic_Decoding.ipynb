{
 "cells": [
  {
   "cell_type": "code",
   "execution_count": 1,
   "metadata": {},
   "outputs": [
    {
     "name": "stdout",
     "output_type": "stream",
     "text": [
      "env: CUDA_VISIBLE_DEVICES=\"\"\n"
     ]
    }
   ],
   "source": [
    "%env CUDA_VISIBLE_DEVICES=\"\""
   ]
  },
  {
   "cell_type": "code",
   "execution_count": 2,
   "metadata": {},
   "outputs": [],
   "source": [
    "import numpy as np\n",
    "import tensorflow as tf\n",
    "import tensorflow.keras.backend as K\n",
    "from tensorflow.python.ops import array_ops\n",
    "from tensorflow.python.ops import math_ops\n",
    "from tensorflow import gradients\n",
    "import matplotlib.pyplot as plt\n",
    "%matplotlib inline"
   ]
  },
  {
   "cell_type": "code",
   "execution_count": 3,
   "metadata": {},
   "outputs": [],
   "source": [
    "#Load the input data, their corresponding class labels, and the ROI mask\n",
    "data = np.load(\"data/data.npy\")\n",
    "labels= np.load(\"data/labels.npy\")\n",
    "rois = np.load(\"data/maskROI.npy\")"
   ]
  },
  {
   "cell_type": "code",
   "execution_count": 4,
   "metadata": {},
   "outputs": [],
   "source": [
    "#Randomly split the data\n",
    "index = np.random.RandomState(seed=1).permutation(9000)\n",
    "all_data = data[index]\n",
    "all_labels = labels[index]\n",
    "train_data = all_data[0:8800]\n",
    "train_labels= all_labels[0:8800][:,0]-1\n",
    "val_data = all_data[8800:8900]\n",
    "val_labels= all_labels[8800:8900][:,0]-1\n",
    "test_data = all_data[8900:9000]\n",
    "test_labels= all_labels[8900:9000][:,0]-1"
   ]
  },
  {
   "cell_type": "code",
   "execution_count": 5,
   "metadata": {},
   "outputs": [],
   "source": [
    "#Get indices for inputs from each class\n",
    "where_train_0 = np.where(train_labels==0)\n",
    "where_train_1 = np.where(train_labels==1)\n",
    "where_train_2 = np.where(train_labels==2)\n",
    "where_val_0 = np.where(val_labels==0)\n",
    "where_val_1 = np.where(val_labels==1)\n",
    "where_val_2 = np.where(val_labels==2)\n",
    "where_test_0 = np.where(test_labels==0)\n",
    "where_test_1 = np.where(test_labels==1)\n",
    "where_test_2 = np.where(test_labels==2)"
   ]
  },
  {
   "cell_type": "code",
   "execution_count": 6,
   "metadata": {},
   "outputs": [],
   "source": [
    "#Load the template images for the three classes\n",
    "temp_0 = np.load(\"data/classPrototype1.npy\")\n",
    "temp_1 = np.load(\"data/classPrototype2.npy\")\n",
    "temp_2 = np.load(\"data/classPrototype3.npy\")\n",
    "temp_avg = (temp_0+temp_1+temp_2)/3.0"
   ]
  },
  {
   "cell_type": "code",
   "execution_count": 7,
   "metadata": {},
   "outputs": [
    {
     "data": {
      "text/plain": [
       "<matplotlib.image.AxesImage at 0x7fb434fba128>"
      ]
     },
     "execution_count": 7,
     "metadata": {},
     "output_type": "execute_result"
    },
    {
     "data": {
      "image/png": "[encoded data removed]",
      "text/plain": [
       "<Figure size 288x288 with 1 Axes>"
      ]
     },
     "metadata": {
      "needs_background": "light"
     },
     "output_type": "display_data"
    },
    {
     "data": {
      "image/png": "[encoded data removed]",
      "text/plain": [
       "<Figure size 288x288 with 1 Axes>"
      ]
     },
     "metadata": {
      "needs_background": "light"
     },
     "output_type": "display_data"
    },
    {
     "data": {
      "image/png": "[encoded data removed]",
      "text/plain": [
       "<Figure size 288x288 with 1 Axes>"
      ]
     },
     "metadata": {
      "needs_background": "light"
     },
     "output_type": "display_data"
    },
    {
     "data": {
      "image/png": "[encoded data removed]",
      "text/plain": [
       "<Figure size 288x288 with 1 Axes>"
      ]
     },
     "metadata": {
      "needs_background": "light"
     },
     "output_type": "display_data"
    }
   ],
   "source": [
    "#Plot the three template images and the averge template image\n",
    "clim = np.abs(temp_0).max()\n",
    "plt.matshow(temp_0,cmap='seismic',vmin=-1.0*clim,vmax=clim)\n",
    "clim = np.abs(temp_1).max()\n",
    "plt.matshow(temp_1,cmap='seismic',vmin=-1.0*clim,vmax=clim)\n",
    "clim = np.abs(temp_2).max()\n",
    "plt.matshow(temp_2,cmap='seismic',vmin=-1.0*clim,vmax=clim)\n",
    "clim = np.abs(temp_avg).max()\n",
    "plt.matshow(temp_avg,cmap='seismic',vmin=-1.0*clim,vmax=clim)"
   ]
  },
  {
   "cell_type": "code",
   "execution_count": 8,
   "metadata": {},
   "outputs": [],
   "source": [
    "#Get difference maps for the avg template with respect to the other templates\n",
    "diff_0 = temp_0 - temp_avg\n",
    "diff_1 = temp_1 - temp_avg\n",
    "diff_2 = temp_2 - temp_avg"
   ]
  },
  {
   "cell_type": "code",
   "execution_count": 9,
   "metadata": {},
   "outputs": [
    {
     "data": {
      "text/plain": [
       "<matplotlib.image.AxesImage at 0x7fb434dcc470>"
      ]
     },
     "execution_count": 9,
     "metadata": {},
     "output_type": "execute_result"
    },
    {
     "data": {
      "image/png": "[encoded data removed]",
      "text/plain": [
       "<Figure size 288x288 with 1 Axes>"
      ]
     },
     "metadata": {
      "needs_background": "light"
     },
     "output_type": "display_data"
    },
    {
     "data": {
      "image/png": "[encoded data removed]",
      "text/plain": [
       "<Figure size 288x288 with 1 Axes>"
      ]
     },
     "metadata": {
      "needs_background": "light"
     },
     "output_type": "display_data"
    },
    {
     "data": {
      "image/png": "[encoded data removed]",
      "text/plain": [
       "<Figure size 288x288 with 1 Axes>"
      ]
     },
     "metadata": {
      "needs_background": "light"
     },
     "output_type": "display_data"
    }
   ],
   "source": [
    "#Plot the difference maps for the avg template with respect to the other templates\n",
    "plt.matshow(diff_0,cmap='seismic',vmin=-1.0,vmax=1)\n",
    "plt.matshow(diff_1,cmap='seismic',vmin=-1.0,vmax=1)\n",
    "plt.matshow(diff_2,cmap='seismic',vmin=-1.0,vmax=1)"
   ]
  },
  {
   "cell_type": "code",
   "execution_count": 10,
   "metadata": {},
   "outputs": [],
   "source": [
    "#Declare Tensorflow input and output tensors\n",
    "\n",
    "x = tf.placeholder(tf.float32, (None, 32,32), name = 'x')\n",
    "        \n",
    "y_true = tf.placeholder(tf.int64, (None), name='y')\n",
    "\n",
    "x_flat = tf.contrib.layers.flatten(x)\n",
    "\n",
    "mask_true = tf.one_hot(y_true,3)"
   ]
  },
  {
   "cell_type": "code",
   "execution_count": 11,
   "metadata": {},
   "outputs": [],
   "source": [
    "#Declare linear model\n",
    "with tf.variable_scope('l'):\n",
    "    \n",
    "    y_logits_l = tf.contrib.layers.fully_connected(x_flat,3,weights_regularizer=tf.keras.regularizers.l2(l=1e-5),activation_fn=None)\n",
    "\n",
    "    y_logits_l = y_logits_l\n",
    "\n",
    "    loss_l = tf.nn.sparse_softmax_cross_entropy_with_logits(labels=y_true, logits=y_logits_l)\n",
    "\n",
    "    probs_l = tf.nn.softmax(y_logits_l)\n",
    "\n",
    "    acc_l = tf.reduce_mean(tf.dtypes.cast(tf.equal(y_true,tf.argmax(y_logits_l, 1)),tf.float32))\n",
    "\n",
    "    train_l = tf.train.AdamOptimizer(learning_rate=1e-3).minimize(loss_l)\n",
    "\n",
    "    masked_loss_l = tf.reduce_sum( probs_l * mask_true,axis = -1)\n",
    "\n",
    "    masked_logits_l = tf.reduce_sum(y_logits_l  * mask_true,axis = -1)\n",
    "\n",
    "    w = tf.gradients(masked_logits_l,x)\n",
    "\n",
    "    g_l = tf.gradients(masked_loss_l,x)"
   ]
  },
  {
   "cell_type": "code",
   "execution_count": 12,
   "metadata": {},
   "outputs": [],
   "source": [
    "#Declare neural network model\n",
    "with tf.variable_scope('nn'):\n",
    "    h_nn = tf.contrib.layers.fully_connected(x_flat,20,activation_fn=tf.nn.relu,weights_regularizer=tf.keras.regularizers.l2(l=1e-5))\n",
    "\n",
    "    y_logits_nn = tf.contrib.layers.fully_connected(h_nn,3,activation_fn=None,weights_regularizer=tf.keras.regularizers.l2(l=1e-5))\n",
    "\n",
    "    y_logits_nn = y_logits_nn\n",
    "\n",
    "    loss_nn = tf.nn.sparse_softmax_cross_entropy_with_logits(labels=y_true, logits=y_logits_nn)\n",
    "\n",
    "    probs_nn = tf.nn.softmax(y_logits_nn)\n",
    "\n",
    "    loss_nn = tf.nn.sparse_softmax_cross_entropy_with_logits(labels=y_true, logits=y_logits_nn)\n",
    "\n",
    "    acc_nn = tf.reduce_mean(tf.dtypes.cast(tf.equal(y_true,tf.argmax(y_logits_nn, 1)),tf.float32))\n",
    "\n",
    "    train_nn = tf.train.AdamOptimizer(learning_rate=1e-3).minimize(loss_nn)\n",
    "\n",
    "    masked_loss_nn = tf.reduce_sum( probs_nn * mask_true,axis = -1)\n",
    "\n",
    "    masked_logits_nn = tf.reduce_sum( y_logits_nn * mask_true,axis = -1)\n",
    "\n",
    "    g_nn = tf.gradients(masked_loss_nn,x)"
   ]
  },
  {
   "cell_type": "code",
   "execution_count": 13,
   "metadata": {},
   "outputs": [],
   "source": [
    "#Declare neural network with random spherical noise model\n",
    "with tf.variable_scope('sph'):\n",
    "    h_sph = tf.contrib.layers.fully_connected(x_flat,20,activation_fn=tf.nn.relu,weights_regularizer=tf.keras.regularizers.l2(l=1e-5))\n",
    "\n",
    "    y_logits_sph = tf.contrib.layers.fully_connected(h_sph,3,activation_fn=None,weights_regularizer=tf.keras.regularizers.l2(l=1e-5))\n",
    "\n",
    "    y_logits_sph = y_logits_sph\n",
    "\n",
    "    loss_sph = tf.nn.sparse_softmax_cross_entropy_with_logits(labels=y_true, logits=y_logits_sph)\n",
    "\n",
    "    probs_sph = tf.nn.softmax(y_logits_sph)\n",
    "\n",
    "    loss_sph = tf.nn.sparse_softmax_cross_entropy_with_logits(labels=y_true, logits=y_logits_sph)\n",
    "\n",
    "    acc_sph = tf.reduce_mean(tf.dtypes.cast(tf.equal(y_true,tf.argmax(y_logits_sph, 1)),tf.float32))\n",
    "\n",
    "    train_sph = tf.train.AdamOptimizer(learning_rate=1e-3).minimize(loss_sph)\n",
    "\n",
    "    masked_loss_sph = tf.reduce_sum( probs_sph * mask_true,axis = -1)\n",
    "\n",
    "    masked_logits_sph = tf.reduce_sum( y_logits_sph * mask_true,axis = -1)\n",
    "\n",
    "    g_sph = tf.gradients(masked_loss_sph,x)"
   ]
  },
  {
   "cell_type": "code",
   "execution_count": 14,
   "metadata": {},
   "outputs": [],
   "source": [
    "#Declare neural network with advesarial training model \n",
    "with tf.variable_scope('adv'):\n",
    "    \n",
    "    h_adv = tf.contrib.layers.fully_connected(x_flat,20,activation_fn=tf.nn.relu,weights_regularizer=tf.keras.regularizers.l2(l=1e-5))\n",
    "\n",
    "    y_logits_adv = tf.contrib.layers.fully_connected(h_adv,3,activation_fn=None,weights_regularizer=tf.keras.regularizers.l2(l=1e-5))\n",
    "\n",
    "    loss_adv = tf.nn.sparse_softmax_cross_entropy_with_logits(labels=y_true, logits=y_logits_adv)\n",
    "\n",
    "    probs_adv = tf.nn.softmax(y_logits_adv)\n",
    "\n",
    "    acc_adv = tf.reduce_mean(tf.dtypes.cast(tf.equal(y_true,tf.argmax(y_logits_adv, 1)),tf.float32))\n",
    "\n",
    "    train_adv = tf.train.AdamOptimizer(learning_rate=1e-3).minimize(loss_adv)\n",
    "\n",
    "    masked_loss_adv = tf.reduce_sum( probs_adv * mask_true,axis = -1)\n",
    "\n",
    "    masked_logits_adv = tf.reduce_sum(y_logits_adv * mask_true,axis = -1)\n",
    "\n",
    "    g_adv = tf.gradients(masked_loss_adv,x)"
   ]
  },
  {
   "cell_type": "code",
   "execution_count": 15,
   "metadata": {},
   "outputs": [],
   "source": [
    "#Declare model savers\n",
    "vars_l = tf.get_collection(tf.GraphKeys.GLOBAL_VARIABLES,scope='l')\n",
    "saver_l = tf.train.Saver(vars_l)\n",
    "vars_nn = tf.get_collection(tf.GraphKeys.GLOBAL_VARIABLES,scope='nn')\n",
    "saver_nn = tf.train.Saver(vars_nn)\n",
    "vars_sph = tf.get_collection(tf.GraphKeys.GLOBAL_VARIABLES,scope='sph')\n",
    "saver_sph = tf.train.Saver(vars_sph)\n",
    "vars_adv = tf.get_collection(tf.GraphKeys.GLOBAL_VARIABLES,scope='adv')\n",
    "saver_adv = tf.train.Saver(vars_adv)"
   ]
  },
  {
   "cell_type": "code",
   "execution_count": 16,
   "metadata": {},
   "outputs": [
    {
     "name": "stdout",
     "output_type": "stream",
     "text": [
      "Loss L: 1.1514229\n",
      "Acc L: 0.28840908\n",
      "Loss L: 1.1489468\n",
      "Acc L: 0.29920456\n",
      "Loss L: 1.1480258\n",
      "Acc L: 0.30875\n",
      "Loss L: 1.1467236\n",
      "Acc L: 0.3181818\n",
      "Loss L: 1.1444762\n",
      "Acc L: 0.33034092\n",
      "Loss L: 1.1409764\n",
      "Acc L: 0.3440909\n",
      "Loss L: 1.1360773\n",
      "Acc L: 0.35840908\n",
      "Loss L: 1.1296842\n",
      "Acc L: 0.37579545\n",
      "Loss L: 1.1216753\n",
      "Acc L: 0.39352274\n",
      "Loss L: 1.1119254\n",
      "Acc L: 0.41329545\n",
      "Loss L: 1.1003163\n",
      "Acc L: 0.43477273\n",
      "Loss L: 1.0867825\n",
      "Acc L: 0.45318183\n",
      "Loss L: 1.0713527\n",
      "Acc L: 0.47454545\n",
      "Loss L: 1.0541489\n",
      "Acc L: 0.49863636\n",
      "Loss L: 1.0353559\n",
      "Acc L: 0.5198864\n",
      "Loss L: 1.0151837\n",
      "Acc L: 0.5426136\n",
      "Loss L: 0.99385786\n",
      "Acc L: 0.5631818\n",
      "Loss L: 0.9716108\n",
      "Acc L: 0.58602273\n",
      "Loss L: 0.9486608\n",
      "Acc L: 0.6093182\n",
      "Loss L: 0.9251866\n",
      "Acc L: 0.6323864\n",
      "Loss L: 0.9013202\n",
      "Acc L: 0.6547727\n",
      "Loss L: 0.87717134\n",
      "Acc L: 0.67704546\n",
      "Loss L: 0.852853\n",
      "Acc L: 0.6989773\n",
      "Loss L: 0.82848495\n",
      "Acc L: 0.7211364\n",
      "Loss L: 0.80417675\n",
      "Acc L: 0.7411364\n",
      "Loss L: 0.780012\n",
      "Acc L: 0.7618182\n",
      "Loss L: 0.7560535\n",
      "Acc L: 0.77931815\n",
      "Loss L: 0.73235935\n",
      "Acc L: 0.7975\n",
      "Loss L: 0.70899063\n",
      "Acc L: 0.8146591\n",
      "Loss L: 0.6860006\n",
      "Acc L: 0.83011365\n",
      "Loss L: 0.6634267\n",
      "Acc L: 0.84625\n",
      "Loss L: 0.64129275\n",
      "Acc L: 0.8593182\n",
      "Loss L: 0.6196235\n",
      "Acc L: 0.8735227\n",
      "Loss L: 0.5984529\n",
      "Acc L: 0.8847727\n",
      "Loss L: 0.5778193\n",
      "Acc L: 0.89670455\n",
      "Loss L: 0.5577556\n",
      "Acc L: 0.90920454\n",
      "Loss L: 0.5382834\n",
      "Acc L: 0.9178409\n",
      "Loss L: 0.51941687\n",
      "Acc L: 0.9276136\n",
      "Loss L: 0.501171\n",
      "Acc L: 0.93488634\n",
      "Loss L: 0.4835618\n",
      "Acc L: 0.9409091\n",
      "Loss L: 0.46660542\n",
      "Acc L: 0.9488636\n",
      "Loss L: 0.45031455\n",
      "Acc L: 0.95511365\n",
      "Loss L: 0.4346994\n",
      "Acc L: 0.9597727\n",
      "Loss L: 0.41976768\n",
      "Acc L: 0.96420455\n",
      "Loss L: 0.40552327\n",
      "Acc L: 0.96863633\n",
      "Loss L: 0.3919614\n",
      "Acc L: 0.9735227\n",
      "Loss L: 0.379067\n",
      "Acc L: 0.97647727\n",
      "Loss L: 0.36681768\n",
      "Acc L: 0.98\n",
      "Loss L: 0.35518736\n",
      "Acc L: 0.98238635\n",
      "Loss L: 0.34414607\n",
      "Acc L: 0.98477274\n",
      "Loss L: 0.33366096\n",
      "Acc L: 0.98636365\n",
      "Loss L: 0.32369447\n",
      "Acc L: 0.98806816\n",
      "Loss L: 0.31420895\n",
      "Acc L: 0.9896591\n",
      "Loss L: 0.30516735\n",
      "Acc L: 0.9909091\n",
      "Loss L: 0.29653513\n",
      "Acc L: 0.9917045\n",
      "Loss L: 0.2882781\n",
      "Acc L: 0.9927273\n",
      "Loss L: 0.28036237\n",
      "Acc L: 0.99329543\n",
      "Loss L: 0.2727559\n",
      "Acc L: 0.9940909\n",
      "Loss L: 0.2654319\n",
      "Acc L: 0.99477273\n",
      "Loss L: 0.25836787\n",
      "Acc L: 0.9952273\n",
      "Loss L: 0.25154543\n",
      "Acc L: 0.9957954\n",
      "Loss L: 0.2449479\n",
      "Acc L: 0.99625\n",
      "Loss L: 0.23856004\n",
      "Acc L: 0.99704546\n",
      "Loss L: 0.23236877\n",
      "Acc L: 0.99738634\n",
      "Loss L: 0.2263633\n",
      "Acc L: 0.9977273\n",
      "Loss L: 0.22053424\n",
      "Acc L: 0.99806815\n",
      "Loss L: 0.2148738\n",
      "Acc L: 0.9981818\n",
      "Loss L: 0.20937493\n",
      "Acc L: 0.9985227\n",
      "Loss L: 0.20403233\n",
      "Acc L: 0.99863636\n",
      "Loss L: 0.19884169\n",
      "Acc L: 0.99875\n",
      "Loss L: 0.19380048\n",
      "Acc L: 0.99886364\n",
      "Loss L: 0.18890606\n",
      "Acc L: 0.99886364\n",
      "Loss L: 0.18415673\n",
      "Acc L: 0.99886364\n",
      "Loss L: 0.17955051\n",
      "Acc L: 0.9990909\n",
      "Loss L: 0.1750859\n",
      "Acc L: 0.9992045\n",
      "Loss L: 0.17076147\n",
      "Acc L: 0.9993182\n",
      "Loss L: 0.1665757\n",
      "Acc L: 0.99954545\n",
      "Loss L: 0.16252658\n",
      "Acc L: 0.99954545\n",
      "Loss L: 0.15861204\n",
      "Acc L: 0.9997727\n",
      "Loss L: 0.1548298\n",
      "Acc L: 0.99988633\n",
      "Loss L: 0.1511773\n",
      "Acc L: 0.99988633\n",
      "Loss L: 0.1476518\n",
      "Acc L: 0.99988633\n",
      "Loss L: 0.14424986\n",
      "Acc L: 0.99988633\n",
      "Loss L: 0.14096749\n",
      "Acc L: 0.99988633\n",
      "Loss L: 0.13780072\n",
      "Acc L: 0.99988633\n",
      "Loss L: 0.13474517\n",
      "Acc L: 1.0\n",
      "Loss L: 0.13179664\n",
      "Acc L: 1.0\n",
      "Loss L: 0.12895101\n",
      "Acc L: 1.0\n",
      "Loss L: 0.12620361\n",
      "Acc L: 1.0\n",
      "Loss L: 0.12354998\n",
      "Acc L: 1.0\n",
      "Loss L: 0.12098575\n",
      "Acc L: 1.0\n",
      "Loss L: 0.118506715\n",
      "Acc L: 1.0\n",
      "Loss L: 0.11610878\n",
      "Acc L: 1.0\n",
      "Loss L: 0.113788284\n",
      "Acc L: 1.0\n",
      "Loss L: 0.11154119\n",
      "Acc L: 1.0\n",
      "Loss L: 0.10936384\n",
      "Acc L: 1.0\n",
      "Loss L: 0.107253164\n",
      "Acc L: 1.0\n",
      "Loss L: 0.105205625\n",
      "Acc L: 1.0\n",
      "Loss L: 0.10321873\n",
      "Acc L: 1.0\n",
      "Loss L: 0.101289496\n",
      "Acc L: 1.0\n"
     ]
    }
   ],
   "source": [
    "#Train linear model\n",
    "n_ep = 100\n",
    "with tf.Session() as sess:\n",
    "    init = tf.global_variables_initializer()\n",
    "    sess.run(init)\n",
    "    for ep in range(n_ep):\n",
    "        _, l_l, a_l = sess.run([train_l, loss_l, acc_l], feed_dict={x: train_data, y_true: train_labels})\n",
    "        print('Loss L: ' + str(l_l[0]))\n",
    "        print('Acc L: ' + str(a_l))\n",
    "    saver_l.save(sess, \"saved_models/model_l.ckpt\", write_meta_graph=False)"
   ]
  },
  {
   "cell_type": "code",
   "execution_count": 17,
   "metadata": {},
   "outputs": [
    {
     "name": "stdout",
     "output_type": "stream",
     "text": [
      "INFO:tensorflow:Restoring parameters from saved_models/model_l.ckpt\n",
      "Loss L: 0.48560917\n",
      "Acc L: 0.99\n"
     ]
    }
   ],
   "source": [
    "#Get validation results for the linear model with different temperatures\n",
    "with tf.Session() as sess:\n",
    "    init = tf.global_variables_initializer()\n",
    "    sess.run(init)\n",
    "    saver_l.restore(sess, \"saved_models/model_l.ckpt\")\n",
    "    l_l, a_l = sess.run([loss_l, acc_l], feed_dict={x: val_data, y_true: val_labels})\n",
    "    print('Loss L: ' + str(l_l[0]))\n",
    "    print('Acc L: ' + str(a_l))\n"
   ]
  },
  {
   "cell_type": "code",
   "execution_count": 18,
   "metadata": {},
   "outputs": [
    {
     "name": "stdout",
     "output_type": "stream",
     "text": [
      "INFO:tensorflow:Restoring parameters from saved_models/model_l.ckpt\n",
      "Loss L: 0.20235847\n",
      "Acc L: 1.0\n"
     ]
    }
   ],
   "source": [
    "#Get test results for the linear model\n",
    "with tf.Session() as sess:\n",
    "    init = tf.global_variables_initializer()\n",
    "    sess.run(init)\n",
    "    saver_l.restore(sess, \"saved_models/model_l.ckpt\")\n",
    "    l_l, a_l = sess.run([loss_l, acc_l], feed_dict={x: test_data, y_true: test_labels})\n",
    "    print('Loss L: ' + str(l_l[0]))\n",
    "    print('Acc L: ' + str(a_l))"
   ]
  },
  {
   "cell_type": "code",
   "execution_count": 19,
   "metadata": {},
   "outputs": [
    {
     "name": "stdout",
     "output_type": "stream",
     "text": [
      "INFO:tensorflow:Restoring parameters from saved_models/model_l.ckpt\n"
     ]
    }
   ],
   "source": [
    "#Get weights and test data gradients for the linear model\n",
    "\n",
    "with tf.Session() as sess:\n",
    "    init = tf.global_variables_initializer()\n",
    "    sess.run(init)\n",
    "    saver_l.restore(sess, \"saved_models/model_l.ckpt\")\n",
    "    #Get weights and gradients for class 0 for class 0 inputs\n",
    "    x_0 = test_data[where_test_0[0],:,:]\n",
    "    \n",
    "    grad_l_0, weights_l_0 = sess.run([g_l,w], feed_dict={x: x_0, y_true: test_labels[where_test_0[0]]}) \n",
    "    \n",
    "    #Get weights and gradients for class 1 for class 1 inputs\n",
    "    x_1 =test_data[where_test_1[0],:,:]\n",
    "    \n",
    "    grad_l_1, weights_l_1 = sess.run([g_l,w], feed_dict={x: x_1, y_true: test_labels[where_test_1[0]]})\n",
    "    \n",
    "    #Get weights and gradients for class 2 for class 2 inputs\n",
    "    x_2 =test_data[where_test_2[0],:,:]\n",
    "\n",
    "    grad_l_2, weights_l_2 = sess.run([g_l,w], feed_dict={x: x_2, y_true: test_labels[where_test_2[0]]})\n",
    "    \n",
    "    #Get weights and gradients for class 1 for class 0 inputs\n",
    "    grad_l_0_1, weights_l_0_1 = sess.run([g_l,w], feed_dict={x: x_0, y_true: 1.0*np.ones(test_labels[where_test_0[0]].shape)}) \n",
    "    \n",
    "    #Get weights and gradients for class 2 for class 0 inputs\n",
    "    grad_l_0_2, weights_l_0_2 = sess.run([g_l,w], feed_dict={x: x_0, y_true: 2.0*np.ones(test_labels[where_test_0[0]].shape)}) \n",
    "    \n",
    "    #Get weights and gradients for class 0 for class 1 inputs \n",
    "    grad_l_1_0, weights_l_1_0 = sess.run([g_l,w], feed_dict={x: x_1, y_true: 0.0*np.ones(test_labels[where_test_1[0]].shape)}) \n",
    "    \n",
    "    #Get weights and gradients for class 2 for class 1 inputs\n",
    "    grad_l_1_2, weights_l_1_2 = sess.run([g_l,w], feed_dict={x: x_1, y_true: 2.0*np.ones(test_labels[where_test_1[0]].shape)}) \n",
    "    \n",
    "    #Get weights and gradients for class 0 for class 2 inputs\n",
    "    grad_l_2_0, weights_l_2_0 = sess.run([g_l,w], feed_dict={x: x_2, y_true: 0.0*np.ones(test_labels[where_test_2[0]].shape)}) \n",
    "    \n",
    "    #Get weights and gradients for class 1 for class 2 inputs\n",
    "    grad_l_2_1, weights_l_2_1 = sess.run([g_l,w], feed_dict={x: x_2, y_true: 1.0*np.ones(test_labels[where_test_2[0]].shape)})"
   ]
  },
  {
   "cell_type": "code",
   "execution_count": 20,
   "metadata": {},
   "outputs": [
    {
     "data": {
      "text/plain": [
       "<matplotlib.image.AxesImage at 0x7fb42003ca90>"
      ]
     },
     "execution_count": 20,
     "metadata": {},
     "output_type": "execute_result"
    },
    {
     "data": {
      "image/png": "[encoded data removed]",
      "text/plain": [
       "<Figure size 288x288 with 1 Axes>"
      ]
     },
     "metadata": {
      "needs_background": "light"
     },
     "output_type": "display_data"
    },
    {
     "data": {
      "image/png": "[encoded data removed]",
      "text/plain": [
       "<Figure size 288x288 with 1 Axes>"
      ]
     },
     "metadata": {
      "needs_background": "light"
     },
     "output_type": "display_data"
    },
    {
     "data": {
      "image/png": "[encoded data removed]",
      "text/plain": [
       "<Figure size 288x288 with 1 Axes>"
      ]
     },
     "metadata": {
      "needs_background": "light"
     },
     "output_type": "display_data"
    }
   ],
   "source": [
    "#Plot linear model weights for the three classes\n",
    "#Plot weights for class 0\n",
    "clim = np.abs(weights_l_0[0].mean(axis=0)).max()\n",
    "plt.matshow(np.reshape(weights_l_0[0].mean(axis=0),[32,32]),cmap='seismic',vmin=-1.0*clim,vmax=clim)\n",
    "#Plot weights for class 1\n",
    "clim = np.abs(weights_l_1[0].mean(axis=0)).max()\n",
    "plt.matshow(np.reshape(weights_l_1[0].mean(axis=0),[32,32]),cmap='seismic',vmin=-1.0*clim,vmax=clim)\n",
    "#Plot weights for class 2\n",
    "clim = np.abs(weights_l_2[0].mean(axis=0)).max()\n",
    "plt.matshow(np.reshape(weights_l_2[0].mean(axis=0),[32,32]),cmap='seismic',vmin=-1.0*clim,vmax=clim)"
   ]
  },
  {
   "cell_type": "code",
   "execution_count": 21,
   "metadata": {},
   "outputs": [
    {
     "data": {
      "text/plain": [
       "<matplotlib.image.AxesImage at 0x7fb41b612550>"
      ]
     },
     "execution_count": 21,
     "metadata": {},
     "output_type": "execute_result"
    },
    {
     "data": {
      "image/png": "[encoded data removed]",
      "text/plain": [
       "<Figure size 288x288 with 1 Axes>"
      ]
     },
     "metadata": {
      "needs_background": "light"
     },
     "output_type": "display_data"
    },
    {
     "data": {
      "image/png": "[encoded data removed]",
      "text/plain": [
       "<Figure size 288x288 with 1 Axes>"
      ]
     },
     "metadata": {
      "needs_background": "light"
     },
     "output_type": "display_data"
    },
    {
     "data": {
      "image/png": "[encoded data removed]",
      "text/plain": [
       "<Figure size 288x288 with 1 Axes>"
      ]
     },
     "metadata": {
      "needs_background": "light"
     },
     "output_type": "display_data"
    },
    {
     "data": {
      "image/png": "[encoded data removed]",
      "text/plain": [
       "<Figure size 288x288 with 1 Axes>"
      ]
     },
     "metadata": {
      "needs_background": "light"
     },
     "output_type": "display_data"
    },
    {
     "data": {
      "image/png": "[encoded data removed]",
      "text/plain": [
       "<Figure size 288x288 with 1 Axes>"
      ]
     },
     "metadata": {
      "needs_background": "light"
     },
     "output_type": "display_data"
    },
    {
     "data": {
      "image/png": "[encoded data removed]",
      "text/plain": [
       "<Figure size 288x288 with 1 Axes>"
      ]
     },
     "metadata": {
      "needs_background": "light"
     },
     "output_type": "display_data"
    },
    {
     "data": {
      "image/png": "[encoded data removed]",
      "text/plain": [
       "<Figure size 288x288 with 1 Axes>"
      ]
     },
     "metadata": {
      "needs_background": "light"
     },
     "output_type": "display_data"
    },
    {
     "data": {
      "image/png": "[encoded data removed]",
      "text/plain": [
       "<Figure size 288x288 with 1 Axes>"
      ]
     },
     "metadata": {
      "needs_background": "light"
     },
     "output_type": "display_data"
    },
    {
     "data": {
      "image/png": "[encoded data removed]",
      "text/plain": [
       "<Figure size 288x288 with 1 Axes>"
      ]
     },
     "metadata": {
      "needs_background": "light"
     },
     "output_type": "display_data"
    }
   ],
   "source": [
    "#Plot gradients for the linear model\n",
    "\n",
    "#Plot gradients for class 0 for class 0 inputs\n",
    "clim = np.abs(grad_l_0[0].mean(axis=0)).max()\n",
    "plt.matshow(np.reshape(grad_l_0[0].mean(axis=0),[32,32]),cmap='seismic',vmin=-1.0*clim,vmax=clim)\n",
    "\n",
    "#Plot gradients for class 1 for class 1 inputs\n",
    "clim = np.abs(grad_l_1[0].mean(axis=0)).max()\n",
    "plt.matshow(np.reshape(grad_l_1[0].mean(axis=0),[32,32]),cmap='seismic',vmin=-1.0*clim,vmax=clim)\n",
    "\n",
    "#Plot gradientws for class 2 for class 2 inputs\n",
    "clim = np.abs(grad_l_2[0].mean(axis=0)).max()\n",
    "plt.matshow(np.reshape(grad_l_2[0].mean(axis=0),[32,32]),cmap='seismic',vmin=-1.0*clim,vmax=clim)\n",
    "\n",
    "#Plot gradients for class 1 for class 0 inputs\n",
    "clim = np.abs(grad_l_0_1[0].mean(axis=0)).max()\n",
    "plt.matshow(np.reshape(grad_l_0_1[0].mean(axis=0),[32,32]),cmap='seismic',vmin=-1.0*clim,vmax=clim)\n",
    "\n",
    "#Plot gradients for class 2 for class 0 inputs\n",
    "clim = np.abs(grad_l_0_2[0].mean(axis=0)).max()\n",
    "plt.matshow(np.reshape(grad_l_0_2[0].mean(axis=0),[32,32]),cmap='seismic',vmin=-1.0*clim,vmax=clim)\n",
    "\n",
    "#Plot gradients for class 0 for class 1 inputs\n",
    "clim = np.abs(grad_l_1_0[0].mean(axis=0)).max()\n",
    "plt.matshow(np.reshape(grad_l_1_0[0].mean(axis=0),[32,32]),cmap='seismic',vmin=-1.0*clim,vmax=clim)\n",
    "\n",
    "#Plot gradients for class 2 for class 1 inputs\n",
    "clim = np.abs(grad_l_1_2[0].mean(axis=0)).max()\n",
    "plt.matshow(np.reshape(grad_l_1_2[0].mean(axis=0),[32,32]),cmap='seismic',vmin=-1.0*clim,vmax=clim)\n",
    "\n",
    "#Plot gradients for class 0 for class 2 inputs\n",
    "clim = np.abs(grad_l_2_0[0].mean(axis=0)).max()\n",
    "plt.matshow(np.reshape(grad_l_2_0[0].mean(axis=0),[32,32]),cmap='seismic',vmin=-1.0*clim,vmax=clim)\n",
    "\n",
    "#Plot gradients for class 1 for class 2 inputs\n",
    "clim = np.abs(grad_l_2_1[0].mean(axis=0)).max()\n",
    "plt.matshow(np.reshape(grad_l_2_1[0].mean(axis=0),[32,32]),cmap='seismic',vmin=-1.0*clim,vmax=clim)"
   ]
  },
  {
   "cell_type": "code",
   "execution_count": 22,
   "metadata": {},
   "outputs": [
    {
     "name": "stdout",
     "output_type": "stream",
     "text": [
      "Loss L: 2.107201\n",
      "Acc L: 0.33227274\n",
      "Loss L: 2.0010493\n",
      "Acc L: 0.3519318\n",
      "Loss L: 1.8938195\n",
      "Acc L: 0.37761363\n",
      "Loss L: 1.7912612\n",
      "Acc L: 0.40431818\n",
      "Loss L: 1.7049246\n",
      "Acc L: 0.43386364\n",
      "Loss L: 1.6277981\n",
      "Acc L: 0.465\n",
      "Loss L: 1.548954\n",
      "Acc L: 0.49602273\n",
      "Loss L: 1.4728488\n",
      "Acc L: 0.52420455\n",
      "Loss L: 1.4014649\n",
      "Acc L: 0.55056816\n",
      "Loss L: 1.3355737\n",
      "Acc L: 0.5784091\n",
      "Loss L: 1.27548\n",
      "Acc L: 0.6052273\n",
      "Loss L: 1.2208663\n",
      "Acc L: 0.6298864\n",
      "Loss L: 1.1754072\n",
      "Acc L: 0.65261364\n",
      "Loss L: 1.1346284\n",
      "Acc L: 0.67704546\n",
      "Loss L: 1.097811\n",
      "Acc L: 0.69511366\n",
      "Loss L: 1.0643687\n",
      "Acc L: 0.7170454\n",
      "Loss L: 1.0339977\n",
      "Acc L: 0.73375\n",
      "Loss L: 1.009023\n",
      "Acc L: 0.7506818\n",
      "Loss L: 0.9875295\n",
      "Acc L: 0.76920456\n",
      "Loss L: 0.96776974\n",
      "Acc L: 0.78568184\n",
      "Loss L: 0.94940233\n",
      "Acc L: 0.8028409\n",
      "Loss L: 0.9321267\n",
      "Acc L: 0.81886363\n",
      "Loss L: 0.9158068\n",
      "Acc L: 0.83522725\n",
      "Loss L: 0.9021482\n",
      "Acc L: 0.85011363\n",
      "Loss L: 0.88923717\n",
      "Acc L: 0.8636364\n",
      "Loss L: 0.87608284\n",
      "Acc L: 0.8782955\n",
      "Loss L: 0.86204517\n",
      "Acc L: 0.8925\n",
      "Loss L: 0.8469754\n",
      "Acc L: 0.9060227\n",
      "Loss L: 0.8307034\n",
      "Acc L: 0.9175\n",
      "Loss L: 0.81243813\n",
      "Acc L: 0.92829543\n",
      "Loss L: 0.78973156\n",
      "Acc L: 0.9389773\n",
      "Loss L: 0.7657597\n",
      "Acc L: 0.9489773\n",
      "Loss L: 0.7404153\n",
      "Acc L: 0.95829546\n",
      "Loss L: 0.71375096\n",
      "Acc L: 0.96579546\n",
      "Loss L: 0.68606263\n",
      "Acc L: 0.9725\n",
      "Loss L: 0.64748895\n",
      "Acc L: 0.9786364\n",
      "Loss L: 0.6075498\n",
      "Acc L: 0.9851136\n",
      "Loss L: 0.5673506\n",
      "Acc L: 0.9892045\n",
      "Loss L: 0.527233\n",
      "Acc L: 0.9927273\n",
      "Loss L: 0.4880047\n",
      "Acc L: 0.99454546\n",
      "Loss L: 0.4500954\n",
      "Acc L: 0.9960227\n",
      "Loss L: 0.41640222\n",
      "Acc L: 0.99738634\n",
      "Loss L: 0.38423726\n",
      "Acc L: 0.99795455\n",
      "Loss L: 0.3537729\n",
      "Acc L: 0.9985227\n",
      "Loss L: 0.32516557\n",
      "Acc L: 0.99875\n",
      "Loss L: 0.29846534\n",
      "Acc L: 0.9990909\n",
      "Loss L: 0.27136853\n",
      "Acc L: 0.9993182\n",
      "Loss L: 0.2449925\n",
      "Acc L: 0.99954545\n",
      "Loss L: 0.22132286\n",
      "Acc L: 0.99954545\n",
      "Loss L: 0.19987263\n",
      "Acc L: 0.9997727\n",
      "Loss L: 0.18057027\n",
      "Acc L: 0.9997727\n",
      "Loss L: 0.16398887\n",
      "Acc L: 0.99988633\n",
      "Loss L: 0.14902642\n",
      "Acc L: 1.0\n",
      "Loss L: 0.13555245\n",
      "Acc L: 1.0\n",
      "Loss L: 0.12344378\n",
      "Acc L: 1.0\n",
      "Loss L: 0.11257952\n",
      "Acc L: 1.0\n",
      "Loss L: 0.10284202\n",
      "Acc L: 1.0\n",
      "Loss L: 0.09411599\n",
      "Acc L: 1.0\n",
      "Loss L: 0.08629529\n",
      "Acc L: 1.0\n",
      "Loss L: 0.07927944\n",
      "Acc L: 1.0\n",
      "Loss L: 0.07297653\n",
      "Acc L: 1.0\n",
      "Loss L: 0.06731728\n",
      "Acc L: 1.0\n",
      "Loss L: 0.06225699\n",
      "Acc L: 1.0\n",
      "Loss L: 0.057695474\n",
      "Acc L: 1.0\n",
      "Loss L: 0.053574275\n",
      "Acc L: 1.0\n",
      "Loss L: 0.04984496\n",
      "Acc L: 1.0\n",
      "Loss L: 0.046464995\n",
      "Acc L: 1.0\n",
      "Loss L: 0.043395165\n",
      "Acc L: 1.0\n",
      "Loss L: 0.040600374\n",
      "Acc L: 1.0\n",
      "Loss L: 0.038052086\n",
      "Acc L: 1.0\n",
      "Loss L: 0.03572541\n",
      "Acc L: 1.0\n",
      "Loss L: 0.033597935\n",
      "Acc L: 1.0\n",
      "Loss L: 0.031648885\n",
      "Acc L: 1.0\n",
      "Loss L: 0.02986092\n",
      "Acc L: 1.0\n",
      "Loss L: 0.02821845\n",
      "Acc L: 1.0\n",
      "Loss L: 0.026841745\n",
      "Acc L: 1.0\n",
      "Loss L: 0.025627218\n",
      "Acc L: 1.0\n",
      "Loss L: 0.024493344\n",
      "Acc L: 1.0\n",
      "Loss L: 0.023433877\n",
      "Acc L: 1.0\n",
      "Loss L: 0.02244346\n",
      "Acc L: 1.0\n",
      "Loss L: 0.021516234\n",
      "Acc L: 1.0\n",
      "Loss L: 0.020646885\n",
      "Acc L: 1.0\n",
      "Loss L: 0.01983171\n",
      "Acc L: 1.0\n",
      "Loss L: 0.019067565\n",
      "Acc L: 1.0\n",
      "Loss L: 0.018350357\n",
      "Acc L: 1.0\n",
      "Loss L: 0.017677492\n",
      "Acc L: 1.0\n",
      "Loss L: 0.017045427\n",
      "Acc L: 1.0\n",
      "Loss L: 0.016451895\n",
      "Acc L: 1.0\n",
      "Loss L: 0.015894618\n",
      "Acc L: 1.0\n",
      "Loss L: 0.015371074\n",
      "Acc L: 1.0\n",
      "Loss L: 0.01487838\n",
      "Acc L: 1.0\n",
      "Loss L: 0.0144132925\n",
      "Acc L: 1.0\n",
      "Loss L: 0.013974321\n",
      "Acc L: 1.0\n",
      "Loss L: 0.013559383\n",
      "Acc L: 1.0\n",
      "Loss L: 0.013166392\n",
      "Acc L: 1.0\n",
      "Loss L: 0.012793607\n",
      "Acc L: 1.0\n",
      "Loss L: 0.012439168\n",
      "Acc L: 1.0\n",
      "Loss L: 0.012101681\n",
      "Acc L: 1.0\n",
      "Loss L: 0.0117796315\n",
      "Acc L: 1.0\n",
      "Loss L: 0.011472091\n",
      "Acc L: 1.0\n"
     ]
    }
   ],
   "source": [
    "#Train neural network model\n",
    "n_ep = 100\n",
    "with tf.Session() as sess:\n",
    "    init = tf.global_variables_initializer()\n",
    "    sess.run(init)\n",
    "    for ep in range(n_ep):\n",
    "        _, l_nn, a_nn = sess.run([train_nn, loss_nn, acc_nn], feed_dict={x: train_data, y_true: train_labels})\n",
    "        print('Loss L: ' + str(l_nn[0]))\n",
    "        print('Acc L: ' + str(a_nn))\n",
    "    saver_nn.save(sess, \"saved_models/model_nn.ckpt\", write_meta_graph=False)"
   ]
  },
  {
   "cell_type": "code",
   "execution_count": 23,
   "metadata": {},
   "outputs": [
    {
     "name": "stdout",
     "output_type": "stream",
     "text": [
      "INFO:tensorflow:Restoring parameters from saved_models/model_nn.ckpt\n",
      "Loss L: 0.07296866\n",
      "Acc L: 1.0\n"
     ]
    }
   ],
   "source": [
    "#Get validation results for the neural network model with different temperatures\n",
    "with tf.Session() as sess:\n",
    "    init = tf.global_variables_initializer()\n",
    "    sess.run(init)\n",
    "    saver_nn.restore(sess, \"saved_models/model_nn.ckpt\")\n",
    "    l_nn, a_nn = sess.run([loss_nn, acc_nn], feed_dict={x: val_data, y_true: val_labels})\n",
    "    print('Loss L: ' + str(l_nn[0]))\n",
    "    print('Acc L: ' + str(a_nn))"
   ]
  },
  {
   "cell_type": "code",
   "execution_count": 24,
   "metadata": {},
   "outputs": [
    {
     "name": "stdout",
     "output_type": "stream",
     "text": [
      "INFO:tensorflow:Restoring parameters from saved_models/model_nn.ckpt\n",
      "Loss L: 0.0687201\n",
      "Acc L: 1.0\n"
     ]
    }
   ],
   "source": [
    "#Get test results for the neural network model\n",
    "with tf.Session() as sess:\n",
    "    init = tf.global_variables_initializer()\n",
    "    sess.run(init)\n",
    "    saver_nn.restore(sess, \"saved_models/model_nn.ckpt\")\n",
    "    l_nn, a_nn = sess.run([loss_nn, acc_nn], feed_dict={x: test_data, y_true: test_labels})\n",
    "    print('Loss L: ' + str(l_nn[0]))\n",
    "    print('Acc L: ' + str(a_nn))"
   ]
  },
  {
   "cell_type": "code",
   "execution_count": 25,
   "metadata": {},
   "outputs": [
    {
     "name": "stdout",
     "output_type": "stream",
     "text": [
      "INFO:tensorflow:Restoring parameters from saved_models/model_nn.ckpt\n"
     ]
    }
   ],
   "source": [
    "#Get test data gradients for the neural network model\n",
    "\n",
    "with tf.Session() as sess:\n",
    "    init = tf.global_variables_initializer()\n",
    "    sess.run(init)\n",
    "    saver_nn.restore(sess, \"saved_models/model_nn.ckpt\")\n",
    "    #Get gradients for class 0 for class 0 inputs\n",
    "    x_0 = test_data[where_test_0[0],:,:]\n",
    "    \n",
    "    grad_nn_0 = sess.run(g_nn, feed_dict={x: x_0, y_true: test_labels[where_test_0[0]]}) \n",
    "    \n",
    "    gradxi_nn_0 = grad_nn_0 * x_0\n",
    "    \n",
    "    #Get gradients for class 1 for class 1 inputs\n",
    "    x_1 =test_data[where_test_1[0],:,:]\n",
    "    \n",
    "    grad_nn_1 = sess.run(g_nn, feed_dict={x: x_1, y_true: test_labels[where_test_1[0]]})\n",
    "    \n",
    "    gradxi_nn_1 = grad_nn_1 * x_1\n",
    "    \n",
    "    #Get gradients for class 2 for class 2 inputs\n",
    "    x_2 =test_data[where_test_2[0],:,:]\n",
    "\n",
    "    grad_nn_2 = sess.run(g_nn, feed_dict={x: x_2, y_true: test_labels[where_test_2[0]]})\n",
    "    \n",
    "    gradxi_nn_2 = grad_nn_2 * x_2\n",
    "    \n",
    "    #Get gradients for class 1 for class 0 inputs\n",
    "    grad_nn_0_1 = sess.run(g_nn, feed_dict={x: x_0, y_true: 1.0*np.ones(test_labels[where_test_0[0]].shape)}) \n",
    "    \n",
    "    gradxi_nn_0_1 = grad_nn_0_1 * x_0\n",
    "    \n",
    "    #Get gradients for class 2 for class 0 inputs\n",
    "    grad_nn_0_2 = sess.run(g_nn, feed_dict={x: x_0, y_true: 2.0*np.ones(test_labels[where_test_0[0]].shape)}) \n",
    "    \n",
    "    gradxi_nn_0_2 = grad_nn_0_2 * x_0\n",
    "    \n",
    "    #Get gradients for class 0 for class 1 inputs \n",
    "    grad_nn_1_0 = sess.run(g_nn, feed_dict={x: x_1, y_true: 0.0*np.ones(test_labels[where_test_1[0]].shape)}) \n",
    "    \n",
    "    gradxi_nn_1_0 = grad_nn_1_0 * x_1\n",
    "    \n",
    "    #Get gradients for class 2 for class 1 inputs\n",
    "    grad_nn_1_2 = sess.run(g_nn, feed_dict={x: x_1, y_true: 2.0*np.ones(test_labels[where_test_1[0]].shape)}) \n",
    "    \n",
    "    gradxi_nn_1_2 = grad_nn_1_2 * x_1\n",
    "\n",
    "    #Get gradients for class 0 for class 2 inputs\n",
    "    grad_nn_2_0 = sess.run(g_nn, feed_dict={x: x_2, y_true: 0.0*np.ones(test_labels[where_test_2[0]].shape)}) \n",
    "    \n",
    "    gradxi_nn_2_0 = grad_nn_2_0 * x_2\n",
    "    \n",
    "    #Get gradients for class 1 for class 2 inputs\n",
    "    grad_nn_2_1 = sess.run(g_nn, feed_dict={x: x_2, y_true: 1.0*np.ones(test_labels[where_test_2[0]].shape)})\n",
    "    \n",
    "    gradxi_nn_2_1 = grad_nn_2_1 * x_2"
   ]
  },
  {
   "cell_type": "code",
   "execution_count": 26,
   "metadata": {},
   "outputs": [
    {
     "data": {
      "text/plain": [
       "<matplotlib.image.AxesImage at 0x7fb41b24c400>"
      ]
     },
     "execution_count": 26,
     "metadata": {},
     "output_type": "execute_result"
    },
    {
     "data": {
      "image/png": "[encoded data removed]",
      "text/plain": [
       "<Figure size 288x288 with 1 Axes>"
      ]
     },
     "metadata": {
      "needs_background": "light"
     },
     "output_type": "display_data"
    },
    {
     "data": {
      "image/png": "[encoded data removed]",
      "text/plain": [
       "<Figure size 288x288 with 1 Axes>"
      ]
     },
     "metadata": {
      "needs_background": "light"
     },
     "output_type": "display_data"
    },
    {
     "data": {
      "image/png": "[encoded data removed]",
      "text/plain": [
       "<Figure size 288x288 with 1 Axes>"
      ]
     },
     "metadata": {
      "needs_background": "light"
     },
     "output_type": "display_data"
    },
    {
     "data": {
      "image/png": "[encoded data removed]",
      "text/plain": [
       "<Figure size 288x288 with 1 Axes>"
      ]
     },
     "metadata": {
      "needs_background": "light"
     },
     "output_type": "display_data"
    },
    {
     "data": {
      "image/png": "[encoded data removed]",
      "text/plain": [
       "<Figure size 288x288 with 1 Axes>"
      ]
     },
     "metadata": {
      "needs_background": "light"
     },
     "output_type": "display_data"
    },
    {
     "data": {
      "image/png": "[encoded data removed]",
      "text/plain": [
       "<Figure size 288x288 with 1 Axes>"
      ]
     },
     "metadata": {
      "needs_background": "light"
     },
     "output_type": "display_data"
    },
    {
     "data": {
      "image/png": "[encoded data removed]",
      "text/plain": [
       "<Figure size 288x288 with 1 Axes>"
      ]
     },
     "metadata": {
      "needs_background": "light"
     },
     "output_type": "display_data"
    },
    {
     "data": {
      "image/png": "[encoded data removed]",
      "text/plain": [
       "<Figure size 288x288 with 1 Axes>"
      ]
     },
     "metadata": {
      "needs_background": "light"
     },
     "output_type": "display_data"
    },
    {
     "data": {
      "image/png": "[encoded data removed]",
      "text/plain": [
       "<Figure size 288x288 with 1 Axes>"
      ]
     },
     "metadata": {
      "needs_background": "light"
     },
     "output_type": "display_data"
    }
   ],
   "source": [
    "#Plot gradients for the neural network model\n",
    "\n",
    "#Plot gradients for class 0 for class 0 inputs\n",
    "clim = np.abs(grad_nn_0[0].mean(axis=0)).max()\n",
    "plt.matshow(np.reshape(grad_nn_0[0].mean(axis=0),[32,32]),cmap='seismic',vmin=-1.0*clim,vmax=clim)\n",
    "\n",
    "#Plot gradients for class 1 for class 1 inputs\n",
    "clim = np.abs(grad_nn_1[0].mean(axis=0)).max()\n",
    "plt.matshow(np.reshape(grad_nn_1[0].mean(axis=0),[32,32]),cmap='seismic',vmin=-1.0*clim,vmax=clim)\n",
    "\n",
    "#Plot gradientws for class 2 for class 2 inputs\n",
    "clim = np.abs(grad_nn_2[0].mean(axis=0)).max()\n",
    "plt.matshow(np.reshape(grad_nn_2[0].mean(axis=0),[32,32]),cmap='seismic',vmin=-1.0*clim,vmax=clim)\n",
    "\n",
    "#Plot gradients for class 1 for class 0 inputs\n",
    "clim = np.abs(grad_nn_0_1[0].mean(axis=0)).max()\n",
    "plt.matshow(np.reshape(grad_nn_0_1[0].mean(axis=0),[32,32]),cmap='seismic',vmin=-1.0*clim,vmax=clim)\n",
    "\n",
    "#Plot gradients for class 2 for class 0 inputs\n",
    "clim = np.abs(grad_nn_0_2[0].mean(axis=0)).max()\n",
    "plt.matshow(np.reshape(grad_nn_0_2[0].mean(axis=0),[32,32]),cmap='seismic',vmin=-1.0*clim,vmax=clim)\n",
    "\n",
    "#Plot gradients for class 0 for class 1 inputs\n",
    "clim = np.abs(grad_nn_1_0[0].mean(axis=0)).max()\n",
    "plt.matshow(np.reshape(grad_nn_1_0[0].mean(axis=0),[32,32]),cmap='seismic',vmin=-1.0*clim,vmax=clim)\n",
    "\n",
    "#Plot gradients for class 2 for class 1 inputs\n",
    "clim = np.abs(grad_nn_1_2[0].mean(axis=0)).max()\n",
    "plt.matshow(np.reshape(grad_nn_1_2[0].mean(axis=0),[32,32]),cmap='seismic',vmin=-1.0*clim,vmax=clim)\n",
    "\n",
    "#Plot gradients for class 0 for class 2 inputs\n",
    "clim = np.abs(grad_nn_2_0[0].mean(axis=0)).max()\n",
    "plt.matshow(np.reshape(grad_nn_2_0[0].mean(axis=0),[32,32]),cmap='seismic',vmin=-1.0*clim,vmax=clim)\n",
    "\n",
    "#Plot gradients for class 1 for class 2 inputs\n",
    "clim = np.abs(grad_nn_2_1[0].mean(axis=0)).max()\n",
    "plt.matshow(np.reshape(grad_nn_2_1[0].mean(axis=0),[32,32]),cmap='seismic',vmin=-1.0*clim,vmax=clim)"
   ]
  },
  {
   "cell_type": "code",
   "execution_count": 27,
   "metadata": {},
   "outputs": [
    {
     "data": {
      "text/plain": [
       "<matplotlib.image.AxesImage at 0x7fb3f06aff28>"
      ]
     },
     "execution_count": 27,
     "metadata": {},
     "output_type": "execute_result"
    },
    {
     "data": {
      "image/png": "[encoded data removed]",
      "text/plain": [
       "<Figure size 288x288 with 1 Axes>"
      ]
     },
     "metadata": {
      "needs_background": "light"
     },
     "output_type": "display_data"
    },
    {
     "data": {
      "image/png": "[encoded data removed]",
      "text/plain": [
       "<Figure size 288x288 with 1 Axes>"
      ]
     },
     "metadata": {
      "needs_background": "light"
     },
     "output_type": "display_data"
    },
    {
     "data": {
      "image/png": "[encoded data removed]",
      "text/plain": [
       "<Figure size 288x288 with 1 Axes>"
      ]
     },
     "metadata": {
      "needs_background": "light"
     },
     "output_type": "display_data"
    },
    {
     "data": {
      "image/png": "[encoded data removed]",
      "text/plain": [
       "<Figure size 288x288 with 1 Axes>"
      ]
     },
     "metadata": {
      "needs_background": "light"
     },
     "output_type": "display_data"
    },
    {
     "data": {
      "image/png": "[encoded data removed]",
      "text/plain": [
       "<Figure size 288x288 with 1 Axes>"
      ]
     },
     "metadata": {
      "needs_background": "light"
     },
     "output_type": "display_data"
    },
    {
     "data": {
      "image/png": "[encoded data removed]",
      "text/plain": [
       "<Figure size 288x288 with 1 Axes>"
      ]
     },
     "metadata": {
      "needs_background": "light"
     },
     "output_type": "display_data"
    },
    {
     "data": {
      "image/png": "[encoded data removed]",
      "text/plain": [
       "<Figure size 288x288 with 1 Axes>"
      ]
     },
     "metadata": {
      "needs_background": "light"
     },
     "output_type": "display_data"
    },
    {
     "data": {
      "image/png": "[encoded data removed]",
      "text/plain": [
       "<Figure size 288x288 with 1 Axes>"
      ]
     },
     "metadata": {
      "needs_background": "light"
     },
     "output_type": "display_data"
    },
    {
     "data": {
      "image/png": "[encoded data removed]",
      "text/plain": [
       "<Figure size 288x288 with 1 Axes>"
      ]
     },
     "metadata": {
      "needs_background": "light"
     },
     "output_type": "display_data"
    }
   ],
   "source": [
    "#Plot gradients for the neural network model\n",
    "\n",
    "#Plot gradients for class 0 for class 0 inputs\n",
    "clim = np.abs(gradxi_nn_0[0].mean(axis=0)).max()\n",
    "plt.matshow(np.reshape(gradxi_nn_0[0].mean(axis=0),[32,32]),cmap='seismic',vmin=-1.0*clim,vmax=clim)\n",
    "\n",
    "#Plot gradients for class 1 for class 1 inputs\n",
    "clim = np.abs(gradxi_nn_1[0].mean(axis=0)).max()\n",
    "plt.matshow(np.reshape(gradxi_nn_1[0].mean(axis=0),[32,32]),cmap='seismic',vmin=-1.0*clim,vmax=clim)\n",
    "\n",
    "#Plot gradientws for class 2 for class 2 inputs\n",
    "clim = np.abs(gradxi_nn_2[0].mean(axis=0)).max()\n",
    "plt.matshow(np.reshape(gradxi_nn_2[0].mean(axis=0),[32,32]),cmap='seismic',vmin=-1.0*clim,vmax=clim)\n",
    "\n",
    "#Plot gradients for class 1 for class 0 inputs\n",
    "clim = np.abs(gradxi_nn_0_1[0].mean(axis=0)).max()\n",
    "plt.matshow(np.reshape(gradxi_nn_0_1[0].mean(axis=0),[32,32]),cmap='seismic',vmin=-1.0*clim,vmax=clim)\n",
    "\n",
    "#Plot gradients for class 2 for class 0 inputs\n",
    "clim = np.abs(gradxi_nn_0_2[0].mean(axis=0)).max()\n",
    "plt.matshow(np.reshape(gradxi_nn_0_2[0].mean(axis=0),[32,32]),cmap='seismic',vmin=-1.0*clim,vmax=clim)\n",
    "\n",
    "#Plot gradients for class 0 for class 1 inputs\n",
    "clim = np.abs(gradxi_nn_1_0[0].mean(axis=0)).max()\n",
    "plt.matshow(np.reshape(gradxi_nn_1_0[0].mean(axis=0),[32,32]),cmap='seismic',vmin=-1.0*clim,vmax=clim)\n",
    "\n",
    "#Plot gradients for class 2 for class 1 inputs\n",
    "clim = np.abs(gradxi_nn_1_2[0].mean(axis=0)).max()\n",
    "plt.matshow(np.reshape(gradxi_nn_1_2[0].mean(axis=0),[32,32]),cmap='seismic',vmin=-1.0*clim,vmax=clim)\n",
    "\n",
    "#Plot gradients for class 0 for class 2 inputs\n",
    "clim = np.abs(gradxi_nn_2_0[0].mean(axis=0)).max()\n",
    "plt.matshow(np.reshape(gradxi_nn_2_0[0].mean(axis=0),[32,32]),cmap='seismic',vmin=-1.0*clim,vmax=clim)\n",
    "\n",
    "#Plot gradients for class 1 for class 2 inputs\n",
    "clim = np.abs(gradxi_nn_2_1[0].mean(axis=0)).max()\n",
    "plt.matshow(np.reshape(gradxi_nn_2_1[0].mean(axis=0),[32,32]),cmap='seismic',vmin=-1.0*clim,vmax=clim)"
   ]
  },
  {
   "cell_type": "code",
   "execution_count": 28,
   "metadata": {},
   "outputs": [
    {
     "name": "stdout",
     "output_type": "stream",
     "text": [
      "INFO:tensorflow:Restoring parameters from saved_models/model_nn.ckpt\n"
     ]
    }
   ],
   "source": [
    "#Get test data gradients for the neural network model with SmoothGrad\n",
    "\n",
    "with tf.Session() as sess:\n",
    "    init = tf.global_variables_initializer()\n",
    "    sess.run(init)\n",
    "    saver_nn.restore(sess, \"saved_models/model_nn.ckpt\")\n",
    "    #Get gradients for class 0 for class 0 inputs\n",
    "    x_0 = test_data[where_test_0[0],:,:]\n",
    "    \n",
    "    grads = []\n",
    "    for m in range(10):\n",
    "        grads.append(sess.run(g_nn, feed_dict={x: x_0+np.random.normal(loc=0.0,scale=0.3,size=x_0.shape), y_true: test_labels[where_test_0[0]]})[0])\n",
    "    grad_sg_0 = np.array(grads).mean(axis=0,keepdims=True) \n",
    "    \n",
    "    #Get gradients for class 1 for class 1 inputs\n",
    "    x_1 =test_data[where_test_1[0],:,:]\n",
    "    \n",
    "    grads = []\n",
    "    for m in range(10):\n",
    "        grads.append(sess.run(g_nn, feed_dict={x: x_1+np.random.normal(loc=0.0,scale=0.3,size=x_1.shape), y_true: test_labels[where_test_1[0]]})[0])\n",
    "    grad_sg_1 = np.array(grads).mean(axis=0,keepdims=True) \n",
    "    \n",
    "    #Get gradients for class 2 for class 2 inputs\n",
    "    x_2 =test_data[where_test_2[0],:,:]\n",
    "    \n",
    "    grads = []\n",
    "    for m in range(10):\n",
    "        grads.append(sess.run(g_nn, feed_dict={x: x_2+np.random.normal(loc=0.0,scale=0.3,size=x_2.shape), y_true: test_labels[where_test_2[0]]})[0])\n",
    "    grad_sg_2 = np.array(grads).mean(axis=0,keepdims=True) \n",
    "    \n",
    "    #Get gradients for class 1 for class 0 inputs\n",
    "    grads = []\n",
    "    for m in range(10):\n",
    "        grads.append(sess.run(g_nn, feed_dict={x: x_0+np.random.normal(loc=0.0,scale=0.3,size=x_0.shape), y_true: 1.0*np.ones(test_labels[where_test_0[0]].shape)})[0])\n",
    "    grad_sg_0_1 = np.array(grads).mean(axis=0,keepdims=True)  \n",
    "    \n",
    "    #Get gradients for class 2 for class 0 inputs\n",
    "    grads = []\n",
    "    for m in range(10):\n",
    "        grads.append(sess.run(g_nn, feed_dict={x: x_0+np.random.normal(loc=0.0,scale=0.3,size=x_0.shape), y_true: 2.0*np.ones(test_labels[where_test_0[0]].shape)})[0])\n",
    "    grad_sg_0_2 = np.array(grads).mean(axis=0,keepdims=True)  \n",
    "    \n",
    "    #Get gradients for class 0 for class 1 inputs\n",
    "    grads = []\n",
    "    for m in range(10):\n",
    "        grads.append(sess.run(g_nn, feed_dict={x: x_1+np.random.normal(loc=0.0,scale=0.3,size=x_1.shape), y_true: 0.0*np.ones(test_labels[where_test_1[0]].shape)})[0])\n",
    "    grad_sg_1_0 = np.array(grads).mean(axis=0,keepdims=True)\n",
    "    \n",
    "    #Get gradients for class 2 for class 1 inputs\n",
    "    grads = []\n",
    "    for m in range(10):\n",
    "        grads.append(sess.run(g_nn, feed_dict={x: x_1+np.random.normal(loc=0.0,scale=0.3,size=x_1.shape), y_true: 2.0*np.ones(test_labels[where_test_1[0]].shape)})[0])\n",
    "    grad_sg_1_2 = np.array(grads).mean(axis=0,keepdims=True)\n",
    "    \n",
    "    #Get gradients for class 0 for class 2 inputs\n",
    "    grads = []\n",
    "    for m in range(10):\n",
    "        grads.append(sess.run(g_nn, feed_dict={x: x_2+np.random.normal(loc=0.0,scale=0.3,size=x_2.shape), y_true: 0.0*np.ones(test_labels[where_test_2[0]].shape)})[0])\n",
    "    grad_sg_2_0 = np.array(grads).mean(axis=0,keepdims=True)\n",
    "    \n",
    "    #Get gradients for class 1 for class 2 inputs\n",
    "    grads = []\n",
    "    for m in range(10):\n",
    "        grads.append(sess.run(g_nn, feed_dict={x: x_2+np.random.normal(loc=0.0,scale=0.3,size=x_2.shape), y_true: 1.0*np.ones(test_labels[where_test_2[0]].shape)})[0])\n",
    "    grad_sg_2_1 = np.array(grads).mean(axis=0,keepdims=True)"
   ]
  },
  {
   "cell_type": "code",
   "execution_count": 29,
   "metadata": {},
   "outputs": [
    {
     "data": {
      "text/plain": [
       "<matplotlib.image.AxesImage at 0x7fb3f0542438>"
      ]
     },
     "execution_count": 29,
     "metadata": {},
     "output_type": "execute_result"
    },
    {
     "data": {
      "image/png": "[encoded data removed]",
      "text/plain": [
       "<Figure size 288x288 with 1 Axes>"
      ]
     },
     "metadata": {
      "needs_background": "light"
     },
     "output_type": "display_data"
    },
    {
     "data": {
      "image/png": "[encoded data removed]",
      "text/plain": [
       "<Figure size 288x288 with 1 Axes>"
      ]
     },
     "metadata": {
      "needs_background": "light"
     },
     "output_type": "display_data"
    },
    {
     "data": {
      "image/png": "[encoded data removed]",
      "text/plain": [
       "<Figure size 288x288 with 1 Axes>"
      ]
     },
     "metadata": {
      "needs_background": "light"
     },
     "output_type": "display_data"
    },
    {
     "data": {
      "image/png": "[encoded data removed]",
      "text/plain": [
       "<Figure size 288x288 with 1 Axes>"
      ]
     },
     "metadata": {
      "needs_background": "light"
     },
     "output_type": "display_data"
    },
    {
     "data": {
      "image/png": "[encoded data removed]",
      "text/plain": [
       "<Figure size 288x288 with 1 Axes>"
      ]
     },
     "metadata": {
      "needs_background": "light"
     },
     "output_type": "display_data"
    },
    {
     "data": {
      "image/png": "[encoded data removed]",
      "text/plain": [
       "<Figure size 288x288 with 1 Axes>"
      ]
     },
     "metadata": {
      "needs_background": "light"
     },
     "output_type": "display_data"
    },
    {
     "data": {
      "image/png": "[encoded data removed]",
      "text/plain": [
       "<Figure size 288x288 with 1 Axes>"
      ]
     },
     "metadata": {
      "needs_background": "light"
     },
     "output_type": "display_data"
    },
    {
     "data": {
      "image/png": "[encoded data removed]",
      "text/plain": [
       "<Figure size 288x288 with 1 Axes>"
      ]
     },
     "metadata": {
      "needs_background": "light"
     },
     "output_type": "display_data"
    },
    {
     "data": {
      "image/png": "[encoded data removed]",
      "text/plain": [
       "<Figure size 288x288 with 1 Axes>"
      ]
     },
     "metadata": {
      "needs_background": "light"
     },
     "output_type": "display_data"
    }
   ],
   "source": [
    "#Plot gradients for the neural network model with SmoothGrad\n",
    "\n",
    "#Plot gradients for class 0 for class 0 inputs\n",
    "clim = np.abs(grad_sg_0[0].mean(axis=0)).max()\n",
    "plt.matshow(np.reshape(grad_sg_0[0].mean(axis=0),[32,32]),cmap='seismic',vmin=-1.0*clim,vmax=clim)\n",
    "\n",
    "#Plot gradients for class 1 for class 1 inputs\n",
    "clim = np.abs(grad_sg_1[0].mean(axis=0)).max()\n",
    "plt.matshow(np.reshape(grad_sg_1[0].mean(axis=0),[32,32]),cmap='seismic',vmin=-1.0*clim,vmax=clim)\n",
    "\n",
    "#Plot gradientws for class 2 for class 2 inputs\n",
    "clim = np.abs(grad_sg_2[0].mean(axis=0)).max()\n",
    "plt.matshow(np.reshape(grad_sg_2[0].mean(axis=0),[32,32]),cmap='seismic',vmin=-1.0*clim,vmax=clim)\n",
    "\n",
    "#Plot gradients for class 1 for class 0 inputs\n",
    "clim = np.abs(grad_sg_0_1[0].mean(axis=0)).max()\n",
    "plt.matshow(np.reshape(grad_sg_0_1[0].mean(axis=0),[32,32]),cmap='seismic',vmin=-1.0*clim,vmax=clim)\n",
    "\n",
    "#Plot gradients for class 2 for class 0 inputs\n",
    "clim = np.abs(grad_sg_0_2[0].mean(axis=0)).max()\n",
    "plt.matshow(np.reshape(grad_sg_0_2[0].mean(axis=0),[32,32]),cmap='seismic',vmin=-1.0*clim,vmax=clim)\n",
    "\n",
    "#Plot gradients for class 0 for class 1 inputs\n",
    "clim = np.abs(grad_sg_1_0[0].mean(axis=0)).max()\n",
    "plt.matshow(np.reshape(grad_sg_1_0[0].mean(axis=0),[32,32]),cmap='seismic',vmin=-1.0*clim,vmax=clim)\n",
    "\n",
    "#Plot gradients for class 2 for class 1 inputs\n",
    "clim = np.abs(grad_sg_1_2[0].mean(axis=0)).max()\n",
    "plt.matshow(np.reshape(grad_sg_1_2[0].mean(axis=0),[32,32]),cmap='seismic',vmin=-1.0*clim,vmax=clim)\n",
    "\n",
    "#Plot gradients for class 0 for class 2 inputs\n",
    "clim = np.abs(grad_sg_2_0[0].mean(axis=0)).max()\n",
    "plt.matshow(np.reshape(grad_sg_2_0[0].mean(axis=0),[32,32]),cmap='seismic',vmin=-1.0*clim,vmax=clim)\n",
    "\n",
    "#Plot gradients for class 1 for class 2 inputs\n",
    "clim = np.abs(grad_sg_2_1[0].mean(axis=0)).max()\n",
    "plt.matshow(np.reshape(grad_sg_2_1[0].mean(axis=0),[32,32]),cmap='seismic',vmin=-1.0*clim,vmax=clim)"
   ]
  },
  {
   "cell_type": "code",
   "execution_count": 30,
   "metadata": {},
   "outputs": [],
   "source": [
    "#Define function to generate uniform spherical noise\n",
    "def get_sph_noise(shape,epsilon):\n",
    "    n_noise_samples = shape[0]\n",
    "    shape.pop(0)\n",
    "    noise = []\n",
    "    for n in range(n_noise_samples):\n",
    "        noise_tmp = np.random.normal(size=shape)\n",
    "        u = np.random.uniform(size=())\n",
    "        noise_tmp = (epsilon*(u**(1.0/float(np.prod(np.array(shape))))) * noise_tmp / (np.linalg.norm(noise_tmp)+1e-16))  \n",
    "        noise.append(noise_tmp)\n",
    "    return np.array(noise)"
   ]
  },
  {
   "cell_type": "code",
   "execution_count": 31,
   "metadata": {},
   "outputs": [
    {
     "name": "stdout",
     "output_type": "stream",
     "text": [
      "Loss L: 1.3595917\n",
      "Acc L: 0.32920456\n",
      "Loss L: 1.3008081\n",
      "Acc L: 0.37113637\n",
      "Loss L: 1.3177289\n",
      "Acc L: 0.41579545\n",
      "Loss L: 1.2437057\n",
      "Acc L: 0.4646591\n",
      "Loss L: 1.2329637\n",
      "Acc L: 0.5175\n",
      "Loss L: 1.1606244\n",
      "Acc L: 0.5648864\n",
      "Loss L: 1.1379366\n",
      "Acc L: 0.6146591\n",
      "Loss L: 1.1228738\n",
      "Acc L: 0.65977275\n",
      "Loss L: 1.0913128\n",
      "Acc L: 0.7013636\n",
      "Loss L: 1.0246128\n",
      "Acc L: 0.74147725\n",
      "Loss L: 0.9679487\n",
      "Acc L: 0.77772725\n",
      "Loss L: 0.9099175\n",
      "Acc L: 0.8101136\n",
      "Loss L: 0.85335577\n",
      "Acc L: 0.8430682\n",
      "Loss L: 0.80947065\n",
      "Acc L: 0.8678409\n",
      "Loss L: 0.7430917\n",
      "Acc L: 0.89204544\n",
      "Loss L: 0.71950257\n",
      "Acc L: 0.91011363\n",
      "Loss L: 0.65282327\n",
      "Acc L: 0.9285227\n",
      "Loss L: 0.64703715\n",
      "Acc L: 0.9432955\n",
      "Loss L: 0.58709246\n",
      "Acc L: 0.9530682\n",
      "Loss L: 0.56688714\n",
      "Acc L: 0.9647727\n",
      "Loss L: 0.49339795\n",
      "Acc L: 0.9720455\n",
      "Loss L: 0.44302082\n",
      "Acc L: 0.9802273\n",
      "Loss L: 0.39225158\n",
      "Acc L: 0.9853409\n",
      "Loss L: 0.32866228\n",
      "Acc L: 0.9893182\n",
      "Loss L: 0.32944\n",
      "Acc L: 0.9911364\n",
      "Loss L: 0.32738915\n",
      "Acc L: 0.99295455\n",
      "Loss L: 0.25638002\n",
      "Acc L: 0.9952273\n",
      "Loss L: 0.24616449\n",
      "Acc L: 0.99613637\n",
      "Loss L: 0.21806034\n",
      "Acc L: 0.99704546\n",
      "Loss L: 0.21273486\n",
      "Acc L: 0.9981818\n",
      "Loss L: 0.16782318\n",
      "Acc L: 0.99897724\n",
      "Loss L: 0.1503848\n",
      "Acc L: 0.9993182\n",
      "Loss L: 0.13950989\n",
      "Acc L: 0.99954545\n",
      "Loss L: 0.12631036\n",
      "Acc L: 0.99954545\n",
      "Loss L: 0.12127533\n",
      "Acc L: 0.99988633\n",
      "Loss L: 0.08552361\n",
      "Acc L: 0.99988633\n",
      "Loss L: 0.09536645\n",
      "Acc L: 0.99988633\n",
      "Loss L: 0.08941454\n",
      "Acc L: 0.99988633\n",
      "Loss L: 0.067630954\n",
      "Acc L: 1.0\n",
      "Loss L: 0.06188223\n",
      "Acc L: 1.0\n",
      "Loss L: 0.051952675\n",
      "Acc L: 1.0\n",
      "Loss L: 0.043570593\n",
      "Acc L: 1.0\n",
      "Loss L: 0.04137215\n",
      "Acc L: 1.0\n",
      "Loss L: 0.038398713\n",
      "Acc L: 1.0\n",
      "Loss L: 0.03411836\n",
      "Acc L: 1.0\n",
      "Loss L: 0.029206062\n",
      "Acc L: 1.0\n",
      "Loss L: 0.025807185\n",
      "Acc L: 1.0\n",
      "Loss L: 0.0270686\n",
      "Acc L: 1.0\n",
      "Loss L: 0.023693059\n",
      "Acc L: 1.0\n",
      "Loss L: 0.019392539\n",
      "Acc L: 1.0\n",
      "Loss L: 0.019725937\n",
      "Acc L: 1.0\n",
      "Loss L: 0.015375887\n",
      "Acc L: 1.0\n",
      "Loss L: 0.015149533\n",
      "Acc L: 1.0\n",
      "Loss L: 0.014451246\n",
      "Acc L: 1.0\n",
      "Loss L: 0.013313561\n",
      "Acc L: 1.0\n",
      "Loss L: 0.011840656\n",
      "Acc L: 1.0\n",
      "Loss L: 0.011241904\n",
      "Acc L: 1.0\n",
      "Loss L: 0.01149024\n",
      "Acc L: 1.0\n",
      "Loss L: 0.010199921\n",
      "Acc L: 1.0\n",
      "Loss L: 0.009070501\n",
      "Acc L: 1.0\n",
      "Loss L: 0.009377717\n",
      "Acc L: 1.0\n",
      "Loss L: 0.00722356\n",
      "Acc L: 1.0\n",
      "Loss L: 0.008091645\n",
      "Acc L: 1.0\n",
      "Loss L: 0.007916977\n",
      "Acc L: 1.0\n",
      "Loss L: 0.0067456616\n",
      "Acc L: 1.0\n",
      "Loss L: 0.0075731087\n",
      "Acc L: 1.0\n",
      "Loss L: 0.00611814\n",
      "Acc L: 1.0\n",
      "Loss L: 0.006582601\n",
      "Acc L: 1.0\n",
      "Loss L: 0.005863608\n",
      "Acc L: 1.0\n",
      "Loss L: 0.006182\n",
      "Acc L: 1.0\n",
      "Loss L: 0.0059853126\n",
      "Acc L: 1.0\n",
      "Loss L: 0.0059440746\n",
      "Acc L: 1.0\n",
      "Loss L: 0.0058748666\n",
      "Acc L: 1.0\n",
      "Loss L: 0.0056853495\n",
      "Acc L: 1.0\n",
      "Loss L: 0.00472631\n",
      "Acc L: 1.0\n",
      "Loss L: 0.004647762\n",
      "Acc L: 1.0\n",
      "Loss L: 0.0047387676\n",
      "Acc L: 1.0\n",
      "Loss L: 0.004600773\n",
      "Acc L: 1.0\n",
      "Loss L: 0.004230004\n",
      "Acc L: 1.0\n",
      "Loss L: 0.004079473\n",
      "Acc L: 1.0\n",
      "Loss L: 0.004126368\n",
      "Acc L: 1.0\n",
      "Loss L: 0.0037966329\n",
      "Acc L: 1.0\n",
      "Loss L: 0.0041219755\n",
      "Acc L: 1.0\n",
      "Loss L: 0.0037908137\n",
      "Acc L: 1.0\n",
      "Loss L: 0.003428773\n",
      "Acc L: 1.0\n",
      "Loss L: 0.0036760867\n",
      "Acc L: 1.0\n",
      "Loss L: 0.0035271356\n",
      "Acc L: 1.0\n",
      "Loss L: 0.0035407965\n",
      "Acc L: 1.0\n",
      "Loss L: 0.0033394306\n",
      "Acc L: 1.0\n",
      "Loss L: 0.0031783087\n",
      "Acc L: 1.0\n",
      "Loss L: 0.0031711787\n",
      "Acc L: 1.0\n",
      "Loss L: 0.0029573773\n",
      "Acc L: 1.0\n",
      "Loss L: 0.002884753\n",
      "Acc L: 1.0\n",
      "Loss L: 0.0029936281\n",
      "Acc L: 1.0\n",
      "Loss L: 0.0028389886\n",
      "Acc L: 1.0\n",
      "Loss L: 0.0027412716\n",
      "Acc L: 1.0\n",
      "Loss L: 0.002635579\n",
      "Acc L: 1.0\n",
      "Loss L: 0.0026272563\n",
      "Acc L: 1.0\n",
      "Loss L: 0.0026177445\n",
      "Acc L: 1.0\n",
      "Loss L: 0.002461382\n",
      "Acc L: 1.0\n"
     ]
    }
   ],
   "source": [
    "#Train neural network model with random spherical noise\n",
    "n_ep = 100\n",
    "with tf.Session() as sess:\n",
    "    init = tf.global_variables_initializer()\n",
    "    sess.run(init)\n",
    "    for ep in range(n_ep):\n",
    "        noise = get_sph_noise(list(train_data.shape),1.0)\n",
    "        _, l_sph, a_sph = sess.run([train_sph, loss_sph, acc_sph], feed_dict={x: train_data+noise, y_true: train_labels})\n",
    "        print('Loss L: ' + str(l_sph[0]))\n",
    "        print('Acc L: ' + str(a_sph))\n",
    "    saver_sph.save(sess, \"saved_models/model_sph.ckpt\", write_meta_graph=False)"
   ]
  },
  {
   "cell_type": "code",
   "execution_count": 32,
   "metadata": {},
   "outputs": [
    {
     "name": "stdout",
     "output_type": "stream",
     "text": [
      "INFO:tensorflow:Restoring parameters from saved_models/model_sph.ckpt\n",
      "Loss L: 0.08127344\n",
      "Acc L: 1.0\n"
     ]
    }
   ],
   "source": [
    "#Get validation results for the neural network model trained with spherical noise\n",
    "with tf.Session() as sess:\n",
    "    init = tf.global_variables_initializer()\n",
    "    sess.run(init)\n",
    "    saver_sph.restore(sess, \"saved_models/model_sph.ckpt\")\n",
    "    l_sph, a_sph = sess.run([loss_sph, acc_sph], feed_dict={x: val_data, y_true: val_labels})\n",
    "    print('Loss L: ' + str(l_sph[0]))\n",
    "    print('Acc L: ' + str(a_sph))"
   ]
  },
  {
   "cell_type": "code",
   "execution_count": 33,
   "metadata": {},
   "outputs": [
    {
     "name": "stdout",
     "output_type": "stream",
     "text": [
      "INFO:tensorflow:Restoring parameters from saved_models/model_sph.ckpt\n",
      "Loss L: 0.07902315\n",
      "Acc L: 1.0\n"
     ]
    }
   ],
   "source": [
    "#Get test results for the neural network model trained with spherical noise\n",
    "with tf.Session() as sess:\n",
    "    init = tf.global_variables_initializer()\n",
    "    sess.run(init)\n",
    "    saver_sph.restore(sess, \"saved_models/model_sph.ckpt\")\n",
    "    l_sph, a_sph = sess.run([loss_sph, acc_sph], feed_dict={x: test_data, y_true: test_labels})\n",
    "    print('Loss L: ' + str(l_sph[0]))\n",
    "    print('Acc L: ' + str(a_sph))"
   ]
  },
  {
   "cell_type": "code",
   "execution_count": 34,
   "metadata": {},
   "outputs": [
    {
     "name": "stdout",
     "output_type": "stream",
     "text": [
      "INFO:tensorflow:Restoring parameters from saved_models/model_sph.ckpt\n"
     ]
    }
   ],
   "source": [
    "#Get test data gradients for the neural network model trained with spherical noise\n",
    "\n",
    "with tf.Session() as sess:\n",
    "    init = tf.global_variables_initializer()\n",
    "    sess.run(init)\n",
    "    saver_sph.restore(sess, \"saved_models/model_sph.ckpt\")\n",
    "    #Get gradients for class 0 for class 0 inputs\n",
    "    x_0 = test_data[where_test_0[0],:,:]\n",
    "    \n",
    "    grad_sph_0 = sess.run(g_sph, feed_dict={x: x_0, y_true: test_labels[where_test_0[0]]}) \n",
    "    \n",
    "    #Get gradients for class 1 for class 1 inputs\n",
    "    x_1 =test_data[where_test_1[0],:,:]\n",
    "    \n",
    "    grad_sph_1 = sess.run(g_sph, feed_dict={x: x_1, y_true: test_labels[where_test_1[0]]})\n",
    "    \n",
    "    #Get gradients for class 2 for class 2 inputs\n",
    "    x_2 =test_data[where_test_2[0],:,:]\n",
    "\n",
    "    grad_sph_2 = sess.run(g_sph, feed_dict={x: x_2, y_true: test_labels[where_test_2[0]]})\n",
    "    \n",
    "    #Get gradients for class 1 for class 0 inputs\n",
    "    grad_sph_0_1 = sess.run(g_sph, feed_dict={x: x_0, y_true: 1.0*np.ones(test_labels[where_test_0[0]].shape)}) \n",
    "    \n",
    "    #Get gradients for class 2 for class 0 inputs\n",
    "    grad_sph_0_2 = sess.run(g_sph, feed_dict={x: x_0, y_true: 2.0*np.ones(test_labels[where_test_0[0]].shape)}) \n",
    "    \n",
    "    #Get gradients for class 0 for class 1 inputs \n",
    "    grad_sph_1_0 = sess.run(g_sph, feed_dict={x: x_1, y_true: 0.0*np.ones(test_labels[where_test_1[0]].shape)}) \n",
    "    \n",
    "    #Get gradients for class 2 for class 1 inputs\n",
    "    grad_sph_1_2 = sess.run(g_sph, feed_dict={x: x_1, y_true: 2.0*np.ones(test_labels[where_test_1[0]].shape)}) \n",
    "    \n",
    "    #Get gradients for class 0 for class 2 inputs\n",
    "    grad_sph_2_0 = sess.run(g_sph, feed_dict={x: x_2, y_true: 0.0*np.ones(test_labels[where_test_2[0]].shape)}) \n",
    "    \n",
    "    #Get gradients for class 1 for class 2 inputs\n",
    "    grad_sph_2_1 = sess.run(g_sph, feed_dict={x: x_2, y_true: 1.0*np.ones(test_labels[where_test_2[0]].shape)})"
   ]
  },
  {
   "cell_type": "code",
   "execution_count": 35,
   "metadata": {},
   "outputs": [
    {
     "data": {
      "text/plain": [
       "<matplotlib.image.AxesImage at 0x7fb3f05bb6a0>"
      ]
     },
     "execution_count": 35,
     "metadata": {},
     "output_type": "execute_result"
    },
    {
     "data": {
      "image/png": "[encoded data removed]",
      "text/plain": [
       "<Figure size 288x288 with 1 Axes>"
      ]
     },
     "metadata": {
      "needs_background": "light"
     },
     "output_type": "display_data"
    },
    {
     "data": {
      "image/png": "[encoded data removed]",
      "text/plain": [
       "<Figure size 288x288 with 1 Axes>"
      ]
     },
     "metadata": {
      "needs_background": "light"
     },
     "output_type": "display_data"
    },
    {
     "data": {
      "image/png": "[encoded data removed]",
      "text/plain": [
       "<Figure size 288x288 with 1 Axes>"
      ]
     },
     "metadata": {
      "needs_background": "light"
     },
     "output_type": "display_data"
    },
    {
     "data": {
      "image/png": "[encoded data removed]",
      "text/plain": [
       "<Figure size 288x288 with 1 Axes>"
      ]
     },
     "metadata": {
      "needs_background": "light"
     },
     "output_type": "display_data"
    },
    {
     "data": {
      "image/png": "[encoded data removed]",
      "text/plain": [
       "<Figure size 288x288 with 1 Axes>"
      ]
     },
     "metadata": {
      "needs_background": "light"
     },
     "output_type": "display_data"
    },
    {
     "data": {
      "image/png": "[encoded data removed]",
      "text/plain": [
       "<Figure size 288x288 with 1 Axes>"
      ]
     },
     "metadata": {
      "needs_background": "light"
     },
     "output_type": "display_data"
    },
    {
     "data": {
      "image/png": "[encoded data removed]",
      "text/plain": [
       "<Figure size 288x288 with 1 Axes>"
      ]
     },
     "metadata": {
      "needs_background": "light"
     },
     "output_type": "display_data"
    },
    {
     "data": {
      "image/png": "[encoded data removed]",
      "text/plain": [
       "<Figure size 288x288 with 1 Axes>"
      ]
     },
     "metadata": {
      "needs_background": "light"
     },
     "output_type": "display_data"
    },
    {
     "data": {
      "image/png": "[encoded data removed]",
      "text/plain": [
       "<Figure size 288x288 with 1 Axes>"
      ]
     },
     "metadata": {
      "needs_background": "light"
     },
     "output_type": "display_data"
    }
   ],
   "source": [
    "#Plot gradients for the neural network model trained with spherical noise\n",
    "\n",
    "#Plot gradients for class 0 for class 0 inputs\n",
    "clim = np.abs(grad_sph_0[0].mean(axis=0)).max()\n",
    "plt.matshow(np.reshape(grad_sph_0[0].mean(axis=0),[32,32]),cmap='seismic',vmin=-1.0*clim,vmax=clim)\n",
    "\n",
    "#Plot gradients for class 1 for class 1 inputs\n",
    "clim = np.abs(grad_sph_1[0].mean(axis=0)).max()\n",
    "plt.matshow(np.reshape(grad_sph_1[0].mean(axis=0),[32,32]),cmap='seismic',vmin=-1.0*clim,vmax=clim)\n",
    "\n",
    "#Plot gradientws for class 2 for class 2 inputs\n",
    "clim = np.abs(grad_sph_2[0].mean(axis=0)).max()\n",
    "plt.matshow(np.reshape(grad_sph_2[0].mean(axis=0),[32,32]),cmap='seismic',vmin=-1.0*clim,vmax=clim)\n",
    "\n",
    "#Plot gradients for class 1 for class 0 inputs\n",
    "clim = np.abs(grad_sph_0_1[0].mean(axis=0)).max()\n",
    "plt.matshow(np.reshape(grad_sph_0_1[0].mean(axis=0),[32,32]),cmap='seismic',vmin=-1.0*clim,vmax=clim)\n",
    "\n",
    "#Plot gradients for class 2 for class 0 inputs\n",
    "clim = np.abs(grad_sph_0_2[0].mean(axis=0)).max()\n",
    "plt.matshow(np.reshape(grad_sph_0_2[0].mean(axis=0),[32,32]),cmap='seismic',vmin=-1.0*clim,vmax=clim)\n",
    "\n",
    "#Plot gradients for class 0 for class 1 inputs\n",
    "clim = np.abs(grad_sph_1_0[0].mean(axis=0)).max()\n",
    "plt.matshow(np.reshape(grad_sph_1_0[0].mean(axis=0),[32,32]),cmap='seismic',vmin=-1.0*clim,vmax=clim)\n",
    "\n",
    "#Plot gradients for class 2 for class 1 inputs\n",
    "clim = np.abs(grad_sph_1_2[0].mean(axis=0)).max()\n",
    "plt.matshow(np.reshape(grad_sph_1_2[0].mean(axis=0),[32,32]),cmap='seismic',vmin=-1.0*clim,vmax=clim)\n",
    "\n",
    "#Plot gradients for class 0 for class 2 inputs\n",
    "clim = np.abs(grad_sph_2_0[0].mean(axis=0)).max()\n",
    "plt.matshow(np.reshape(grad_sph_2_0[0].mean(axis=0),[32,32]),cmap='seismic',vmin=-1.0*clim,vmax=clim)\n",
    "\n",
    "#Plot gradients for class 1 for class 2 inputs\n",
    "clim = np.abs(grad_sph_2_1[0].mean(axis=0)).max()\n",
    "plt.matshow(np.reshape(grad_sph_2_1[0].mean(axis=0),[32,32]),cmap='seismic',vmin=-1.0*clim,vmax=clim)"
   ]
  },
  {
   "cell_type": "code",
   "execution_count": 125,
   "metadata": {
    "scrolled": true
   },
   "outputs": [
    {
     "name": "stderr",
     "output_type": "stream",
     "text": [
      "/data/MLcore/miniconda3/envs/tf_john/lib/python3.6/site-packages/numpy/linalg/linalg.py:2428: RuntimeWarning: invalid value encountered in sqrt\n",
      "  ret = sqrt(add.reduce((x.conj() * x).real, axis=axis))\n"
     ]
    },
    {
     "name": "stdout",
     "output_type": "stream",
     "text": [
      "Loss L: 0.92035836\n",
      "Acc L: 0.32431817\n",
      "Loss L: 0.8640931\n",
      "Acc L: 0.37147728\n",
      "Loss L: 0.8608744\n",
      "Acc L: 0.43647727\n",
      "Loss L: 0.8576443\n",
      "Acc L: 0.51511365\n",
      "Loss L: 0.85475117\n",
      "Acc L: 0.6128409\n",
      "Loss L: 0.8432727\n",
      "Acc L: 0.7113636\n",
      "Loss L: 0.8257654\n",
      "Acc L: 0.7911364\n",
      "Loss L: 0.80046535\n",
      "Acc L: 0.8527273\n",
      "Loss L: 0.76360136\n",
      "Acc L: 0.89852273\n",
      "Loss L: 0.70336187\n",
      "Acc L: 0.9372727\n",
      "Loss L: 0.63880366\n",
      "Acc L: 0.96340907\n",
      "Loss L: 0.5597353\n",
      "Acc L: 0.9819318\n",
      "Loss L: 0.47505748\n",
      "Acc L: 0.9909091\n",
      "Loss L: 0.3948058\n",
      "Acc L: 0.9967045\n",
      "Loss L: 0.3249176\n",
      "Acc L: 0.9984091\n",
      "Loss L: 0.2656597\n",
      "Acc L: 0.9993182\n",
      "Loss L: 0.21631545\n",
      "Acc L: 0.9997727\n",
      "Loss L: 0.17601235\n",
      "Acc L: 0.99988633\n",
      "Loss L: 0.14360003\n",
      "Acc L: 1.0\n",
      "Loss L: 0.117863245\n",
      "Acc L: 1.0\n",
      "Loss L: 0.09820367\n",
      "Acc L: 1.0\n",
      "Loss L: 0.082625\n",
      "Acc L: 1.0\n",
      "Loss L: 0.069997475\n",
      "Acc L: 1.0\n",
      "Loss L: 0.05964747\n",
      "Acc L: 1.0\n",
      "Loss L: 0.05124169\n",
      "Acc L: 1.0\n",
      "Loss L: 0.044207904\n",
      "Acc L: 1.0\n",
      "Loss L: 0.03813494\n",
      "Acc L: 1.0\n",
      "Loss L: 0.033191178\n",
      "Acc L: 1.0\n",
      "Loss L: 0.029287219\n",
      "Acc L: 1.0\n",
      "Loss L: 0.02574933\n",
      "Acc L: 1.0\n",
      "Loss L: 0.022598246\n",
      "Acc L: 1.0\n",
      "Loss L: 0.019825632\n",
      "Acc L: 1.0\n",
      "Loss L: 0.017407492\n",
      "Acc L: 1.0\n",
      "Loss L: 0.015319656\n",
      "Acc L: 1.0\n",
      "Loss L: 0.013529747\n",
      "Acc L: 1.0\n",
      "Loss L: 0.012033487\n",
      "Acc L: 1.0\n",
      "Loss L: 0.010797882\n",
      "Acc L: 1.0\n",
      "Loss L: 0.009735722\n",
      "Acc L: 1.0\n",
      "Loss L: 0.008818255\n",
      "Acc L: 1.0\n",
      "Loss L: 0.008019274\n",
      "Acc L: 1.0\n",
      "Loss L: 0.0073175267\n",
      "Acc L: 1.0\n",
      "Loss L: 0.006719138\n",
      "Acc L: 1.0\n",
      "Loss L: 0.0062363786\n",
      "Acc L: 1.0\n",
      "Loss L: 0.0057946313\n",
      "Acc L: 1.0\n",
      "Loss L: 0.005388972\n",
      "Acc L: 1.0\n",
      "Loss L: 0.00501636\n",
      "Acc L: 1.0\n",
      "Loss L: 0.004673985\n",
      "Acc L: 1.0\n",
      "Loss L: 0.0043593855\n",
      "Acc L: 1.0\n",
      "Loss L: 0.00407045\n",
      "Acc L: 1.0\n",
      "Loss L: 0.0038049459\n",
      "Acc L: 1.0\n"
     ]
    }
   ],
   "source": [
    "#Train neural network model with adversarial noise\n",
    "n_ep = 50\n",
    "with tf.Session() as sess:\n",
    "    init = tf.global_variables_initializer()\n",
    "    sess.run(init)\n",
    "    for ep in range(n_ep):\n",
    "        _, l_adv, a_adv, grads_adv = sess.run([train_adv, loss_adv, acc_adv, g_adv], feed_dict={x: train_data, y_true: train_labels})\n",
    "        del_1 = grads_adv[0]\n",
    "        norm_del_1 = np.linalg.norm(del_1,axis=(1,2))\n",
    "        norm_where = np.where(norm_del_1>0.0)\n",
    "        norm_del_1 = np.reshape(norm_del_1,(-1,1,1))\n",
    "        del_1[norm_where] = del_1[norm_where] / norm_del_1[norm_where]\n",
    "        del_1 *= -1.0\n",
    "        del_2 = sess.run(g_adv, feed_dict={x: train_data + del_1, y_true: train_labels})[0]\n",
    "        norm_del_2 = np.linalg.norm(del_2,axis=(1,2))\n",
    "        norm_where = np.where(norm_del_2>0.0)\n",
    "        norm_del_2 = np.reshape(norm_del_2,(-1,1,1))\n",
    "        del_2[norm_where] = del_2[norm_where] / norm_del_2[norm_where]\n",
    "        del_2 = del_1 - 1.0 * del_2\n",
    "        del_3 = sess.run(g_adv, feed_dict={x: train_data + del_2, y_true: train_labels})[0]\n",
    "        norm_del_3 = np.linalg.norm(del_3,axis=(1,2))\n",
    "        norm_where = np.where(norm_del_3>0.0)\n",
    "        norm_del_3 = np.reshape(norm_del_3,(-1,1,1))\n",
    "        del_3[norm_where] = del_3[norm_where] / norm_del_3[norm_where]\n",
    "        del_3 = del_2 - 1.0 * del_3\n",
    "        norm_del_3 =  np.linalg.norm(del_3,axis=(1,2))\n",
    "        norm_where = np.where(norm_del_3>1.0)\n",
    "        norm_del_3 = np.reshape(norm_del_3,(-1,1,1))\n",
    "        if len(norm_where) > 0:\n",
    "            del_3[norm_where] = 1.0 * del_3[norm_where] / norm_del_3[norm_where] \n",
    "        _ = sess.run(train_adv, feed_dict={x: (train_data + del_3), y_true: train_labels})\n",
    "        print('Loss L: ' + str(l_adv[0]))\n",
    "        print('Acc L: ' + str(a_adv))\n",
    "    saver_adv.save(sess, \"saved_models/model_adv.ckpt\", write_meta_graph=False)"
   ]
  },
  {
   "cell_type": "code",
   "execution_count": 126,
   "metadata": {},
   "outputs": [
    {
     "name": "stdout",
     "output_type": "stream",
     "text": [
      "INFO:tensorflow:Restoring parameters from saved_models/model_adv.ckpt\n",
      "Loss L: 0.03981471\n",
      "Acc L: 1.0\n"
     ]
    }
   ],
   "source": [
    "#Get validation results for the neural network model trained with adversarial noise\n",
    "with tf.Session() as sess:\n",
    "    init = tf.global_variables_initializer()\n",
    "    sess.run(init)\n",
    "    saver_adv.restore(sess, \"saved_models/model_adv.ckpt\")\n",
    "    l_adv, a_adv = sess.run([loss_adv, acc_adv], feed_dict={x: val_data, y_true: val_labels})\n",
    "    print('Loss L: ' + str(l_adv[0]))\n",
    "    print('Acc L: ' + str(a_adv))"
   ]
  },
  {
   "cell_type": "code",
   "execution_count": 127,
   "metadata": {},
   "outputs": [
    {
     "name": "stdout",
     "output_type": "stream",
     "text": [
      "INFO:tensorflow:Restoring parameters from saved_models/model_adv.ckpt\n",
      "Loss L: 0.027945371\n",
      "Acc L: 1.0\n"
     ]
    }
   ],
   "source": [
    "#Get test results for the neural network model trained with adversarial noise\n",
    "with tf.Session() as sess:\n",
    "    init = tf.global_variables_initializer()\n",
    "    sess.run(init)\n",
    "    saver_adv.restore(sess, \"saved_models/model_adv.ckpt\")\n",
    "    l_adv, a_adv = sess.run([loss_adv, acc_adv], feed_dict={x: test_data, y_true: test_labels})\n",
    "    print('Loss L: ' + str(l_adv[0]))\n",
    "    print('Acc L: ' + str(a_adv))"
   ]
  },
  {
   "cell_type": "code",
   "execution_count": 128,
   "metadata": {},
   "outputs": [
    {
     "name": "stdout",
     "output_type": "stream",
     "text": [
      "INFO:tensorflow:Restoring parameters from saved_models/model_adv.ckpt\n"
     ]
    }
   ],
   "source": [
    "#Get test data gradients for the neural network model trained with adversarial noise\n",
    "\n",
    "with tf.Session() as sess:\n",
    "    init = tf.global_variables_initializer()\n",
    "    sess.run(init)\n",
    "    saver_adv.restore(sess, \"saved_models/model_adv.ckpt\")\n",
    "    #Get gradients for class 0 for class 0 inputs\n",
    "    x_0 = test_data[where_test_0[0],:,:]\n",
    "    \n",
    "    grad_adv_0 = sess.run(g_adv, feed_dict={x: x_0, y_true: test_labels[where_test_0[0]]}) \n",
    "    \n",
    "    #Get gradients for class 1 for class 1 inputs\n",
    "    x_1 =test_data[where_test_1[0],:,:]\n",
    "    \n",
    "    grad_adv_1 = sess.run(g_adv, feed_dict={x: x_1, y_true: test_labels[where_test_1[0]]})\n",
    "    \n",
    "    #Get gradients for class 2 for class 2 inputs\n",
    "    x_2 =test_data[where_test_2[0],:,:]\n",
    "\n",
    "    grad_adv_2 = sess.run(g_adv, feed_dict={x: x_2, y_true: test_labels[where_test_2[0]]})\n",
    "    \n",
    "    #Get gradients for class 1 for class 0 inputs\n",
    "    grad_adv_0_1 = sess.run(g_adv, feed_dict={x: x_0, y_true: 1.0*np.ones(test_labels[where_test_0[0]].shape)}) \n",
    "    \n",
    "    #Get gradients for class 2 for class 0 inputs\n",
    "    grad_adv_0_2 = sess.run(g_adv, feed_dict={x: x_0, y_true: 2.0*np.ones(test_labels[where_test_0[0]].shape)}) \n",
    "    \n",
    "    #Get gradients for class 0 for class 1 inputs \n",
    "    grad_adv_1_0 = sess.run(g_adv, feed_dict={x: x_1, y_true: 0.0*np.ones(test_labels[where_test_1[0]].shape)}) \n",
    "    \n",
    "    #Get gradients for class 2 for class 1 inputs\n",
    "    grad_adv_1_2 = sess.run(g_adv, feed_dict={x: x_1, y_true: 2.0*np.ones(test_labels[where_test_1[0]].shape)}) \n",
    "    \n",
    "    #Get gradients for class 0 for class 2 inputs\n",
    "    grad_adv_2_0 = sess.run(g_adv, feed_dict={x: x_2, y_true: 0.0*np.ones(test_labels[where_test_2[0]].shape)}) \n",
    "    \n",
    "    #Get gradients for class 1 for class 2 inputs\n",
    "    grad_adv_2_1 = sess.run(g_adv, feed_dict={x: x_2, y_true: 1.0*np.ones(test_labels[where_test_2[0]].shape)})"
   ]
  },
  {
   "cell_type": "code",
   "execution_count": 129,
   "metadata": {},
   "outputs": [
    {
     "data": {
      "text/plain": [
       "<matplotlib.image.AxesImage at 0x7fb3f07dc080>"
      ]
     },
     "execution_count": 129,
     "metadata": {},
     "output_type": "execute_result"
    },
    {
     "data": {
      "image/png": "[encoded data removed]",
      "text/plain": [
       "<Figure size 288x288 with 1 Axes>"
      ]
     },
     "metadata": {
      "needs_background": "light"
     },
     "output_type": "display_data"
    },
    {
     "data": {
      "image/png": "[encoded data removed]",
      "text/plain": [
       "<Figure size 288x288 with 1 Axes>"
      ]
     },
     "metadata": {
      "needs_background": "light"
     },
     "output_type": "display_data"
    },
    {
     "data": {
      "image/png": "[encoded data removed]",
      "text/plain": [
       "<Figure size 288x288 with 1 Axes>"
      ]
     },
     "metadata": {
      "needs_background": "light"
     },
     "output_type": "display_data"
    },
    {
     "data": {
      "image/png": "[encoded data removed]",
      "text/plain": [
       "<Figure size 288x288 with 1 Axes>"
      ]
     },
     "metadata": {
      "needs_background": "light"
     },
     "output_type": "display_data"
    },
    {
     "data": {
      "image/png": "[encoded data removed]",
      "text/plain": [
       "<Figure size 288x288 with 1 Axes>"
      ]
     },
     "metadata": {
      "needs_background": "light"
     },
     "output_type": "display_data"
    },
    {
     "data": {
      "image/png": "[encoded data removed]",
      "text/plain": [
       "<Figure size 288x288 with 1 Axes>"
      ]
     },
     "metadata": {
      "needs_background": "light"
     },
     "output_type": "display_data"
    },
    {
     "data": {
      "image/png": "[encoded data removed]",
      "text/plain": [
       "<Figure size 288x288 with 1 Axes>"
      ]
     },
     "metadata": {
      "needs_background": "light"
     },
     "output_type": "display_data"
    },
    {
     "data": {
      "image/png": "[encoded data removed]",
      "text/plain": [
       "<Figure size 288x288 with 1 Axes>"
      ]
     },
     "metadata": {
      "needs_background": "light"
     },
     "output_type": "display_data"
    },
    {
     "data": {
      "image/png": "[encoded data removed]",
      "text/plain": [
       "<Figure size 288x288 with 1 Axes>"
      ]
     },
     "metadata": {
      "needs_background": "light"
     },
     "output_type": "display_data"
    }
   ],
   "source": [
    "#Plot gradients for the neural network model trained with adversarial noise\n",
    "\n",
    "#Plot gradients for class 0 for class 0 inputs\n",
    "clim = np.abs(grad_adv_0[0].mean(axis=0)).max()\n",
    "plt.matshow(np.reshape(grad_adv_0[0].mean(axis=0),[32,32]),cmap='seismic',vmin=-1.0*clim,vmax=clim)\n",
    "\n",
    "#Plot gradients for class 1 for class 1 inputs\n",
    "clim = np.abs(grad_adv_1[0].mean(axis=0)).max()\n",
    "plt.matshow(np.reshape(grad_adv_1[0].mean(axis=0),[32,32]),cmap='seismic',vmin=-1.0*clim,vmax=clim)\n",
    "\n",
    "#Plot gradientws for class 2 for class 2 inputs\n",
    "clim = np.abs(grad_adv_2[0].mean(axis=0)).max()\n",
    "plt.matshow(np.reshape(grad_adv_2[0].mean(axis=0),[32,32]),cmap='seismic',vmin=-1.0*clim,vmax=clim)\n",
    "\n",
    "#Plot gradients for class 1 for class 0 inputs\n",
    "clim = np.abs(grad_adv_0_1[0].mean(axis=0)).max()\n",
    "plt.matshow(np.reshape(grad_adv_0_1[0].mean(axis=0),[32,32]),cmap='seismic',vmin=-1.0*clim,vmax=clim)\n",
    "\n",
    "#Plot gradients for class 2 for class 0 inputs\n",
    "clim = np.abs(grad_adv_0_2[0].mean(axis=0)).max()\n",
    "plt.matshow(np.reshape(grad_adv_0_2[0].mean(axis=0),[32,32]),cmap='seismic',vmin=-1.0*clim,vmax=clim)\n",
    "\n",
    "#Plot gradients for class 0 for class 1 inputs\n",
    "clim = np.abs(grad_adv_1_0[0].mean(axis=0)).max()\n",
    "plt.matshow(np.reshape(grad_adv_1_0[0].mean(axis=0),[32,32]),cmap='seismic',vmin=-1.0*clim,vmax=clim)\n",
    "\n",
    "#Plot gradients for class 2 for class 1 inputs\n",
    "clim = np.abs(grad_adv_1_2[0].mean(axis=0)).max()\n",
    "plt.matshow(np.reshape(grad_adv_1_2[0].mean(axis=0),[32,32]),cmap='seismic',vmin=-1.0*clim,vmax=clim)\n",
    "\n",
    "#Plot gradients for class 0 for class 2 inputs\n",
    "clim = np.abs(grad_adv_2_0[0].mean(axis=0)).max()\n",
    "plt.matshow(np.reshape(grad_adv_2_0[0].mean(axis=0),[32,32]),cmap='seismic',vmin=-1.0*clim,vmax=clim)\n",
    "\n",
    "#Plot gradients for class 1 for class 2 inputs\n",
    "clim = np.abs(grad_adv_2_1[0].mean(axis=0)).max()\n",
    "plt.matshow(np.reshape(grad_adv_2_1[0].mean(axis=0),[32,32]),cmap='seismic',vmin=-1.0*clim,vmax=clim)"
   ]
  },
  {
   "cell_type": "code",
   "execution_count": 130,
   "metadata": {},
   "outputs": [],
   "source": [
    "from scipy.stats import pearsonr\n",
    "from scipy.stats import ttest_rel"
   ]
  },
  {
   "cell_type": "code",
   "execution_count": 131,
   "metadata": {},
   "outputs": [
    {
     "data": {
      "text/plain": [
       "(0.36300224009741694, 2.9968475301484212e-33)"
      ]
     },
     "execution_count": 131,
     "metadata": {},
     "output_type": "execute_result"
    }
   ],
   "source": [
    "#Correlation between the class 0 template minus the average template and the class 0 weights\n",
    "pearsonr(np.reshape(weights_l_0[0].mean(axis=0),(-1)),np.reshape(diff_0,(-1)))"
   ]
  },
  {
   "cell_type": "code",
   "execution_count": 132,
   "metadata": {},
   "outputs": [
    {
     "data": {
      "text/plain": [
       "(0.5265775614395629, 4.046212809483107e-74)"
      ]
     },
     "execution_count": 132,
     "metadata": {},
     "output_type": "execute_result"
    }
   ],
   "source": [
    "#Correlation between the class 0 template minus the average template and the average class 0 linear model gradient for class 0 inputs\n",
    "pearsonr(np.reshape(grad_l_0[0].mean(axis=0),(-1)),np.reshape(diff_0,(-1)))"
   ]
  },
  {
   "cell_type": "code",
   "execution_count": 133,
   "metadata": {},
   "outputs": [
    {
     "data": {
      "text/plain": [
       "(0.7106195307454848, 3.14215010639801e-158)"
      ]
     },
     "execution_count": 133,
     "metadata": {},
     "output_type": "execute_result"
    }
   ],
   "source": [
    "#Correlation between the class 0 template minus the average template and the average class 0 neural network gradient for class 0 inputs\n",
    "pearsonr(np.reshape(grad_nn_0[0].mean(axis=0),(-1)),np.reshape(diff_0,(-1)))"
   ]
  },
  {
   "cell_type": "code",
   "execution_count": 134,
   "metadata": {},
   "outputs": [
    {
     "data": {
      "text/plain": [
       "(0.6764081648155622, 6.810984126769789e-138)"
      ]
     },
     "execution_count": 134,
     "metadata": {},
     "output_type": "execute_result"
    }
   ],
   "source": [
    "#Correlation between the class 0 template minus the average template and the average class 0 neural network gradientxinput for class 0 inputs\n",
    "pearsonr(np.reshape(gradxi_nn_0[0].mean(axis=0),(-1)),np.reshape(diff_0,(-1)))"
   ]
  },
  {
   "cell_type": "code",
   "execution_count": 135,
   "metadata": {},
   "outputs": [
    {
     "data": {
      "text/plain": [
       "(0.702158991407031, 6.27158394804734e-153)"
      ]
     },
     "execution_count": 135,
     "metadata": {},
     "output_type": "execute_result"
    }
   ],
   "source": [
    "#Correlation between the class 0 template minus the average template and the average class 0 neural network trained with spherical noise gradient for class 0 inputs\n",
    "pearsonr(np.reshape(grad_sph_0[0].mean(axis=0),(-1)),np.reshape(diff_0,(-1)))"
   ]
  },
  {
   "cell_type": "code",
   "execution_count": 136,
   "metadata": {},
   "outputs": [
    {
     "data": {
      "text/plain": [
       "(0.7123497359135678, 2.452777966821006e-159)"
      ]
     },
     "execution_count": 136,
     "metadata": {},
     "output_type": "execute_result"
    }
   ],
   "source": [
    "#Correlation between the class 0 template minus the average template and the average class 0 neural network SmoothGrad gradient for class 0 inputs\n",
    "pearsonr(np.reshape(grad_sg_0.mean(axis=0).mean(axis=0),(-1)),np.reshape(diff_0,(-1)))"
   ]
  },
  {
   "cell_type": "code",
   "execution_count": 137,
   "metadata": {},
   "outputs": [
    {
     "data": {
      "text/plain": [
       "(0.9326369248396132, 0.0)"
      ]
     },
     "execution_count": 137,
     "metadata": {},
     "output_type": "execute_result"
    }
   ],
   "source": [
    "#Correlation between the class 0 template minus the average template and the average class 0 neural network with adversarial training gradient for class 0 inputs\n",
    "pearsonr(np.reshape(grad_adv_0[0].mean(axis=0),(-1)),np.reshape(diff_0,(-1)))"
   ]
  },
  {
   "cell_type": "code",
   "execution_count": 138,
   "metadata": {},
   "outputs": [
    {
     "data": {
      "text/plain": [
       "(0.3804580018424246, 1.3011866099655082e-36)"
      ]
     },
     "execution_count": 138,
     "metadata": {},
     "output_type": "execute_result"
    }
   ],
   "source": [
    "#Correlation between the class 1 template minus the average template and the class 1 weights\n",
    "pearsonr(np.reshape(weights_l_1[0].mean(axis=0),(-1)),np.reshape(diff_1,(-1)))"
   ]
  },
  {
   "cell_type": "code",
   "execution_count": 139,
   "metadata": {},
   "outputs": [
    {
     "data": {
      "text/plain": [
       "(0.5264910054318518, 4.3162551413398774e-74)"
      ]
     },
     "execution_count": 139,
     "metadata": {},
     "output_type": "execute_result"
    }
   ],
   "source": [
    "#Correlation between the class 1 template minus the average template and the average class 1 linear model gradient for class 1 inputs\n",
    "pearsonr(np.reshape(grad_l_1[0].mean(axis=0),(-1)),np.reshape(diff_1,(-1)))"
   ]
  },
  {
   "cell_type": "code",
   "execution_count": 140,
   "metadata": {},
   "outputs": [
    {
     "data": {
      "text/plain": [
       "(0.7212001532563472, 3.917224985639982e-165)"
      ]
     },
     "execution_count": 140,
     "metadata": {},
     "output_type": "execute_result"
    }
   ],
   "source": [
    "#Correlation between the class 1 template minus the average template and the average class 1 neural network gradient for class 1 inputs\n",
    "pearsonr(np.reshape(grad_nn_1[0].mean(axis=0),(-1)),np.reshape(diff_1,(-1)))"
   ]
  },
  {
   "cell_type": "code",
   "execution_count": 141,
   "metadata": {},
   "outputs": [
    {
     "data": {
      "text/plain": [
       "(0.6650483823658123, 9.742913561865422e-132)"
      ]
     },
     "execution_count": 141,
     "metadata": {},
     "output_type": "execute_result"
    }
   ],
   "source": [
    "#Correlation between the class 1 template minus the average template and the average class 1 neural network gradientxinput for class 1 inputs\n",
    "pearsonr(np.reshape(gradxi_nn_1[0].mean(axis=0),(-1)),np.reshape(diff_1,(-1)))"
   ]
  },
  {
   "cell_type": "code",
   "execution_count": 142,
   "metadata": {},
   "outputs": [
    {
     "data": {
      "text/plain": [
       "(0.7329071633147601, 3.717717773667554e-173)"
      ]
     },
     "execution_count": 142,
     "metadata": {},
     "output_type": "execute_result"
    }
   ],
   "source": [
    "#Correlation between the class 1 template minus the average template and the average class 1 neural network trained with spherical noise gradient for class 1 inputs\n",
    "pearsonr(np.reshape(grad_sph_1[0].mean(axis=0),(-1)),np.reshape(diff_1,(-1)))"
   ]
  },
  {
   "cell_type": "code",
   "execution_count": 143,
   "metadata": {},
   "outputs": [
    {
     "data": {
      "text/plain": [
       "(0.7191243293784905, 9.389646797263364e-164)"
      ]
     },
     "execution_count": 143,
     "metadata": {},
     "output_type": "execute_result"
    }
   ],
   "source": [
    "#Correlation between the class 1 template minus the average template and the average class 1 neural network SmoothGrad gradient for class 1 inputs\n",
    "pearsonr(np.reshape(grad_sg_1.mean(axis=0).mean(axis=0),(-1)),np.reshape(diff_1,(-1)))"
   ]
  },
  {
   "cell_type": "code",
   "execution_count": 144,
   "metadata": {},
   "outputs": [
    {
     "data": {
      "text/plain": [
       "(0.9075154576871188, 0.0)"
      ]
     },
     "execution_count": 144,
     "metadata": {},
     "output_type": "execute_result"
    }
   ],
   "source": [
    "#Correlation between the class 1 template minus the average template and the average class 1 neural network with adversarial training gradient for class 1 inputs\n",
    "pearsonr(np.reshape(grad_adv_1[0].mean(axis=0),(-1)),np.reshape(diff_1,(-1)))"
   ]
  },
  {
   "cell_type": "code",
   "execution_count": 145,
   "metadata": {},
   "outputs": [
    {
     "data": {
      "text/plain": [
       "(0.4045775918875394, 1.3167433569838165e-41)"
      ]
     },
     "execution_count": 145,
     "metadata": {},
     "output_type": "execute_result"
    }
   ],
   "source": [
    "#Correlation between the class 2 template minus the average template and the class 2 weights\n",
    "pearsonr(np.reshape(weights_l_2[0].mean(axis=0),(-1)),np.reshape(diff_2,(-1)))"
   ]
  },
  {
   "cell_type": "code",
   "execution_count": 146,
   "metadata": {},
   "outputs": [
    {
     "data": {
      "text/plain": [
       "(0.5721696338199221, 4.262875320263898e-90)"
      ]
     },
     "execution_count": 146,
     "metadata": {},
     "output_type": "execute_result"
    }
   ],
   "source": [
    "#Correlation between the class 2 template minus the average template and the average class 2 linear model gradient for class 2 inputs\n",
    "pearsonr(np.reshape(grad_l_2[0].mean(axis=0),(-1)),np.reshape(diff_2,(-1)))"
   ]
  },
  {
   "cell_type": "code",
   "execution_count": 147,
   "metadata": {},
   "outputs": [
    {
     "data": {
      "text/plain": [
       "(0.6173455788962373, 1.3133478527786008e-108)"
      ]
     },
     "execution_count": 147,
     "metadata": {},
     "output_type": "execute_result"
    }
   ],
   "source": [
    "#Correlation between the class 2 template minus the average template and the average class 2 neural network gradient for class 2 inputs\n",
    "pearsonr(np.reshape(grad_nn_2[0].mean(axis=0),(-1)),np.reshape(diff_2,(-1)))"
   ]
  },
  {
   "cell_type": "code",
   "execution_count": 148,
   "metadata": {},
   "outputs": [
    {
     "data": {
      "text/plain": [
       "(0.626008977873698, 1.6434460285345094e-112)"
      ]
     },
     "execution_count": 148,
     "metadata": {},
     "output_type": "execute_result"
    }
   ],
   "source": [
    "#Correlation between the class 2 template minus the average template and the average class 2 neural network gradientxinput for class 2 inputs\n",
    "pearsonr(np.reshape(gradxi_nn_2[0].mean(axis=0),(-1)),np.reshape(diff_2,(-1)))"
   ]
  },
  {
   "cell_type": "code",
   "execution_count": 149,
   "metadata": {},
   "outputs": [
    {
     "data": {
      "text/plain": [
       "(0.7262476752939913, 1.531707772098569e-168)"
      ]
     },
     "execution_count": 149,
     "metadata": {},
     "output_type": "execute_result"
    }
   ],
   "source": [
    "#Correlation between the class 2 template minus the average template and the average class 2 neural network trained with spherical noise gradient for class 2 inputs\n",
    "pearsonr(np.reshape(grad_sph_2[0].mean(axis=0),(-1)),np.reshape(diff_2,(-1)))"
   ]
  },
  {
   "cell_type": "code",
   "execution_count": 150,
   "metadata": {},
   "outputs": [
    {
     "data": {
      "text/plain": [
       "(0.6308360963059408, 9.710690992823377e-115)"
      ]
     },
     "execution_count": 150,
     "metadata": {},
     "output_type": "execute_result"
    }
   ],
   "source": [
    "#Correlation between the class 2 template minus the average template and the average class 2 neural network SmoothGrad gradient for class 2 inputs\n",
    "pearsonr(np.reshape(grad_sg_2.mean(axis=0).mean(axis=0),(-1)),np.reshape(diff_2,(-1)))"
   ]
  },
  {
   "cell_type": "code",
   "execution_count": 151,
   "metadata": {},
   "outputs": [
    {
     "data": {
      "text/plain": [
       "(0.9216662825579538, 0.0)"
      ]
     },
     "execution_count": 151,
     "metadata": {},
     "output_type": "execute_result"
    }
   ],
   "source": [
    "#Correlation between the class 2 template minus the average template and the average class 2 neural network with adversarial training gradient for class 2 inputs\n",
    "pearsonr(np.reshape(grad_adv_2[0].mean(axis=0),(-1)),np.reshape(diff_2,(-1)))"
   ]
  },
  {
   "cell_type": "code",
   "execution_count": 152,
   "metadata": {},
   "outputs": [],
   "source": [
    "#Get the correlation between the class template minus the average template and the respective weights for each input\n",
    "corrs_weights = []\n",
    "for i in range(weights_l_0[0].shape[0]):\n",
    "    corrs_weights.append(pearsonr(np.reshape(weights_l_0[0][i],(-1)),np.reshape(diff_0,(-1)))[0])\n",
    "for i in range(weights_l_1[0].shape[0]):\n",
    "    corrs_weights.append(pearsonr(np.reshape(weights_l_1[0][i],(-1)),np.reshape(diff_1,(-1)))[0])\n",
    "for i in range(weights_l_2[0].shape[0]):\n",
    "    corrs_weights.append(pearsonr(np.reshape(weights_l_2[0][i],(-1)),np.reshape(diff_2,(-1)))[0])"
   ]
  },
  {
   "cell_type": "code",
   "execution_count": 153,
   "metadata": {},
   "outputs": [],
   "source": [
    "#Get the correlation between the class template minus the average template and the respective linear model gradient for each input\n",
    "corrs_grad_l = []\n",
    "for i in range(grad_l_0[0].shape[0]):\n",
    "    corrs_grad_l.append(pearsonr(np.reshape(grad_l_0[0][i],(-1)),np.reshape(diff_0,(-1)))[0])\n",
    "for i in range(grad_l_1[0].shape[0]):\n",
    "    corrs_grad_l.append(pearsonr(np.reshape(grad_l_1[0][i],(-1)),np.reshape(diff_1,(-1)))[0])\n",
    "for i in range(grad_l_2[0].shape[0]):\n",
    "    corrs_grad_l.append(pearsonr(np.reshape(grad_l_2[0][i],(-1)),np.reshape(diff_2,(-1)))[0])"
   ]
  },
  {
   "cell_type": "code",
   "execution_count": 154,
   "metadata": {},
   "outputs": [],
   "source": [
    "#Get the correlation between the class template minus the average template and the respective neural network gradient for each input\n",
    "corrs_grad_nn = []\n",
    "for i in range(grad_nn_0[0].shape[0]):\n",
    "    corrs_grad_nn.append(pearsonr(np.reshape(grad_nn_0[0][i],(-1)),np.reshape(diff_0,(-1)))[0])\n",
    "for i in range(grad_nn_1[0].shape[0]):\n",
    "    corrs_grad_nn.append(pearsonr(np.reshape(grad_nn_1[0][i],(-1)),np.reshape(diff_1,(-1)))[0])\n",
    "for i in range(grad_nn_2[0].shape[0]):\n",
    "    corrs_grad_nn.append(pearsonr(np.reshape(grad_nn_2[0][i],(-1)),np.reshape(diff_2,(-1)))[0])"
   ]
  },
  {
   "cell_type": "code",
   "execution_count": 155,
   "metadata": {},
   "outputs": [],
   "source": [
    "#Get the correlation between the class template minus the average template and the respective neural network gradient for each input\n",
    "corrs_gradxi_nn = []\n",
    "for i in range(gradxi_nn_0[0].shape[0]):\n",
    "    corrs_gradxi_nn.append(pearsonr(np.reshape(gradxi_nn_0[0][i],(-1)),np.reshape(diff_0,(-1)))[0])\n",
    "for i in range(gradxi_nn_1[0].shape[0]):\n",
    "    corrs_gradxi_nn.append(pearsonr(np.reshape(gradxi_nn_1[0][i],(-1)),np.reshape(diff_1,(-1)))[0])\n",
    "for i in range(gradxi_nn_2[0].shape[0]):\n",
    "    corrs_gradxi_nn.append(pearsonr(np.reshape(gradxi_nn_2[0][i],(-1)),np.reshape(diff_2,(-1)))[0])"
   ]
  },
  {
   "cell_type": "code",
   "execution_count": 156,
   "metadata": {},
   "outputs": [],
   "source": [
    "#Get the correlation between the class template minus the average template and the respective neural network trained with spherical noise gradient for each input\n",
    "corrs_grad_sph = []\n",
    "for i in range(grad_sph_0[0].shape[0]):\n",
    "    corrs_grad_sph.append(pearsonr(np.reshape(grad_sph_0[0][i],(-1)),np.reshape(diff_0,(-1)))[0])\n",
    "for i in range(grad_sph_1[0].shape[0]):\n",
    "    corrs_grad_sph.append(pearsonr(np.reshape(grad_sph_1[0][i],(-1)),np.reshape(diff_1,(-1)))[0])\n",
    "for i in range(grad_sph_2[0].shape[0]):\n",
    "    corrs_grad_sph.append(pearsonr(np.reshape(grad_sph_2[0][i],(-1)),np.reshape(diff_2,(-1)))[0])"
   ]
  },
  {
   "cell_type": "code",
   "execution_count": 157,
   "metadata": {},
   "outputs": [],
   "source": [
    "#Get the correlation between the class template minus the average template and the respective neural network SmoothGrad gradient for each input\n",
    "corrs_grad_sg = []\n",
    "for i in range(grad_sg_0[0].shape[0]):\n",
    "    corrs_grad_sg.append(pearsonr(np.reshape(grad_sg_0[0][i],(-1)),np.reshape(diff_0,(-1)))[0])\n",
    "for i in range(grad_sg_1[0].shape[0]):\n",
    "    corrs_grad_sg.append(pearsonr(np.reshape(grad_sg_1[0][i],(-1)),np.reshape(diff_1,(-1)))[0])\n",
    "for i in range(grad_sg_2[0].shape[0]):\n",
    "    corrs_grad_sg.append(pearsonr(np.reshape(grad_sg_2[0][i],(-1)),np.reshape(diff_2,(-1)))[0])"
   ]
  },
  {
   "cell_type": "code",
   "execution_count": 158,
   "metadata": {},
   "outputs": [],
   "source": [
    "#Get the correlation between the class template minus the average template and the respective neural network with adversarial training gradient for each input\n",
    "corrs_grad_adv = []\n",
    "for i in range(grad_adv_0[0].shape[0]):\n",
    "    corrs_grad_adv.append(pearsonr(np.reshape(grad_adv_0[0][i],(-1)),np.reshape(diff_0,(-1)))[0])\n",
    "for i in range(grad_adv_1[0].shape[0]):\n",
    "    corrs_grad_adv.append(pearsonr(np.reshape(grad_adv_1[0][i],(-1)),np.reshape(diff_1,(-1)))[0])\n",
    "for i in range(grad_adv_2[0].shape[0]):\n",
    "    corrs_grad_adv.append(pearsonr(np.reshape(grad_adv_2[0][i],(-1)),np.reshape(diff_2,(-1)))[0])"
   ]
  },
  {
   "cell_type": "code",
   "execution_count": 159,
   "metadata": {},
   "outputs": [
    {
     "data": {
      "text/plain": [
       "Ttest_relResult(statistic=-83.09224148638909, pvalue=2.2256118359168757e-93)"
      ]
     },
     "execution_count": 159,
     "metadata": {},
     "output_type": "execute_result"
    }
   ],
   "source": [
    "#Perform a paired t-test of the respective template correlation across inputs for the weights and the linear model gradients\n",
    "ttest_rel(corrs_weights,corrs_grad_l)"
   ]
  },
  {
   "cell_type": "code",
   "execution_count": 160,
   "metadata": {},
   "outputs": [
    {
     "data": {
      "text/plain": [
       "Ttest_relResult(statistic=-28.24585231690966, pvalue=3.570494394276192e-49)"
      ]
     },
     "execution_count": 160,
     "metadata": {},
     "output_type": "execute_result"
    }
   ],
   "source": [
    "#Perform a paired t-test of the respective template correlation across inputs for the weights and the neural network gradients\n",
    "ttest_rel(corrs_weights,corrs_grad_nn)"
   ]
  },
  {
   "cell_type": "code",
   "execution_count": 161,
   "metadata": {},
   "outputs": [
    {
     "data": {
      "text/plain": [
       "Ttest_relResult(statistic=-8.051028419512663, pvalue=1.8660315648927948e-12)"
      ]
     },
     "execution_count": 161,
     "metadata": {},
     "output_type": "execute_result"
    }
   ],
   "source": [
    "#Perform a paired t-test of the respective template correlation across inputs for the weights and the neural network gradientsxinputs\n",
    "ttest_rel(corrs_weights,corrs_gradxi_nn)"
   ]
  },
  {
   "cell_type": "code",
   "execution_count": 162,
   "metadata": {},
   "outputs": [
    {
     "data": {
      "text/plain": [
       "Ttest_relResult(statistic=-55.90898818552144, pvalue=1.0534526126106602e-76)"
      ]
     },
     "execution_count": 162,
     "metadata": {},
     "output_type": "execute_result"
    }
   ],
   "source": [
    "#Perform a paired t-test of the respective template correlation across inputs for the weights and the neural network trained with spherical noise gradients\n",
    "ttest_rel(corrs_weights,corrs_grad_sph)"
   ]
  },
  {
   "cell_type": "code",
   "execution_count": 163,
   "metadata": {},
   "outputs": [
    {
     "data": {
      "text/plain": [
       "Ttest_relResult(statistic=-34.80349282264444, pvalue=2.478005630368048e-57)"
      ]
     },
     "execution_count": 163,
     "metadata": {},
     "output_type": "execute_result"
    }
   ],
   "source": [
    "#Perform a paired t-test of the respective template correlation across inputs for the weights and the neural network SmoothGrad gradients\n",
    "ttest_rel(corrs_weights,corrs_grad_sg)"
   ]
  },
  {
   "cell_type": "code",
   "execution_count": 164,
   "metadata": {},
   "outputs": [
    {
     "data": {
      "text/plain": [
       "Ttest_relResult(statistic=-74.11201388091794, pvalue=1.540880226604568e-88)"
      ]
     },
     "execution_count": 164,
     "metadata": {},
     "output_type": "execute_result"
    }
   ],
   "source": [
    "#Perform a paired t-test of the respective template correlation across inputs for the weights and the neural network with adversarial training gradients\n",
    "ttest_rel(corrs_weights,corrs_grad_adv)"
   ]
  },
  {
   "cell_type": "code",
   "execution_count": 165,
   "metadata": {},
   "outputs": [
    {
     "data": {
      "text/plain": [
       "Ttest_relResult(statistic=-9.32152962190678, pvalue=3.3041500593223068e-15)"
      ]
     },
     "execution_count": 165,
     "metadata": {},
     "output_type": "execute_result"
    }
   ],
   "source": [
    "#Perform a paired t-test of the respective template correlation across inputs for the linear model gradients and the neural network gradients\n",
    "ttest_rel(corrs_grad_l,corrs_grad_nn)"
   ]
  },
  {
   "cell_type": "code",
   "execution_count": 166,
   "metadata": {},
   "outputs": [
    {
     "data": {
      "text/plain": [
       "Ttest_relResult(statistic=10.023088529238883, pvalue=9.741926966572696e-17)"
      ]
     },
     "execution_count": 166,
     "metadata": {},
     "output_type": "execute_result"
    }
   ],
   "source": [
    "#Perform a paired t-test of the respective template correlation across inputs for the linear model gradientsxinputs and the neural network gradients\n",
    "ttest_rel(corrs_grad_l,corrs_gradxi_nn)"
   ]
  },
  {
   "cell_type": "code",
   "execution_count": 167,
   "metadata": {},
   "outputs": [
    {
     "data": {
      "text/plain": [
       "Ttest_relResult(statistic=-24.501998267069713, pvalue=8.074006066397234e-44)"
      ]
     },
     "execution_count": 167,
     "metadata": {},
     "output_type": "execute_result"
    }
   ],
   "source": [
    "#Perform a paired t-test of the respective template correlation across inputs for the linear model gradients and the neural network trained with spherical noise gradients\n",
    "ttest_rel(corrs_grad_l,corrs_grad_sph)"
   ]
  },
  {
   "cell_type": "code",
   "execution_count": 168,
   "metadata": {},
   "outputs": [
    {
     "data": {
      "text/plain": [
       "Ttest_relResult(statistic=-13.255405035576665, pvalue=1.1419933504794899e-23)"
      ]
     },
     "execution_count": 168,
     "metadata": {},
     "output_type": "execute_result"
    }
   ],
   "source": [
    "#Perform a paired t-test of the respective template correlation across inputs for the linear model gradients and the neural network SmoothGrad gradients\n",
    "ttest_rel(corrs_grad_l,corrs_grad_sg)"
   ]
  },
  {
   "cell_type": "code",
   "execution_count": 169,
   "metadata": {},
   "outputs": [
    {
     "data": {
      "text/plain": [
       "Ttest_relResult(statistic=-51.6039511098482, pvalue=2.261588195988779e-73)"
      ]
     },
     "execution_count": 169,
     "metadata": {},
     "output_type": "execute_result"
    }
   ],
   "source": [
    "#Perform a paired t-test of the respective template correlation across inputs for the linear model gradients and the neural network with adversarial training gradients\n",
    "ttest_rel(corrs_grad_l,corrs_grad_adv)"
   ]
  },
  {
   "cell_type": "code",
   "execution_count": 170,
   "metadata": {},
   "outputs": [
    {
     "data": {
      "text/plain": [
       "Ttest_relResult(statistic=22.43071282653318, pvalue=1.3496359870171175e-40)"
      ]
     },
     "execution_count": 170,
     "metadata": {},
     "output_type": "execute_result"
    }
   ],
   "source": [
    "#Perform a paired t-test of the respective template correlation across inputs for the neural network gradients and the neural network gradientsxinputs\n",
    "ttest_rel(corrs_grad_nn,corrs_gradxi_nn)"
   ]
  },
  {
   "cell_type": "code",
   "execution_count": 171,
   "metadata": {},
   "outputs": [
    {
     "data": {
      "text/plain": [
       "Ttest_relResult(statistic=-5.544232614865957, pvalue=2.4538260625522476e-07)"
      ]
     },
     "execution_count": 171,
     "metadata": {},
     "output_type": "execute_result"
    }
   ],
   "source": [
    "#Perform a paired t-test of the respective template correlation across inputs for the neural network gradients and the neural network trained with spherical noise gradients\n",
    "ttest_rel(corrs_grad_nn,corrs_grad_sph)"
   ]
  },
  {
   "cell_type": "code",
   "execution_count": 172,
   "metadata": {},
   "outputs": [
    {
     "data": {
      "text/plain": [
       "Ttest_relResult(statistic=-8.735682240413807, pvalue=6.215410800605377e-14)"
      ]
     },
     "execution_count": 172,
     "metadata": {},
     "output_type": "execute_result"
    }
   ],
   "source": [
    "#Perform a paired t-test of the respective template correlation across inputs for the neural network gradients and the neural network SmoothGrad gradients\n",
    "ttest_rel(corrs_grad_nn,corrs_grad_sg)"
   ]
  },
  {
   "cell_type": "code",
   "execution_count": 173,
   "metadata": {},
   "outputs": [
    {
     "data": {
      "text/plain": [
       "Ttest_relResult(statistic=-35.573739135824376, pvalue=3.3261425164229786e-58)"
      ]
     },
     "execution_count": 173,
     "metadata": {},
     "output_type": "execute_result"
    }
   ],
   "source": [
    "#Perform a paired t-test of the respective template correlation across inputs for the neural network gradients and the neural network with adversarial training gradients\n",
    "ttest_rel(corrs_grad_nn,corrs_grad_adv)"
   ]
  },
  {
   "cell_type": "code",
   "execution_count": 174,
   "metadata": {},
   "outputs": [
    {
     "data": {
      "text/plain": [
       "Ttest_relResult(statistic=-24.003721757333665, pvalue=4.617819426833405e-43)"
      ]
     },
     "execution_count": 174,
     "metadata": {},
     "output_type": "execute_result"
    }
   ],
   "source": [
    "#Perform a paired t-test of the respective template correlation across inputs for the neural network gradientsxinputs and the neural network trained with spherical noise gradients\n",
    "ttest_rel(corrs_gradxi_nn,corrs_grad_sph)"
   ]
  },
  {
   "cell_type": "code",
   "execution_count": 175,
   "metadata": {},
   "outputs": [
    {
     "data": {
      "text/plain": [
       "Ttest_relResult(statistic=-25.08634307879646, pvalue=1.0787788964033098e-44)"
      ]
     },
     "execution_count": 175,
     "metadata": {},
     "output_type": "execute_result"
    }
   ],
   "source": [
    "#Perform a paired t-test of the respective template correlation across inputs for the neural network gradientsxinputs and the neural network SmoothGrad gradients\n",
    "ttest_rel(corrs_gradxi_nn,corrs_grad_sg)"
   ]
  },
  {
   "cell_type": "code",
   "execution_count": 176,
   "metadata": {},
   "outputs": [
    {
     "data": {
      "text/plain": [
       "Ttest_relResult(statistic=-50.29088397716569, pvalue=2.644033048716793e-72)"
      ]
     },
     "execution_count": 176,
     "metadata": {},
     "output_type": "execute_result"
    }
   ],
   "source": [
    "#Perform a paired t-test of the respective template correlation across inputs for the neural network gradientsxinputs and the neural network with adversarial training gradients\n",
    "ttest_rel(corrs_gradxi_nn,corrs_grad_adv)"
   ]
  },
  {
   "cell_type": "code",
   "execution_count": 177,
   "metadata": {},
   "outputs": [
    {
     "data": {
      "text/plain": [
       "Ttest_relResult(statistic=2.945125035368163, pvalue=0.00402383169367705)"
      ]
     },
     "execution_count": 177,
     "metadata": {},
     "output_type": "execute_result"
    }
   ],
   "source": [
    "#Perform a paired t-test of the respective template correlation across inputs for the neural network trained with spherical gradients and the neural network SmoothGrad gradients\n",
    "ttest_rel(corrs_grad_sph,corrs_grad_sg)"
   ]
  },
  {
   "cell_type": "code",
   "execution_count": 178,
   "metadata": {},
   "outputs": [
    {
     "data": {
      "text/plain": [
       "Ttest_relResult(statistic=-31.425385626995453, pvalue=2.646829501329114e-53)"
      ]
     },
     "execution_count": 178,
     "metadata": {},
     "output_type": "execute_result"
    }
   ],
   "source": [
    "#Perform a paired t-test of the respective template correlation across inputs for the neural network trained with spherical gradients and the neural network with adversarial training gradients\n",
    "ttest_rel(corrs_grad_sph,corrs_grad_adv)"
   ]
  },
  {
   "cell_type": "code",
   "execution_count": 179,
   "metadata": {},
   "outputs": [
    {
     "data": {
      "text/plain": [
       "Ttest_relResult(statistic=-35.266816242323664, pvalue=7.37095322486843e-58)"
      ]
     },
     "execution_count": 179,
     "metadata": {},
     "output_type": "execute_result"
    }
   ],
   "source": [
    "#Perform a paired t-test of the respective template correlation across inputs for the neural network SmoothGrad gradients and the neural network with adversarial training gradients\n",
    "ttest_rel(corrs_grad_sg,corrs_grad_adv)"
   ]
  },
  {
   "cell_type": "code",
   "execution_count": 180,
   "metadata": {},
   "outputs": [
    {
     "data": {
      "text/plain": [
       "0.33140997091185886"
      ]
     },
     "execution_count": 180,
     "metadata": {},
     "output_type": "execute_result"
    }
   ],
   "source": [
    "#Get average correlation between the incorrect class weights and the respective template difference map for class 0 inputs\n",
    "np.array([pearsonr(np.reshape(weights_l_0_1[0].mean(axis=0),(-1)),np.reshape(temp_1-temp_0,(-1)))[0],\n",
    "pearsonr(np.reshape(weights_l_0_2[0].mean(axis=0),(-1)),np.reshape(temp_2-temp_0,(-1)))[0],\n",
    "pearsonr(np.reshape(weights_l_1_0[0].mean(axis=0),(-1)),np.reshape(temp_0-temp_1,(-1)))[0],\n",
    "pearsonr(np.reshape(weights_l_1_2[0].mean(axis=0),(-1)),np.reshape(temp_2-temp_1,(-1)))[0],\n",
    "pearsonr(np.reshape(weights_l_2_0[0].mean(axis=0),(-1)),np.reshape(temp_0-temp_2,(-1)))[0],\n",
    "pearsonr(np.reshape(weights_l_2_1[0].mean(axis=0),(-1)),np.reshape(temp_1-temp_2,(-1)))[0]]).mean()"
   ]
  },
  {
   "cell_type": "code",
   "execution_count": 181,
   "metadata": {},
   "outputs": [
    {
     "data": {
      "text/plain": [
       "0.5424238322391697"
      ]
     },
     "execution_count": 181,
     "metadata": {},
     "output_type": "execute_result"
    }
   ],
   "source": [
    "#Get average correlation between the incorrect class linear model gradient and the respective template difference map for class 0 inputs\n",
    "np.array([pearsonr(np.reshape(grad_l_0_1[0].mean(axis=0),(-1)),np.reshape(temp_1-temp_0,(-1)))[0],\n",
    "pearsonr(np.reshape(grad_l_0_2[0].mean(axis=0),(-1)),np.reshape(temp_2-temp_0,(-1)))[0],\n",
    "pearsonr(np.reshape(grad_l_1_0[0].mean(axis=0),(-1)),np.reshape(temp_0-temp_1,(-1)))[0],\n",
    "pearsonr(np.reshape(grad_l_1_2[0].mean(axis=0),(-1)),np.reshape(temp_2-temp_1,(-1)))[0],\n",
    "pearsonr(np.reshape(grad_l_2_0[0].mean(axis=0),(-1)),np.reshape(temp_0-temp_2,(-1)))[0],\n",
    "pearsonr(np.reshape(grad_l_2_1[0].mean(axis=0),(-1)),np.reshape(temp_1-temp_2,(-1)))[0]]).mean()"
   ]
  },
  {
   "cell_type": "code",
   "execution_count": 182,
   "metadata": {},
   "outputs": [
    {
     "data": {
      "text/plain": [
       "0.6877737338320089"
      ]
     },
     "execution_count": 182,
     "metadata": {},
     "output_type": "execute_result"
    }
   ],
   "source": [
    "#Get average correlation between the incorrect class neural network gradient and the respective template difference map for class 0 inputs\n",
    "np.array([pearsonr(np.reshape(grad_nn_0_1[0].mean(axis=0),(-1)),np.reshape(temp_1-temp_0,(-1)))[0],\n",
    "pearsonr(np.reshape(grad_nn_0_2[0].mean(axis=0),(-1)),np.reshape(temp_2-temp_0,(-1)))[0],\n",
    "pearsonr(np.reshape(grad_nn_1_0[0].mean(axis=0),(-1)),np.reshape(temp_0-temp_1,(-1)))[0],\n",
    "pearsonr(np.reshape(grad_nn_1_2[0].mean(axis=0),(-1)),np.reshape(temp_2-temp_1,(-1)))[0],\n",
    "pearsonr(np.reshape(grad_nn_2_0[0].mean(axis=0),(-1)),np.reshape(temp_0-temp_2,(-1)))[0],\n",
    "pearsonr(np.reshape(grad_nn_2_1[0].mean(axis=0),(-1)),np.reshape(temp_1-temp_2,(-1)))[0]]).mean()"
   ]
  },
  {
   "cell_type": "code",
   "execution_count": 183,
   "metadata": {},
   "outputs": [
    {
     "data": {
      "text/plain": [
       "0.6467510839707437"
      ]
     },
     "execution_count": 183,
     "metadata": {},
     "output_type": "execute_result"
    }
   ],
   "source": [
    "#Get average correlation between the incorrect class neural network gradient and the respective template difference map for class 0 inputs\n",
    "np.array([pearsonr(np.reshape(gradxi_nn_0_1[0].mean(axis=0),(-1)),np.reshape(temp_1-temp_0,(-1)))[0],\n",
    "pearsonr(np.reshape(gradxi_nn_0_2[0].mean(axis=0),(-1)),np.reshape(temp_2-temp_0,(-1)))[0],\n",
    "pearsonr(np.reshape(gradxi_nn_1_0[0].mean(axis=0),(-1)),np.reshape(temp_0-temp_1,(-1)))[0],\n",
    "pearsonr(np.reshape(gradxi_nn_1_2[0].mean(axis=0),(-1)),np.reshape(temp_2-temp_1,(-1)))[0],\n",
    "pearsonr(np.reshape(gradxi_nn_2_0[0].mean(axis=0),(-1)),np.reshape(temp_0-temp_2,(-1)))[0],\n",
    "pearsonr(np.reshape(gradxi_nn_2_1[0].mean(axis=0),(-1)),np.reshape(temp_1-temp_2,(-1)))[0]]).mean()"
   ]
  },
  {
   "cell_type": "code",
   "execution_count": 184,
   "metadata": {},
   "outputs": [
    {
     "data": {
      "text/plain": [
       "0.7210360197159623"
      ]
     },
     "execution_count": 184,
     "metadata": {},
     "output_type": "execute_result"
    }
   ],
   "source": [
    "#Get average correlation between the incorrect class neural network trained with spherical noise gradient and the respective template difference map for class 0 inputs\n",
    "np.array([pearsonr(np.reshape(grad_sph_0_1[0].mean(axis=0),(-1)),np.reshape(temp_1-temp_0,(-1)))[0],\n",
    "pearsonr(np.reshape(grad_sph_0_2[0].mean(axis=0),(-1)),np.reshape(temp_2-temp_0,(-1)))[0],\n",
    "pearsonr(np.reshape(grad_sph_1_0[0].mean(axis=0),(-1)),np.reshape(temp_0-temp_1,(-1)))[0],\n",
    "pearsonr(np.reshape(grad_sph_1_2[0].mean(axis=0),(-1)),np.reshape(temp_2-temp_1,(-1)))[0],\n",
    "pearsonr(np.reshape(grad_sph_2_0[0].mean(axis=0),(-1)),np.reshape(temp_0-temp_2,(-1)))[0],\n",
    "pearsonr(np.reshape(grad_sph_2_1[0].mean(axis=0),(-1)),np.reshape(temp_1-temp_2,(-1)))[0]]).mean()"
   ]
  },
  {
   "cell_type": "code",
   "execution_count": 185,
   "metadata": {},
   "outputs": [
    {
     "data": {
      "text/plain": [
       "0.6910307834592403"
      ]
     },
     "execution_count": 185,
     "metadata": {},
     "output_type": "execute_result"
    }
   ],
   "source": [
    "#Get average correlation between the incorrect class neural network SmoothGrad gradient and the respective template difference map for class 0 inputs\n",
    "np.array([pearsonr(np.reshape(grad_sg_0_1[0].mean(axis=0),(-1)),np.reshape(temp_1-temp_0,(-1)))[0],\n",
    "pearsonr(np.reshape(grad_sg_0_2[0].mean(axis=0),(-1)),np.reshape(temp_2-temp_0,(-1)))[0],\n",
    "pearsonr(np.reshape(grad_sg_1_0[0].mean(axis=0),(-1)),np.reshape(temp_0-temp_1,(-1)))[0],\n",
    "pearsonr(np.reshape(grad_sg_1_2[0].mean(axis=0),(-1)),np.reshape(temp_2-temp_1,(-1)))[0],\n",
    "pearsonr(np.reshape(grad_sg_2_0[0].mean(axis=0),(-1)),np.reshape(temp_0-temp_2,(-1)))[0],\n",
    "pearsonr(np.reshape(grad_sg_2_1[0].mean(axis=0),(-1)),np.reshape(temp_1-temp_2,(-1)))[0]]).mean()"
   ]
  },
  {
   "cell_type": "code",
   "execution_count": 186,
   "metadata": {},
   "outputs": [
    {
     "data": {
      "text/plain": [
       "0.9240285430390903"
      ]
     },
     "execution_count": 186,
     "metadata": {},
     "output_type": "execute_result"
    }
   ],
   "source": [
    "#Get average correlation between the incorrect class neural network with adversarial training gradient and the respective template difference map for class 0 inputs\n",
    "np.array([pearsonr(np.reshape(grad_adv_0_1[0].mean(axis=0),(-1)),np.reshape(temp_1-temp_0,(-1)))[0],\n",
    "pearsonr(np.reshape(grad_adv_0_2[0].mean(axis=0),(-1)),np.reshape(temp_2-temp_0,(-1)))[0],\n",
    "pearsonr(np.reshape(grad_adv_1_0[0].mean(axis=0),(-1)),np.reshape(temp_0-temp_1,(-1)))[0],\n",
    "pearsonr(np.reshape(grad_adv_1_2[0].mean(axis=0),(-1)),np.reshape(temp_2-temp_1,(-1)))[0],\n",
    "pearsonr(np.reshape(grad_adv_2_0[0].mean(axis=0),(-1)),np.reshape(temp_0-temp_2,(-1)))[0],\n",
    "pearsonr(np.reshape(grad_adv_2_1[0].mean(axis=0),(-1)),np.reshape(temp_1-temp_2,(-1)))[0]]).mean()"
   ]
  },
  {
   "cell_type": "code",
   "execution_count": 187,
   "metadata": {},
   "outputs": [],
   "source": [
    "#Get average correlation between the incorrect class weights and the respective template difference map for each input\n",
    "corrs_weights_diffs = []\n",
    "\n",
    "for i in range(weights_l_0_1[0].shape[0]):\n",
    "    corrs_tmp = 0\n",
    "    corrs_tmp += pearsonr(np.reshape(weights_l_0_1[0][i],(-1)),np.reshape(temp_1-temp_0,(-1)))[0]\n",
    "    corrs_tmp += pearsonr(np.reshape(weights_l_0_2[0][i],(-1)),np.reshape(temp_2-temp_0,(-1)))[0]\n",
    "    corrs_weights_diffs.append(corrs_tmp/2.0)\n",
    "    \n",
    "for i in range(weights_l_1_0[0].shape[0]):\n",
    "    corrs_tmp = 0\n",
    "    corrs_tmp += pearsonr(np.reshape(weights_l_1_0[0][i],(-1)),np.reshape(temp_0-temp_1,(-1)))[0]\n",
    "    corrs_tmp += pearsonr(np.reshape(weights_l_1_2[0][i],(-1)),np.reshape(temp_2-temp_1,(-1)))[0]\n",
    "    corrs_weights_diffs.append(corrs_tmp/2.0)\n",
    "for i in range(weights_l_2_0[0].shape[0]):    \n",
    "    corrs_tmp = 0\n",
    "    corrs_tmp += pearsonr(np.reshape(weights_l_2_0[0][i],(-1)),np.reshape(temp_0-temp_2,(-1)))[0]\n",
    "    corrs_tmp += pearsonr(np.reshape(weights_l_2_1[0][i],(-1)),np.reshape(temp_1-temp_2,(-1)))[0]\n",
    "    corrs_weights_diffs.append(corrs_tmp/2.0)"
   ]
  },
  {
   "cell_type": "code",
   "execution_count": 188,
   "metadata": {},
   "outputs": [],
   "source": [
    "#Get average correlation between the incorrect class linear model gradient and the respective template difference map for each input\n",
    "corrs_grad_l_diffs = []\n",
    "\n",
    "for i in range(grad_l_0_1[0].shape[0]):\n",
    "    corrs_tmp = 0\n",
    "    corrs_tmp += pearsonr(np.reshape(grad_l_0_1[0][i],(-1)),np.reshape(temp_1-temp_0,(-1)))[0]\n",
    "    corrs_tmp += pearsonr(np.reshape(grad_l_0_2[0][i],(-1)),np.reshape(temp_2-temp_0,(-1)))[0]\n",
    "    corrs_grad_l_diffs.append(corrs_tmp/2.0)\n",
    "    \n",
    "for i in range(grad_l_1_0[0].shape[0]):\n",
    "    corrs_tmp = 0\n",
    "    corrs_tmp += pearsonr(np.reshape(grad_l_1_0[0][i],(-1)),np.reshape(temp_0-temp_1,(-1)))[0]\n",
    "    corrs_tmp += pearsonr(np.reshape(grad_l_1_2[0][i],(-1)),np.reshape(temp_2-temp_1,(-1)))[0]\n",
    "    corrs_grad_l_diffs.append(corrs_tmp/2.0)\n",
    "for i in range(grad_l_2_0[0].shape[0]):    \n",
    "    corrs_tmp = 0\n",
    "    corrs_tmp += pearsonr(np.reshape(grad_l_2_0[0][i],(-1)),np.reshape(temp_0-temp_2,(-1)))[0]\n",
    "    corrs_tmp += pearsonr(np.reshape(grad_l_2_1[0][i],(-1)),np.reshape(temp_1-temp_2,(-1)))[0]\n",
    "    corrs_grad_l_diffs.append(corrs_tmp/2.0)"
   ]
  },
  {
   "cell_type": "code",
   "execution_count": 189,
   "metadata": {},
   "outputs": [],
   "source": [
    "#Get average correlation between the incorrect class neural network gradient and the respective template difference map for each input\n",
    "corrs_grad_nn_diffs = []\n",
    "\n",
    "for i in range(grad_nn_0_1[0].shape[0]):\n",
    "    corrs_tmp = 0\n",
    "    corrs_tmp += pearsonr(np.reshape(grad_nn_0_1[0][i],(-1)),np.reshape(temp_1-temp_0,(-1)))[0]\n",
    "    corrs_tmp += pearsonr(np.reshape(grad_nn_0_2[0][i],(-1)),np.reshape(temp_2-temp_0,(-1)))[0]\n",
    "    corrs_grad_nn_diffs.append(corrs_tmp/2.0)\n",
    "    \n",
    "for i in range(grad_nn_1_0[0].shape[0]):\n",
    "    corrs_tmp = 0\n",
    "    corrs_tmp += pearsonr(np.reshape(grad_nn_1_0[0][i],(-1)),np.reshape(temp_0-temp_1,(-1)))[0]\n",
    "    corrs_tmp += pearsonr(np.reshape(grad_nn_1_2[0][i],(-1)),np.reshape(temp_2-temp_1,(-1)))[0]\n",
    "    corrs_grad_nn_diffs.append(corrs_tmp/2.0)\n",
    "for i in range(grad_nn_2_0[0].shape[0]):    \n",
    "    corrs_tmp = 0\n",
    "    corrs_tmp += pearsonr(np.reshape(grad_nn_2_0[0][i],(-1)),np.reshape(temp_0-temp_2,(-1)))[0]\n",
    "    corrs_tmp += pearsonr(np.reshape(grad_nn_2_1[0][i],(-1)),np.reshape(temp_1-temp_2,(-1)))[0]\n",
    "    corrs_grad_nn_diffs.append(corrs_tmp/2.0)"
   ]
  },
  {
   "cell_type": "code",
   "execution_count": 190,
   "metadata": {},
   "outputs": [],
   "source": [
    "#Get average correlation between the incorrect class neural network gradient and the respective template difference map for each input\n",
    "corrs_gradxi_nn_diffs = []\n",
    "\n",
    "for i in range(gradxi_nn_0_1[0].shape[0]):\n",
    "    corrs_tmp = 0\n",
    "    corrs_tmp += pearsonr(np.reshape(gradxi_nn_0_1[0][i],(-1)),np.reshape(temp_1-temp_0,(-1)))[0]\n",
    "    corrs_tmp += pearsonr(np.reshape(gradxi_nn_0_2[0][i],(-1)),np.reshape(temp_2-temp_0,(-1)))[0]\n",
    "    corrs_gradxi_nn_diffs.append(corrs_tmp/2.0)\n",
    "    \n",
    "for i in range(gradxi_nn_1_0[0].shape[0]):\n",
    "    corrs_tmp = 0\n",
    "    corrs_tmp += pearsonr(np.reshape(gradxi_nn_1_0[0][i],(-1)),np.reshape(temp_0-temp_1,(-1)))[0]\n",
    "    corrs_tmp += pearsonr(np.reshape(gradxi_nn_1_2[0][i],(-1)),np.reshape(temp_2-temp_1,(-1)))[0]\n",
    "    corrs_gradxi_nn_diffs.append(corrs_tmp/2.0)\n",
    "for i in range(gradxi_nn_2_0[0].shape[0]):    \n",
    "    corrs_tmp = 0\n",
    "    corrs_tmp += pearsonr(np.reshape(gradxi_nn_2_0[0][i],(-1)),np.reshape(temp_0-temp_2,(-1)))[0]\n",
    "    corrs_tmp += pearsonr(np.reshape(gradxi_nn_2_1[0][i],(-1)),np.reshape(temp_1-temp_2,(-1)))[0]\n",
    "    corrs_gradxi_nn_diffs.append(corrs_tmp/2.0)"
   ]
  },
  {
   "cell_type": "code",
   "execution_count": 191,
   "metadata": {},
   "outputs": [],
   "source": [
    "#Get average correlation between the incorrect class neural network trained with spherical noise gradient and the respective template difference map for each input\n",
    "corrs_grad_sph_diffs = []\n",
    "\n",
    "for i in range(grad_sph_0_1[0].shape[0]):\n",
    "    corrs_tmp = 0\n",
    "    corrs_tmp += pearsonr(np.reshape(grad_sph_0_1[0][i],(-1)),np.reshape(temp_1-temp_0,(-1)))[0]\n",
    "    corrs_tmp += pearsonr(np.reshape(grad_sph_0_2[0][i],(-1)),np.reshape(temp_2-temp_0,(-1)))[0]\n",
    "    corrs_grad_sph_diffs.append(corrs_tmp/2.0)\n",
    "    \n",
    "for i in range(grad_sph_1_0[0].shape[0]):\n",
    "    corrs_tmp = 0\n",
    "    corrs_tmp += pearsonr(np.reshape(grad_sph_1_0[0][i],(-1)),np.reshape(temp_0-temp_1,(-1)))[0]\n",
    "    corrs_tmp += pearsonr(np.reshape(grad_sph_1_2[0][i],(-1)),np.reshape(temp_2-temp_1,(-1)))[0]\n",
    "    corrs_grad_sph_diffs.append(corrs_tmp/2.0)\n",
    "for i in range(grad_sph_2_0[0].shape[0]):    \n",
    "    corrs_tmp = 0\n",
    "    corrs_tmp += pearsonr(np.reshape(grad_sph_2_0[0][i],(-1)),np.reshape(temp_0-temp_2,(-1)))[0]\n",
    "    corrs_tmp += pearsonr(np.reshape(grad_sph_2_1[0][i],(-1)),np.reshape(temp_1-temp_2,(-1)))[0]\n",
    "    corrs_grad_sph_diffs.append(corrs_tmp/2.0)"
   ]
  },
  {
   "cell_type": "code",
   "execution_count": 192,
   "metadata": {},
   "outputs": [],
   "source": [
    "#Get average correlation between the incorrect class neural network SmoothGrad gradient and the respective template difference map for each input\n",
    "corrs_grad_sg_diffs = []\n",
    "\n",
    "for i in range(grad_sg_0_1[0].shape[0]):\n",
    "    corrs_tmp = 0\n",
    "    corrs_tmp += pearsonr(np.reshape(grad_sg_0_1[0][i],(-1)),np.reshape(temp_1-temp_0,(-1)))[0]\n",
    "    corrs_tmp += pearsonr(np.reshape(grad_sg_0_2[0][i],(-1)),np.reshape(temp_2-temp_0,(-1)))[0]\n",
    "    corrs_grad_sg_diffs.append(corrs_tmp/2.0)\n",
    "    \n",
    "for i in range(grad_sg_1_0[0].shape[0]):\n",
    "    corrs_tmp = 0\n",
    "    corrs_tmp += pearsonr(np.reshape(grad_sg_1_0[0][i],(-1)),np.reshape(temp_0-temp_1,(-1)))[0]\n",
    "    corrs_tmp += pearsonr(np.reshape(grad_sg_1_2[0][i],(-1)),np.reshape(temp_2-temp_1,(-1)))[0]\n",
    "    corrs_grad_sg_diffs.append(corrs_tmp/2.0)\n",
    "for i in range(grad_sg_2_0[0].shape[0]):    \n",
    "    corrs_tmp = 0\n",
    "    corrs_tmp += pearsonr(np.reshape(grad_sg_2_0[0][i],(-1)),np.reshape(temp_0-temp_2,(-1)))[0]\n",
    "    corrs_tmp += pearsonr(np.reshape(grad_sg_2_1[0][i],(-1)),np.reshape(temp_1-temp_2,(-1)))[0]\n",
    "    corrs_grad_sg_diffs.append(corrs_tmp/2.0)"
   ]
  },
  {
   "cell_type": "code",
   "execution_count": 193,
   "metadata": {},
   "outputs": [],
   "source": [
    "#Get average correlation between the incorrect class neural network with adversarial training gradient and the respective template difference map for each input\n",
    "\n",
    "corrs_grad_adv_diffs = []\n",
    "\n",
    "for i in range(grad_adv_0_1[0].shape[0]):\n",
    "    corrs_tmp = 0\n",
    "    corrs_tmp += pearsonr(np.reshape(grad_adv_0_1[0][i],(-1)),np.reshape(temp_1-temp_0,(-1)))[0]\n",
    "    corrs_tmp += pearsonr(np.reshape(grad_adv_0_2[0][i],(-1)),np.reshape(temp_2-temp_0,(-1)))[0]\n",
    "    corrs_grad_adv_diffs.append(corrs_tmp/2.0)\n",
    "    \n",
    "for i in range(grad_adv_1_0[0].shape[0]):\n",
    "    corrs_tmp = 0\n",
    "    corrs_tmp += pearsonr(np.reshape(grad_adv_1_0[0][i],(-1)),np.reshape(temp_0-temp_1,(-1)))[0]\n",
    "    corrs_tmp += pearsonr(np.reshape(grad_adv_1_2[0][i],(-1)),np.reshape(temp_2-temp_1,(-1)))[0]\n",
    "    corrs_grad_adv_diffs.append(corrs_tmp/2.0)\n",
    "for i in range(grad_adv_2_0[0].shape[0]):    \n",
    "    corrs_tmp = 0\n",
    "    corrs_tmp += pearsonr(np.reshape(grad_adv_2_0[0][i],(-1)),np.reshape(temp_0-temp_2,(-1)))[0]\n",
    "    corrs_tmp += pearsonr(np.reshape(grad_adv_2_1[0][i],(-1)),np.reshape(temp_1-temp_2,(-1)))[0]\n",
    "    corrs_grad_adv_diffs.append(corrs_tmp/2.0)"
   ]
  },
  {
   "cell_type": "code",
   "execution_count": 194,
   "metadata": {},
   "outputs": [
    {
     "data": {
      "text/plain": [
       "Ttest_relResult(statistic=-210.35856507293937, pvalue=4.638120532035828e-133)"
      ]
     },
     "execution_count": 194,
     "metadata": {},
     "output_type": "execute_result"
    }
   ],
   "source": [
    "#Perform a paired t-test of the respective template difference map correlation across inputs for the weights and the linear model gradients\n",
    "ttest_rel(corrs_weights_diffs,corrs_grad_l_diffs)"
   ]
  },
  {
   "cell_type": "code",
   "execution_count": 195,
   "metadata": {},
   "outputs": [
    {
     "data": {
      "text/plain": [
       "Ttest_relResult(statistic=-60.07108015353562, pvalue=1.0544081430607053e-79)"
      ]
     },
     "execution_count": 195,
     "metadata": {},
     "output_type": "execute_result"
    }
   ],
   "source": [
    "#Perform a paired t-test of the respective template difference map correlation across inputs for the weights and the neural network gradients\n",
    "ttest_rel(corrs_weights_diffs,corrs_grad_nn_diffs)"
   ]
  },
  {
   "cell_type": "code",
   "execution_count": 196,
   "metadata": {},
   "outputs": [
    {
     "data": {
      "text/plain": [
       "Ttest_relResult(statistic=-18.820964978170043, pvalue=1.784754448876153e-34)"
      ]
     },
     "execution_count": 196,
     "metadata": {},
     "output_type": "execute_result"
    }
   ],
   "source": [
    "#Perform a paired t-test of the respective template difference map correlation across inputs for the weights and the neural network gradientsxinputs\n",
    "ttest_rel(corrs_weights_diffs,corrs_gradxi_nn_diffs)"
   ]
  },
  {
   "cell_type": "code",
   "execution_count": 197,
   "metadata": {},
   "outputs": [
    {
     "data": {
      "text/plain": [
       "Ttest_relResult(statistic=-82.29399312763005, pvalue=5.7098710394629686e-93)"
      ]
     },
     "execution_count": 197,
     "metadata": {},
     "output_type": "execute_result"
    }
   ],
   "source": [
    "#Perform a paired t-test of the respective template difference map correlation across inputs for the weights and the neural network trained with spherical noise gradients\n",
    "ttest_rel(corrs_weights_diffs,corrs_grad_sph_diffs)"
   ]
  },
  {
   "cell_type": "code",
   "execution_count": 198,
   "metadata": {},
   "outputs": [
    {
     "data": {
      "text/plain": [
       "Ttest_relResult(statistic=-123.87055474566723, pvalue=2.2194135791684343e-110)"
      ]
     },
     "execution_count": 198,
     "metadata": {},
     "output_type": "execute_result"
    }
   ],
   "source": [
    "#Perform a paired t-test of the respective template difference map correlation across inputs for the weights and the neural network gradients\n",
    "ttest_rel(corrs_weights_diffs,corrs_grad_adv_diffs)"
   ]
  },
  {
   "cell_type": "code",
   "execution_count": 199,
   "metadata": {},
   "outputs": [
    {
     "data": {
      "text/plain": [
       "Ttest_relResult(statistic=-16.48024647448987, pvalue=3.909937837177022e-30)"
      ]
     },
     "execution_count": 199,
     "metadata": {},
     "output_type": "execute_result"
    }
   ],
   "source": [
    "#Perform a paired t-test of the respective template difference map correlation across inputs for the linear model gradients and the neural network gradients\n",
    "ttest_rel(corrs_grad_l_diffs,corrs_grad_nn_diffs)"
   ]
  },
  {
   "cell_type": "code",
   "execution_count": 200,
   "metadata": {},
   "outputs": [
    {
     "data": {
      "text/plain": [
       "Ttest_relResult(statistic=12.300501507407185, pvalue=1.1735305724731764e-21)"
      ]
     },
     "execution_count": 200,
     "metadata": {},
     "output_type": "execute_result"
    }
   ],
   "source": [
    "#Perform a paired t-test of the respective template difference map correlation across inputs for the linear model gradients and the neural network gradientsxinputs\n",
    "ttest_rel(corrs_grad_l_diffs,corrs_gradxi_nn_diffs)"
   ]
  },
  {
   "cell_type": "code",
   "execution_count": 201,
   "metadata": {},
   "outputs": [
    {
     "data": {
      "text/plain": [
       "Ttest_relResult(statistic=-31.94780870868321, pvalue=5.98193341150025e-54)"
      ]
     },
     "execution_count": 201,
     "metadata": {},
     "output_type": "execute_result"
    }
   ],
   "source": [
    "#Perform a paired t-test of the respective template difference map correlation across inputs for the linear model gradients and the neural network trained with spherical noise gradients\n",
    "ttest_rel(corrs_grad_l_diffs,corrs_grad_sph_diffs)"
   ]
  },
  {
   "cell_type": "code",
   "execution_count": 202,
   "metadata": {},
   "outputs": [
    {
     "data": {
      "text/plain": [
       "Ttest_relResult(statistic=-23.540180907516707, pvalue=2.393765308085415e-42)"
      ]
     },
     "execution_count": 202,
     "metadata": {},
     "output_type": "execute_result"
    }
   ],
   "source": [
    "#Perform a paired t-test of the respective template difference map correlation across inputs for the linear model gradients and the neural network SmoothGrad gradients\n",
    "ttest_rel(corrs_grad_l_diffs,corrs_grad_sg_diffs)"
   ]
  },
  {
   "cell_type": "code",
   "execution_count": 203,
   "metadata": {},
   "outputs": [
    {
     "data": {
      "text/plain": [
       "Ttest_relResult(statistic=-71.31214427410409, pvalue=6.507350105245597e-87)"
      ]
     },
     "execution_count": 203,
     "metadata": {},
     "output_type": "execute_result"
    }
   ],
   "source": [
    "#Perform a paired t-test of the respective template difference map correlation across inputs for the linear model gradients and the neural network with adversarial training gradients\n",
    "ttest_rel(corrs_grad_l_diffs,corrs_grad_adv_diffs)"
   ]
  },
  {
   "cell_type": "code",
   "execution_count": 204,
   "metadata": {},
   "outputs": [
    {
     "data": {
      "text/plain": [
       "Ttest_relResult(statistic=32.22462223578236, pvalue=2.7424041113852483e-54)"
      ]
     },
     "execution_count": 204,
     "metadata": {},
     "output_type": "execute_result"
    }
   ],
   "source": [
    "#Perform a paired t-test of the respective template difference map correlation across inputs for the neural network gradients and the neural network gradientsxinputs\n",
    "ttest_rel(corrs_grad_nn_diffs,corrs_gradxi_nn_diffs)"
   ]
  },
  {
   "cell_type": "code",
   "execution_count": 205,
   "metadata": {},
   "outputs": [
    {
     "data": {
      "text/plain": [
       "Ttest_relResult(statistic=-5.009912571662825, pvalue=2.381614214830534e-06)"
      ]
     },
     "execution_count": 205,
     "metadata": {},
     "output_type": "execute_result"
    }
   ],
   "source": [
    "#Perform a paired t-test of the respective template difference map correlation across inputs for the neural network gradients and the neural network trained with spherical noise gradients\n",
    "ttest_rel(corrs_grad_nn_diffs,corrs_grad_sph_diffs)"
   ]
  },
  {
   "cell_type": "code",
   "execution_count": 206,
   "metadata": {},
   "outputs": [
    {
     "data": {
      "text/plain": [
       "Ttest_relResult(statistic=-9.110795138989058, pvalue=9.50944332698592e-15)"
      ]
     },
     "execution_count": 206,
     "metadata": {},
     "output_type": "execute_result"
    }
   ],
   "source": [
    "#Perform a paired t-test of the respective template difference map correlation across inputs for the neural network gradients and the neural network SmoothGrad gradients\n",
    "ttest_rel(corrs_grad_nn_diffs,corrs_grad_sg_diffs)"
   ]
  },
  {
   "cell_type": "code",
   "execution_count": 207,
   "metadata": {},
   "outputs": [
    {
     "data": {
      "text/plain": [
       "Ttest_relResult(statistic=-50.37974669134708, pvalue=2.23454293715953e-72)"
      ]
     },
     "execution_count": 207,
     "metadata": {},
     "output_type": "execute_result"
    }
   ],
   "source": [
    "#Perform a paired t-test of the respective template difference map correlation across inputs for the neural network gradients and the neural network with adversarial training gradients\n",
    "ttest_rel(corrs_grad_nn_diffs,corrs_grad_adv_diffs)"
   ]
  },
  {
   "cell_type": "code",
   "execution_count": 208,
   "metadata": {},
   "outputs": [
    {
     "data": {
      "text/plain": [
       "Ttest_relResult(statistic=-28.6071381965137, pvalue=1.1623336962621253e-49)"
      ]
     },
     "execution_count": 208,
     "metadata": {},
     "output_type": "execute_result"
    }
   ],
   "source": [
    "#Perform a paired t-test of the respective template difference map correlation across inputs for the neural network gradientsxinputs and the neural network trained with spherical noise gradients\n",
    "ttest_rel(corrs_gradxi_nn_diffs,corrs_grad_sph_diffs)"
   ]
  },
  {
   "cell_type": "code",
   "execution_count": 209,
   "metadata": {},
   "outputs": [
    {
     "data": {
      "text/plain": [
       "Ttest_relResult(statistic=-33.970639580198316, pvalue=2.2689224351174987e-56)"
      ]
     },
     "execution_count": 209,
     "metadata": {},
     "output_type": "execute_result"
    }
   ],
   "source": [
    "#Perform a paired t-test of the respective template difference map correlation across inputs for the neural network gradientsxinputs and the neural network SmoothGrad gradients\n",
    "ttest_rel(corrs_gradxi_nn_diffs,corrs_grad_sg_diffs)"
   ]
  },
  {
   "cell_type": "code",
   "execution_count": 210,
   "metadata": {},
   "outputs": [
    {
     "data": {
      "text/plain": [
       "Ttest_relResult(statistic=-64.15423809072745, pvalue=1.843902362767224e-82)"
      ]
     },
     "execution_count": 210,
     "metadata": {},
     "output_type": "execute_result"
    }
   ],
   "source": [
    "#Perform a paired t-test of the respective template difference map correlation across inputs for the neural network gradientsxinputs and the neural network with adversarial training gradients\n",
    "ttest_rel(corrs_gradxi_nn_diffs,corrs_grad_adv_diffs)"
   ]
  },
  {
   "cell_type": "code",
   "execution_count": 211,
   "metadata": {},
   "outputs": [
    {
     "data": {
      "text/plain": [
       "Ttest_relResult(statistic=2.1580832254275673, pvalue=0.03333960899475801)"
      ]
     },
     "execution_count": 211,
     "metadata": {},
     "output_type": "execute_result"
    }
   ],
   "source": [
    "#Perform a paired t-test of the respective template difference map correlation across inputs for the neural network trained with spherical noise gradients and the neural network SmoothGrad gradients\n",
    "ttest_rel(corrs_grad_sph_diffs,corrs_grad_sg_diffs)"
   ]
  },
  {
   "cell_type": "code",
   "execution_count": 212,
   "metadata": {},
   "outputs": [
    {
     "data": {
      "text/plain": [
       "Ttest_relResult(statistic=-43.576367675930975, pvalue=2.0863218647449348e-66)"
      ]
     },
     "execution_count": 212,
     "metadata": {},
     "output_type": "execute_result"
    }
   ],
   "source": [
    "#Perform a paired t-test of the respective template difference map correlation across inputs for the neural network trained with spherical noise gradients and the neural network with adversarial training gradients\n",
    "ttest_rel(corrs_grad_sph_diffs,corrs_grad_adv_diffs)"
   ]
  },
  {
   "cell_type": "code",
   "execution_count": 213,
   "metadata": {},
   "outputs": [
    {
     "data": {
      "text/plain": [
       "Ttest_relResult(statistic=-53.12690693564429, pvalue=1.402960301542435e-74)"
      ]
     },
     "execution_count": 213,
     "metadata": {},
     "output_type": "execute_result"
    }
   ],
   "source": [
    "#Perform a paired t-test of the respective template difference map correlation across inputs for the neural network SmoothGrad gradients and the neural network with adversarial training gradients\n",
    "ttest_rel(corrs_grad_sg_diffs,corrs_grad_adv_diffs)"
   ]
  }
 ],
 "metadata": {
  "kernelspec": {
   "display_name": "Python 3",
   "language": "python",
   "name": "python3"
  },
  "language_info": {
   "codemirror_mode": {
    "name": "ipython",
    "version": 3
   },
   "file_extension": ".py",
   "mimetype": "text/x-python",
   "name": "python",
   "nbconvert_exporter": "python",
   "pygments_lexer": "ipython3",
   "version": "3.6.7"
  }
 },
 "nbformat": 4,
 "nbformat_minor": 4
}
