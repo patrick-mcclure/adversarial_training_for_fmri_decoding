{
 "cells": [
  {
   "cell_type": "code",
   "execution_count": 1,
   "metadata": {},
   "outputs": [
    {
     "name": "stdout",
     "output_type": "stream",
     "text": [
      "env: CUDA_VISIBLE_DEVICES=\"\"\n"
     ]
    }
   ],
   "source": [
    "%env CUDA_VISIBLE_DEVICES=\"\""
   ]
  },
  {
   "cell_type": "code",
   "execution_count": 2,
   "metadata": {},
   "outputs": [],
   "source": [
    "import numpy as np\n",
    "import tensorflow as tf\n",
    "import tensorflow.keras.backend as K\n",
    "from tensorflow.python.ops import array_ops\n",
    "from tensorflow.python.ops import math_ops\n",
    "from tensorflow import gradients\n",
    "import matplotlib.pyplot as plt\n",
    "%matplotlib inline"
   ]
  },
  {
   "cell_type": "code",
   "execution_count": 3,
   "metadata": {},
   "outputs": [],
   "source": [
    "#Load the input data, their corresponding class labels, and the ROI mask\n",
    "data = np.load(\"data/data.npy\")\n",
    "labels= np.load(\"data/labels.npy\")\n",
    "rois = np.load(\"data/maskROI.npy\")"
   ]
  },
  {
   "cell_type": "code",
   "execution_count": 4,
   "metadata": {},
   "outputs": [],
   "source": [
    "#Randomly split the data\n",
    "index = np.random.RandomState(seed=1).permutation(9000)\n",
    "all_data = data[index]\n",
    "all_labels = labels[index]\n",
    "train_data = all_data[0:8800]\n",
    "train_labels= all_labels[0:8800][:,0]-1\n",
    "val_data = all_data[8800:8900]\n",
    "val_labels= all_labels[8800:8900][:,0]-1\n",
    "test_data = all_data[8900:9000]\n",
    "test_labels= all_labels[8900:9000][:,0]-1"
   ]
  },
  {
   "cell_type": "code",
   "execution_count": 5,
   "metadata": {},
   "outputs": [],
   "source": [
    "#Get indices for inputs from each class\n",
    "where_train_0 = np.where(train_labels==0)\n",
    "where_train_1 = np.where(train_labels==1)\n",
    "where_train_2 = np.where(train_labels==2)\n",
    "where_val_0 = np.where(val_labels==0)\n",
    "where_val_1 = np.where(val_labels==1)\n",
    "where_val_2 = np.where(val_labels==2)\n",
    "where_test_0 = np.where(test_labels==0)\n",
    "where_test_1 = np.where(test_labels==1)\n",
    "where_test_2 = np.where(test_labels==2)"
   ]
  },
  {
   "cell_type": "code",
   "execution_count": 6,
   "metadata": {},
   "outputs": [],
   "source": [
    "#Load the template images for the three classes\n",
    "temp_0 = np.load(\"data/classPrototype1.npy\")\n",
    "temp_1 = np.load(\"data/classPrototype2.npy\")\n",
    "temp_2 = np.load(\"data/classPrototype3.npy\")\n",
    "temp_avg = (temp_0+temp_1+temp_2)/3.0"
   ]
  },
  {
   "cell_type": "code",
   "execution_count": 7,
   "metadata": {},
   "outputs": [
    {
     "data": {
      "text/plain": [
       "<matplotlib.image.AxesImage at 0x7fb58250cb70>"
      ]
     },
     "execution_count": 7,
     "metadata": {},
     "output_type": "execute_result"
    },
    {
     "data": {
      "image/png": "[encoded data removed]",
      "text/plain": [
       "<Figure size 288x288 with 1 Axes>"
      ]
     },
     "metadata": {
      "needs_background": "light"
     },
     "output_type": "display_data"
    },
    {
     "data": {
      "image/png": "[encoded data removed]",
      "text/plain": [
       "<Figure size 288x288 with 1 Axes>"
      ]
     },
     "metadata": {
      "needs_background": "light"
     },
     "output_type": "display_data"
    },
    {
     "data": {
      "image/png": "[encoded data removed]",
      "text/plain": [
       "<Figure size 288x288 with 1 Axes>"
      ]
     },
     "metadata": {
      "needs_background": "light"
     },
     "output_type": "display_data"
    },
    {
     "data": {
      "image/png": "[encoded data removed]",
      "text/plain": [
       "<Figure size 288x288 with 1 Axes>"
      ]
     },
     "metadata": {
      "needs_background": "light"
     },
     "output_type": "display_data"
    }
   ],
   "source": [
    "#Plot the three template images and the averge template image\n",
    "clim = np.abs(temp_0).max()\n",
    "plt.matshow(temp_0,cmap='seismic',vmin=-1.0*clim,vmax=clim)\n",
    "clim = np.abs(temp_1).max()\n",
    "plt.matshow(temp_1,cmap='seismic',vmin=-1.0*clim,vmax=clim)\n",
    "clim = np.abs(temp_2).max()\n",
    "plt.matshow(temp_2,cmap='seismic',vmin=-1.0*clim,vmax=clim)\n",
    "clim = np.abs(temp_avg).max()\n",
    "plt.matshow(temp_avg,cmap='seismic',vmin=-1.0*clim,vmax=clim)"
   ]
  },
  {
   "cell_type": "code",
   "execution_count": 8,
   "metadata": {},
   "outputs": [],
   "source": [
    "#Get difference maps for the avg template with respect to the other templates\n",
    "diff_0 = temp_0 - temp_avg\n",
    "diff_1 = temp_1 - temp_avg\n",
    "diff_2 = temp_2 - temp_avg"
   ]
  },
  {
   "cell_type": "code",
   "execution_count": 9,
   "metadata": {},
   "outputs": [
    {
     "data": {
      "text/plain": [
       "<matplotlib.image.AxesImage at 0x7fb5823a9470>"
      ]
     },
     "execution_count": 9,
     "metadata": {},
     "output_type": "execute_result"
    },
    {
     "data": {
      "image/png": "[encoded data removed]",
      "text/plain": [
       "<Figure size 288x288 with 1 Axes>"
      ]
     },
     "metadata": {
      "needs_background": "light"
     },
     "output_type": "display_data"
    },
    {
     "data": {
      "image/png": "[encoded data removed]",
      "text/plain": [
       "<Figure size 288x288 with 1 Axes>"
      ]
     },
     "metadata": {
      "needs_background": "light"
     },
     "output_type": "display_data"
    },
    {
     "data": {
      "image/png": "[encoded data removed]",
      "text/plain": [
       "<Figure size 288x288 with 1 Axes>"
      ]
     },
     "metadata": {
      "needs_background": "light"
     },
     "output_type": "display_data"
    }
   ],
   "source": [
    "#Plot the difference maps for the avg template with respect to the other templates\n",
    "plt.matshow(diff_0,cmap='seismic',vmin=-1.0,vmax=1)\n",
    "plt.matshow(diff_1,cmap='seismic',vmin=-1.0,vmax=1)\n",
    "plt.matshow(diff_2,cmap='seismic',vmin=-1.0,vmax=1)"
   ]
  },
  {
   "cell_type": "code",
   "execution_count": 10,
   "metadata": {},
   "outputs": [],
   "source": [
    "#Declare Tensorflow input and output tensors\n",
    "\n",
    "x = tf.placeholder(tf.float32, (None, 32,32), name = 'x')\n",
    "        \n",
    "y_true = tf.placeholder(tf.int64, (None), name='y')\n",
    "\n",
    "x_flat = tf.contrib.layers.flatten(x)\n",
    "\n",
    "mask_true = tf.one_hot(y_true,3)"
   ]
  },
  {
   "cell_type": "code",
   "execution_count": 11,
   "metadata": {},
   "outputs": [],
   "source": [
    "#Declare linear model\n",
    "with tf.variable_scope('l'):\n",
    "    \n",
    "    y_logits_l = tf.contrib.layers.fully_connected(x_flat,3,weights_regularizer=tf.keras.regularizers.l2(l=1e-5),activation_fn=None)\n",
    "\n",
    "    y_logits_l = y_logits_l\n",
    "\n",
    "    loss_l = tf.nn.sparse_softmax_cross_entropy_with_logits(labels=y_true, logits=y_logits_l)\n",
    "\n",
    "    probs_l = tf.nn.softmax(y_logits_l)\n",
    "\n",
    "    acc_l = tf.reduce_mean(tf.dtypes.cast(tf.equal(y_true,tf.argmax(y_logits_l, 1)),tf.float32))\n",
    "\n",
    "    train_l = tf.train.AdamOptimizer(learning_rate=1e-3).minimize(loss_l)\n",
    "\n",
    "    masked_loss_l = tf.reduce_sum( probs_l * mask_true,axis = -1)\n",
    "\n",
    "    masked_logits_l = tf.reduce_sum(y_logits_l  * mask_true,axis = -1)\n",
    "\n",
    "    w = tf.gradients(masked_logits_l,x)\n",
    "\n",
    "    g_l = tf.gradients(masked_loss_l,x)"
   ]
  },
  {
   "cell_type": "code",
   "execution_count": 12,
   "metadata": {},
   "outputs": [],
   "source": [
    "#Declare neural network model\n",
    "with tf.variable_scope('nn'):\n",
    "    h_nn = tf.contrib.layers.fully_connected(x_flat,20,activation_fn=tf.nn.relu,weights_regularizer=tf.keras.regularizers.l2(l=1e-5))\n",
    "\n",
    "    y_logits_nn = tf.contrib.layers.fully_connected(h_nn,3,activation_fn=None,weights_regularizer=tf.keras.regularizers.l2(l=1e-5))\n",
    "\n",
    "    y_logits_nn = y_logits_nn\n",
    "\n",
    "    loss_nn = tf.nn.sparse_softmax_cross_entropy_with_logits(labels=y_true, logits=y_logits_nn)\n",
    "\n",
    "    probs_nn = tf.nn.softmax(y_logits_nn)\n",
    "\n",
    "    loss_nn = tf.nn.sparse_softmax_cross_entropy_with_logits(labels=y_true, logits=y_logits_nn)\n",
    "\n",
    "    acc_nn = tf.reduce_mean(tf.dtypes.cast(tf.equal(y_true,tf.argmax(y_logits_nn, 1)),tf.float32))\n",
    "\n",
    "    train_nn = tf.train.AdamOptimizer(learning_rate=1e-3).minimize(loss_nn)\n",
    "\n",
    "    masked_loss_nn = tf.reduce_sum( probs_nn * mask_true,axis = -1)\n",
    "\n",
    "    masked_logits_nn = tf.reduce_sum( y_logits_nn * mask_true,axis = -1)\n",
    "\n",
    "    g_nn = tf.gradients(masked_loss_nn,x)"
   ]
  },
  {
   "cell_type": "code",
   "execution_count": 13,
   "metadata": {},
   "outputs": [],
   "source": [
    "#Declare neural network with random spherical noise model\n",
    "with tf.variable_scope('sph'):\n",
    "    h_sph = tf.contrib.layers.fully_connected(x_flat,20,activation_fn=tf.nn.relu,weights_regularizer=tf.keras.regularizers.l2(l=1e-5))\n",
    "\n",
    "    y_logits_sph = tf.contrib.layers.fully_connected(h_sph,3,activation_fn=None,weights_regularizer=tf.keras.regularizers.l2(l=1e-5))\n",
    "\n",
    "    y_logits_sph = y_logits_sph\n",
    "\n",
    "    loss_sph = tf.nn.sparse_softmax_cross_entropy_with_logits(labels=y_true, logits=y_logits_sph)\n",
    "\n",
    "    probs_sph = tf.nn.softmax(y_logits_sph)\n",
    "\n",
    "    loss_sph = tf.nn.sparse_softmax_cross_entropy_with_logits(labels=y_true, logits=y_logits_sph)\n",
    "\n",
    "    acc_sph = tf.reduce_mean(tf.dtypes.cast(tf.equal(y_true,tf.argmax(y_logits_sph, 1)),tf.float32))\n",
    "\n",
    "    train_sph = tf.train.AdamOptimizer(learning_rate=1e-3).minimize(loss_sph)\n",
    "\n",
    "    masked_loss_sph = tf.reduce_sum( probs_sph * mask_true,axis = -1)\n",
    "\n",
    "    masked_logits_sph = tf.reduce_sum( y_logits_sph * mask_true,axis = -1)\n",
    "\n",
    "    g_sph = tf.gradients(masked_loss_sph,x)"
   ]
  },
  {
   "cell_type": "code",
   "execution_count": 14,
   "metadata": {},
   "outputs": [],
   "source": [
    "#Declare neural network with advesarial training model \n",
    "with tf.variable_scope('adv'):\n",
    "    \n",
    "    h_adv = tf.contrib.layers.fully_connected(x_flat,20,activation_fn=tf.nn.relu,weights_regularizer=tf.keras.regularizers.l2(l=1e-5))\n",
    "\n",
    "    y_logits_adv = tf.contrib.layers.fully_connected(h_adv,3,activation_fn=None,weights_regularizer=tf.keras.regularizers.l2(l=1e-5))\n",
    "\n",
    "    loss_adv = tf.nn.sparse_softmax_cross_entropy_with_logits(labels=y_true, logits=y_logits_adv)\n",
    "\n",
    "    probs_adv = tf.nn.softmax(y_logits_adv)\n",
    "\n",
    "    acc_adv = tf.reduce_mean(tf.dtypes.cast(tf.equal(y_true,tf.argmax(y_logits_adv, 1)),tf.float32))\n",
    "\n",
    "    train_adv = tf.train.AdamOptimizer(learning_rate=1e-3).minimize(loss_adv)\n",
    "\n",
    "    masked_loss_adv = tf.reduce_sum( probs_adv * mask_true,axis = -1)\n",
    "\n",
    "    masked_logits_adv = tf.reduce_sum(y_logits_adv * mask_true,axis = -1)\n",
    "\n",
    "    g_adv = tf.gradients(masked_loss_adv,x)"
   ]
  },
  {
   "cell_type": "code",
   "execution_count": 15,
   "metadata": {},
   "outputs": [],
   "source": [
    "#Declare model savers\n",
    "vars_l = tf.get_collection(tf.GraphKeys.GLOBAL_VARIABLES,scope='l')\n",
    "saver_l = tf.train.Saver(vars_l)\n",
    "vars_nn = tf.get_collection(tf.GraphKeys.GLOBAL_VARIABLES,scope='nn')\n",
    "saver_nn = tf.train.Saver(vars_nn)\n",
    "vars_sph = tf.get_collection(tf.GraphKeys.GLOBAL_VARIABLES,scope='sph')\n",
    "saver_sph = tf.train.Saver(vars_sph)\n",
    "vars_adv = tf.get_collection(tf.GraphKeys.GLOBAL_VARIABLES,scope='adv')\n",
    "saver_adv = tf.train.Saver(vars_adv)"
   ]
  },
  {
   "cell_type": "code",
   "execution_count": 16,
   "metadata": {},
   "outputs": [
    {
     "name": "stdout",
     "output_type": "stream",
     "text": [
      "Loss L: 0.28683874\n",
      "Acc L: 0.35306817\n",
      "Loss L: 0.29233027\n",
      "Acc L: 0.37170455\n",
      "Loss L: 0.29812846\n",
      "Acc L: 0.38840908\n",
      "Loss L: 0.30347574\n",
      "Acc L: 0.40329546\n",
      "Loss L: 0.30806962\n",
      "Acc L: 0.4230682\n",
      "Loss L: 0.31160507\n",
      "Acc L: 0.43988636\n",
      "Loss L: 0.31390443\n",
      "Acc L: 0.45772728\n",
      "Loss L: 0.31489435\n",
      "Acc L: 0.47806817\n",
      "Loss L: 0.31456986\n",
      "Acc L: 0.5055682\n",
      "Loss L: 0.31298116\n",
      "Acc L: 0.52602273\n",
      "Loss L: 0.3102315\n",
      "Acc L: 0.5468182\n",
      "Loss L: 0.30645663\n",
      "Acc L: 0.5709091\n",
      "Loss L: 0.3018015\n",
      "Acc L: 0.59647727\n",
      "Loss L: 0.29640457\n",
      "Acc L: 0.62113637\n",
      "Loss L: 0.29039183\n",
      "Acc L: 0.64375\n",
      "Loss L: 0.2838703\n",
      "Acc L: 0.6644318\n",
      "Loss L: 0.2769328\n",
      "Acc L: 0.68613636\n",
      "Loss L: 0.2696705\n",
      "Acc L: 0.7105682\n",
      "Loss L: 0.2621764\n",
      "Acc L: 0.7336364\n",
      "Loss L: 0.25453886\n",
      "Acc L: 0.7559091\n",
      "Loss L: 0.24683425\n",
      "Acc L: 0.7755682\n",
      "Loss L: 0.23912144\n",
      "Acc L: 0.79375\n",
      "Loss L: 0.23144147\n",
      "Acc L: 0.8122727\n",
      "Loss L: 0.22382158\n",
      "Acc L: 0.8319318\n",
      "Loss L: 0.21627992\n",
      "Acc L: 0.8493182\n",
      "Loss L: 0.20883033\n",
      "Acc L: 0.8660227\n",
      "Loss L: 0.20148526\n",
      "Acc L: 0.88011366\n",
      "Loss L: 0.19425862\n",
      "Acc L: 0.89193183\n",
      "Loss L: 0.18716533\n",
      "Acc L: 0.9044318\n",
      "Loss L: 0.1802219\n",
      "Acc L: 0.9155682\n",
      "Loss L: 0.17344603\n",
      "Acc L: 0.9265909\n",
      "Loss L: 0.16685571\n",
      "Acc L: 0.93477273\n",
      "Loss L: 0.16047005\n",
      "Acc L: 0.94272727\n",
      "Loss L: 0.15431003\n",
      "Acc L: 0.94920456\n",
      "Loss L: 0.1483987\n",
      "Acc L: 0.9548864\n",
      "Loss L: 0.14276077\n",
      "Acc L: 0.95920455\n",
      "Loss L: 0.13741978\n",
      "Acc L: 0.96363634\n",
      "Loss L: 0.13239582\n",
      "Acc L: 0.9689773\n",
      "Loss L: 0.12770253\n",
      "Acc L: 0.9728409\n",
      "Loss L: 0.12334568\n",
      "Acc L: 0.97659093\n",
      "Loss L: 0.119322985\n",
      "Acc L: 0.9793182\n",
      "Loss L: 0.115625195\n",
      "Acc L: 0.9821591\n",
      "Loss L: 0.11223797\n",
      "Acc L: 0.98454547\n",
      "Loss L: 0.109143466\n",
      "Acc L: 0.9871591\n",
      "Loss L: 0.10632162\n",
      "Acc L: 0.9901136\n",
      "Loss L: 0.10375059\n",
      "Acc L: 0.99125\n",
      "Loss L: 0.10140723\n",
      "Acc L: 0.99227273\n",
      "Loss L: 0.099267155\n",
      "Acc L: 0.99329543\n",
      "Loss L: 0.0973054\n",
      "Acc L: 0.9935227\n",
      "Loss L: 0.09549691\n",
      "Acc L: 0.99477273\n",
      "Loss L: 0.09381822\n",
      "Acc L: 0.9952273\n",
      "Loss L: 0.09224791\n",
      "Acc L: 0.9960227\n",
      "Loss L: 0.09076702\n",
      "Acc L: 0.9969318\n",
      "Loss L: 0.08936014\n",
      "Acc L: 0.99715906\n",
      "Loss L: 0.08801394\n",
      "Acc L: 0.99738634\n",
      "Loss L: 0.08671741\n",
      "Acc L: 0.9978409\n",
      "Loss L: 0.08546123\n",
      "Acc L: 0.9982954\n",
      "Loss L: 0.08423777\n",
      "Acc L: 0.9982954\n",
      "Loss L: 0.08304056\n",
      "Acc L: 0.9985227\n",
      "Loss L: 0.08186477\n",
      "Acc L: 0.99863636\n",
      "Loss L: 0.08070694\n",
      "Acc L: 0.99875\n",
      "Loss L: 0.07956495\n",
      "Acc L: 0.99886364\n",
      "Loss L: 0.07843741\n",
      "Acc L: 0.9990909\n",
      "Loss L: 0.07732328\n",
      "Acc L: 0.9992045\n",
      "Loss L: 0.07622138\n",
      "Acc L: 0.9993182\n",
      "Loss L: 0.07513076\n",
      "Acc L: 0.99954545\n",
      "Loss L: 0.07405002\n",
      "Acc L: 0.9997727\n",
      "Loss L: 0.07297775\n",
      "Acc L: 0.9997727\n",
      "Loss L: 0.07191309\n",
      "Acc L: 0.9997727\n",
      "Loss L: 0.07085563\n",
      "Acc L: 0.9997727\n",
      "Loss L: 0.0698055\n",
      "Acc L: 0.9997727\n",
      "Loss L: 0.068763055\n",
      "Acc L: 0.9997727\n",
      "Loss L: 0.067729\n",
      "Acc L: 1.0\n",
      "Loss L: 0.0667039\n",
      "Acc L: 1.0\n",
      "Loss L: 0.065688804\n",
      "Acc L: 1.0\n",
      "Loss L: 0.064684294\n",
      "Acc L: 1.0\n",
      "Loss L: 0.06369131\n",
      "Acc L: 1.0\n",
      "Loss L: 0.06271088\n",
      "Acc L: 1.0\n",
      "Loss L: 0.061744392\n",
      "Acc L: 1.0\n",
      "Loss L: 0.06079335\n",
      "Acc L: 1.0\n",
      "Loss L: 0.059859034\n",
      "Acc L: 1.0\n",
      "Loss L: 0.05894317\n",
      "Acc L: 1.0\n",
      "Loss L: 0.05804683\n",
      "Acc L: 1.0\n",
      "Loss L: 0.05717119\n",
      "Acc L: 1.0\n",
      "Loss L: 0.05631698\n",
      "Acc L: 1.0\n",
      "Loss L: 0.055484705\n",
      "Acc L: 1.0\n",
      "Loss L: 0.05467465\n",
      "Acc L: 1.0\n",
      "Loss L: 0.05388676\n",
      "Acc L: 1.0\n",
      "Loss L: 0.053120967\n",
      "Acc L: 1.0\n",
      "Loss L: 0.0523771\n",
      "Acc L: 1.0\n",
      "Loss L: 0.051654417\n",
      "Acc L: 1.0\n",
      "Loss L: 0.050952394\n",
      "Acc L: 1.0\n",
      "Loss L: 0.05027006\n",
      "Acc L: 1.0\n",
      "Loss L: 0.04960654\n",
      "Acc L: 1.0\n",
      "Loss L: 0.048960745\n",
      "Acc L: 1.0\n",
      "Loss L: 0.04833157\n",
      "Acc L: 1.0\n",
      "Loss L: 0.047717683\n",
      "Acc L: 1.0\n",
      "Loss L: 0.0471182\n",
      "Acc L: 1.0\n",
      "Loss L: 0.04653213\n",
      "Acc L: 1.0\n",
      "Loss L: 0.04595824\n",
      "Acc L: 1.0\n"
     ]
    }
   ],
   "source": [
    "#Train linear model\n",
    "n_ep = 100\n",
    "with tf.Session() as sess:\n",
    "    init = tf.global_variables_initializer()\n",
    "    sess.run(init)\n",
    "    for ep in range(n_ep):\n",
    "        _, l_l, a_l = sess.run([train_l, loss_l, acc_l], feed_dict={x: train_data, y_true: train_labels})\n",
    "        print('Loss L: ' + str(l_l[0]))\n",
    "        print('Acc L: ' + str(a_l))\n",
    "    saver_l.save(sess, \"saved_models/model_l.ckpt\", write_meta_graph=False)"
   ]
  },
  {
   "cell_type": "code",
   "execution_count": 17,
   "metadata": {},
   "outputs": [
    {
     "name": "stdout",
     "output_type": "stream",
     "text": [
      "INFO:tensorflow:Restoring parameters from saved_models/model_l.ckpt\n",
      "Loss L: 0.48208842\n",
      "Acc L: 1.0\n"
     ]
    }
   ],
   "source": [
    "#Get validation results for the linear model with different temperatures\n",
    "with tf.Session() as sess:\n",
    "    init = tf.global_variables_initializer()\n",
    "    sess.run(init)\n",
    "    saver_l.restore(sess, \"saved_models/model_l.ckpt\")\n",
    "    l_l, a_l = sess.run([loss_l, acc_l], feed_dict={x: val_data, y_true: val_labels})\n",
    "    print('Loss L: ' + str(l_l[0]))\n",
    "    print('Acc L: ' + str(a_l))\n"
   ]
  },
  {
   "cell_type": "code",
   "execution_count": 18,
   "metadata": {},
   "outputs": [
    {
     "name": "stdout",
     "output_type": "stream",
     "text": [
      "INFO:tensorflow:Restoring parameters from saved_models/model_l.ckpt\n",
      "Loss L: 0.22388133\n",
      "Acc L: 1.0\n"
     ]
    }
   ],
   "source": [
    "#Get test results for the linear model\n",
    "with tf.Session() as sess:\n",
    "    init = tf.global_variables_initializer()\n",
    "    sess.run(init)\n",
    "    saver_l.restore(sess, \"saved_models/model_l.ckpt\")\n",
    "    l_l, a_l = sess.run([loss_l, acc_l], feed_dict={x: test_data, y_true: test_labels})\n",
    "    print('Loss L: ' + str(l_l[0]))\n",
    "    print('Acc L: ' + str(a_l))"
   ]
  },
  {
   "cell_type": "code",
   "execution_count": 16,
   "metadata": {},
   "outputs": [
    {
     "name": "stdout",
     "output_type": "stream",
     "text": [
      "INFO:tensorflow:Restoring parameters from saved_models/model_l.ckpt\n"
     ]
    }
   ],
   "source": [
    "#Get weights and test data gradients for the linear model\n",
    "\n",
    "with tf.Session() as sess:\n",
    "    init = tf.global_variables_initializer()\n",
    "    sess.run(init)\n",
    "    saver_l.restore(sess, \"saved_models/model_l.ckpt\")\n",
    "    #Get weights and gradients for class 0 for class 0 inputs\n",
    "    x_0 = test_data[where_test_0[0],:,:]\n",
    "    \n",
    "    grad_l_0, weights_l_0 = sess.run([g_l,w], feed_dict={x: x_0, y_true: test_labels[where_test_0[0]]}) \n",
    "    \n",
    "    #Get weights and gradients for class 1 for class 1 inputs\n",
    "    x_1 =test_data[where_test_1[0],:,:]\n",
    "    \n",
    "    grad_l_1, weights_l_1 = sess.run([g_l,w], feed_dict={x: x_1, y_true: test_labels[where_test_1[0]]})\n",
    "    \n",
    "    #Get weights and gradients for class 2 for class 2 inputs\n",
    "    x_2 =test_data[where_test_2[0],:,:]\n",
    "\n",
    "    grad_l_2, weights_l_2 = sess.run([g_l,w], feed_dict={x: x_2, y_true: test_labels[where_test_2[0]]})\n",
    "    \n",
    "    #Get weights and gradients for class 1 for class 0 inputs\n",
    "    grad_l_0_1, weights_l_0_1 = sess.run([g_l,w], feed_dict={x: x_0, y_true: 1.0*np.ones(test_labels[where_test_0[0]].shape)}) \n",
    "    \n",
    "    #Get weights and gradients for class 2 for class 0 inputs\n",
    "    grad_l_0_2, weights_l_0_2 = sess.run([g_l,w], feed_dict={x: x_0, y_true: 2.0*np.ones(test_labels[where_test_0[0]].shape)}) \n",
    "    \n",
    "    #Get weights and gradients for class 0 for class 1 inputs \n",
    "    grad_l_1_0, weights_l_1_0 = sess.run([g_l,w], feed_dict={x: x_1, y_true: 0.0*np.ones(test_labels[where_test_1[0]].shape)}) \n",
    "    \n",
    "    #Get weights and gradients for class 2 for class 1 inputs\n",
    "    grad_l_1_2, weights_l_1_2 = sess.run([g_l,w], feed_dict={x: x_1, y_true: 2.0*np.ones(test_labels[where_test_1[0]].shape)}) \n",
    "    \n",
    "    #Get weights and gradients for class 0 for class 2 inputs\n",
    "    grad_l_2_0, weights_l_2_0 = sess.run([g_l,w], feed_dict={x: x_2, y_true: 0.0*np.ones(test_labels[where_test_2[0]].shape)}) \n",
    "    \n",
    "    #Get weights and gradients for class 1 for class 2 inputs\n",
    "    grad_l_2_1, weights_l_2_1 = sess.run([g_l,w], feed_dict={x: x_2, y_true: 1.0*np.ones(test_labels[where_test_2[0]].shape)})"
   ]
  },
  {
   "cell_type": "code",
   "execution_count": 17,
   "metadata": {},
   "outputs": [
    {
     "data": {
      "text/plain": [
       "<matplotlib.image.AxesImage at 0x7fb56c5c1dd8>"
      ]
     },
     "execution_count": 17,
     "metadata": {},
     "output_type": "execute_result"
    },
    {
     "data": {
      "image/png": "[encoded data removed]",
      "text/plain": [
       "<Figure size 288x288 with 1 Axes>"
      ]
     },
     "metadata": {
      "needs_background": "light"
     },
     "output_type": "display_data"
    },
    {
     "data": {
      "image/png": "[encoded data removed]",
      "text/plain": [
       "<Figure size 288x288 with 1 Axes>"
      ]
     },
     "metadata": {
      "needs_background": "light"
     },
     "output_type": "display_data"
    },
    {
     "data": {
      "image/png": "[encoded data removed]",
      "text/plain": [
       "<Figure size 288x288 with 1 Axes>"
      ]
     },
     "metadata": {
      "needs_background": "light"
     },
     "output_type": "display_data"
    }
   ],
   "source": [
    "#Plot linear model weights for the three classes\n",
    "#Plot weights for class 0\n",
    "clim = np.abs(weights_l_0[0].mean(axis=0)).max()\n",
    "plt.matshow(np.reshape(weights_l_0[0].mean(axis=0),[32,32]),cmap='seismic',vmin=-1.0*clim,vmax=clim)\n",
    "#Plot weights for class 1\n",
    "clim = np.abs(weights_l_1[0].mean(axis=0)).max()\n",
    "plt.matshow(np.reshape(weights_l_1[0].mean(axis=0),[32,32]),cmap='seismic',vmin=-1.0*clim,vmax=clim)\n",
    "#Plot weights for class 2\n",
    "clim = np.abs(weights_l_2[0].mean(axis=0)).max()\n",
    "plt.matshow(np.reshape(weights_l_2[0].mean(axis=0),[32,32]),cmap='seismic',vmin=-1.0*clim,vmax=clim)"
   ]
  },
  {
   "cell_type": "code",
   "execution_count": 18,
   "metadata": {},
   "outputs": [
    {
     "data": {
      "text/plain": [
       "<matplotlib.image.AxesImage at 0x7fb56c413ef0>"
      ]
     },
     "execution_count": 18,
     "metadata": {},
     "output_type": "execute_result"
    },
    {
     "data": {
      "image/png": "[encoded data removed]",
      "text/plain": [
       "<Figure size 288x288 with 1 Axes>"
      ]
     },
     "metadata": {
      "needs_background": "light"
     },
     "output_type": "display_data"
    },
    {
     "data": {
      "image/png": "[encoded data removed]",
      "text/plain": [
       "<Figure size 288x288 with 1 Axes>"
      ]
     },
     "metadata": {
      "needs_background": "light"
     },
     "output_type": "display_data"
    },
    {
     "data": {
      "image/png": "[encoded data removed]",
      "text/plain": [
       "<Figure size 288x288 with 1 Axes>"
      ]
     },
     "metadata": {
      "needs_background": "light"
     },
     "output_type": "display_data"
    },
    {
     "data": {
      "image/png": "[encoded data removed]",
      "text/plain": [
       "<Figure size 288x288 with 1 Axes>"
      ]
     },
     "metadata": {
      "needs_background": "light"
     },
     "output_type": "display_data"
    },
    {
     "data": {
      "image/png": "[encoded data removed]",
      "text/plain": [
       "<Figure size 288x288 with 1 Axes>"
      ]
     },
     "metadata": {
      "needs_background": "light"
     },
     "output_type": "display_data"
    },
    {
     "data": {
      "image/png": "[encoded data removed]",
      "text/plain": [
       "<Figure size 288x288 with 1 Axes>"
      ]
     },
     "metadata": {
      "needs_background": "light"
     },
     "output_type": "display_data"
    },
    {
     "data": {
      "image/png": "[encoded data removed]",
      "text/plain": [
       "<Figure size 288x288 with 1 Axes>"
      ]
     },
     "metadata": {
      "needs_background": "light"
     },
     "output_type": "display_data"
    },
    {
     "data": {
      "image/png": "[encoded data removed]",
      "text/plain": [
       "<Figure size 288x288 with 1 Axes>"
      ]
     },
     "metadata": {
      "needs_background": "light"
     },
     "output_type": "display_data"
    },
    {
     "data": {
      "image/png": "[encoded data removed]",
      "text/plain": [
       "<Figure size 288x288 with 1 Axes>"
      ]
     },
     "metadata": {
      "needs_background": "light"
     },
     "output_type": "display_data"
    }
   ],
   "source": [
    "#Plot gradients for the linear model\n",
    "\n",
    "#Plot gradients for class 0 for class 0 inputs\n",
    "clim = np.abs(grad_l_0[0].mean(axis=0)).max()\n",
    "plt.matshow(np.reshape(grad_l_0[0].mean(axis=0),[32,32]),cmap='seismic',vmin=-1.0*clim,vmax=clim)\n",
    "\n",
    "#Plot gradients for class 1 for class 1 inputs\n",
    "clim = np.abs(grad_l_1[0].mean(axis=0)).max()\n",
    "plt.matshow(np.reshape(grad_l_1[0].mean(axis=0),[32,32]),cmap='seismic',vmin=-1.0*clim,vmax=clim)\n",
    "\n",
    "#Plot gradientws for class 2 for class 2 inputs\n",
    "clim = np.abs(grad_l_2[0].mean(axis=0)).max()\n",
    "plt.matshow(np.reshape(grad_l_2[0].mean(axis=0),[32,32]),cmap='seismic',vmin=-1.0*clim,vmax=clim)\n",
    "\n",
    "#Plot gradients for class 1 for class 0 inputs\n",
    "clim = np.abs(grad_l_0_1[0].mean(axis=0)).max()\n",
    "plt.matshow(np.reshape(grad_l_0_1[0].mean(axis=0),[32,32]),cmap='seismic',vmin=-1.0*clim,vmax=clim)\n",
    "\n",
    "#Plot gradients for class 2 for class 0 inputs\n",
    "clim = np.abs(grad_l_0_2[0].mean(axis=0)).max()\n",
    "plt.matshow(np.reshape(grad_l_0_2[0].mean(axis=0),[32,32]),cmap='seismic',vmin=-1.0*clim,vmax=clim)\n",
    "\n",
    "#Plot gradients for class 0 for class 1 inputs\n",
    "clim = np.abs(grad_l_1_0[0].mean(axis=0)).max()\n",
    "plt.matshow(np.reshape(grad_l_1_0[0].mean(axis=0),[32,32]),cmap='seismic',vmin=-1.0*clim,vmax=clim)\n",
    "\n",
    "#Plot gradients for class 2 for class 1 inputs\n",
    "clim = np.abs(grad_l_1_2[0].mean(axis=0)).max()\n",
    "plt.matshow(np.reshape(grad_l_1_2[0].mean(axis=0),[32,32]),cmap='seismic',vmin=-1.0*clim,vmax=clim)\n",
    "\n",
    "#Plot gradients for class 0 for class 2 inputs\n",
    "clim = np.abs(grad_l_2_0[0].mean(axis=0)).max()\n",
    "plt.matshow(np.reshape(grad_l_2_0[0].mean(axis=0),[32,32]),cmap='seismic',vmin=-1.0*clim,vmax=clim)\n",
    "\n",
    "#Plot gradients for class 1 for class 2 inputs\n",
    "clim = np.abs(grad_l_2_1[0].mean(axis=0)).max()\n",
    "plt.matshow(np.reshape(grad_l_2_1[0].mean(axis=0),[32,32]),cmap='seismic',vmin=-1.0*clim,vmax=clim)"
   ]
  },
  {
   "cell_type": "code",
   "execution_count": 19,
   "metadata": {},
   "outputs": [
    {
     "name": "stdout",
     "output_type": "stream",
     "text": [
      "Loss L: 0.91789544\n",
      "Acc L: 0.43602273\n",
      "Loss L: 0.91821706\n",
      "Acc L: 0.48090908\n",
      "Loss L: 0.9180453\n",
      "Acc L: 0.53022724\n",
      "Loss L: 0.9161223\n",
      "Acc L: 0.5821591\n",
      "Loss L: 0.911744\n",
      "Acc L: 0.6339773\n",
      "Loss L: 0.9062969\n",
      "Acc L: 0.67965907\n",
      "Loss L: 0.9016458\n",
      "Acc L: 0.7277273\n",
      "Loss L: 0.89381796\n",
      "Acc L: 0.7764773\n",
      "Loss L: 0.87366533\n",
      "Acc L: 0.81511366\n",
      "Loss L: 0.83756495\n",
      "Acc L: 0.84670454\n",
      "Loss L: 0.80021775\n",
      "Acc L: 0.8756818\n",
      "Loss L: 0.76208115\n",
      "Acc L: 0.9\n",
      "Loss L: 0.7187234\n",
      "Acc L: 0.9195455\n",
      "Loss L: 0.67198324\n",
      "Acc L: 0.9359091\n",
      "Loss L: 0.6124036\n",
      "Acc L: 0.9523864\n",
      "Loss L: 0.5555702\n",
      "Acc L: 0.9644318\n",
      "Loss L: 0.5022292\n",
      "Acc L: 0.9718182\n",
      "Loss L: 0.45123214\n",
      "Acc L: 0.9785227\n",
      "Loss L: 0.39142412\n",
      "Acc L: 0.98477274\n",
      "Loss L: 0.340902\n",
      "Acc L: 0.9876136\n",
      "Loss L: 0.29645193\n",
      "Acc L: 0.9917045\n",
      "Loss L: 0.25751323\n",
      "Acc L: 0.9940909\n",
      "Loss L: 0.2235707\n",
      "Acc L: 0.9959091\n",
      "Loss L: 0.19298404\n",
      "Acc L: 0.9969318\n",
      "Loss L: 0.16160254\n",
      "Acc L: 0.99806815\n",
      "Loss L: 0.1341255\n",
      "Acc L: 0.99863636\n",
      "Loss L: 0.11152242\n",
      "Acc L: 0.9994318\n",
      "Loss L: 0.09301007\n",
      "Acc L: 0.99954545\n",
      "Loss L: 0.077888496\n",
      "Acc L: 0.9997727\n",
      "Loss L: 0.06553284\n",
      "Acc L: 1.0\n",
      "Loss L: 0.05545527\n",
      "Acc L: 1.0\n",
      "Loss L: 0.047195643\n",
      "Acc L: 1.0\n",
      "Loss L: 0.040395916\n",
      "Acc L: 1.0\n",
      "Loss L: 0.03477531\n",
      "Acc L: 1.0\n",
      "Loss L: 0.030010741\n",
      "Acc L: 1.0\n",
      "Loss L: 0.026048446\n",
      "Acc L: 1.0\n",
      "Loss L: 0.022739138\n",
      "Acc L: 1.0\n",
      "Loss L: 0.019960023\n",
      "Acc L: 1.0\n",
      "Loss L: 0.017613893\n",
      "Acc L: 1.0\n",
      "Loss L: 0.015624841\n",
      "Acc L: 1.0\n",
      "Loss L: 0.013931412\n",
      "Acc L: 1.0\n",
      "Loss L: 0.012480257\n",
      "Acc L: 1.0\n",
      "Loss L: 0.011230588\n",
      "Acc L: 1.0\n",
      "Loss L: 0.010150124\n",
      "Acc L: 1.0\n",
      "Loss L: 0.009212486\n",
      "Acc L: 1.0\n",
      "Loss L: 0.008396089\n",
      "Acc L: 1.0\n",
      "Loss L: 0.0076821847\n",
      "Acc L: 1.0\n",
      "Loss L: 0.0070559606\n",
      "Acc L: 1.0\n",
      "Loss L: 0.006504199\n",
      "Acc L: 1.0\n",
      "Loss L: 0.0060160034\n",
      "Acc L: 1.0\n",
      "Loss L: 0.0055825757\n",
      "Acc L: 1.0\n",
      "Loss L: 0.005196398\n",
      "Acc L: 1.0\n",
      "Loss L: 0.0048511187\n",
      "Acc L: 1.0\n",
      "Loss L: 0.004541203\n",
      "Acc L: 1.0\n",
      "Loss L: 0.004262173\n",
      "Acc L: 1.0\n",
      "Loss L: 0.0040103737\n",
      "Acc L: 1.0\n",
      "Loss L: 0.003782857\n",
      "Acc L: 1.0\n",
      "Loss L: 0.0035764321\n",
      "Acc L: 1.0\n",
      "Loss L: 0.003388974\n",
      "Acc L: 1.0\n",
      "Loss L: 0.0032179975\n",
      "Acc L: 1.0\n",
      "Loss L: 0.0030616098\n",
      "Acc L: 1.0\n",
      "Loss L: 0.0029182727\n",
      "Acc L: 1.0\n",
      "Loss L: 0.0027863272\n",
      "Acc L: 1.0\n",
      "Loss L: 0.002664589\n",
      "Acc L: 1.0\n",
      "Loss L: 0.002552111\n",
      "Acc L: 1.0\n",
      "Loss L: 0.0024479444\n",
      "Acc L: 1.0\n",
      "Loss L: 0.0023512593\n",
      "Acc L: 1.0\n",
      "Loss L: 0.0022613448\n",
      "Acc L: 1.0\n",
      "Loss L: 0.0021774885\n",
      "Acc L: 1.0\n",
      "Loss L: 0.0020990975\n",
      "Acc L: 1.0\n",
      "Loss L: 0.002025697\n",
      "Acc L: 1.0\n",
      "Loss L: 0.001956812\n",
      "Acc L: 1.0\n",
      "Loss L: 0.0018923248\n",
      "Acc L: 1.0\n",
      "Loss L: 0.0018315222\n",
      "Acc L: 1.0\n",
      "Loss L: 0.0017744048\n",
      "Acc L: 1.0\n",
      "Loss L: 0.0017206162\n",
      "Acc L: 1.0\n",
      "Loss L: 0.0016696812\n",
      "Acc L: 1.0\n",
      "Loss L: 0.0016215998\n",
      "Acc L: 1.0\n",
      "Loss L: 0.0015760155\n",
      "Acc L: 1.0\n",
      "Loss L: 0.0015328098\n",
      "Acc L: 1.0\n",
      "Loss L: 0.0014916257\n",
      "Acc L: 1.0\n",
      "Loss L: 0.0014524636\n",
      "Acc L: 1.0\n",
      "Loss L: 0.0014152045\n",
      "Acc L: 1.0\n",
      "Loss L: 0.0013797297\n",
      "Acc L: 1.0\n",
      "Loss L: 0.0013458014\n",
      "Acc L: 1.0\n",
      "Loss L: 0.0013134195\n",
      "Acc L: 1.0\n",
      "Loss L: 0.0012824653\n",
      "Acc L: 1.0\n",
      "Loss L: 0.0012527007\n",
      "Acc L: 1.0\n",
      "Loss L: 0.001224245\n",
      "Acc L: 1.0\n",
      "Loss L: 0.0011967409\n",
      "Acc L: 1.0\n",
      "Loss L: 0.0011704268\n",
      "Acc L: 1.0\n",
      "Loss L: 0.0011450646\n",
      "Acc L: 1.0\n",
      "Loss L: 0.0011206544\n",
      "Acc L: 1.0\n",
      "Loss L: 0.0010970772\n",
      "Acc L: 1.0\n",
      "Loss L: 0.0010742138\n",
      "Acc L: 1.0\n",
      "Loss L: 0.0010521834\n",
      "Acc L: 1.0\n",
      "Loss L: 0.0010307481\n",
      "Acc L: 1.0\n",
      "Loss L: 0.001010146\n",
      "Acc L: 1.0\n",
      "Loss L: 0.0009901389\n",
      "Acc L: 1.0\n",
      "Loss L: 0.0009707268\n",
      "Acc L: 1.0\n"
     ]
    }
   ],
   "source": [
    "#Train neural network model\n",
    "n_ep = 100\n",
    "with tf.Session() as sess:\n",
    "    init = tf.global_variables_initializer()\n",
    "    sess.run(init)\n",
    "    for ep in range(n_ep):\n",
    "        _, l_nn, a_nn = sess.run([train_nn, loss_nn, acc_nn], feed_dict={x: train_data, y_true: train_labels})\n",
    "        print('Loss L: ' + str(l_nn[0]))\n",
    "        print('Acc L: ' + str(a_nn))\n",
    "    saver_nn.save(sess, \"saved_models/model_nn.ckpt\", write_meta_graph=False)"
   ]
  },
  {
   "cell_type": "code",
   "execution_count": 20,
   "metadata": {},
   "outputs": [
    {
     "name": "stdout",
     "output_type": "stream",
     "text": [
      "INFO:tensorflow:Restoring parameters from saved_models/model_nn.ckpt\n",
      "Loss L: 0.16747588\n",
      "Acc L: 1.0\n"
     ]
    }
   ],
   "source": [
    "#Get validation results for the neural network model with different temperatures\n",
    "with tf.Session() as sess:\n",
    "    init = tf.global_variables_initializer()\n",
    "    sess.run(init)\n",
    "    saver_nn.restore(sess, \"saved_models/model_nn.ckpt\")\n",
    "    l_nn, a_nn = sess.run([loss_nn, acc_nn], feed_dict={x: val_data, y_true: val_labels})\n",
    "    print('Loss L: ' + str(l_nn[0]))\n",
    "    print('Acc L: ' + str(a_nn))"
   ]
  },
  {
   "cell_type": "code",
   "execution_count": 21,
   "metadata": {},
   "outputs": [
    {
     "name": "stdout",
     "output_type": "stream",
     "text": [
      "INFO:tensorflow:Restoring parameters from saved_models/model_nn.ckpt\n",
      "Loss L: 0.01399501\n",
      "Acc L: 1.0\n"
     ]
    }
   ],
   "source": [
    "#Get test results for the neural network model\n",
    "with tf.Session() as sess:\n",
    "    init = tf.global_variables_initializer()\n",
    "    sess.run(init)\n",
    "    saver_nn.restore(sess, \"saved_models/model_nn.ckpt\")\n",
    "    l_nn, a_nn = sess.run([loss_nn, acc_nn], feed_dict={x: test_data, y_true: test_labels})\n",
    "    print('Loss L: ' + str(l_nn[0]))\n",
    "    print('Acc L: ' + str(a_nn))"
   ]
  },
  {
   "cell_type": "code",
   "execution_count": 22,
   "metadata": {},
   "outputs": [
    {
     "name": "stdout",
     "output_type": "stream",
     "text": [
      "INFO:tensorflow:Restoring parameters from saved_models/model_nn.ckpt\n"
     ]
    }
   ],
   "source": [
    "#Get test data gradients for the neural network model\n",
    "\n",
    "with tf.Session() as sess:\n",
    "    init = tf.global_variables_initializer()\n",
    "    sess.run(init)\n",
    "    saver_nn.restore(sess, \"saved_models/model_nn.ckpt\")\n",
    "    #Get gradients for class 0 for class 0 inputs\n",
    "    x_0 = test_data[where_test_0[0],:,:]\n",
    "    \n",
    "    grad_nn_0 = sess.run(g_nn, feed_dict={x: x_0, y_true: test_labels[where_test_0[0]]}) \n",
    "    \n",
    "    #Get gradients for class 1 for class 1 inputs\n",
    "    x_1 =test_data[where_test_1[0],:,:]\n",
    "    \n",
    "    grad_nn_1 = sess.run(g_nn, feed_dict={x: x_1, y_true: test_labels[where_test_1[0]]})\n",
    "    \n",
    "    #Get gradients for class 2 for class 2 inputs\n",
    "    x_2 =test_data[where_test_2[0],:,:]\n",
    "\n",
    "    grad_nn_2 = sess.run(g_nn, feed_dict={x: x_2, y_true: test_labels[where_test_2[0]]})\n",
    "    \n",
    "    #Get gradients for class 1 for class 0 inputs\n",
    "    grad_nn_0_1 = sess.run(g_nn, feed_dict={x: x_0, y_true: 1.0*np.ones(test_labels[where_test_0[0]].shape)}) \n",
    "    \n",
    "    #Get gradients for class 2 for class 0 inputs\n",
    "    grad_nn_0_2 = sess.run(g_nn, feed_dict={x: x_0, y_true: 2.0*np.ones(test_labels[where_test_0[0]].shape)}) \n",
    "    \n",
    "    #Get gradients for class 0 for class 1 inputs \n",
    "    grad_nn_1_0 = sess.run(g_nn, feed_dict={x: x_1, y_true: 0.0*np.ones(test_labels[where_test_1[0]].shape)}) \n",
    "    \n",
    "    #Get gradients for class 2 for class 1 inputs\n",
    "    grad_nn_1_2 = sess.run(g_nn, feed_dict={x: x_1, y_true: 2.0*np.ones(test_labels[where_test_1[0]].shape)}) \n",
    "    \n",
    "    #Get gradients for class 0 for class 2 inputs\n",
    "    grad_nn_2_0 = sess.run(g_nn, feed_dict={x: x_2, y_true: 0.0*np.ones(test_labels[where_test_2[0]].shape)}) \n",
    "    \n",
    "    #Get gradients for class 1 for class 2 inputs\n",
    "    grad_nn_2_1 = sess.run(g_nn, feed_dict={x: x_2, y_true: 1.0*np.ones(test_labels[where_test_2[0]].shape)})"
   ]
  },
  {
   "cell_type": "code",
   "execution_count": 23,
   "metadata": {},
   "outputs": [
    {
     "data": {
      "text/plain": [
       "<matplotlib.image.AxesImage at 0x7fb56c0575f8>"
      ]
     },
     "execution_count": 23,
     "metadata": {},
     "output_type": "execute_result"
    },
    {
     "data": {
      "image/png": "[encoded data removed]",
      "text/plain": [
       "<Figure size 288x288 with 1 Axes>"
      ]
     },
     "metadata": {
      "needs_background": "light"
     },
     "output_type": "display_data"
    },
    {
     "data": {
      "image/png": "[encoded data removed]",
      "text/plain": [
       "<Figure size 288x288 with 1 Axes>"
      ]
     },
     "metadata": {
      "needs_background": "light"
     },
     "output_type": "display_data"
    },
    {
     "data": {
      "image/png": "[encoded data removed]",
      "text/plain": [
       "<Figure size 288x288 with 1 Axes>"
      ]
     },
     "metadata": {
      "needs_background": "light"
     },
     "output_type": "display_data"
    },
    {
     "data": {
      "image/png": "[encoded data removed]",
      "text/plain": [
       "<Figure size 288x288 with 1 Axes>"
      ]
     },
     "metadata": {
      "needs_background": "light"
     },
     "output_type": "display_data"
    },
    {
     "data": {
      "image/png": "[encoded data removed]",
      "text/plain": [
       "<Figure size 288x288 with 1 Axes>"
      ]
     },
     "metadata": {
      "needs_background": "light"
     },
     "output_type": "display_data"
    },
    {
     "data": {
      "image/png": "[encoded data removed]",
      "text/plain": [
       "<Figure size 288x288 with 1 Axes>"
      ]
     },
     "metadata": {
      "needs_background": "light"
     },
     "output_type": "display_data"
    },
    {
     "data": {
      "image/png": "[encoded data removed]",
      "text/plain": [
       "<Figure size 288x288 with 1 Axes>"
      ]
     },
     "metadata": {
      "needs_background": "light"
     },
     "output_type": "display_data"
    },
    {
     "data": {
      "image/png": "[encoded data removed]",
      "text/plain": [
       "<Figure size 288x288 with 1 Axes>"
      ]
     },
     "metadata": {
      "needs_background": "light"
     },
     "output_type": "display_data"
    },
    {
     "data": {
      "image/png": "[encoded data removed]",
      "text/plain": [
       "<Figure size 288x288 with 1 Axes>"
      ]
     },
     "metadata": {
      "needs_background": "light"
     },
     "output_type": "display_data"
    }
   ],
   "source": [
    "#Plot gradients for the neural network model\n",
    "\n",
    "#Plot gradients for class 0 for class 0 inputs\n",
    "clim = np.abs(grad_nn_0[0].mean(axis=0)).max()\n",
    "plt.matshow(np.reshape(grad_nn_0[0].mean(axis=0),[32,32]),cmap='seismic',vmin=-1.0*clim,vmax=clim)\n",
    "\n",
    "#Plot gradients for class 1 for class 1 inputs\n",
    "clim = np.abs(grad_nn_1[0].mean(axis=0)).max()\n",
    "plt.matshow(np.reshape(grad_nn_1[0].mean(axis=0),[32,32]),cmap='seismic',vmin=-1.0*clim,vmax=clim)\n",
    "\n",
    "#Plot gradientws for class 2 for class 2 inputs\n",
    "clim = np.abs(grad_nn_2[0].mean(axis=0)).max()\n",
    "plt.matshow(np.reshape(grad_nn_2[0].mean(axis=0),[32,32]),cmap='seismic',vmin=-1.0*clim,vmax=clim)\n",
    "\n",
    "#Plot gradients for class 1 for class 0 inputs\n",
    "clim = np.abs(grad_nn_0_1[0].mean(axis=0)).max()\n",
    "plt.matshow(np.reshape(grad_nn_0_1[0].mean(axis=0),[32,32]),cmap='seismic',vmin=-1.0*clim,vmax=clim)\n",
    "\n",
    "#Plot gradients for class 2 for class 0 inputs\n",
    "clim = np.abs(grad_nn_0_2[0].mean(axis=0)).max()\n",
    "plt.matshow(np.reshape(grad_nn_0_2[0].mean(axis=0),[32,32]),cmap='seismic',vmin=-1.0*clim,vmax=clim)\n",
    "\n",
    "#Plot gradients for class 0 for class 1 inputs\n",
    "clim = np.abs(grad_nn_1_0[0].mean(axis=0)).max()\n",
    "plt.matshow(np.reshape(grad_nn_1_0[0].mean(axis=0),[32,32]),cmap='seismic',vmin=-1.0*clim,vmax=clim)\n",
    "\n",
    "#Plot gradients for class 2 for class 1 inputs\n",
    "clim = np.abs(grad_nn_1_2[0].mean(axis=0)).max()\n",
    "plt.matshow(np.reshape(grad_nn_1_2[0].mean(axis=0),[32,32]),cmap='seismic',vmin=-1.0*clim,vmax=clim)\n",
    "\n",
    "#Plot gradients for class 0 for class 2 inputs\n",
    "clim = np.abs(grad_nn_2_0[0].mean(axis=0)).max()\n",
    "plt.matshow(np.reshape(grad_nn_2_0[0].mean(axis=0),[32,32]),cmap='seismic',vmin=-1.0*clim,vmax=clim)\n",
    "\n",
    "#Plot gradients for class 1 for class 2 inputs\n",
    "clim = np.abs(grad_nn_2_1[0].mean(axis=0)).max()\n",
    "plt.matshow(np.reshape(grad_nn_2_1[0].mean(axis=0),[32,32]),cmap='seismic',vmin=-1.0*clim,vmax=clim)"
   ]
  },
  {
   "cell_type": "code",
   "execution_count": 24,
   "metadata": {},
   "outputs": [
    {
     "name": "stdout",
     "output_type": "stream",
     "text": [
      "INFO:tensorflow:Restoring parameters from saved_models/model_nn.ckpt\n"
     ]
    }
   ],
   "source": [
    "#Get test data gradients for the neural network model with SmoothGrad\n",
    "\n",
    "with tf.Session() as sess:\n",
    "    init = tf.global_variables_initializer()\n",
    "    sess.run(init)\n",
    "    saver_nn.restore(sess, \"saved_models/model_nn.ckpt\")\n",
    "    #Get gradients for class 0 for class 0 inputs\n",
    "    x_0 = test_data[where_test_0[0],:,:]\n",
    "    \n",
    "    grads = []\n",
    "    for m in range(10):\n",
    "        grads.append(sess.run(g_nn, feed_dict={x: x_0+np.random.normal(loc=0.0,scale=0.3,size=x_0.shape), y_true: test_labels[where_test_0[0]]})[0])\n",
    "    grad_sg_0 = np.array(grads).mean(axis=0,keepdims=True) \n",
    "    \n",
    "    #Get gradients for class 1 for class 1 inputs\n",
    "    x_1 =test_data[where_test_1[0],:,:]\n",
    "    \n",
    "    grads = []\n",
    "    for m in range(10):\n",
    "        grads.append(sess.run(g_nn, feed_dict={x: x_1+np.random.normal(loc=0.0,scale=0.3,size=x_1.shape), y_true: test_labels[where_test_1[0]]})[0])\n",
    "    grad_sg_1 = np.array(grads).mean(axis=0,keepdims=True) \n",
    "    \n",
    "    #Get gradients for class 2 for class 2 inputs\n",
    "    x_2 =test_data[where_test_2[0],:,:]\n",
    "    \n",
    "    grads = []\n",
    "    for m in range(10):\n",
    "        grads.append(sess.run(g_nn, feed_dict={x: x_2+np.random.normal(loc=0.0,scale=0.3,size=x_2.shape), y_true: test_labels[where_test_2[0]]})[0])\n",
    "    grad_sg_2 = np.array(grads).mean(axis=0,keepdims=True) \n",
    "    \n",
    "    #Get gradients for class 1 for class 0 inputs\n",
    "    grads = []\n",
    "    for m in range(10):\n",
    "        grads.append(sess.run(g_nn, feed_dict={x: x_0+np.random.normal(loc=0.0,scale=0.3,size=x_0.shape), y_true: 1.0*np.ones(test_labels[where_test_0[0]].shape)})[0])\n",
    "    grad_sg_0_1 = np.array(grads).mean(axis=0,keepdims=True)  \n",
    "    \n",
    "    #Get gradients for class 2 for class 0 inputs\n",
    "    grads = []\n",
    "    for m in range(10):\n",
    "        grads.append(sess.run(g_nn, feed_dict={x: x_0+np.random.normal(loc=0.0,scale=0.3,size=x_0.shape), y_true: 2.0*np.ones(test_labels[where_test_0[0]].shape)})[0])\n",
    "    grad_sg_0_2 = np.array(grads).mean(axis=0,keepdims=True)  \n",
    "    \n",
    "    #Get gradients for class 0 for class 1 inputs\n",
    "    grads = []\n",
    "    for m in range(10):\n",
    "        grads.append(sess.run(g_nn, feed_dict={x: x_1+np.random.normal(loc=0.0,scale=0.3,size=x_1.shape), y_true: 0.0*np.ones(test_labels[where_test_1[0]].shape)})[0])\n",
    "    grad_sg_1_0 = np.array(grads).mean(axis=0,keepdims=True)\n",
    "    \n",
    "    #Get gradients for class 2 for class 1 inputs\n",
    "    grads = []\n",
    "    for m in range(10):\n",
    "        grads.append(sess.run(g_nn, feed_dict={x: x_1+np.random.normal(loc=0.0,scale=0.3,size=x_1.shape), y_true: 2.0*np.ones(test_labels[where_test_1[0]].shape)})[0])\n",
    "    grad_sg_1_2 = np.array(grads).mean(axis=0,keepdims=True)\n",
    "    \n",
    "    #Get gradients for class 0 for class 2 inputs\n",
    "    grads = []\n",
    "    for m in range(10):\n",
    "        grads.append(sess.run(g_nn, feed_dict={x: x_2+np.random.normal(loc=0.0,scale=0.3,size=x_2.shape), y_true: 0.0*np.ones(test_labels[where_test_2[0]].shape)})[0])\n",
    "    grad_sg_2_0 = np.array(grads).mean(axis=0,keepdims=True)\n",
    "    \n",
    "    #Get gradients for class 1 for class 2 inputs\n",
    "    grads = []\n",
    "    for m in range(10):\n",
    "        grads.append(sess.run(g_nn, feed_dict={x: x_2+np.random.normal(loc=0.0,scale=0.3,size=x_2.shape), y_true: 1.0*np.ones(test_labels[where_test_2[0]].shape)})[0])\n",
    "    grad_sg_2_1 = np.array(grads).mean(axis=0,keepdims=True)"
   ]
  },
  {
   "cell_type": "code",
   "execution_count": 25,
   "metadata": {},
   "outputs": [
    {
     "data": {
      "text/plain": [
       "<matplotlib.image.AxesImage at 0x7fb564443e10>"
      ]
     },
     "execution_count": 25,
     "metadata": {},
     "output_type": "execute_result"
    },
    {
     "data": {
      "image/png": "[encoded data removed]",
      "text/plain": [
       "<Figure size 288x288 with 1 Axes>"
      ]
     },
     "metadata": {
      "needs_background": "light"
     },
     "output_type": "display_data"
    },
    {
     "data": {
      "image/png": "[encoded data removed]",
      "text/plain": [
       "<Figure size 288x288 with 1 Axes>"
      ]
     },
     "metadata": {
      "needs_background": "light"
     },
     "output_type": "display_data"
    },
    {
     "data": {
      "image/png": "[encoded data removed]",
      "text/plain": [
       "<Figure size 288x288 with 1 Axes>"
      ]
     },
     "metadata": {
      "needs_background": "light"
     },
     "output_type": "display_data"
    },
    {
     "data": {
      "image/png": "[encoded data removed]",
      "text/plain": [
       "<Figure size 288x288 with 1 Axes>"
      ]
     },
     "metadata": {
      "needs_background": "light"
     },
     "output_type": "display_data"
    },
    {
     "data": {
      "image/png": "[encoded data removed]",
      "text/plain": [
       "<Figure size 288x288 with 1 Axes>"
      ]
     },
     "metadata": {
      "needs_background": "light"
     },
     "output_type": "display_data"
    },
    {
     "data": {
      "image/png": "[encoded data removed]",
      "text/plain": [
       "<Figure size 288x288 with 1 Axes>"
      ]
     },
     "metadata": {
      "needs_background": "light"
     },
     "output_type": "display_data"
    },
    {
     "data": {
      "image/png": "[encoded data removed]",
      "text/plain": [
       "<Figure size 288x288 with 1 Axes>"
      ]
     },
     "metadata": {
      "needs_background": "light"
     },
     "output_type": "display_data"
    },
    {
     "data": {
      "image/png": "[encoded data removed]",
      "text/plain": [
       "<Figure size 288x288 with 1 Axes>"
      ]
     },
     "metadata": {
      "needs_background": "light"
     },
     "output_type": "display_data"
    },
    {
     "data": {
      "image/png": "[encoded data removed]",
      "text/plain": [
       "<Figure size 288x288 with 1 Axes>"
      ]
     },
     "metadata": {
      "needs_background": "light"
     },
     "output_type": "display_data"
    }
   ],
   "source": [
    "#Plot gradients for the neural network model with SmoothGrad\n",
    "\n",
    "#Plot gradients for class 0 for class 0 inputs\n",
    "clim = np.abs(grad_sg_0[0].mean(axis=0)).max()\n",
    "plt.matshow(np.reshape(grad_sg_0[0].mean(axis=0),[32,32]),cmap='seismic',vmin=-1.0*clim,vmax=clim)\n",
    "\n",
    "#Plot gradients for class 1 for class 1 inputs\n",
    "clim = np.abs(grad_sg_1[0].mean(axis=0)).max()\n",
    "plt.matshow(np.reshape(grad_sg_1[0].mean(axis=0),[32,32]),cmap='seismic',vmin=-1.0*clim,vmax=clim)\n",
    "\n",
    "#Plot gradientws for class 2 for class 2 inputs\n",
    "clim = np.abs(grad_sg_2[0].mean(axis=0)).max()\n",
    "plt.matshow(np.reshape(grad_sg_2[0].mean(axis=0),[32,32]),cmap='seismic',vmin=-1.0*clim,vmax=clim)\n",
    "\n",
    "#Plot gradients for class 1 for class 0 inputs\n",
    "clim = np.abs(grad_sg_0_1[0].mean(axis=0)).max()\n",
    "plt.matshow(np.reshape(grad_sg_0_1[0].mean(axis=0),[32,32]),cmap='seismic',vmin=-1.0*clim,vmax=clim)\n",
    "\n",
    "#Plot gradients for class 2 for class 0 inputs\n",
    "clim = np.abs(grad_sg_0_2[0].mean(axis=0)).max()\n",
    "plt.matshow(np.reshape(grad_sg_0_2[0].mean(axis=0),[32,32]),cmap='seismic',vmin=-1.0*clim,vmax=clim)\n",
    "\n",
    "#Plot gradients for class 0 for class 1 inputs\n",
    "clim = np.abs(grad_sg_1_0[0].mean(axis=0)).max()\n",
    "plt.matshow(np.reshape(grad_sg_1_0[0].mean(axis=0),[32,32]),cmap='seismic',vmin=-1.0*clim,vmax=clim)\n",
    "\n",
    "#Plot gradients for class 2 for class 1 inputs\n",
    "clim = np.abs(grad_sg_1_2[0].mean(axis=0)).max()\n",
    "plt.matshow(np.reshape(grad_sg_1_2[0].mean(axis=0),[32,32]),cmap='seismic',vmin=-1.0*clim,vmax=clim)\n",
    "\n",
    "#Plot gradients for class 0 for class 2 inputs\n",
    "clim = np.abs(grad_sg_2_0[0].mean(axis=0)).max()\n",
    "plt.matshow(np.reshape(grad_sg_2_0[0].mean(axis=0),[32,32]),cmap='seismic',vmin=-1.0*clim,vmax=clim)\n",
    "\n",
    "#Plot gradients for class 1 for class 2 inputs\n",
    "clim = np.abs(grad_sg_2_1[0].mean(axis=0)).max()\n",
    "plt.matshow(np.reshape(grad_sg_2_1[0].mean(axis=0),[32,32]),cmap='seismic',vmin=-1.0*clim,vmax=clim)"
   ]
  },
  {
   "cell_type": "code",
   "execution_count": 26,
   "metadata": {},
   "outputs": [],
   "source": [
    "#Define function to generate uniform spherical noise\n",
    "def get_sph_noise(shape,epsilon):\n",
    "    n_noise_samples = shape[0]\n",
    "    shape.pop(0)\n",
    "    noise = []\n",
    "    for n in range(n_noise_samples):\n",
    "        noise_tmp = np.random.normal(size=shape)\n",
    "        u = np.random.uniform(size=())\n",
    "        noise_tmp = (epsilon*(u**(1.0/float(np.prod(np.array(shape))))) * noise_tmp / (np.linalg.norm(noise_tmp)+1e-16))  \n",
    "        noise.append(noise_tmp)\n",
    "    return np.array(noise)"
   ]
  },
  {
   "cell_type": "code",
   "execution_count": 27,
   "metadata": {},
   "outputs": [
    {
     "name": "stdout",
     "output_type": "stream",
     "text": [
      "Loss L: 2.4610715\n",
      "Acc L: 0.28806818\n",
      "Loss L: 2.1561537\n",
      "Acc L: 0.30727273\n",
      "Loss L: 1.9625825\n",
      "Acc L: 0.33454546\n",
      "Loss L: 1.6160988\n",
      "Acc L: 0.36397728\n",
      "Loss L: 1.5773058\n",
      "Acc L: 0.40693182\n",
      "Loss L: 1.3651226\n",
      "Acc L: 0.4515909\n",
      "Loss L: 1.1929991\n",
      "Acc L: 0.50511366\n",
      "Loss L: 1.1206042\n",
      "Acc L: 0.5544318\n",
      "Loss L: 0.9935545\n",
      "Acc L: 0.6026136\n",
      "Loss L: 0.86584675\n",
      "Acc L: 0.65090907\n",
      "Loss L: 0.7712937\n",
      "Acc L: 0.69102275\n",
      "Loss L: 0.7197266\n",
      "Acc L: 0.7367045\n",
      "Loss L: 0.6832738\n",
      "Acc L: 0.7731818\n",
      "Loss L: 0.6250668\n",
      "Acc L: 0.8078409\n",
      "Loss L: 0.5999571\n",
      "Acc L: 0.8353409\n",
      "Loss L: 0.5434423\n",
      "Acc L: 0.8603409\n",
      "Loss L: 0.52531636\n",
      "Acc L: 0.88284093\n",
      "Loss L: 0.508674\n",
      "Acc L: 0.9031818\n"
     ]
    },
    {
     "ename": "KeyboardInterrupt",
     "evalue": "",
     "output_type": "error",
     "traceback": [
      "\u001b[0;31m---------------------------------------------------------------------------\u001b[0m",
      "\u001b[0;31mKeyboardInterrupt\u001b[0m                         Traceback (most recent call last)",
      "\u001b[0;32m<ipython-input-27-b3c40293c9ef>\u001b[0m in \u001b[0;36m<module>\u001b[0;34m\u001b[0m\n\u001b[1;32m      5\u001b[0m     \u001b[0msess\u001b[0m\u001b[0;34m.\u001b[0m\u001b[0mrun\u001b[0m\u001b[0;34m(\u001b[0m\u001b[0minit\u001b[0m\u001b[0;34m)\u001b[0m\u001b[0;34m\u001b[0m\u001b[0;34m\u001b[0m\u001b[0m\n\u001b[1;32m      6\u001b[0m     \u001b[0;32mfor\u001b[0m \u001b[0mep\u001b[0m \u001b[0;32min\u001b[0m \u001b[0mrange\u001b[0m\u001b[0;34m(\u001b[0m\u001b[0mn_ep\u001b[0m\u001b[0;34m)\u001b[0m\u001b[0;34m:\u001b[0m\u001b[0;34m\u001b[0m\u001b[0;34m\u001b[0m\u001b[0m\n\u001b[0;32m----> 7\u001b[0;31m         \u001b[0mnoise\u001b[0m \u001b[0;34m=\u001b[0m \u001b[0mget_sph_noise\u001b[0m\u001b[0;34m(\u001b[0m\u001b[0mlist\u001b[0m\u001b[0;34m(\u001b[0m\u001b[0mtrain_data\u001b[0m\u001b[0;34m.\u001b[0m\u001b[0mshape\u001b[0m\u001b[0;34m)\u001b[0m\u001b[0;34m,\u001b[0m\u001b[0;36m1.0\u001b[0m\u001b[0;34m)\u001b[0m\u001b[0;34m\u001b[0m\u001b[0;34m\u001b[0m\u001b[0m\n\u001b[0m\u001b[1;32m      8\u001b[0m         \u001b[0m_\u001b[0m\u001b[0;34m,\u001b[0m \u001b[0ml_sph\u001b[0m\u001b[0;34m,\u001b[0m \u001b[0ma_sph\u001b[0m \u001b[0;34m=\u001b[0m \u001b[0msess\u001b[0m\u001b[0;34m.\u001b[0m\u001b[0mrun\u001b[0m\u001b[0;34m(\u001b[0m\u001b[0;34m[\u001b[0m\u001b[0mtrain_sph\u001b[0m\u001b[0;34m,\u001b[0m \u001b[0mloss_sph\u001b[0m\u001b[0;34m,\u001b[0m \u001b[0macc_sph\u001b[0m\u001b[0;34m]\u001b[0m\u001b[0;34m,\u001b[0m \u001b[0mfeed_dict\u001b[0m\u001b[0;34m=\u001b[0m\u001b[0;34m{\u001b[0m\u001b[0mx\u001b[0m\u001b[0;34m:\u001b[0m \u001b[0mtrain_data\u001b[0m\u001b[0;34m+\u001b[0m\u001b[0mnoise\u001b[0m\u001b[0;34m,\u001b[0m \u001b[0my_true\u001b[0m\u001b[0;34m:\u001b[0m \u001b[0mtrain_labels\u001b[0m\u001b[0;34m}\u001b[0m\u001b[0;34m)\u001b[0m\u001b[0;34m\u001b[0m\u001b[0;34m\u001b[0m\u001b[0m\n\u001b[1;32m      9\u001b[0m         \u001b[0mprint\u001b[0m\u001b[0;34m(\u001b[0m\u001b[0;34m'Loss L: '\u001b[0m \u001b[0;34m+\u001b[0m \u001b[0mstr\u001b[0m\u001b[0;34m(\u001b[0m\u001b[0ml_sph\u001b[0m\u001b[0;34m[\u001b[0m\u001b[0;36m0\u001b[0m\u001b[0;34m]\u001b[0m\u001b[0;34m)\u001b[0m\u001b[0;34m)\u001b[0m\u001b[0;34m\u001b[0m\u001b[0;34m\u001b[0m\u001b[0m\n",
      "\u001b[0;32m<ipython-input-26-4b8b21b3e9bb>\u001b[0m in \u001b[0;36mget_sph_noise\u001b[0;34m(shape, epsilon)\u001b[0m\n\u001b[1;32m      5\u001b[0m     \u001b[0mnoise\u001b[0m \u001b[0;34m=\u001b[0m \u001b[0;34m[\u001b[0m\u001b[0;34m]\u001b[0m\u001b[0;34m\u001b[0m\u001b[0;34m\u001b[0m\u001b[0m\n\u001b[1;32m      6\u001b[0m     \u001b[0;32mfor\u001b[0m \u001b[0mn\u001b[0m \u001b[0;32min\u001b[0m \u001b[0mrange\u001b[0m\u001b[0;34m(\u001b[0m\u001b[0mn_noise_samples\u001b[0m\u001b[0;34m)\u001b[0m\u001b[0;34m:\u001b[0m\u001b[0;34m\u001b[0m\u001b[0;34m\u001b[0m\u001b[0m\n\u001b[0;32m----> 7\u001b[0;31m         \u001b[0mnoise_tmp\u001b[0m \u001b[0;34m=\u001b[0m \u001b[0mnp\u001b[0m\u001b[0;34m.\u001b[0m\u001b[0mrandom\u001b[0m\u001b[0;34m.\u001b[0m\u001b[0mnormal\u001b[0m\u001b[0;34m(\u001b[0m\u001b[0msize\u001b[0m\u001b[0;34m=\u001b[0m\u001b[0mshape\u001b[0m\u001b[0;34m)\u001b[0m\u001b[0;34m\u001b[0m\u001b[0;34m\u001b[0m\u001b[0m\n\u001b[0m\u001b[1;32m      8\u001b[0m         \u001b[0mu\u001b[0m \u001b[0;34m=\u001b[0m \u001b[0mnp\u001b[0m\u001b[0;34m.\u001b[0m\u001b[0mrandom\u001b[0m\u001b[0;34m.\u001b[0m\u001b[0muniform\u001b[0m\u001b[0;34m(\u001b[0m\u001b[0msize\u001b[0m\u001b[0;34m=\u001b[0m\u001b[0;34m(\u001b[0m\u001b[0;34m)\u001b[0m\u001b[0;34m)\u001b[0m\u001b[0;34m\u001b[0m\u001b[0;34m\u001b[0m\u001b[0m\n\u001b[1;32m      9\u001b[0m         \u001b[0mnoise_tmp\u001b[0m \u001b[0;34m=\u001b[0m \u001b[0;34m(\u001b[0m\u001b[0mepsilon\u001b[0m\u001b[0;34m*\u001b[0m\u001b[0;34m(\u001b[0m\u001b[0mu\u001b[0m\u001b[0;34m**\u001b[0m\u001b[0;34m(\u001b[0m\u001b[0;36m1.0\u001b[0m\u001b[0;34m/\u001b[0m\u001b[0mfloat\u001b[0m\u001b[0;34m(\u001b[0m\u001b[0mnp\u001b[0m\u001b[0;34m.\u001b[0m\u001b[0mprod\u001b[0m\u001b[0;34m(\u001b[0m\u001b[0mnp\u001b[0m\u001b[0;34m.\u001b[0m\u001b[0marray\u001b[0m\u001b[0;34m(\u001b[0m\u001b[0mshape\u001b[0m\u001b[0;34m)\u001b[0m\u001b[0;34m)\u001b[0m\u001b[0;34m)\u001b[0m\u001b[0;34m)\u001b[0m\u001b[0;34m)\u001b[0m \u001b[0;34m*\u001b[0m \u001b[0mnoise_tmp\u001b[0m \u001b[0;34m/\u001b[0m \u001b[0;34m(\u001b[0m\u001b[0mnp\u001b[0m\u001b[0;34m.\u001b[0m\u001b[0mlinalg\u001b[0m\u001b[0;34m.\u001b[0m\u001b[0mnorm\u001b[0m\u001b[0;34m(\u001b[0m\u001b[0mnoise_tmp\u001b[0m\u001b[0;34m)\u001b[0m\u001b[0;34m+\u001b[0m\u001b[0;36m1e-16\u001b[0m\u001b[0;34m)\u001b[0m\u001b[0;34m)\u001b[0m\u001b[0;34m\u001b[0m\u001b[0;34m\u001b[0m\u001b[0m\n",
      "\u001b[0;31mKeyboardInterrupt\u001b[0m: "
     ]
    }
   ],
   "source": [
    "#Train neural network model with random spherical noise\n",
    "n_ep = 100\n",
    "with tf.Session() as sess:\n",
    "    init = tf.global_variables_initializer()\n",
    "    sess.run(init)\n",
    "    for ep in range(n_ep):\n",
    "        noise = get_sph_noise(list(train_data.shape),1.0)\n",
    "        _, l_sph, a_sph = sess.run([train_sph, loss_sph, acc_sph], feed_dict={x: train_data+noise, y_true: train_labels})\n",
    "        print('Loss L: ' + str(l_sph[0]))\n",
    "        print('Acc L: ' + str(a_sph))\n",
    "    saver_sph.save(sess, \"saved_models/model_sph.ckpt\", write_meta_graph=False)"
   ]
  },
  {
   "cell_type": "code",
   "execution_count": 28,
   "metadata": {},
   "outputs": [
    {
     "name": "stdout",
     "output_type": "stream",
     "text": [
      "INFO:tensorflow:Restoring parameters from saved_models/model_sph.ckpt\n",
      "Loss L: 0.123603396\n",
      "Acc L: 1.0\n"
     ]
    }
   ],
   "source": [
    "#Get validation results for the neural network model trained with spherical noise\n",
    "with tf.Session() as sess:\n",
    "    init = tf.global_variables_initializer()\n",
    "    sess.run(init)\n",
    "    saver_sph.restore(sess, \"saved_models/model_sph.ckpt\")\n",
    "    l_sph, a_sph = sess.run([loss_sph, acc_sph], feed_dict={x: val_data, y_true: val_labels})\n",
    "    print('Loss L: ' + str(l_sph[0]))\n",
    "    print('Acc L: ' + str(a_sph))"
   ]
  },
  {
   "cell_type": "code",
   "execution_count": 29,
   "metadata": {},
   "outputs": [
    {
     "name": "stdout",
     "output_type": "stream",
     "text": [
      "INFO:tensorflow:Restoring parameters from saved_models/model_sph.ckpt\n",
      "Loss L: 0.02130772\n",
      "Acc L: 1.0\n"
     ]
    }
   ],
   "source": [
    "#Get test results for the neural network model trained with spherical noise\n",
    "with tf.Session() as sess:\n",
    "    init = tf.global_variables_initializer()\n",
    "    sess.run(init)\n",
    "    saver_sph.restore(sess, \"saved_models/model_sph.ckpt\")\n",
    "    l_sph, a_sph = sess.run([loss_sph, acc_sph], feed_dict={x: test_data, y_true: test_labels})\n",
    "    print('Loss L: ' + str(l_sph[0]))\n",
    "    print('Acc L: ' + str(a_sph))"
   ]
  },
  {
   "cell_type": "code",
   "execution_count": 43,
   "metadata": {},
   "outputs": [
    {
     "name": "stdout",
     "output_type": "stream",
     "text": [
      "INFO:tensorflow:Restoring parameters from saved_models/model_sph.ckpt\n"
     ]
    }
   ],
   "source": [
    "#Get test data gradients for the neural network model trained with spherical noise\n",
    "\n",
    "with tf.Session() as sess:\n",
    "    init = tf.global_variables_initializer()\n",
    "    sess.run(init)\n",
    "    saver_sph.restore(sess, \"saved_models/model_sph.ckpt\")\n",
    "    #Get gradients for class 0 for class 0 inputs\n",
    "    x_0 = test_data[where_test_0[0],:,:]\n",
    "    \n",
    "    grad_sph_0 = sess.run(g_sph, feed_dict={x: x_0, y_true: test_labels[where_test_0[0]]}) \n",
    "    \n",
    "    #Get gradients for class 1 for class 1 inputs\n",
    "    x_1 =test_data[where_test_1[0],:,:]\n",
    "    \n",
    "    grad_sph_1 = sess.run(g_sph, feed_dict={x: x_1, y_true: test_labels[where_test_1[0]]})\n",
    "    \n",
    "    #Get gradients for class 2 for class 2 inputs\n",
    "    x_2 =test_data[where_test_2[0],:,:]\n",
    "\n",
    "    grad_sph_2 = sess.run(g_sph, feed_dict={x: x_2, y_true: test_labels[where_test_2[0]]})\n",
    "    \n",
    "    #Get gradients for class 1 for class 0 inputs\n",
    "    grad_sph_0_1 = sess.run(g_sph, feed_dict={x: x_0, y_true: 1.0*np.ones(test_labels[where_test_0[0]].shape)}) \n",
    "    \n",
    "    #Get gradients for class 2 for class 0 inputs\n",
    "    grad_sph_0_2 = sess.run(g_sph, feed_dict={x: x_0, y_true: 2.0*np.ones(test_labels[where_test_0[0]].shape)}) \n",
    "    \n",
    "    #Get gradients for class 0 for class 1 inputs \n",
    "    grad_sph_1_0 = sess.run(g_sph, feed_dict={x: x_1, y_true: 0.0*np.ones(test_labels[where_test_1[0]].shape)}) \n",
    "    \n",
    "    #Get gradients for class 2 for class 1 inputs\n",
    "    grad_sph_1_2 = sess.run(g_sph, feed_dict={x: x_1, y_true: 2.0*np.ones(test_labels[where_test_1[0]].shape)}) \n",
    "    \n",
    "    #Get gradients for class 0 for class 2 inputs\n",
    "    grad_sph_2_0 = sess.run(g_sph, feed_dict={x: x_2, y_true: 0.0*np.ones(test_labels[where_test_2[0]].shape)}) \n",
    "    \n",
    "    #Get gradients for class 1 for class 2 inputs\n",
    "    grad_sph_2_1 = sess.run(g_sph, feed_dict={x: x_2, y_true: 1.0*np.ones(test_labels[where_test_2[0]].shape)})"
   ]
  },
  {
   "cell_type": "code",
   "execution_count": 30,
   "metadata": {},
   "outputs": [
    {
     "ename": "NameError",
     "evalue": "name 'grad_sph_0' is not defined",
     "output_type": "error",
     "traceback": [
      "\u001b[0;31m---------------------------------------------------------------------------\u001b[0m",
      "\u001b[0;31mNameError\u001b[0m                                 Traceback (most recent call last)",
      "\u001b[0;32m<ipython-input-30-7db8d59fa9a0>\u001b[0m in \u001b[0;36m<module>\u001b[0;34m\u001b[0m\n\u001b[1;32m      2\u001b[0m \u001b[0;34m\u001b[0m\u001b[0m\n\u001b[1;32m      3\u001b[0m \u001b[0;31m#Plot gradients for class 0 for class 0 inputs\u001b[0m\u001b[0;34m\u001b[0m\u001b[0;34m\u001b[0m\u001b[0;34m\u001b[0m\u001b[0m\n\u001b[0;32m----> 4\u001b[0;31m \u001b[0mclim\u001b[0m \u001b[0;34m=\u001b[0m \u001b[0mnp\u001b[0m\u001b[0;34m.\u001b[0m\u001b[0mabs\u001b[0m\u001b[0;34m(\u001b[0m\u001b[0mgrad_sph_0\u001b[0m\u001b[0;34m[\u001b[0m\u001b[0;36m0\u001b[0m\u001b[0;34m]\u001b[0m\u001b[0;34m.\u001b[0m\u001b[0mmean\u001b[0m\u001b[0;34m(\u001b[0m\u001b[0maxis\u001b[0m\u001b[0;34m=\u001b[0m\u001b[0;36m0\u001b[0m\u001b[0;34m)\u001b[0m\u001b[0;34m)\u001b[0m\u001b[0;34m.\u001b[0m\u001b[0mmax\u001b[0m\u001b[0;34m(\u001b[0m\u001b[0;34m)\u001b[0m\u001b[0;34m\u001b[0m\u001b[0;34m\u001b[0m\u001b[0m\n\u001b[0m\u001b[1;32m      5\u001b[0m \u001b[0mplt\u001b[0m\u001b[0;34m.\u001b[0m\u001b[0mmatshow\u001b[0m\u001b[0;34m(\u001b[0m\u001b[0mnp\u001b[0m\u001b[0;34m.\u001b[0m\u001b[0mreshape\u001b[0m\u001b[0;34m(\u001b[0m\u001b[0mgrad_sph_0\u001b[0m\u001b[0;34m[\u001b[0m\u001b[0;36m0\u001b[0m\u001b[0;34m]\u001b[0m\u001b[0;34m.\u001b[0m\u001b[0mmean\u001b[0m\u001b[0;34m(\u001b[0m\u001b[0maxis\u001b[0m\u001b[0;34m=\u001b[0m\u001b[0;36m0\u001b[0m\u001b[0;34m)\u001b[0m\u001b[0;34m,\u001b[0m\u001b[0;34m[\u001b[0m\u001b[0;36m32\u001b[0m\u001b[0;34m,\u001b[0m\u001b[0;36m32\u001b[0m\u001b[0;34m]\u001b[0m\u001b[0;34m)\u001b[0m\u001b[0;34m,\u001b[0m\u001b[0mcmap\u001b[0m\u001b[0;34m=\u001b[0m\u001b[0;34m'seismic'\u001b[0m\u001b[0;34m,\u001b[0m\u001b[0mvmin\u001b[0m\u001b[0;34m=\u001b[0m\u001b[0;34m-\u001b[0m\u001b[0;36m1.0\u001b[0m\u001b[0;34m*\u001b[0m\u001b[0mclim\u001b[0m\u001b[0;34m,\u001b[0m\u001b[0mvmax\u001b[0m\u001b[0;34m=\u001b[0m\u001b[0mclim\u001b[0m\u001b[0;34m)\u001b[0m\u001b[0;34m\u001b[0m\u001b[0;34m\u001b[0m\u001b[0m\n\u001b[1;32m      6\u001b[0m \u001b[0;34m\u001b[0m\u001b[0m\n",
      "\u001b[0;31mNameError\u001b[0m: name 'grad_sph_0' is not defined"
     ]
    }
   ],
   "source": [
    "#Plot gradients for the neural network model trained with spherical noise\n",
    "\n",
    "#Plot gradients for class 0 for class 0 inputs\n",
    "clim = np.abs(grad_sph_0[0].mean(axis=0)).max()\n",
    "plt.matshow(np.reshape(grad_sph_0[0].mean(axis=0),[32,32]),cmap='seismic',vmin=-1.0*clim,vmax=clim)\n",
    "\n",
    "#Plot gradients for class 1 for class 1 inputs\n",
    "clim = np.abs(grad_sph_1[0].mean(axis=0)).max()\n",
    "plt.matshow(np.reshape(grad_sph_1[0].mean(axis=0),[32,32]),cmap='seismic',vmin=-1.0*clim,vmax=clim)\n",
    "\n",
    "#Plot gradientws for class 2 for class 2 inputs\n",
    "clim = np.abs(grad_sph_2[0].mean(axis=0)).max()\n",
    "plt.matshow(np.reshape(grad_sph_2[0].mean(axis=0),[32,32]),cmap='seismic',vmin=-1.0*clim,vmax=clim)\n",
    "\n",
    "#Plot gradients for class 1 for class 0 inputs\n",
    "clim = np.abs(grad_sph_0_1[0].mean(axis=0)).max()\n",
    "plt.matshow(np.reshape(grad_sph_0_1[0].mean(axis=0),[32,32]),cmap='seismic',vmin=-1.0*clim,vmax=clim)\n",
    "\n",
    "#Plot gradients for class 2 for class 0 inputs\n",
    "clim = np.abs(grad_sph_0_2[0].mean(axis=0)).max()\n",
    "plt.matshow(np.reshape(grad_sph_0_2[0].mean(axis=0),[32,32]),cmap='seismic',vmin=-1.0*clim,vmax=clim)\n",
    "\n",
    "#Plot gradients for class 0 for class 1 inputs\n",
    "clim = np.abs(grad_sph_1_0[0].mean(axis=0)).max()\n",
    "plt.matshow(np.reshape(grad_sph_1_0[0].mean(axis=0),[32,32]),cmap='seismic',vmin=-1.0*clim,vmax=clim)\n",
    "\n",
    "#Plot gradients for class 2 for class 1 inputs\n",
    "clim = np.abs(grad_sph_1_2[0].mean(axis=0)).max()\n",
    "plt.matshow(np.reshape(grad_sph_1_2[0].mean(axis=0),[32,32]),cmap='seismic',vmin=-1.0*clim,vmax=clim)\n",
    "\n",
    "#Plot gradients for class 0 for class 2 inputs\n",
    "clim = np.abs(grad_sph_2_0[0].mean(axis=0)).max()\n",
    "plt.matshow(np.reshape(grad_sph_2_0[0].mean(axis=0),[32,32]),cmap='seismic',vmin=-1.0*clim,vmax=clim)\n",
    "\n",
    "#Plot gradients for class 1 for class 2 inputs\n",
    "clim = np.abs(grad_sph_2_1[0].mean(axis=0)).max()\n",
    "plt.matshow(np.reshape(grad_sph_2_1[0].mean(axis=0),[32,32]),cmap='seismic',vmin=-1.0*clim,vmax=clim)"
   ]
  },
  {
   "cell_type": "code",
   "execution_count": 45,
   "metadata": {
    "scrolled": true
   },
   "outputs": [
    {
     "name": "stdout",
     "output_type": "stream",
     "text": [
      "Loss L: 0.5139222\n",
      "Acc L: 0.38352272\n",
      "Loss L: 0.49762505\n",
      "Acc L: 0.4715909\n",
      "Loss L: 0.4767861\n",
      "Acc L: 0.56113636\n",
      "Loss L: 0.4866257\n",
      "Acc L: 0.65261364\n",
      "Loss L: 0.49412102\n",
      "Acc L: 0.73397726\n",
      "Loss L: 0.48981398\n",
      "Acc L: 0.80545455\n",
      "Loss L: 0.46565396\n",
      "Acc L: 0.8703409\n",
      "Loss L: 0.42405322\n",
      "Acc L: 0.91738635\n",
      "Loss L: 0.36837852\n",
      "Acc L: 0.9507955\n",
      "Loss L: 0.31229556\n",
      "Acc L: 0.9709091\n",
      "Loss L: 0.25975326\n",
      "Acc L: 0.98477274\n",
      "Loss L: 0.21290107\n",
      "Acc L: 0.9934091\n",
      "Loss L: 0.17450017\n",
      "Acc L: 0.9967045\n",
      "Loss L: 0.14009596\n",
      "Acc L: 0.9984091\n",
      "Loss L: 0.10998162\n",
      "Acc L: 0.9997727\n",
      "Loss L: 0.085891694\n",
      "Acc L: 1.0\n",
      "Loss L: 0.066908285\n",
      "Acc L: 1.0\n",
      "Loss L: 0.052249033\n",
      "Acc L: 1.0\n",
      "Loss L: 0.0406813\n",
      "Acc L: 1.0\n",
      "Loss L: 0.031592637\n",
      "Acc L: 1.0\n",
      "Loss L: 0.024527427\n",
      "Acc L: 1.0\n",
      "Loss L: 0.019367166\n",
      "Acc L: 1.0\n",
      "Loss L: 0.015524258\n",
      "Acc L: 1.0\n",
      "Loss L: 0.012719457\n",
      "Acc L: 1.0\n",
      "Loss L: 0.010486501\n",
      "Acc L: 1.0\n",
      "Loss L: 0.0087272655\n",
      "Acc L: 1.0\n",
      "Loss L: 0.007351253\n",
      "Acc L: 1.0\n",
      "Loss L: 0.0062804474\n",
      "Acc L: 1.0\n",
      "Loss L: 0.0054450533\n",
      "Acc L: 1.0\n",
      "Loss L: 0.004786462\n",
      "Acc L: 1.0\n",
      "Loss L: 0.0042651403\n",
      "Acc L: 1.0\n",
      "Loss L: 0.0038447285\n",
      "Acc L: 1.0\n",
      "Loss L: 0.0034983882\n",
      "Acc L: 1.0\n",
      "Loss L: 0.0032138384\n",
      "Acc L: 1.0\n",
      "Loss L: 0.002999452\n",
      "Acc L: 1.0\n",
      "Loss L: 0.0028136687\n",
      "Acc L: 1.0\n",
      "Loss L: 0.0026502032\n",
      "Acc L: 1.0\n",
      "Loss L: 0.0025047855\n",
      "Acc L: 1.0\n",
      "Loss L: 0.0023738558\n",
      "Acc L: 1.0\n",
      "Loss L: 0.0022545652\n",
      "Acc L: 1.0\n",
      "Loss L: 0.0021446578\n",
      "Acc L: 1.0\n",
      "Loss L: 0.0020423522\n",
      "Acc L: 1.0\n",
      "Loss L: 0.001946937\n",
      "Acc L: 1.0\n",
      "Loss L: 0.0018580569\n",
      "Acc L: 1.0\n",
      "Loss L: 0.0017747618\n",
      "Acc L: 1.0\n",
      "Loss L: 0.0016968151\n",
      "Acc L: 1.0\n",
      "Loss L: 0.001623742\n",
      "Acc L: 1.0\n",
      "Loss L: 0.0015550675\n",
      "Acc L: 1.0\n",
      "Loss L: 0.0014899593\n",
      "Acc L: 1.0\n",
      "Loss L: 0.0014280608\n",
      "Acc L: 1.0\n"
     ]
    }
   ],
   "source": [
    "#Train neural network model with adversarial noise\n",
    "n_ep = 50\n",
    "with tf.Session() as sess:\n",
    "    init = tf.global_variables_initializer()\n",
    "    sess.run(init)\n",
    "    for ep in range(n_ep):\n",
    "        _, l_adv, a_adv, grads_adv = sess.run([train_adv, loss_adv, acc_adv, g_adv], feed_dict={x: train_data, y_true: train_labels})\n",
    "        del_1 = grads_adv[0]\n",
    "        norm_del_1 = np.linalg.norm(del_1,axis=(1,2))\n",
    "        norm_where = np.where(norm_del_1>0.0)\n",
    "        norm_del_1 = np.reshape(norm_del_1,(-1,1,1))\n",
    "        del_1[norm_where] = del_1[norm_where] / norm_del_1[norm_where]\n",
    "        del_1 *= -0.1\n",
    "        del_2 = sess.run(g_adv, feed_dict={x: train_data + del_1, y_true: train_labels})[0]\n",
    "        norm_del_2 = np.linalg.norm(del_2,axis=(1,2))\n",
    "        norm_where = np.where(norm_del_2>0.0)\n",
    "        norm_del_2 = np.reshape(norm_del_2,(-1,1,1))\n",
    "        del_2[norm_where] = del_2[norm_where] / norm_del_2[norm_where]\n",
    "        del_2 = del_1 - 1.0 * del_2\n",
    "        del_3 = sess.run(g_adv, feed_dict={x: train_data + del_2, y_true: train_labels})[0]\n",
    "        norm_del_3 = np.linalg.norm(del_3,axis=(1,2))\n",
    "        norm_where = np.where(norm_del_3>0.0)\n",
    "        norm_del_3 = np.reshape(norm_del_3,(-1,1,1))\n",
    "        del_3[norm_where] = del_3[norm_where] / norm_del_3[norm_where]\n",
    "        del_3 = del_2 - 0.1 * del_3\n",
    "        norm_del_3 =  np.linalg.norm(del_3,axis=(1,2))\n",
    "        norm_where = np.where(norm_del_3>1.0)\n",
    "        norm_del_3 = np.reshape(norm_del_3,(-1,1,1))\n",
    "        if len(norm_where) > 0:\n",
    "            del_3[norm_where] = 1.0 * del_3[norm_where] / norm_del_3[norm_where] \n",
    "        _ = sess.run(train_adv, feed_dict={x: (train_data + del_3), y_true: train_labels})\n",
    "        print('Loss L: ' + str(l_adv[0]))\n",
    "        print('Acc L: ' + str(a_adv))\n",
    "    saver_adv.save(sess, \"saved_models/model_adv.ckpt\", write_meta_graph=False)"
   ]
  },
  {
   "cell_type": "code",
   "execution_count": 31,
   "metadata": {},
   "outputs": [
    {
     "name": "stdout",
     "output_type": "stream",
     "text": [
      "INFO:tensorflow:Restoring parameters from saved_models/model_adv.ckpt\n",
      "Loss L: 0.03669863\n",
      "Acc L: 1.0\n"
     ]
    }
   ],
   "source": [
    "#Get validation results for the neural network model trained with adversarial noise\n",
    "with tf.Session() as sess:\n",
    "    init = tf.global_variables_initializer()\n",
    "    sess.run(init)\n",
    "    saver_adv.restore(sess, \"saved_models/model_adv.ckpt\")\n",
    "    l_adv, a_adv = sess.run([loss_adv, acc_adv], feed_dict={x: val_data, y_true: val_labels})\n",
    "    print('Loss L: ' + str(l_adv[0]))\n",
    "    print('Acc L: ' + str(a_adv))"
   ]
  },
  {
   "cell_type": "code",
   "execution_count": 32,
   "metadata": {},
   "outputs": [
    {
     "name": "stdout",
     "output_type": "stream",
     "text": [
      "INFO:tensorflow:Restoring parameters from saved_models/model_adv.ckpt\n",
      "Loss L: 0.020574132\n",
      "Acc L: 1.0\n"
     ]
    }
   ],
   "source": [
    "#Get test results for the neural network model trained with adversarial noise\n",
    "with tf.Session() as sess:\n",
    "    init = tf.global_variables_initializer()\n",
    "    sess.run(init)\n",
    "    saver_adv.restore(sess, \"saved_models/model_adv.ckpt\")\n",
    "    l_adv, a_adv = sess.run([loss_adv, acc_adv], feed_dict={x: test_data, y_true: test_labels})\n",
    "    print('Loss L: ' + str(l_adv[0]))\n",
    "    print('Acc L: ' + str(a_adv))"
   ]
  },
  {
   "cell_type": "code",
   "execution_count": 33,
   "metadata": {},
   "outputs": [
    {
     "name": "stdout",
     "output_type": "stream",
     "text": [
      "INFO:tensorflow:Restoring parameters from saved_models/model_adv.ckpt\n"
     ]
    }
   ],
   "source": [
    "#Get test data gradients for the neural network model trained with adversarial noise\n",
    "\n",
    "with tf.Session() as sess:\n",
    "    init = tf.global_variables_initializer()\n",
    "    sess.run(init)\n",
    "    saver_adv.restore(sess, \"saved_models/model_adv.ckpt\")\n",
    "    #Get gradients for class 0 for class 0 inputs\n",
    "    x_0 = test_data[where_test_0[0],:,:]\n",
    "    \n",
    "    grad_adv_0 = sess.run(g_adv, feed_dict={x: x_0, y_true: test_labels[where_test_0[0]]}) \n",
    "    \n",
    "    #Get gradients for class 1 for class 1 inputs\n",
    "    x_1 =test_data[where_test_1[0],:,:]\n",
    "    \n",
    "    grad_adv_1 = sess.run(g_adv, feed_dict={x: x_1, y_true: test_labels[where_test_1[0]]})\n",
    "    \n",
    "    #Get gradients for class 2 for class 2 inputs\n",
    "    x_2 =test_data[where_test_2[0],:,:]\n",
    "\n",
    "    grad_adv_2 = sess.run(g_adv, feed_dict={x: x_2, y_true: test_labels[where_test_2[0]]})\n",
    "    \n",
    "    #Get gradients for class 1 for class 0 inputs\n",
    "    grad_adv_0_1 = sess.run(g_adv, feed_dict={x: x_0, y_true: 1.0*np.ones(test_labels[where_test_0[0]].shape)}) \n",
    "    \n",
    "    #Get gradients for class 2 for class 0 inputs\n",
    "    grad_adv_0_2 = sess.run(g_adv, feed_dict={x: x_0, y_true: 2.0*np.ones(test_labels[where_test_0[0]].shape)}) \n",
    "    \n",
    "    #Get gradients for class 0 for class 1 inputs \n",
    "    grad_adv_1_0 = sess.run(g_adv, feed_dict={x: x_1, y_true: 0.0*np.ones(test_labels[where_test_1[0]].shape)}) \n",
    "    \n",
    "    #Get gradients for class 2 for class 1 inputs\n",
    "    grad_adv_1_2 = sess.run(g_adv, feed_dict={x: x_1, y_true: 2.0*np.ones(test_labels[where_test_1[0]].shape)}) \n",
    "    \n",
    "    #Get gradients for class 0 for class 2 inputs\n",
    "    grad_adv_2_0 = sess.run(g_adv, feed_dict={x: x_2, y_true: 0.0*np.ones(test_labels[where_test_2[0]].shape)}) \n",
    "    \n",
    "    #Get gradients for class 1 for class 2 inputs\n",
    "    grad_adv_2_1 = sess.run(g_adv, feed_dict={x: x_2, y_true: 1.0*np.ones(test_labels[where_test_2[0]].shape)})"
   ]
  },
  {
   "cell_type": "code",
   "execution_count": 34,
   "metadata": {},
   "outputs": [
    {
     "data": {
      "text/plain": [
       "<matplotlib.image.AxesImage at 0x7fb5645baf98>"
      ]
     },
     "execution_count": 34,
     "metadata": {},
     "output_type": "execute_result"
    },
    {
     "data": {
      "image/png": "[encoded data removed]",
      "text/plain": [
       "<Figure size 288x288 with 1 Axes>"
      ]
     },
     "metadata": {
      "needs_background": "light"
     },
     "output_type": "display_data"
    },
    {
     "data": {
      "image/png": "[encoded data removed]",
      "text/plain": [
       "<Figure size 288x288 with 1 Axes>"
      ]
     },
     "metadata": {
      "needs_background": "light"
     },
     "output_type": "display_data"
    },
    {
     "data": {
      "image/png": "[encoded data removed]",
      "text/plain": [
       "<Figure size 288x288 with 1 Axes>"
      ]
     },
     "metadata": {
      "needs_background": "light"
     },
     "output_type": "display_data"
    },
    {
     "data": {
      "image/png": "[encoded data removed]",
      "text/plain": [
       "<Figure size 288x288 with 1 Axes>"
      ]
     },
     "metadata": {
      "needs_background": "light"
     },
     "output_type": "display_data"
    },
    {
     "data": {
      "image/png": "[encoded data removed]",
      "text/plain": [
       "<Figure size 288x288 with 1 Axes>"
      ]
     },
     "metadata": {
      "needs_background": "light"
     },
     "output_type": "display_data"
    },
    {
     "data": {
      "image/png": "[encoded data removed]",
      "text/plain": [
       "<Figure size 288x288 with 1 Axes>"
      ]
     },
     "metadata": {
      "needs_background": "light"
     },
     "output_type": "display_data"
    },
    {
     "data": {
      "image/png": "[encoded data removed]",
      "text/plain": [
       "<Figure size 288x288 with 1 Axes>"
      ]
     },
     "metadata": {
      "needs_background": "light"
     },
     "output_type": "display_data"
    },
    {
     "data": {
      "image/png": "[encoded data removed]",
      "text/plain": [
       "<Figure size 288x288 with 1 Axes>"
      ]
     },
     "metadata": {
      "needs_background": "light"
     },
     "output_type": "display_data"
    },
    {
     "data": {
      "image/png": "[encoded data removed]",
      "text/plain": [
       "<Figure size 288x288 with 1 Axes>"
      ]
     },
     "metadata": {
      "needs_background": "light"
     },
     "output_type": "display_data"
    }
   ],
   "source": [
    "#Plot gradients for the neural network model trained with adversarial noise\n",
    "\n",
    "#Plot gradients for class 0 for class 0 inputs\n",
    "clim = np.abs(grad_adv_0[0].mean(axis=0)).max()\n",
    "plt.matshow(np.reshape(grad_adv_0[0].mean(axis=0),[32,32]),cmap='seismic',vmin=-1.0*clim,vmax=clim)\n",
    "\n",
    "#Plot gradients for class 1 for class 1 inputs\n",
    "clim = np.abs(grad_adv_1[0].mean(axis=0)).max()\n",
    "plt.matshow(np.reshape(grad_adv_1[0].mean(axis=0),[32,32]),cmap='seismic',vmin=-1.0*clim,vmax=clim)\n",
    "\n",
    "#Plot gradientws for class 2 for class 2 inputs\n",
    "clim = np.abs(grad_adv_2[0].mean(axis=0)).max()\n",
    "plt.matshow(np.reshape(grad_adv_2[0].mean(axis=0),[32,32]),cmap='seismic',vmin=-1.0*clim,vmax=clim)\n",
    "\n",
    "#Plot gradients for class 1 for class 0 inputs\n",
    "clim = np.abs(grad_adv_0_1[0].mean(axis=0)).max()\n",
    "plt.matshow(np.reshape(grad_adv_0_1[0].mean(axis=0),[32,32]),cmap='seismic',vmin=-1.0*clim,vmax=clim)\n",
    "\n",
    "#Plot gradients for class 2 for class 0 inputs\n",
    "clim = np.abs(grad_adv_0_2[0].mean(axis=0)).max()\n",
    "plt.matshow(np.reshape(grad_adv_0_2[0].mean(axis=0),[32,32]),cmap='seismic',vmin=-1.0*clim,vmax=clim)\n",
    "\n",
    "#Plot gradients for class 0 for class 1 inputs\n",
    "clim = np.abs(grad_adv_1_0[0].mean(axis=0)).max()\n",
    "plt.matshow(np.reshape(grad_adv_1_0[0].mean(axis=0),[32,32]),cmap='seismic',vmin=-1.0*clim,vmax=clim)\n",
    "\n",
    "#Plot gradients for class 2 for class 1 inputs\n",
    "clim = np.abs(grad_adv_1_2[0].mean(axis=0)).max()\n",
    "plt.matshow(np.reshape(grad_adv_1_2[0].mean(axis=0),[32,32]),cmap='seismic',vmin=-1.0*clim,vmax=clim)\n",
    "\n",
    "#Plot gradients for class 0 for class 2 inputs\n",
    "clim = np.abs(grad_adv_2_0[0].mean(axis=0)).max()\n",
    "plt.matshow(np.reshape(grad_adv_2_0[0].mean(axis=0),[32,32]),cmap='seismic',vmin=-1.0*clim,vmax=clim)\n",
    "\n",
    "#Plot gradients for class 1 for class 2 inputs\n",
    "clim = np.abs(grad_adv_2_1[0].mean(axis=0)).max()\n",
    "plt.matshow(np.reshape(grad_adv_2_1[0].mean(axis=0),[32,32]),cmap='seismic',vmin=-1.0*clim,vmax=clim)"
   ]
  },
  {
   "cell_type": "code",
   "execution_count": 44,
   "metadata": {},
   "outputs": [],
   "source": [
    "from scipy.stats import pearsonr\n",
    "from scipy.stats import ttest_rel"
   ]
  },
  {
   "cell_type": "code",
   "execution_count": 45,
   "metadata": {},
   "outputs": [
    {
     "data": {
      "text/plain": [
       "(0.4384282886924128, 2.4010001226022086e-49)"
      ]
     },
     "execution_count": 45,
     "metadata": {},
     "output_type": "execute_result"
    }
   ],
   "source": [
    "#Correlation between the class 0 template minus the average template and the class 0 weights\n",
    "pearsonr(np.reshape(weights_l_0[0].mean(axis=0),(-1)),np.reshape(diff_0,(-1)))"
   ]
  },
  {
   "cell_type": "code",
   "execution_count": 46,
   "metadata": {},
   "outputs": [
    {
     "data": {
      "text/plain": [
       "(0.6082362882542584, 1.2372656175840904e-104)"
      ]
     },
     "execution_count": 46,
     "metadata": {},
     "output_type": "execute_result"
    }
   ],
   "source": [
    "#Correlation between the class 0 template minus the average template and the average class 0 linear model gradient for class 0 inputs\n",
    "pearsonr(np.reshape(grad_l_0[0].mean(axis=0),(-1)),np.reshape(diff_0,(-1)))"
   ]
  },
  {
   "cell_type": "code",
   "execution_count": 47,
   "metadata": {},
   "outputs": [
    {
     "data": {
      "text/plain": [
       "(0.714176931598381, 1.6256985729252495e-160)"
      ]
     },
     "execution_count": 47,
     "metadata": {},
     "output_type": "execute_result"
    }
   ],
   "source": [
    "#Correlation between the class 0 template minus the average template and the average class 0 neural network gradient for class 0 inputs\n",
    "pearsonr(np.reshape(grad_nn_0[0].mean(axis=0),(-1)),np.reshape(diff_0,(-1)))"
   ]
  },
  {
   "cell_type": "code",
   "execution_count": 48,
   "metadata": {},
   "outputs": [
    {
     "data": {
      "text/plain": [
       "(0.6804235266935702, 3.895328373801468e-140)"
      ]
     },
     "execution_count": 48,
     "metadata": {},
     "output_type": "execute_result"
    }
   ],
   "source": [
    "#Correlation between the class 0 template minus the average template and the average class 0 neural network trained with spherical noise gradient for class 0 inputs\n",
    "pearsonr(np.reshape(grad_sph_0[0].mean(axis=0),(-1)),np.reshape(diff_0,(-1)))"
   ]
  },
  {
   "cell_type": "code",
   "execution_count": 49,
   "metadata": {},
   "outputs": [
    {
     "data": {
      "text/plain": [
       "(0.7118710444802903, 4.976318666199099e-159)"
      ]
     },
     "execution_count": 49,
     "metadata": {},
     "output_type": "execute_result"
    }
   ],
   "source": [
    "#Correlation between the class 0 template minus the average template and the average class 0 neural network SmoothGrad gradient for class 0 inputs\n",
    "pearsonr(np.reshape(grad_sg_0.mean(axis=0).mean(axis=0),(-1)),np.reshape(diff_0,(-1)))"
   ]
  },
  {
   "cell_type": "code",
   "execution_count": 50,
   "metadata": {},
   "outputs": [
    {
     "data": {
      "text/plain": [
       "(0.9306328419620203, 0.0)"
      ]
     },
     "execution_count": 50,
     "metadata": {},
     "output_type": "execute_result"
    }
   ],
   "source": [
    "#Correlation between the class 0 template minus the average template and the average class 0 neural network with adversarial training gradient for class 0 inputs\n",
    "pearsonr(np.reshape(grad_adv_0[0].mean(axis=0),(-1)),np.reshape(diff_0,(-1)))"
   ]
  },
  {
   "cell_type": "code",
   "execution_count": 51,
   "metadata": {},
   "outputs": [
    {
     "data": {
      "text/plain": [
       "(0.41240289064402963, 2.5602717658520584e-43)"
      ]
     },
     "execution_count": 51,
     "metadata": {},
     "output_type": "execute_result"
    }
   ],
   "source": [
    "#Correlation between the class 1 template minus the average template and the class 1 weights\n",
    "pearsonr(np.reshape(weights_l_1[0].mean(axis=0),(-1)),np.reshape(diff_1,(-1)))"
   ]
  },
  {
   "cell_type": "code",
   "execution_count": 52,
   "metadata": {},
   "outputs": [
    {
     "data": {
      "text/plain": [
       "(0.5720613264309488, 4.684567997860931e-90)"
      ]
     },
     "execution_count": 52,
     "metadata": {},
     "output_type": "execute_result"
    }
   ],
   "source": [
    "#Correlation between the class 1 template minus the average template and the average class 1 linear model gradient for class 1 inputs\n",
    "pearsonr(np.reshape(grad_l_1[0].mean(axis=0),(-1)),np.reshape(diff_1,(-1)))"
   ]
  },
  {
   "cell_type": "code",
   "execution_count": 53,
   "metadata": {},
   "outputs": [
    {
     "data": {
      "text/plain": [
       "(0.7111543116610757, 1.4314271862659334e-158)"
      ]
     },
     "execution_count": 53,
     "metadata": {},
     "output_type": "execute_result"
    }
   ],
   "source": [
    "#Correlation between the class 1 template minus the average template and the average class 1 neural network gradient for class 1 inputs\n",
    "pearsonr(np.reshape(grad_nn_1[0].mean(axis=0),(-1)),np.reshape(diff_1,(-1)))"
   ]
  },
  {
   "cell_type": "code",
   "execution_count": 54,
   "metadata": {},
   "outputs": [
    {
     "data": {
      "text/plain": [
       "(0.7052579391183167, 7.550661898866675e-155)"
      ]
     },
     "execution_count": 54,
     "metadata": {},
     "output_type": "execute_result"
    }
   ],
   "source": [
    "#Correlation between the class 1 template minus the average template and the average class 1 neural network trained with spherical noise gradient for class 1 inputs\n",
    "pearsonr(np.reshape(grad_sph_1[0].mean(axis=0),(-1)),np.reshape(diff_1,(-1)))"
   ]
  },
  {
   "cell_type": "code",
   "execution_count": 55,
   "metadata": {},
   "outputs": [
    {
     "data": {
      "text/plain": [
       "(0.7157044716596981, 1.6541135557338989e-161)"
      ]
     },
     "execution_count": 55,
     "metadata": {},
     "output_type": "execute_result"
    }
   ],
   "source": [
    "#Correlation between the class 1 template minus the average template and the average class 1 neural network SmoothGrad gradient for class 1 inputs\n",
    "pearsonr(np.reshape(grad_sg_1.mean(axis=0).mean(axis=0),(-1)),np.reshape(diff_1,(-1)))"
   ]
  },
  {
   "cell_type": "code",
   "execution_count": 56,
   "metadata": {},
   "outputs": [
    {
     "data": {
      "text/plain": [
       "(0.9228565115603691, 0.0)"
      ]
     },
     "execution_count": 56,
     "metadata": {},
     "output_type": "execute_result"
    }
   ],
   "source": [
    "#Correlation between the class 1 template minus the average template and the average class 1 neural network with adversarial training gradient for class 1 inputs\n",
    "pearsonr(np.reshape(grad_adv_1[0].mean(axis=0),(-1)),np.reshape(diff_1,(-1)))"
   ]
  },
  {
   "cell_type": "code",
   "execution_count": 57,
   "metadata": {},
   "outputs": [
    {
     "data": {
      "text/plain": [
       "(0.41013627194609587, 8.102811811138237e-43)"
      ]
     },
     "execution_count": 57,
     "metadata": {},
     "output_type": "execute_result"
    }
   ],
   "source": [
    "#Correlation between the class 2 template minus the average template and the class 2 weights\n",
    "pearsonr(np.reshape(weights_l_2[0].mean(axis=0),(-1)),np.reshape(diff_2,(-1)))"
   ]
  },
  {
   "cell_type": "code",
   "execution_count": 58,
   "metadata": {},
   "outputs": [
    {
     "data": {
      "text/plain": [
       "(0.5756364836235778, 2.043040640805722e-91)"
      ]
     },
     "execution_count": 58,
     "metadata": {},
     "output_type": "execute_result"
    }
   ],
   "source": [
    "#Correlation between the class 2 template minus the average template and the average class 2 linear model gradient for class 2 inputs\n",
    "pearsonr(np.reshape(grad_l_2[0].mean(axis=0),(-1)),np.reshape(diff_2,(-1)))"
   ]
  },
  {
   "cell_type": "code",
   "execution_count": 59,
   "metadata": {},
   "outputs": [
    {
     "data": {
      "text/plain": [
       "(0.7422643001958169, 7.009509560959569e-180)"
      ]
     },
     "execution_count": 59,
     "metadata": {},
     "output_type": "execute_result"
    }
   ],
   "source": [
    "#Correlation between the class 2 template minus the average template and the average class 2 neural network gradient for class 2 inputs\n",
    "pearsonr(np.reshape(grad_nn_2[0].mean(axis=0),(-1)),np.reshape(diff_2,(-1)))"
   ]
  },
  {
   "cell_type": "code",
   "execution_count": 60,
   "metadata": {},
   "outputs": [
    {
     "data": {
      "text/plain": [
       "(0.6980181577938744, 2.1063538026782098e-150)"
      ]
     },
     "execution_count": 60,
     "metadata": {},
     "output_type": "execute_result"
    }
   ],
   "source": [
    "#Correlation between the class 2 template minus the average template and the average class 2 neural network trained with spherical noise gradient for class 2 inputs\n",
    "pearsonr(np.reshape(grad_sph_2[0].mean(axis=0),(-1)),np.reshape(diff_2,(-1)))"
   ]
  },
  {
   "cell_type": "code",
   "execution_count": 61,
   "metadata": {},
   "outputs": [
    {
     "data": {
      "text/plain": [
       "(0.740472862835291, 1.4309255548009363e-178)"
      ]
     },
     "execution_count": 61,
     "metadata": {},
     "output_type": "execute_result"
    }
   ],
   "source": [
    "#Correlation between the class 2 template minus the average template and the average class 2 neural network SmoothGrad gradient for class 2 inputs\n",
    "pearsonr(np.reshape(grad_sg_2.mean(axis=0).mean(axis=0),(-1)),np.reshape(diff_2,(-1)))"
   ]
  },
  {
   "cell_type": "code",
   "execution_count": 62,
   "metadata": {},
   "outputs": [
    {
     "data": {
      "text/plain": [
       "(0.9323149887598365, 0.0)"
      ]
     },
     "execution_count": 62,
     "metadata": {},
     "output_type": "execute_result"
    }
   ],
   "source": [
    "#Correlation between the class 2 template minus the average template and the average class 2 neural network with adversarial training gradient for class 2 inputs\n",
    "pearsonr(np.reshape(grad_adv_2[0].mean(axis=0),(-1)),np.reshape(diff_2,(-1)))"
   ]
  },
  {
   "cell_type": "code",
   "execution_count": 63,
   "metadata": {},
   "outputs": [],
   "source": [
    "#Get the correlation between the class template minus the average template and the respective weights for each input\n",
    "corrs_weights = []\n",
    "for i in range(weights_l_0[0].shape[0]):\n",
    "    corrs_weights.append(pearsonr(np.reshape(weights_l_0[0][i],(-1)),np.reshape(diff_0,(-1)))[0])\n",
    "for i in range(weights_l_1[0].shape[0]):\n",
    "    corrs_weights.append(pearsonr(np.reshape(weights_l_1[0][i],(-1)),np.reshape(diff_1,(-1)))[0])\n",
    "for i in range(weights_l_2[0].shape[0]):\n",
    "    corrs_weights.append(pearsonr(np.reshape(weights_l_2[0][i],(-1)),np.reshape(diff_2,(-1)))[0])"
   ]
  },
  {
   "cell_type": "code",
   "execution_count": 64,
   "metadata": {},
   "outputs": [],
   "source": [
    "#Get the correlation between the class template minus the average template and the respective linear model gradient for each input\n",
    "corrs_grad_l = []\n",
    "for i in range(grad_l_0[0].shape[0]):\n",
    "    corrs_grad_l.append(pearsonr(np.reshape(grad_l_0[0][i],(-1)),np.reshape(diff_0,(-1)))[0])\n",
    "for i in range(grad_l_1[0].shape[0]):\n",
    "    corrs_grad_l.append(pearsonr(np.reshape(grad_l_1[0][i],(-1)),np.reshape(diff_1,(-1)))[0])\n",
    "for i in range(grad_l_2[0].shape[0]):\n",
    "    corrs_grad_l.append(pearsonr(np.reshape(grad_l_2[0][i],(-1)),np.reshape(diff_2,(-1)))[0])"
   ]
  },
  {
   "cell_type": "code",
   "execution_count": 65,
   "metadata": {},
   "outputs": [],
   "source": [
    "#Get the correlation between the class template minus the average template and the respective neural network gradient for each input\n",
    "corrs_grad_nn = []\n",
    "for i in range(grad_nn_0[0].shape[0]):\n",
    "    corrs_grad_nn.append(pearsonr(np.reshape(grad_nn_0[0][i],(-1)),np.reshape(diff_0,(-1)))[0])\n",
    "for i in range(grad_nn_1[0].shape[0]):\n",
    "    corrs_grad_nn.append(pearsonr(np.reshape(grad_nn_1[0][i],(-1)),np.reshape(diff_1,(-1)))[0])\n",
    "for i in range(grad_nn_2[0].shape[0]):\n",
    "    corrs_grad_nn.append(pearsonr(np.reshape(grad_nn_2[0][i],(-1)),np.reshape(diff_2,(-1)))[0])"
   ]
  },
  {
   "cell_type": "code",
   "execution_count": 66,
   "metadata": {},
   "outputs": [],
   "source": [
    "#Get the correlation between the class template minus the average template and the respective neural network trained with spherical noise gradient for each input\n",
    "corrs_grad_sph = []\n",
    "for i in range(grad_sph_0[0].shape[0]):\n",
    "    corrs_grad_sph.append(pearsonr(np.reshape(grad_sph_0[0][i],(-1)),np.reshape(diff_0,(-1)))[0])\n",
    "for i in range(grad_sph_1[0].shape[0]):\n",
    "    corrs_grad_sph.append(pearsonr(np.reshape(grad_sph_1[0][i],(-1)),np.reshape(diff_1,(-1)))[0])\n",
    "for i in range(grad_sph_2[0].shape[0]):\n",
    "    corrs_grad_sph.append(pearsonr(np.reshape(grad_sph_2[0][i],(-1)),np.reshape(diff_2,(-1)))[0])"
   ]
  },
  {
   "cell_type": "code",
   "execution_count": 67,
   "metadata": {},
   "outputs": [],
   "source": [
    "#Get the correlation between the class template minus the average template and the respective neural network SmoothGrad gradient for each input\n",
    "corrs_grad_sg = []\n",
    "for i in range(grad_sg_0[0].shape[0]):\n",
    "    corrs_grad_sg.append(pearsonr(np.reshape(grad_sg_0[0][i],(-1)),np.reshape(diff_0,(-1)))[0])\n",
    "for i in range(grad_sg_1[0].shape[0]):\n",
    "    corrs_grad_sg.append(pearsonr(np.reshape(grad_sg_1[0][i],(-1)),np.reshape(diff_1,(-1)))[0])\n",
    "for i in range(grad_sg_2[0].shape[0]):\n",
    "    corrs_grad_sg.append(pearsonr(np.reshape(grad_sg_2[0][i],(-1)),np.reshape(diff_2,(-1)))[0])"
   ]
  },
  {
   "cell_type": "code",
   "execution_count": 68,
   "metadata": {},
   "outputs": [],
   "source": [
    "#Get the correlation between the class template minus the average template and the respective neural network with adversarial training gradient for each input\n",
    "corrs_grad_adv = []\n",
    "for i in range(grad_adv_0[0].shape[0]):\n",
    "    corrs_grad_adv.append(pearsonr(np.reshape(grad_adv_0[0][i],(-1)),np.reshape(diff_0,(-1)))[0])\n",
    "for i in range(grad_adv_1[0].shape[0]):\n",
    "    corrs_grad_adv.append(pearsonr(np.reshape(grad_adv_1[0][i],(-1)),np.reshape(diff_1,(-1)))[0])\n",
    "for i in range(grad_adv_2[0].shape[0]):\n",
    "    corrs_grad_adv.append(pearsonr(np.reshape(grad_adv_2[0][i],(-1)),np.reshape(diff_2,(-1)))[0])"
   ]
  },
  {
   "cell_type": "code",
   "execution_count": 69,
   "metadata": {},
   "outputs": [
    {
     "data": {
      "text/plain": [
       "Ttest_relResult(statistic=-109.9709315911095, pvalue=2.6725430857079828e-105)"
      ]
     },
     "execution_count": 69,
     "metadata": {},
     "output_type": "execute_result"
    }
   ],
   "source": [
    "#Perform a paired t-test of the respective template correlation across inputs for the weights and the linear model gradients\n",
    "ttest_rel(corrs_weights,corrs_grad_l)"
   ]
  },
  {
   "cell_type": "code",
   "execution_count": 70,
   "metadata": {},
   "outputs": [
    {
     "data": {
      "text/plain": [
       "Ttest_relResult(statistic=-38.8413316768796, pvalue=9.863270921695858e-62)"
      ]
     },
     "execution_count": 70,
     "metadata": {},
     "output_type": "execute_result"
    }
   ],
   "source": [
    "#Perform a paired t-test of the respective template correlation across inputs for the weights and the neural network gradients\n",
    "ttest_rel(corrs_weights,corrs_grad_nn)"
   ]
  },
  {
   "cell_type": "code",
   "execution_count": 71,
   "metadata": {},
   "outputs": [
    {
     "data": {
      "text/plain": [
       "Ttest_relResult(statistic=-31.288118568644073, pvalue=3.9254932508706375e-53)"
      ]
     },
     "execution_count": 71,
     "metadata": {},
     "output_type": "execute_result"
    }
   ],
   "source": [
    "#Perform a paired t-test of the respective template correlation across inputs for the weights and the neural network trained with spherical noise gradients\n",
    "ttest_rel(corrs_weights,corrs_grad_sph)"
   ]
  },
  {
   "cell_type": "code",
   "execution_count": 72,
   "metadata": {},
   "outputs": [
    {
     "data": {
      "text/plain": [
       "Ttest_relResult(statistic=-51.58860327534399, pvalue=2.3267453583975627e-73)"
      ]
     },
     "execution_count": 72,
     "metadata": {},
     "output_type": "execute_result"
    }
   ],
   "source": [
    "#Perform a paired t-test of the respective template correlation across inputs for the weights and the neural network SmoothGrad gradients\n",
    "ttest_rel(corrs_weights,corrs_grad_sg)"
   ]
  },
  {
   "cell_type": "code",
   "execution_count": 73,
   "metadata": {},
   "outputs": [
    {
     "data": {
      "text/plain": [
       "Ttest_relResult(statistic=-60.42889091387812, pvalue=5.948144622572506e-80)"
      ]
     },
     "execution_count": 73,
     "metadata": {},
     "output_type": "execute_result"
    }
   ],
   "source": [
    "#Perform a paired t-test of the respective template correlation across inputs for the weights and the neural network with adversarial training gradients\n",
    "ttest_rel(corrs_weights,corrs_grad_adv)"
   ]
  },
  {
   "cell_type": "code",
   "execution_count": 74,
   "metadata": {},
   "outputs": [
    {
     "data": {
      "text/plain": [
       "Ttest_relResult(statistic=-11.431857361107351, pvalue=8.510076145171216e-20)"
      ]
     },
     "execution_count": 74,
     "metadata": {},
     "output_type": "execute_result"
    }
   ],
   "source": [
    "#Perform a paired t-test of the respective template correlation across inputs for the linear model gradients and the neural network gradients\n",
    "ttest_rel(corrs_grad_l,corrs_grad_nn)"
   ]
  },
  {
   "cell_type": "code",
   "execution_count": 75,
   "metadata": {},
   "outputs": [
    {
     "data": {
      "text/plain": [
       "Ttest_relResult(statistic=-6.592750050357675, pvalue=2.1232056260057826e-09)"
      ]
     },
     "execution_count": 75,
     "metadata": {},
     "output_type": "execute_result"
    }
   ],
   "source": [
    "#Perform a paired t-test of the respective template correlation across inputs for the linear model gradients and the neural network trained with spherical noise gradients\n",
    "ttest_rel(corrs_grad_l,corrs_grad_sph)"
   ]
  },
  {
   "cell_type": "code",
   "execution_count": 76,
   "metadata": {},
   "outputs": [
    {
     "data": {
      "text/plain": [
       "Ttest_relResult(statistic=-17.555899705840528, pvalue=3.6315418701946375e-32)"
      ]
     },
     "execution_count": 76,
     "metadata": {},
     "output_type": "execute_result"
    }
   ],
   "source": [
    "#Perform a paired t-test of the respective template correlation across inputs for the linear model gradients and the neural network SmoothGrad gradients\n",
    "ttest_rel(corrs_grad_l,corrs_grad_sg)"
   ]
  },
  {
   "cell_type": "code",
   "execution_count": 77,
   "metadata": {},
   "outputs": [
    {
     "data": {
      "text/plain": [
       "Ttest_relResult(statistic=-38.923845196425376, pvalue=8.097148355444616e-62)"
      ]
     },
     "execution_count": 77,
     "metadata": {},
     "output_type": "execute_result"
    }
   ],
   "source": [
    "#Perform a paired t-test of the respective template correlation across inputs for the linear model gradients and the neural network with adversarial training gradients\n",
    "ttest_rel(corrs_grad_l,corrs_grad_adv)"
   ]
  },
  {
   "cell_type": "code",
   "execution_count": 78,
   "metadata": {},
   "outputs": [
    {
     "data": {
      "text/plain": [
       "Ttest_relResult(statistic=2.998268875006344, pvalue=0.0034333230190020025)"
      ]
     },
     "execution_count": 78,
     "metadata": {},
     "output_type": "execute_result"
    }
   ],
   "source": [
    "#Perform a paired t-test of the respective template correlation across inputs for the neural network gradients and the neural network trained with spherical noise gradients\n",
    "ttest_rel(corrs_grad_nn,corrs_grad_sph)"
   ]
  },
  {
   "cell_type": "code",
   "execution_count": 79,
   "metadata": {},
   "outputs": [
    {
     "data": {
      "text/plain": [
       "Ttest_relResult(statistic=-6.071992543186871, pvalue=2.3434006323526023e-08)"
      ]
     },
     "execution_count": 79,
     "metadata": {},
     "output_type": "execute_result"
    }
   ],
   "source": [
    "#Perform a paired t-test of the respective template correlation across inputs for the neural network gradients and the neural network SmoothGrad gradients\n",
    "ttest_rel(corrs_grad_nn,corrs_grad_sg)"
   ]
  },
  {
   "cell_type": "code",
   "execution_count": 80,
   "metadata": {},
   "outputs": [
    {
     "data": {
      "text/plain": [
       "Ttest_relResult(statistic=-25.574331087414837, pvalue=2.0618151897895153e-45)"
      ]
     },
     "execution_count": 80,
     "metadata": {},
     "output_type": "execute_result"
    }
   ],
   "source": [
    "#Perform a paired t-test of the respective template correlation across inputs for the neural network gradients and the neural network with adversarial training gradients\n",
    "ttest_rel(corrs_grad_nn,corrs_grad_adv)"
   ]
  },
  {
   "cell_type": "code",
   "execution_count": 81,
   "metadata": {},
   "outputs": [
    {
     "data": {
      "text/plain": [
       "Ttest_relResult(statistic=-5.834305947487824, pvalue=6.827494218577981e-08)"
      ]
     },
     "execution_count": 81,
     "metadata": {},
     "output_type": "execute_result"
    }
   ],
   "source": [
    "#Perform a paired t-test of the respective template correlation across inputs for the neural network trained with spherical gradients and the neural network SmoothGrad gradients\n",
    "ttest_rel(corrs_grad_sph,corrs_grad_sg)"
   ]
  },
  {
   "cell_type": "code",
   "execution_count": 82,
   "metadata": {},
   "outputs": [
    {
     "data": {
      "text/plain": [
       "Ttest_relResult(statistic=-26.99077884031141, pvalue=1.925230998897133e-47)"
      ]
     },
     "execution_count": 82,
     "metadata": {},
     "output_type": "execute_result"
    }
   ],
   "source": [
    "#Perform a paired t-test of the respective template correlation across inputs for the neural network trained with spherical gradients and the neural network with adversarial training gradients\n",
    "ttest_rel(corrs_grad_sph,corrs_grad_adv)"
   ]
  },
  {
   "cell_type": "code",
   "execution_count": 83,
   "metadata": {},
   "outputs": [
    {
     "data": {
      "text/plain": [
       "Ttest_relResult(statistic=-26.63223116005444, pvalue=6.173687349575635e-47)"
      ]
     },
     "execution_count": 83,
     "metadata": {},
     "output_type": "execute_result"
    }
   ],
   "source": [
    "#Perform a paired t-test of the respective template correlation across inputs for the neural network SmoothGrad gradients and the neural network with adversarial training gradients\n",
    "ttest_rel(corrs_grad_sg,corrs_grad_adv)"
   ]
  },
  {
   "cell_type": "code",
   "execution_count": 84,
   "metadata": {},
   "outputs": [
    {
     "data": {
      "text/plain": [
       "0.36400995482762055"
      ]
     },
     "execution_count": 84,
     "metadata": {},
     "output_type": "execute_result"
    }
   ],
   "source": [
    "#Get average correlation between the incorrect class weights and the respective template difference map for class 0 inputs\n",
    "np.array([pearsonr(np.reshape(weights_l_0_1[0].mean(axis=0),(-1)),np.reshape(temp_1-temp_0,(-1)))[0],\n",
    "pearsonr(np.reshape(weights_l_0_2[0].mean(axis=0),(-1)),np.reshape(temp_2-temp_0,(-1)))[0],\n",
    "pearsonr(np.reshape(weights_l_1_0[0].mean(axis=0),(-1)),np.reshape(temp_0-temp_1,(-1)))[0],\n",
    "pearsonr(np.reshape(weights_l_1_2[0].mean(axis=0),(-1)),np.reshape(temp_2-temp_1,(-1)))[0],\n",
    "pearsonr(np.reshape(weights_l_2_0[0].mean(axis=0),(-1)),np.reshape(temp_0-temp_2,(-1)))[0],\n",
    "pearsonr(np.reshape(weights_l_2_1[0].mean(axis=0),(-1)),np.reshape(temp_1-temp_2,(-1)))[0]]).mean()"
   ]
  },
  {
   "cell_type": "code",
   "execution_count": 85,
   "metadata": {},
   "outputs": [
    {
     "data": {
      "text/plain": [
       "0.5839459237717086"
      ]
     },
     "execution_count": 85,
     "metadata": {},
     "output_type": "execute_result"
    }
   ],
   "source": [
    "#Get average correlation between the incorrect class linear model gradient and the respective template difference map for class 0 inputs\n",
    "np.array([pearsonr(np.reshape(grad_l_0_1[0].mean(axis=0),(-1)),np.reshape(temp_1-temp_0,(-1)))[0],\n",
    "pearsonr(np.reshape(grad_l_0_2[0].mean(axis=0),(-1)),np.reshape(temp_2-temp_0,(-1)))[0],\n",
    "pearsonr(np.reshape(grad_l_1_0[0].mean(axis=0),(-1)),np.reshape(temp_0-temp_1,(-1)))[0],\n",
    "pearsonr(np.reshape(grad_l_1_2[0].mean(axis=0),(-1)),np.reshape(temp_2-temp_1,(-1)))[0],\n",
    "pearsonr(np.reshape(grad_l_2_0[0].mean(axis=0),(-1)),np.reshape(temp_0-temp_2,(-1)))[0],\n",
    "pearsonr(np.reshape(grad_l_2_1[0].mean(axis=0),(-1)),np.reshape(temp_1-temp_2,(-1)))[0]]).mean()"
   ]
  },
  {
   "cell_type": "code",
   "execution_count": 86,
   "metadata": {},
   "outputs": [
    {
     "data": {
      "text/plain": [
       "0.7269410163744087"
      ]
     },
     "execution_count": 86,
     "metadata": {},
     "output_type": "execute_result"
    }
   ],
   "source": [
    "#Get average correlation between the incorrect class neural network gradient and the respective template difference map for class 0 inputs\n",
    "np.array([pearsonr(np.reshape(grad_nn_0_1[0].mean(axis=0),(-1)),np.reshape(temp_1-temp_0,(-1)))[0],\n",
    "pearsonr(np.reshape(grad_nn_0_2[0].mean(axis=0),(-1)),np.reshape(temp_2-temp_0,(-1)))[0],\n",
    "pearsonr(np.reshape(grad_nn_1_0[0].mean(axis=0),(-1)),np.reshape(temp_0-temp_1,(-1)))[0],\n",
    "pearsonr(np.reshape(grad_nn_1_2[0].mean(axis=0),(-1)),np.reshape(temp_2-temp_1,(-1)))[0],\n",
    "pearsonr(np.reshape(grad_nn_2_0[0].mean(axis=0),(-1)),np.reshape(temp_0-temp_2,(-1)))[0],\n",
    "pearsonr(np.reshape(grad_nn_2_1[0].mean(axis=0),(-1)),np.reshape(temp_1-temp_2,(-1)))[0]]).mean()"
   ]
  },
  {
   "cell_type": "code",
   "execution_count": 87,
   "metadata": {},
   "outputs": [
    {
     "data": {
      "text/plain": [
       "0.697405631672711"
      ]
     },
     "execution_count": 87,
     "metadata": {},
     "output_type": "execute_result"
    }
   ],
   "source": [
    "#Get average correlation between the incorrect class neural network trained with spherical noise gradient and the respective template difference map for class 0 inputs\n",
    "np.array([pearsonr(np.reshape(grad_sph_0_1[0].mean(axis=0),(-1)),np.reshape(temp_1-temp_0,(-1)))[0],\n",
    "pearsonr(np.reshape(grad_sph_0_2[0].mean(axis=0),(-1)),np.reshape(temp_2-temp_0,(-1)))[0],\n",
    "pearsonr(np.reshape(grad_sph_1_0[0].mean(axis=0),(-1)),np.reshape(temp_0-temp_1,(-1)))[0],\n",
    "pearsonr(np.reshape(grad_sph_1_2[0].mean(axis=0),(-1)),np.reshape(temp_2-temp_1,(-1)))[0],\n",
    "pearsonr(np.reshape(grad_sph_2_0[0].mean(axis=0),(-1)),np.reshape(temp_0-temp_2,(-1)))[0],\n",
    "pearsonr(np.reshape(grad_sph_2_1[0].mean(axis=0),(-1)),np.reshape(temp_1-temp_2,(-1)))[0]]).mean()"
   ]
  },
  {
   "cell_type": "code",
   "execution_count": 88,
   "metadata": {},
   "outputs": [
    {
     "data": {
      "text/plain": [
       "0.7281186863503318"
      ]
     },
     "execution_count": 88,
     "metadata": {},
     "output_type": "execute_result"
    }
   ],
   "source": [
    "#Get average correlation between the incorrect class neural network SmoothGrad gradient and the respective template difference map for class 0 inputs\n",
    "np.array([pearsonr(np.reshape(grad_sg_0_1[0].mean(axis=0),(-1)),np.reshape(temp_1-temp_0,(-1)))[0],\n",
    "pearsonr(np.reshape(grad_sg_0_2[0].mean(axis=0),(-1)),np.reshape(temp_2-temp_0,(-1)))[0],\n",
    "pearsonr(np.reshape(grad_sg_1_0[0].mean(axis=0),(-1)),np.reshape(temp_0-temp_1,(-1)))[0],\n",
    "pearsonr(np.reshape(grad_sg_1_2[0].mean(axis=0),(-1)),np.reshape(temp_2-temp_1,(-1)))[0],\n",
    "pearsonr(np.reshape(grad_sg_2_0[0].mean(axis=0),(-1)),np.reshape(temp_0-temp_2,(-1)))[0],\n",
    "pearsonr(np.reshape(grad_sg_2_1[0].mean(axis=0),(-1)),np.reshape(temp_1-temp_2,(-1)))[0]]).mean()"
   ]
  },
  {
   "cell_type": "code",
   "execution_count": 89,
   "metadata": {},
   "outputs": [
    {
     "data": {
      "text/plain": [
       "0.9291893410875143"
      ]
     },
     "execution_count": 89,
     "metadata": {},
     "output_type": "execute_result"
    }
   ],
   "source": [
    "#Get average correlation between the incorrect class neural network with adversarial training gradient and the respective template difference map for class 0 inputs\n",
    "np.array([pearsonr(np.reshape(grad_adv_0_1[0].mean(axis=0),(-1)),np.reshape(temp_1-temp_0,(-1)))[0],\n",
    "pearsonr(np.reshape(grad_adv_0_2[0].mean(axis=0),(-1)),np.reshape(temp_2-temp_0,(-1)))[0],\n",
    "pearsonr(np.reshape(grad_adv_1_0[0].mean(axis=0),(-1)),np.reshape(temp_0-temp_1,(-1)))[0],\n",
    "pearsonr(np.reshape(grad_adv_1_2[0].mean(axis=0),(-1)),np.reshape(temp_2-temp_1,(-1)))[0],\n",
    "pearsonr(np.reshape(grad_adv_2_0[0].mean(axis=0),(-1)),np.reshape(temp_0-temp_2,(-1)))[0],\n",
    "pearsonr(np.reshape(grad_adv_2_1[0].mean(axis=0),(-1)),np.reshape(temp_1-temp_2,(-1)))[0]]).mean()"
   ]
  },
  {
   "cell_type": "code",
   "execution_count": 90,
   "metadata": {},
   "outputs": [],
   "source": [
    "#Get average correlation between the incorrect class weights and the respective template difference map for each input\n",
    "corrs_weights_diffs = []\n",
    "\n",
    "for i in range(weights_l_0_1[0].shape[0]):\n",
    "    corrs_tmp = 0\n",
    "    corrs_tmp += pearsonr(np.reshape(weights_l_0_1[0][i],(-1)),np.reshape(temp_1-temp_0,(-1)))[0]\n",
    "    corrs_tmp += pearsonr(np.reshape(weights_l_0_2[0][i],(-1)),np.reshape(temp_2-temp_0,(-1)))[0]\n",
    "    corrs_weights_diffs.append(corrs_tmp/2.0)\n",
    "    \n",
    "for i in range(weights_l_1_0[0].shape[0]):\n",
    "    corrs_tmp = 0\n",
    "    corrs_tmp += pearsonr(np.reshape(weights_l_1_0[0][i],(-1)),np.reshape(temp_0-temp_1,(-1)))[0]\n",
    "    corrs_tmp += pearsonr(np.reshape(weights_l_1_2[0][i],(-1)),np.reshape(temp_2-temp_1,(-1)))[0]\n",
    "    corrs_weights_diffs.append(corrs_tmp/2.0)\n",
    "for i in range(weights_l_2_0[0].shape[0]):    \n",
    "    corrs_tmp = 0\n",
    "    corrs_tmp += pearsonr(np.reshape(weights_l_2_0[0][i],(-1)),np.reshape(temp_0-temp_2,(-1)))[0]\n",
    "    corrs_tmp += pearsonr(np.reshape(weights_l_2_1[0][i],(-1)),np.reshape(temp_1-temp_2,(-1)))[0]\n",
    "    corrs_weights_diffs.append(corrs_tmp/2.0)"
   ]
  },
  {
   "cell_type": "code",
   "execution_count": 91,
   "metadata": {},
   "outputs": [],
   "source": [
    "#Get average correlation between the incorrect class linear model gradient and the respective template difference map for each input\n",
    "corrs_grad_l_diffs = []\n",
    "\n",
    "for i in range(grad_l_0_1[0].shape[0]):\n",
    "    corrs_tmp = 0\n",
    "    corrs_tmp += pearsonr(np.reshape(grad_l_0_1[0][i],(-1)),np.reshape(temp_1-temp_0,(-1)))[0]\n",
    "    corrs_tmp += pearsonr(np.reshape(grad_l_0_2[0][i],(-1)),np.reshape(temp_2-temp_0,(-1)))[0]\n",
    "    corrs_grad_l_diffs.append(corrs_tmp/2.0)\n",
    "    \n",
    "for i in range(grad_l_1_0[0].shape[0]):\n",
    "    corrs_tmp = 0\n",
    "    corrs_tmp += pearsonr(np.reshape(grad_l_1_0[0][i],(-1)),np.reshape(temp_0-temp_1,(-1)))[0]\n",
    "    corrs_tmp += pearsonr(np.reshape(grad_l_1_2[0][i],(-1)),np.reshape(temp_2-temp_1,(-1)))[0]\n",
    "    corrs_grad_l_diffs.append(corrs_tmp/2.0)\n",
    "for i in range(grad_l_2_0[0].shape[0]):    \n",
    "    corrs_tmp = 0\n",
    "    corrs_tmp += pearsonr(np.reshape(grad_l_2_0[0][i],(-1)),np.reshape(temp_0-temp_2,(-1)))[0]\n",
    "    corrs_tmp += pearsonr(np.reshape(grad_l_2_1[0][i],(-1)),np.reshape(temp_1-temp_2,(-1)))[0]\n",
    "    corrs_grad_l_diffs.append(corrs_tmp/2.0)"
   ]
  },
  {
   "cell_type": "code",
   "execution_count": 92,
   "metadata": {},
   "outputs": [],
   "source": [
    "#Get average correlation between the incorrect class neural network gradient and the respective template difference map for each input\n",
    "corrs_grad_nn_diffs = []\n",
    "\n",
    "for i in range(grad_nn_0_1[0].shape[0]):\n",
    "    corrs_tmp = 0\n",
    "    corrs_tmp += pearsonr(np.reshape(grad_nn_0_1[0][i],(-1)),np.reshape(temp_1-temp_0,(-1)))[0]\n",
    "    corrs_tmp += pearsonr(np.reshape(grad_nn_0_2[0][i],(-1)),np.reshape(temp_2-temp_0,(-1)))[0]\n",
    "    corrs_grad_nn_diffs.append(corrs_tmp/2.0)\n",
    "    \n",
    "for i in range(grad_nn_1_0[0].shape[0]):\n",
    "    corrs_tmp = 0\n",
    "    corrs_tmp += pearsonr(np.reshape(grad_nn_1_0[0][i],(-1)),np.reshape(temp_0-temp_1,(-1)))[0]\n",
    "    corrs_tmp += pearsonr(np.reshape(grad_nn_1_2[0][i],(-1)),np.reshape(temp_2-temp_1,(-1)))[0]\n",
    "    corrs_grad_nn_diffs.append(corrs_tmp/2.0)\n",
    "for i in range(grad_nn_2_0[0].shape[0]):    \n",
    "    corrs_tmp = 0\n",
    "    corrs_tmp += pearsonr(np.reshape(grad_nn_2_0[0][i],(-1)),np.reshape(temp_0-temp_2,(-1)))[0]\n",
    "    corrs_tmp += pearsonr(np.reshape(grad_nn_2_1[0][i],(-1)),np.reshape(temp_1-temp_2,(-1)))[0]\n",
    "    corrs_grad_nn_diffs.append(corrs_tmp/2.0)"
   ]
  },
  {
   "cell_type": "code",
   "execution_count": 93,
   "metadata": {},
   "outputs": [],
   "source": [
    "#Get average correlation between the incorrect class neural network trained with spherical noise gradient and the respective template difference map for each input\n",
    "corrs_grad_sph_diffs = []\n",
    "\n",
    "for i in range(grad_sph_0_1[0].shape[0]):\n",
    "    corrs_tmp = 0\n",
    "    corrs_tmp += pearsonr(np.reshape(grad_sph_0_1[0][i],(-1)),np.reshape(temp_1-temp_0,(-1)))[0]\n",
    "    corrs_tmp += pearsonr(np.reshape(grad_sph_0_2[0][i],(-1)),np.reshape(temp_2-temp_0,(-1)))[0]\n",
    "    corrs_grad_sph_diffs.append(corrs_tmp/2.0)\n",
    "    \n",
    "for i in range(grad_sph_1_0[0].shape[0]):\n",
    "    corrs_tmp = 0\n",
    "    corrs_tmp += pearsonr(np.reshape(grad_sph_1_0[0][i],(-1)),np.reshape(temp_0-temp_1,(-1)))[0]\n",
    "    corrs_tmp += pearsonr(np.reshape(grad_sph_1_2[0][i],(-1)),np.reshape(temp_2-temp_1,(-1)))[0]\n",
    "    corrs_grad_sph_diffs.append(corrs_tmp/2.0)\n",
    "for i in range(grad_sph_2_0[0].shape[0]):    \n",
    "    corrs_tmp = 0\n",
    "    corrs_tmp += pearsonr(np.reshape(grad_sph_2_0[0][i],(-1)),np.reshape(temp_0-temp_2,(-1)))[0]\n",
    "    corrs_tmp += pearsonr(np.reshape(grad_sph_2_1[0][i],(-1)),np.reshape(temp_1-temp_2,(-1)))[0]\n",
    "    corrs_grad_sph_diffs.append(corrs_tmp/2.0)"
   ]
  },
  {
   "cell_type": "code",
   "execution_count": 94,
   "metadata": {},
   "outputs": [],
   "source": [
    "#Get average correlation between the incorrect class neural network SmoothGrad gradient and the respective template difference map for each input\n",
    "corrs_grad_sg_diffs = []\n",
    "\n",
    "for i in range(grad_sg_0_1[0].shape[0]):\n",
    "    corrs_tmp = 0\n",
    "    corrs_tmp += pearsonr(np.reshape(grad_sg_0_1[0][i],(-1)),np.reshape(temp_1-temp_0,(-1)))[0]\n",
    "    corrs_tmp += pearsonr(np.reshape(grad_sg_0_2[0][i],(-1)),np.reshape(temp_2-temp_0,(-1)))[0]\n",
    "    corrs_grad_sg_diffs.append(corrs_tmp/2.0)\n",
    "    \n",
    "for i in range(grad_sg_1_0[0].shape[0]):\n",
    "    corrs_tmp = 0\n",
    "    corrs_tmp += pearsonr(np.reshape(grad_sg_1_0[0][i],(-1)),np.reshape(temp_0-temp_1,(-1)))[0]\n",
    "    corrs_tmp += pearsonr(np.reshape(grad_sg_1_2[0][i],(-1)),np.reshape(temp_2-temp_1,(-1)))[0]\n",
    "    corrs_grad_sg_diffs.append(corrs_tmp/2.0)\n",
    "for i in range(grad_sg_2_0[0].shape[0]):    \n",
    "    corrs_tmp = 0\n",
    "    corrs_tmp += pearsonr(np.reshape(grad_sg_2_0[0][i],(-1)),np.reshape(temp_0-temp_2,(-1)))[0]\n",
    "    corrs_tmp += pearsonr(np.reshape(grad_sg_2_1[0][i],(-1)),np.reshape(temp_1-temp_2,(-1)))[0]\n",
    "    corrs_grad_sg_diffs.append(corrs_tmp/2.0)"
   ]
  },
  {
   "cell_type": "code",
   "execution_count": 95,
   "metadata": {},
   "outputs": [],
   "source": [
    "#Get average correlation between the incorrect class neural network with adversarial training gradient and the respective template difference map for each input\n",
    "\n",
    "corrs_grad_adv_diffs = []\n",
    "\n",
    "for i in range(grad_adv_0_1[0].shape[0]):\n",
    "    corrs_tmp = 0\n",
    "    corrs_tmp += pearsonr(np.reshape(grad_adv_0_1[0][i],(-1)),np.reshape(temp_1-temp_0,(-1)))[0]\n",
    "    corrs_tmp += pearsonr(np.reshape(grad_adv_0_2[0][i],(-1)),np.reshape(temp_2-temp_0,(-1)))[0]\n",
    "    corrs_grad_adv_diffs.append(corrs_tmp/2.0)\n",
    "    \n",
    "for i in range(grad_adv_1_0[0].shape[0]):\n",
    "    corrs_tmp = 0\n",
    "    corrs_tmp += pearsonr(np.reshape(grad_adv_1_0[0][i],(-1)),np.reshape(temp_0-temp_1,(-1)))[0]\n",
    "    corrs_tmp += pearsonr(np.reshape(grad_adv_1_2[0][i],(-1)),np.reshape(temp_2-temp_1,(-1)))[0]\n",
    "    corrs_grad_adv_diffs.append(corrs_tmp/2.0)\n",
    "for i in range(grad_adv_2_0[0].shape[0]):    \n",
    "    corrs_tmp = 0\n",
    "    corrs_tmp += pearsonr(np.reshape(grad_adv_2_0[0][i],(-1)),np.reshape(temp_0-temp_2,(-1)))[0]\n",
    "    corrs_tmp += pearsonr(np.reshape(grad_adv_2_1[0][i],(-1)),np.reshape(temp_1-temp_2,(-1)))[0]\n",
    "    corrs_grad_adv_diffs.append(corrs_tmp/2.0)"
   ]
  },
  {
   "cell_type": "code",
   "execution_count": 96,
   "metadata": {},
   "outputs": [
    {
     "data": {
      "text/plain": [
       "Ttest_relResult(statistic=-155.71850743588212, pvalue=3.618771602923314e-120)"
      ]
     },
     "execution_count": 96,
     "metadata": {},
     "output_type": "execute_result"
    }
   ],
   "source": [
    "#Perform a paired t-test of the respective template difference map correlation across inputs for the weights and the linear model gradients\n",
    "ttest_rel(corrs_weights_diffs,corrs_grad_l_diffs)"
   ]
  },
  {
   "cell_type": "code",
   "execution_count": 97,
   "metadata": {},
   "outputs": [
    {
     "data": {
      "text/plain": [
       "Ttest_relResult(statistic=-77.64790914092781, pvalue=1.6499152443049718e-90)"
      ]
     },
     "execution_count": 97,
     "metadata": {},
     "output_type": "execute_result"
    }
   ],
   "source": [
    "#Perform a paired t-test of the respective template difference map correlation across inputs for the weights and the neural network gradients\n",
    "ttest_rel(corrs_weights_diffs,corrs_grad_nn_diffs)"
   ]
  },
  {
   "cell_type": "code",
   "execution_count": 98,
   "metadata": {},
   "outputs": [
    {
     "data": {
      "text/plain": [
       "Ttest_relResult(statistic=-66.87039422840476, pvalue=3.332117329282975e-84)"
      ]
     },
     "execution_count": 98,
     "metadata": {},
     "output_type": "execute_result"
    }
   ],
   "source": [
    "#Perform a paired t-test of the respective template difference map correlation across inputs for the weights and the neural network trained with spherical noise gradients\n",
    "ttest_rel(corrs_weights_diffs,corrs_grad_sph_diffs)"
   ]
  },
  {
   "cell_type": "code",
   "execution_count": 99,
   "metadata": {},
   "outputs": [
    {
     "data": {
      "text/plain": [
       "Ttest_relResult(statistic=-107.37017685531008, pvalue=2.802088616518545e-104)"
      ]
     },
     "execution_count": 99,
     "metadata": {},
     "output_type": "execute_result"
    }
   ],
   "source": [
    "#Perform a paired t-test of the respective template difference map correlation across inputs for the weights and the neural network gradients\n",
    "ttest_rel(corrs_weights_diffs,corrs_grad_adv_diffs)"
   ]
  },
  {
   "cell_type": "code",
   "execution_count": 100,
   "metadata": {},
   "outputs": [
    {
     "data": {
      "text/plain": [
       "Ttest_relResult(statistic=-20.132312155055104, pvalue=8.909410871448439e-37)"
      ]
     },
     "execution_count": 100,
     "metadata": {},
     "output_type": "execute_result"
    }
   ],
   "source": [
    "#Perform a paired t-test of the respective template difference map correlation across inputs for the linear model gradients and the neural network gradients\n",
    "ttest_rel(corrs_grad_l_diffs,corrs_grad_nn_diffs)"
   ]
  },
  {
   "cell_type": "code",
   "execution_count": 101,
   "metadata": {},
   "outputs": [
    {
     "data": {
      "text/plain": [
       "Ttest_relResult(statistic=-10.535099570217765, pvalue=7.464678632135253e-18)"
      ]
     },
     "execution_count": 101,
     "metadata": {},
     "output_type": "execute_result"
    }
   ],
   "source": [
    "#Perform a paired t-test of the respective template difference map correlation across inputs for the linear model gradients and the neural network trained with spherical noise gradients\n",
    "ttest_rel(corrs_grad_l_diffs,corrs_grad_sph_diffs)"
   ]
  },
  {
   "cell_type": "code",
   "execution_count": 102,
   "metadata": {},
   "outputs": [
    {
     "data": {
      "text/plain": [
       "Ttest_relResult(statistic=-32.748730042427496, pvalue=6.3588813332920115e-55)"
      ]
     },
     "execution_count": 102,
     "metadata": {},
     "output_type": "execute_result"
    }
   ],
   "source": [
    "#Perform a paired t-test of the respective template difference map correlation across inputs for the linear model gradients and the neural network SmoothGrad gradients\n",
    "ttest_rel(corrs_grad_l_diffs,corrs_grad_sg_diffs)"
   ]
  },
  {
   "cell_type": "code",
   "execution_count": 103,
   "metadata": {},
   "outputs": [
    {
     "data": {
      "text/plain": [
       "Ttest_relResult(statistic=-59.331897505140404, pvalue=3.47621623014004e-79)"
      ]
     },
     "execution_count": 103,
     "metadata": {},
     "output_type": "execute_result"
    }
   ],
   "source": [
    "#Perform a paired t-test of the respective template difference map correlation across inputs for the linear model gradients and the neural network with adversarial training gradients\n",
    "ttest_rel(corrs_grad_l_diffs,corrs_grad_adv_diffs)"
   ]
  },
  {
   "cell_type": "code",
   "execution_count": 104,
   "metadata": {},
   "outputs": [
    {
     "data": {
      "text/plain": [
       "Ttest_relResult(statistic=5.896512850048067, pvalue=5.169875056320606e-08)"
      ]
     },
     "execution_count": 104,
     "metadata": {},
     "output_type": "execute_result"
    }
   ],
   "source": [
    "#Perform a paired t-test of the respective template difference map correlation across inputs for the neural network gradients and the neural network trained with spherical noise gradients\n",
    "ttest_rel(corrs_grad_nn_diffs,corrs_grad_sph_diffs)"
   ]
  },
  {
   "cell_type": "code",
   "execution_count": 105,
   "metadata": {},
   "outputs": [
    {
     "data": {
      "text/plain": [
       "Ttest_relResult(statistic=-8.839167041296484, pvalue=3.705500234639914e-14)"
      ]
     },
     "execution_count": 105,
     "metadata": {},
     "output_type": "execute_result"
    }
   ],
   "source": [
    "#Perform a paired t-test of the respective template difference map correlation across inputs for the neural network gradients and the neural network SmoothGrad gradients\n",
    "ttest_rel(corrs_grad_nn_diffs,corrs_grad_sg_diffs)"
   ]
  },
  {
   "cell_type": "code",
   "execution_count": 106,
   "metadata": {},
   "outputs": [
    {
     "data": {
      "text/plain": [
       "Ttest_relResult(statistic=-37.54303068455591, pvalue=2.3105254284256788e-60)"
      ]
     },
     "execution_count": 106,
     "metadata": {},
     "output_type": "execute_result"
    }
   ],
   "source": [
    "#Perform a paired t-test of the respective template difference map correlation across inputs for the neural network gradients and the neural network with adversarial training gradients\n",
    "ttest_rel(corrs_grad_nn_diffs,corrs_grad_adv_diffs)"
   ]
  },
  {
   "cell_type": "code",
   "execution_count": 107,
   "metadata": {},
   "outputs": [
    {
     "data": {
      "text/plain": [
       "Ttest_relResult(statistic=-10.973201610081048, pvalue=8.346234449085119e-19)"
      ]
     },
     "execution_count": 107,
     "metadata": {},
     "output_type": "execute_result"
    }
   ],
   "source": [
    "#Perform a paired t-test of the respective template difference map correlation across inputs for the neural network trained with spherical noise gradients and the neural network SmoothGrad gradients\n",
    "ttest_rel(corrs_grad_sph_diffs,corrs_grad_sg_diffs)"
   ]
  },
  {
   "cell_type": "code",
   "execution_count": 108,
   "metadata": {},
   "outputs": [
    {
     "data": {
      "text/plain": [
       "Ttest_relResult(statistic=-40.21093502724892, pvalue=3.9085422702677484e-63)"
      ]
     },
     "execution_count": 108,
     "metadata": {},
     "output_type": "execute_result"
    }
   ],
   "source": [
    "#Perform a paired t-test of the respective template difference map correlation across inputs for the neural network trained with spherical noise gradients and the neural network with adversarial training gradients\n",
    "ttest_rel(corrs_grad_sph_diffs,corrs_grad_adv_diffs)"
   ]
  },
  {
   "cell_type": "code",
   "execution_count": 109,
   "metadata": {},
   "outputs": [
    {
     "data": {
      "text/plain": [
       "Ttest_relResult(statistic=-39.957133621873346, pvalue=7.056757013290368e-63)"
      ]
     },
     "execution_count": 109,
     "metadata": {},
     "output_type": "execute_result"
    }
   ],
   "source": [
    "#Perform a paired t-test of the respective template difference map correlation across inputs for the neural network SmoothGrad gradients and the neural network with adversarial training gradients\n",
    "ttest_rel(corrs_grad_sg_diffs,corrs_grad_adv_diffs)"
   ]
  }
 ],
 "metadata": {
  "kernelspec": {
   "display_name": "Python 3",
   "language": "python",
   "name": "python3"
  },
  "language_info": {
   "codemirror_mode": {
    "name": "ipython",
    "version": 3
   },
   "file_extension": ".py",
   "mimetype": "text/x-python",
   "name": "python",
   "nbconvert_exporter": "python",
   "pygments_lexer": "ipython3",
   "version": "3.6.7"
  }
 },
 "nbformat": 4,
 "nbformat_minor": 4
}
