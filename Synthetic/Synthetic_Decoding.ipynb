{
 "cells": [
  {
   "cell_type": "code",
   "execution_count": 1,
   "metadata": {},
   "outputs": [
    {
     "name": "stdout",
     "output_type": "stream",
     "text": [
      "env: CUDA_VISIBLE_DEVICES=\"\"\n"
     ]
    }
   ],
   "source": [
    "%env CUDA_VISIBLE_DEVICES=\"\""
   ]
  },
  {
   "cell_type": "code",
   "execution_count": 2,
   "metadata": {},
   "outputs": [],
   "source": [
    "import numpy as np\n",
    "import tensorflow as tf\n",
    "import tensorflow.keras.backend as K\n",
    "from tensorflow.python.ops import array_ops\n",
    "from tensorflow.python.ops import math_ops\n",
    "from tensorflow import gradients\n",
    "import matplotlib.pyplot as plt\n",
    "%matplotlib inline"
   ]
  },
  {
   "cell_type": "code",
   "execution_count": 3,
   "metadata": {},
   "outputs": [],
   "source": [
    "#Load the input data, their corresponding class labels, and the ROI mask\n",
    "data = np.load(\"data.npy\")\n",
    "labels= np.load(\"labels.npy\")\n",
    "rois = np.load(\"maskROI.npy\")"
   ]
  },
  {
   "cell_type": "code",
   "execution_count": 4,
   "metadata": {},
   "outputs": [],
   "source": [
    "#Randomly split the data\n",
    "index = np.random.RandomState(seed=1).permutation(9000)\n",
    "all_data = data[index]\n",
    "all_labels = labels[index]\n",
    "train_data = all_data[0:8800]\n",
    "train_labels= all_labels[0:8800][:,0]-1\n",
    "val_data = all_data[8800:8900]\n",
    "val_labels= all_labels[8800:8900][:,0]-1\n",
    "test_data = all_data[8900:9000]\n",
    "test_labels= all_labels[8900:9000][:,0]-1"
   ]
  },
  {
   "cell_type": "code",
   "execution_count": 5,
   "metadata": {},
   "outputs": [],
   "source": [
    "#Get indices for inputs from each class\n",
    "where_train_0 = np.where(train_labels==0)\n",
    "where_train_1 = np.where(train_labels==1)\n",
    "where_train_2 = np.where(train_labels==2)\n",
    "where_val_0 = np.where(val_labels==0)\n",
    "where_val_1 = np.where(val_labels==1)\n",
    "where_val_2 = np.where(val_labels==2)\n",
    "where_test_0 = np.where(test_labels==0)\n",
    "where_test_1 = np.where(test_labels==1)\n",
    "where_test_2 = np.where(test_labels==2)"
   ]
  },
  {
   "cell_type": "code",
   "execution_count": 6,
   "metadata": {},
   "outputs": [],
   "source": [
    "#Load the template images for the three classes\n",
    "temp_0 = np.load(\"classPrototype1.npy\")\n",
    "temp_1 = np.load(\"classPrototype2.npy\")\n",
    "temp_2 = np.load(\"classPrototype3.npy\")\n",
    "temp_avg = (temp_0+temp_1+temp_2)/3.0"
   ]
  },
  {
   "cell_type": "code",
   "execution_count": 7,
   "metadata": {},
   "outputs": [
    {
     "data": {
      "text/plain": [
       "<matplotlib.image.AxesImage at 0x7fcabc788358>"
      ]
     },
     "execution_count": 7,
     "metadata": {},
     "output_type": "execute_result"
    },
    {
     "data": {
      "image/png": "[encoded data removed]",
      "text/plain": [
       "<Figure size 288x288 with 1 Axes>"
      ]
     },
     "metadata": {
      "needs_background": "light"
     },
     "output_type": "display_data"
    },
    {
     "data": {
      "image/png": "[encoded data removed]",
      "text/plain": [
       "<Figure size 288x288 with 1 Axes>"
      ]
     },
     "metadata": {
      "needs_background": "light"
     },
     "output_type": "display_data"
    },
    {
     "data": {
      "image/png": "[encoded data removed]",
      "text/plain": [
       "<Figure size 288x288 with 1 Axes>"
      ]
     },
     "metadata": {
      "needs_background": "light"
     },
     "output_type": "display_data"
    },
    {
     "data": {
      "image/png": "[encoded data removed]",
      "text/plain": [
       "<Figure size 288x288 with 1 Axes>"
      ]
     },
     "metadata": {
      "needs_background": "light"
     },
     "output_type": "display_data"
    }
   ],
   "source": [
    "#Plot the three template images and the averge template image\n",
    "clim = np.abs(temp_0).max()\n",
    "plt.matshow(temp_0,cmap='seismic',vmin=-1.0*clim,vmax=clim)\n",
    "clim = np.abs(temp_1).max()\n",
    "plt.matshow(temp_1,cmap='seismic',vmin=-1.0*clim,vmax=clim)\n",
    "clim = np.abs(temp_2).max()\n",
    "plt.matshow(temp_2,cmap='seismic',vmin=-1.0*clim,vmax=clim)\n",
    "clim = np.abs(temp_avg).max()\n",
    "plt.matshow(temp_avg,cmap='seismic',vmin=-1.0*clim,vmax=clim)"
   ]
  },
  {
   "cell_type": "code",
   "execution_count": 8,
   "metadata": {},
   "outputs": [],
   "source": [
    "#Get difference maps for the avg template with respect to the other templates\n",
    "diff_0 = temp_0 - temp_avg\n",
    "diff_1 = temp_1 - temp_avg\n",
    "diff_2 = temp_2 - temp_avg"
   ]
  },
  {
   "cell_type": "code",
   "execution_count": 9,
   "metadata": {},
   "outputs": [
    {
     "data": {
      "text/plain": [
       "<matplotlib.image.AxesImage at 0x7fcabc618940>"
      ]
     },
     "execution_count": 9,
     "metadata": {},
     "output_type": "execute_result"
    },
    {
     "data": {
      "image/png": "[encoded data removed]",
      "text/plain": [
       "<Figure size 288x288 with 1 Axes>"
      ]
     },
     "metadata": {
      "needs_background": "light"
     },
     "output_type": "display_data"
    },
    {
     "data": {
      "image/png": "[encoded data removed]",
      "text/plain": [
       "<Figure size 288x288 with 1 Axes>"
      ]
     },
     "metadata": {
      "needs_background": "light"
     },
     "output_type": "display_data"
    },
    {
     "data": {
      "image/png": "[encoded data removed]",
      "text/plain": [
       "<Figure size 288x288 with 1 Axes>"
      ]
     },
     "metadata": {
      "needs_background": "light"
     },
     "output_type": "display_data"
    }
   ],
   "source": [
    "#Plot the difference maps for the avg template with respect to the other templates\n",
    "plt.matshow(diff_0,cmap='seismic',vmin=-1.0,vmax=1)\n",
    "plt.matshow(diff_1,cmap='seismic',vmin=-1.0,vmax=1)\n",
    "plt.matshow(diff_2,cmap='seismic',vmin=-1.0,vmax=1)"
   ]
  },
  {
   "cell_type": "code",
   "execution_count": 10,
   "metadata": {},
   "outputs": [],
   "source": [
    "#Declare Tensorflow input and output tensors\n",
    "\n",
    "x = tf.placeholder(tf.float32, (None, 32,32), name = 'x')\n",
    "        \n",
    "y_true = tf.placeholder(tf.int64, (None), name='y')\n",
    "\n",
    "x_flat = tf.contrib.layers.flatten(x)\n",
    "\n",
    "mask_true = tf.one_hot(y_true,3)"
   ]
  },
  {
   "cell_type": "code",
   "execution_count": 11,
   "metadata": {},
   "outputs": [],
   "source": [
    "#Declare linear model\n",
    "with tf.variable_scope('l'):\n",
    "    \n",
    "    y_logits_l = tf.contrib.layers.fully_connected(x_flat,3,weights_regularizer=tf.keras.regularizers.l2(l=1e-5),activation_fn=None)\n",
    "\n",
    "    y_logits_l = y_logits_l\n",
    "\n",
    "    loss_l = tf.nn.sparse_softmax_cross_entropy_with_logits(labels=y_true, logits=y_logits_l)\n",
    "\n",
    "    probs_l = tf.nn.softmax(y_logits_l)\n",
    "\n",
    "    acc_l = tf.reduce_mean(tf.dtypes.cast(tf.equal(y_true,tf.argmax(y_logits_l, 1)),tf.float32))\n",
    "\n",
    "    train_l = tf.train.AdamOptimizer(learning_rate=1e-3).minimize(loss_l)\n",
    "\n",
    "    masked_loss_l = tf.reduce_sum( probs_l * mask_true,axis = -1)\n",
    "\n",
    "    masked_logits_l = tf.reduce_sum(y_logits_l  * mask_true,axis = -1)\n",
    "\n",
    "    w = tf.gradients(masked_logits_l,x)\n",
    "\n",
    "    g_l = tf.gradients(masked_loss_l,x)"
   ]
  },
  {
   "cell_type": "code",
   "execution_count": 12,
   "metadata": {},
   "outputs": [],
   "source": [
    "#Declare neural network model\n",
    "with tf.variable_scope('nn'):\n",
    "    h_nn = tf.contrib.layers.fully_connected(x_flat,20,activation_fn=tf.nn.relu,weights_regularizer=tf.keras.regularizers.l2(l=1e-5))\n",
    "\n",
    "    y_logits_nn = tf.contrib.layers.fully_connected(h_nn,3,activation_fn=None,weights_regularizer=tf.keras.regularizers.l2(l=1e-5))\n",
    "\n",
    "    y_logits_nn = y_logits_nn\n",
    "\n",
    "    loss_nn = tf.nn.sparse_softmax_cross_entropy_with_logits(labels=y_true, logits=y_logits_nn)\n",
    "\n",
    "    probs_nn = tf.nn.softmax(y_logits_nn)\n",
    "\n",
    "    loss_nn = tf.nn.sparse_softmax_cross_entropy_with_logits(labels=y_true, logits=y_logits_nn)\n",
    "\n",
    "    acc_nn = tf.reduce_mean(tf.dtypes.cast(tf.equal(y_true,tf.argmax(y_logits_nn, 1)),tf.float32))\n",
    "\n",
    "    train_nn = tf.train.AdamOptimizer(learning_rate=1e-3).minimize(loss_nn)\n",
    "\n",
    "    masked_loss_nn = tf.reduce_sum( probs_nn * mask_true,axis = -1)\n",
    "\n",
    "    masked_logits_nn = tf.reduce_sum( y_logits_nn * mask_true,axis = -1)\n",
    "\n",
    "    g_nn = tf.gradients(masked_loss_nn,x)"
   ]
  },
  {
   "cell_type": "code",
   "execution_count": 13,
   "metadata": {},
   "outputs": [],
   "source": [
    "#Declare neural network with random spherical noise model\n",
    "with tf.variable_scope('sph'):\n",
    "    h_sph = tf.contrib.layers.fully_connected(x_flat,20,activation_fn=tf.nn.relu,weights_regularizer=tf.keras.regularizers.l2(l=1e-5))\n",
    "\n",
    "    y_logits_sph = tf.contrib.layers.fully_connected(h_sph,3,activation_fn=None,weights_regularizer=tf.keras.regularizers.l2(l=1e-5))\n",
    "\n",
    "    y_logits_sph = y_logits_sph\n",
    "\n",
    "    loss_sph = tf.nn.sparse_softmax_cross_entropy_with_logits(labels=y_true, logits=y_logits_sph)\n",
    "\n",
    "    probs_sph = tf.nn.softmax(y_logits_sph)\n",
    "\n",
    "    loss_sph = tf.nn.sparse_softmax_cross_entropy_with_logits(labels=y_true, logits=y_logits_sph)\n",
    "\n",
    "    acc_sph = tf.reduce_mean(tf.dtypes.cast(tf.equal(y_true,tf.argmax(y_logits_sph, 1)),tf.float32))\n",
    "\n",
    "    train_sph = tf.train.AdamOptimizer(learning_rate=1e-3).minimize(loss_sph)\n",
    "\n",
    "    masked_loss_sph = tf.reduce_sum( probs_sph * mask_true,axis = -1)\n",
    "\n",
    "    masked_logits_sph = tf.reduce_sum( y_logits_sph * mask_true,axis = -1)\n",
    "\n",
    "    g_sph = tf.gradients(masked_loss_sph,x)"
   ]
  },
  {
   "cell_type": "code",
   "execution_count": 14,
   "metadata": {},
   "outputs": [],
   "source": [
    "#Declare neural network with advesarial training model \n",
    "with tf.variable_scope('adv'):\n",
    "    \n",
    "    h_adv = tf.contrib.layers.fully_connected(x_flat,20,activation_fn=tf.nn.relu,weights_regularizer=tf.keras.regularizers.l2(l=1e-5))\n",
    "\n",
    "    y_logits_adv = tf.contrib.layers.fully_connected(h_adv,3,activation_fn=None,weights_regularizer=tf.keras.regularizers.l2(l=1e-5))\n",
    "\n",
    "    loss_adv = tf.nn.sparse_softmax_cross_entropy_with_logits(labels=y_true, logits=y_logits_adv)\n",
    "\n",
    "    probs_adv = tf.nn.softmax(y_logits_adv)\n",
    "\n",
    "    acc_adv = tf.reduce_mean(tf.dtypes.cast(tf.equal(y_true,tf.argmax(y_logits_adv, 1)),tf.float32))\n",
    "\n",
    "    train_adv = tf.train.AdamOptimizer(learning_rate=1e-3).minimize(loss_adv)\n",
    "\n",
    "    masked_loss_adv = tf.reduce_sum( probs_adv * mask_true,axis = -1)\n",
    "\n",
    "    masked_logits_adv = tf.reduce_sum(y_logits_adv * mask_true,axis = -1)\n",
    "\n",
    "    g_adv = tf.gradients(masked_loss_adv,x)"
   ]
  },
  {
   "cell_type": "code",
   "execution_count": 15,
   "metadata": {},
   "outputs": [],
   "source": [
    "#Declare model savers\n",
    "vars_l = tf.get_collection(tf.GraphKeys.GLOBAL_VARIABLES,scope='l')\n",
    "saver_l = tf.train.Saver(vars_l)\n",
    "vars_nn = tf.get_collection(tf.GraphKeys.GLOBAL_VARIABLES,scope='nn')\n",
    "saver_nn = tf.train.Saver(vars_nn)\n",
    "vars_sph = tf.get_collection(tf.GraphKeys.GLOBAL_VARIABLES,scope='sph')\n",
    "saver_sph = tf.train.Saver(vars_sph)\n",
    "vars_adv = tf.get_collection(tf.GraphKeys.GLOBAL_VARIABLES,scope='adv')\n",
    "saver_adv = tf.train.Saver(vars_adv)"
   ]
  },
  {
   "cell_type": "code",
   "execution_count": 16,
   "metadata": {},
   "outputs": [
    {
     "name": "stdout",
     "output_type": "stream",
     "text": [
      "Loss L: 0.28683874\n",
      "Acc L: 0.35306817\n",
      "Loss L: 0.29233027\n",
      "Acc L: 0.37170455\n",
      "Loss L: 0.29812846\n",
      "Acc L: 0.38840908\n",
      "Loss L: 0.30347574\n",
      "Acc L: 0.40329546\n",
      "Loss L: 0.30806962\n",
      "Acc L: 0.4230682\n",
      "Loss L: 0.31160507\n",
      "Acc L: 0.43988636\n",
      "Loss L: 0.31390443\n",
      "Acc L: 0.45772728\n",
      "Loss L: 0.31489435\n",
      "Acc L: 0.47806817\n",
      "Loss L: 0.31456986\n",
      "Acc L: 0.5055682\n",
      "Loss L: 0.31298116\n",
      "Acc L: 0.52602273\n",
      "Loss L: 0.3102315\n",
      "Acc L: 0.5468182\n",
      "Loss L: 0.30645663\n",
      "Acc L: 0.5709091\n",
      "Loss L: 0.3018015\n",
      "Acc L: 0.59647727\n",
      "Loss L: 0.29640457\n",
      "Acc L: 0.62113637\n",
      "Loss L: 0.29039183\n",
      "Acc L: 0.64375\n",
      "Loss L: 0.2838703\n",
      "Acc L: 0.6644318\n",
      "Loss L: 0.2769328\n",
      "Acc L: 0.68613636\n",
      "Loss L: 0.2696705\n",
      "Acc L: 0.7105682\n",
      "Loss L: 0.2621764\n",
      "Acc L: 0.7336364\n",
      "Loss L: 0.25453886\n",
      "Acc L: 0.7559091\n",
      "Loss L: 0.24683425\n",
      "Acc L: 0.7755682\n",
      "Loss L: 0.23912144\n",
      "Acc L: 0.79375\n",
      "Loss L: 0.23144147\n",
      "Acc L: 0.8122727\n",
      "Loss L: 0.22382158\n",
      "Acc L: 0.8319318\n",
      "Loss L: 0.21627992\n",
      "Acc L: 0.8493182\n",
      "Loss L: 0.20883033\n",
      "Acc L: 0.8660227\n",
      "Loss L: 0.20148526\n",
      "Acc L: 0.88011366\n",
      "Loss L: 0.19425862\n",
      "Acc L: 0.89193183\n",
      "Loss L: 0.18716533\n",
      "Acc L: 0.9044318\n",
      "Loss L: 0.1802219\n",
      "Acc L: 0.9155682\n",
      "Loss L: 0.17344603\n",
      "Acc L: 0.9265909\n",
      "Loss L: 0.16685571\n",
      "Acc L: 0.93477273\n",
      "Loss L: 0.16047005\n",
      "Acc L: 0.94272727\n",
      "Loss L: 0.15431003\n",
      "Acc L: 0.94920456\n",
      "Loss L: 0.1483987\n",
      "Acc L: 0.9548864\n",
      "Loss L: 0.14276077\n",
      "Acc L: 0.95920455\n",
      "Loss L: 0.13741978\n",
      "Acc L: 0.96363634\n",
      "Loss L: 0.13239582\n",
      "Acc L: 0.9689773\n",
      "Loss L: 0.12770253\n",
      "Acc L: 0.9728409\n",
      "Loss L: 0.12334568\n",
      "Acc L: 0.97659093\n",
      "Loss L: 0.119322985\n",
      "Acc L: 0.9793182\n",
      "Loss L: 0.115625195\n",
      "Acc L: 0.9821591\n",
      "Loss L: 0.11223797\n",
      "Acc L: 0.98454547\n",
      "Loss L: 0.109143466\n",
      "Acc L: 0.9871591\n",
      "Loss L: 0.10632162\n",
      "Acc L: 0.9901136\n",
      "Loss L: 0.10375059\n",
      "Acc L: 0.99125\n",
      "Loss L: 0.10140723\n",
      "Acc L: 0.99227273\n",
      "Loss L: 0.099267155\n",
      "Acc L: 0.99329543\n",
      "Loss L: 0.0973054\n",
      "Acc L: 0.9935227\n",
      "Loss L: 0.09549691\n",
      "Acc L: 0.99477273\n",
      "Loss L: 0.09381822\n",
      "Acc L: 0.9952273\n",
      "Loss L: 0.09224791\n",
      "Acc L: 0.9960227\n",
      "Loss L: 0.09076702\n",
      "Acc L: 0.9969318\n",
      "Loss L: 0.08936014\n",
      "Acc L: 0.99715906\n",
      "Loss L: 0.08801394\n",
      "Acc L: 0.99738634\n",
      "Loss L: 0.08671741\n",
      "Acc L: 0.9978409\n",
      "Loss L: 0.08546123\n",
      "Acc L: 0.9982954\n",
      "Loss L: 0.08423777\n",
      "Acc L: 0.9982954\n",
      "Loss L: 0.08304056\n",
      "Acc L: 0.9985227\n",
      "Loss L: 0.08186477\n",
      "Acc L: 0.99863636\n",
      "Loss L: 0.08070694\n",
      "Acc L: 0.99875\n",
      "Loss L: 0.07956495\n",
      "Acc L: 0.99886364\n",
      "Loss L: 0.07843741\n",
      "Acc L: 0.9990909\n",
      "Loss L: 0.07732328\n",
      "Acc L: 0.9992045\n",
      "Loss L: 0.07622138\n",
      "Acc L: 0.9993182\n",
      "Loss L: 0.07513076\n",
      "Acc L: 0.99954545\n",
      "Loss L: 0.07405002\n",
      "Acc L: 0.9997727\n",
      "Loss L: 0.07297775\n",
      "Acc L: 0.9997727\n",
      "Loss L: 0.07191309\n",
      "Acc L: 0.9997727\n",
      "Loss L: 0.07085563\n",
      "Acc L: 0.9997727\n",
      "Loss L: 0.0698055\n",
      "Acc L: 0.9997727\n",
      "Loss L: 0.068763055\n",
      "Acc L: 0.9997727\n",
      "Loss L: 0.067729\n",
      "Acc L: 1.0\n",
      "Loss L: 0.0667039\n",
      "Acc L: 1.0\n",
      "Loss L: 0.065688804\n",
      "Acc L: 1.0\n",
      "Loss L: 0.064684294\n",
      "Acc L: 1.0\n",
      "Loss L: 0.06369131\n",
      "Acc L: 1.0\n",
      "Loss L: 0.06271088\n",
      "Acc L: 1.0\n",
      "Loss L: 0.061744392\n",
      "Acc L: 1.0\n",
      "Loss L: 0.06079335\n",
      "Acc L: 1.0\n",
      "Loss L: 0.059859034\n",
      "Acc L: 1.0\n",
      "Loss L: 0.05894317\n",
      "Acc L: 1.0\n",
      "Loss L: 0.05804683\n",
      "Acc L: 1.0\n",
      "Loss L: 0.05717119\n",
      "Acc L: 1.0\n",
      "Loss L: 0.05631698\n",
      "Acc L: 1.0\n",
      "Loss L: 0.055484705\n",
      "Acc L: 1.0\n",
      "Loss L: 0.05467465\n",
      "Acc L: 1.0\n",
      "Loss L: 0.05388676\n",
      "Acc L: 1.0\n",
      "Loss L: 0.053120967\n",
      "Acc L: 1.0\n",
      "Loss L: 0.0523771\n",
      "Acc L: 1.0\n",
      "Loss L: 0.051654417\n",
      "Acc L: 1.0\n",
      "Loss L: 0.050952394\n",
      "Acc L: 1.0\n",
      "Loss L: 0.05027006\n",
      "Acc L: 1.0\n",
      "Loss L: 0.04960654\n",
      "Acc L: 1.0\n",
      "Loss L: 0.048960745\n",
      "Acc L: 1.0\n",
      "Loss L: 0.04833157\n",
      "Acc L: 1.0\n",
      "Loss L: 0.047717683\n",
      "Acc L: 1.0\n",
      "Loss L: 0.0471182\n",
      "Acc L: 1.0\n",
      "Loss L: 0.04653213\n",
      "Acc L: 1.0\n",
      "Loss L: 0.04595824\n",
      "Acc L: 1.0\n"
     ]
    }
   ],
   "source": [
    "#Train linear model\n",
    "n_ep = 100\n",
    "with tf.Session() as sess:\n",
    "    init = tf.global_variables_initializer()\n",
    "    sess.run(init)\n",
    "    for ep in range(n_ep):\n",
    "        _, l_l, a_l = sess.run([train_l, loss_l, acc_l], feed_dict={x: train_data, y_true: train_labels})\n",
    "        print('Loss L: ' + str(l_l[0]))\n",
    "        print('Acc L: ' + str(a_l))\n",
    "    saver_l.save(sess, \"saved_models/model_l.ckpt\", write_meta_graph=False)"
   ]
  },
  {
   "cell_type": "code",
   "execution_count": 17,
   "metadata": {},
   "outputs": [
    {
     "name": "stdout",
     "output_type": "stream",
     "text": [
      "INFO:tensorflow:Restoring parameters from saved_models/model_l.ckpt\n",
      "Loss L: 0.48208842\n",
      "Acc L: 1.0\n"
     ]
    }
   ],
   "source": [
    "#Get validation results for the linear model with different temperatures\n",
    "with tf.Session() as sess:\n",
    "    init = tf.global_variables_initializer()\n",
    "    sess.run(init)\n",
    "    saver_l.restore(sess, \"saved_models/model_l.ckpt\")\n",
    "    l_l, a_l = sess.run([loss_l, acc_l], feed_dict={x: val_data, y_true: val_labels})\n",
    "    print('Loss L: ' + str(l_l[0]))\n",
    "    print('Acc L: ' + str(a_l))\n"
   ]
  },
  {
   "cell_type": "code",
   "execution_count": 18,
   "metadata": {},
   "outputs": [
    {
     "name": "stdout",
     "output_type": "stream",
     "text": [
      "INFO:tensorflow:Restoring parameters from saved_models/model_l.ckpt\n",
      "Loss L: 0.22388133\n",
      "Acc L: 1.0\n"
     ]
    }
   ],
   "source": [
    "#Get test results for the linear model\n",
    "with tf.Session() as sess:\n",
    "    init = tf.global_variables_initializer()\n",
    "    sess.run(init)\n",
    "    saver_l.restore(sess, \"saved_models/model_l.ckpt\")\n",
    "    l_l, a_l = sess.run([loss_l, acc_l], feed_dict={x: test_data, y_true: test_labels})\n",
    "    print('Loss L: ' + str(l_l[0]))\n",
    "    print('Acc L: ' + str(a_l))"
   ]
  },
  {
   "cell_type": "code",
   "execution_count": 19,
   "metadata": {},
   "outputs": [
    {
     "name": "stdout",
     "output_type": "stream",
     "text": [
      "INFO:tensorflow:Restoring parameters from saved_models/model_l.ckpt\n"
     ]
    }
   ],
   "source": [
    "#Get weights and test data gradients for the linear model\n",
    "\n",
    "with tf.Session() as sess:\n",
    "    init = tf.global_variables_initializer()\n",
    "    sess.run(init)\n",
    "    saver_l.restore(sess, \"saved_models/model_l.ckpt\")\n",
    "    #Get weights and gradients for class 0 for class 0 inputs\n",
    "    x_0 = test_data[where_test_0[0],:,:]\n",
    "    \n",
    "    grad_l_0, weights_l_0 = sess.run([g_l,w], feed_dict={x: x_0, y_true: test_labels[where_test_0[0]]}) \n",
    "    \n",
    "    #Get weights and gradients for class 1 for class 1 inputs\n",
    "    x_1 =test_data[where_test_1[0],:,:]\n",
    "    \n",
    "    grad_l_1, weights_l_1 = sess.run([g_l,w], feed_dict={x: x_1, y_true: test_labels[where_test_1[0]]})\n",
    "    \n",
    "    #Get weights and gradients for class 2 for class 2 inputs\n",
    "    x_2 =test_data[where_test_2[0],:,:]\n",
    "\n",
    "    grad_l_2, weights_l_2 = sess.run([g_l,w], feed_dict={x: x_2, y_true: test_labels[where_test_2[0]]})\n",
    "    \n",
    "    #Get weights and gradients for class 1 for class 0 inputs\n",
    "    grad_l_0_1, weights_l_0_1 = sess.run([g_l,w], feed_dict={x: x_0, y_true: 1.0*np.ones(test_labels[where_test_0[0]].shape)}) \n",
    "    \n",
    "    #Get weights and gradients for class 2 for class 0 inputs\n",
    "    grad_l_0_2, weights_l_0_2 = sess.run([g_l,w], feed_dict={x: x_0, y_true: 2.0*np.ones(test_labels[where_test_0[0]].shape)}) \n",
    "    \n",
    "    #Get weights and gradients for class 0 for class 1 inputs \n",
    "    grad_l_1_0, weights_l_1_0 = sess.run([g_l,w], feed_dict={x: x_1, y_true: 0.0*np.ones(test_labels[where_test_1[0]].shape)}) \n",
    "    \n",
    "    #Get weights and gradients for class 2 for class 1 inputs\n",
    "    grad_l_1_2, weights_l_1_2 = sess.run([g_l,w], feed_dict={x: x_1, y_true: 2.0*np.ones(test_labels[where_test_1[0]].shape)}) \n",
    "    \n",
    "    #Get weights and gradients for class 0 for class 2 inputs\n",
    "    grad_l_2_0, weights_l_2_0 = sess.run([g_l,w], feed_dict={x: x_2, y_true: 0.0*np.ones(test_labels[where_test_2[0]].shape)}) \n",
    "    \n",
    "    #Get weights and gradients for class 1 for class 2 inputs\n",
    "    grad_l_2_1, weights_l_2_1 = sess.run([g_l,w], feed_dict={x: x_2, y_true: 1.0*np.ones(test_labels[where_test_2[0]].shape)})"
   ]
  },
  {
   "cell_type": "code",
   "execution_count": 20,
   "metadata": {},
   "outputs": [
    {
     "data": {
      "text/plain": [
       "<matplotlib.image.AxesImage at 0x7fcaa1f6b828>"
      ]
     },
     "execution_count": 20,
     "metadata": {},
     "output_type": "execute_result"
    },
    {
     "data": {
      "image/png": "[encoded data removed]",
      "text/plain": [
       "<Figure size 288x288 with 1 Axes>"
      ]
     },
     "metadata": {
      "needs_background": "light"
     },
     "output_type": "display_data"
    },
    {
     "data": {
      "image/png": "[encoded data removed]",
      "text/plain": [
       "<Figure size 288x288 with 1 Axes>"
      ]
     },
     "metadata": {
      "needs_background": "light"
     },
     "output_type": "display_data"
    },
    {
     "data": {
      "image/png": "[encoded data removed]",
      "text/plain": [
       "<Figure size 288x288 with 1 Axes>"
      ]
     },
     "metadata": {
      "needs_background": "light"
     },
     "output_type": "display_data"
    }
   ],
   "source": [
    "#Plot linear model weights for the three classes\n",
    "#Plot weights for class 0\n",
    "clim = np.abs(weights_l_0[0].mean(axis=0)).max()\n",
    "plt.matshow(np.reshape(weights_l_0[0].mean(axis=0),[32,32]),cmap='seismic',vmin=-1.0*clim,vmax=clim)\n",
    "#Plot weights for class 1\n",
    "clim = np.abs(weights_l_1[0].mean(axis=0)).max()\n",
    "plt.matshow(np.reshape(weights_l_1[0].mean(axis=0),[32,32]),cmap='seismic',vmin=-1.0*clim,vmax=clim)\n",
    "#Plot weights for class 2\n",
    "clim = np.abs(weights_l_2[0].mean(axis=0)).max()\n",
    "plt.matshow(np.reshape(weights_l_2[0].mean(axis=0),[32,32]),cmap='seismic',vmin=-1.0*clim,vmax=clim)"
   ]
  },
  {
   "cell_type": "code",
   "execution_count": 40,
   "metadata": {},
   "outputs": [
    {
     "data": {
      "text/plain": [
       "<matplotlib.image.AxesImage at 0x7fcaa1ae49b0>"
      ]
     },
     "execution_count": 40,
     "metadata": {},
     "output_type": "execute_result"
    },
    {
     "data": {
      "image/png": "[encoded data removed]",
      "text/plain": [
       "<Figure size 288x288 with 1 Axes>"
      ]
     },
     "metadata": {
      "needs_background": "light"
     },
     "output_type": "display_data"
    },
    {
     "data": {
      "image/png": "[encoded data removed]",
      "text/plain": [
       "<Figure size 288x288 with 1 Axes>"
      ]
     },
     "metadata": {
      "needs_background": "light"
     },
     "output_type": "display_data"
    },
    {
     "data": {
      "image/png": "[encoded data removed]",
      "text/plain": [
       "<Figure size 288x288 with 1 Axes>"
      ]
     },
     "metadata": {
      "needs_background": "light"
     },
     "output_type": "display_data"
    },
    {
     "data": {
      "image/png": "[encoded data removed]",
      "text/plain": [
       "<Figure size 288x288 with 1 Axes>"
      ]
     },
     "metadata": {
      "needs_background": "light"
     },
     "output_type": "display_data"
    },
    {
     "data": {
      "image/png": "[encoded data removed]",
      "text/plain": [
       "<Figure size 288x288 with 1 Axes>"
      ]
     },
     "metadata": {
      "needs_background": "light"
     },
     "output_type": "display_data"
    },
    {
     "data": {
      "image/png": "[encoded data removed]",
      "text/plain": [
       "<Figure size 288x288 with 1 Axes>"
      ]
     },
     "metadata": {
      "needs_background": "light"
     },
     "output_type": "display_data"
    },
    {
     "data": {
      "image/png": "[encoded data removed]",
      "text/plain": [
       "<Figure size 288x288 with 1 Axes>"
      ]
     },
     "metadata": {
      "needs_background": "light"
     },
     "output_type": "display_data"
    },
    {
     "data": {
      "image/png": "[encoded data removed]",
      "text/plain": [
       "<Figure size 288x288 with 1 Axes>"
      ]
     },
     "metadata": {
      "needs_background": "light"
     },
     "output_type": "display_data"
    },
    {
     "data": {
      "image/png": "[encoded data removed]",
      "text/plain": [
       "<Figure size 288x288 with 1 Axes>"
      ]
     },
     "metadata": {
      "needs_background": "light"
     },
     "output_type": "display_data"
    }
   ],
   "source": [
    "#Plot gradients for the linear model\n",
    "\n",
    "#Plot gradients for class 0 for class 0 inputs\n",
    "clim = np.abs(grad_l_0[0].mean(axis=0)).max()\n",
    "plt.matshow(np.reshape(grad_l_0[0].mean(axis=0),[32,32]),cmap='seismic',vmin=-1.0*clim,vmax=clim)\n",
    "\n",
    "#Plot gradients for class 1 for class 1 inputs\n",
    "clim = np.abs(grad_l_1[0].mean(axis=0)).max()\n",
    "plt.matshow(np.reshape(grad_l_1[0].mean(axis=0),[32,32]),cmap='seismic',vmin=-1.0*clim,vmax=clim)\n",
    "\n",
    "#Plot gradientws for class 2 for class 2 inputs\n",
    "clim = np.abs(grad_l_2[0].mean(axis=0)).max()\n",
    "plt.matshow(np.reshape(grad_l_2[0].mean(axis=0),[32,32]),cmap='seismic',vmin=-1.0*clim,vmax=clim)\n",
    "\n",
    "#Plot gradients for class 1 for class 0 inputs\n",
    "clim = np.abs(grad_l_0_1[0].mean(axis=0)).max()\n",
    "plt.matshow(np.reshape(grad_l_0_1[0].mean(axis=0),[32,32]),cmap='seismic',vmin=-1.0*clim,vmax=clim)\n",
    "\n",
    "#Plot gradients for class 2 for class 0 inputs\n",
    "clim = np.abs(grad_l_0_2[0].mean(axis=0)).max()\n",
    "plt.matshow(np.reshape(grad_l_0_2[0].mean(axis=0),[32,32]),cmap='seismic',vmin=-1.0*clim,vmax=clim)\n",
    "\n",
    "#Plot gradients for class 0 for class 1 inputs\n",
    "clim = np.abs(grad_l_1_0[0].mean(axis=0)).max()\n",
    "plt.matshow(np.reshape(grad_l_1_0[0].mean(axis=0),[32,32]),cmap='seismic',vmin=-1.0*clim,vmax=clim)\n",
    "\n",
    "#Plot gradients for class 2 for class 1 inputs\n",
    "clim = np.abs(grad_l_1_2[0].mean(axis=0)).max()\n",
    "plt.matshow(np.reshape(grad_l_1_2[0].mean(axis=0),[32,32]),cmap='seismic',vmin=-1.0*clim,vmax=clim)\n",
    "\n",
    "#Plot gradients for class 0 for class 2 inputs\n",
    "clim = np.abs(grad_l_2_0[0].mean(axis=0)).max()\n",
    "plt.matshow(np.reshape(grad_l_2_0[0].mean(axis=0),[32,32]),cmap='seismic',vmin=-1.0*clim,vmax=clim)\n",
    "\n",
    "#Plot gradients for class 1 for class 2 inputs\n",
    "clim = np.abs(grad_l_2_1[0].mean(axis=0)).max()\n",
    "plt.matshow(np.reshape(grad_l_2_1[0].mean(axis=0),[32,32]),cmap='seismic',vmin=-1.0*clim,vmax=clim)"
   ]
  },
  {
   "cell_type": "code",
   "execution_count": 22,
   "metadata": {},
   "outputs": [
    {
     "name": "stdout",
     "output_type": "stream",
     "text": [
      "Loss L: 1.4517198\n",
      "Acc L: 0.37897727\n",
      "Loss L: 1.3287647\n",
      "Acc L: 0.41420454\n",
      "Loss L: 1.2098687\n",
      "Acc L: 0.45534092\n",
      "Loss L: 1.1003706\n",
      "Acc L: 0.4984091\n",
      "Loss L: 1.0063304\n",
      "Acc L: 0.5415909\n",
      "Loss L: 0.9261798\n",
      "Acc L: 0.5853409\n",
      "Loss L: 0.8578346\n",
      "Acc L: 0.63102275\n",
      "Loss L: 0.7987104\n",
      "Acc L: 0.66920453\n",
      "Loss L: 0.7463229\n",
      "Acc L: 0.70625\n",
      "Loss L: 0.6994691\n",
      "Acc L: 0.74204546\n",
      "Loss L: 0.65628356\n",
      "Acc L: 0.77602273\n",
      "Loss L: 0.61613494\n",
      "Acc L: 0.80636364\n",
      "Loss L: 0.5786201\n",
      "Acc L: 0.8355682\n",
      "Loss L: 0.5424578\n",
      "Acc L: 0.8627273\n",
      "Loss L: 0.5039388\n",
      "Acc L: 0.88704544\n",
      "Loss L: 0.46646798\n",
      "Acc L: 0.9071591\n",
      "Loss L: 0.43032774\n",
      "Acc L: 0.92306817\n",
      "Loss L: 0.39672667\n",
      "Acc L: 0.9377273\n",
      "Loss L: 0.36595723\n",
      "Acc L: 0.95045453\n",
      "Loss L: 0.3332699\n",
      "Acc L: 0.95875\n",
      "Loss L: 0.2967408\n",
      "Acc L: 0.9689773\n",
      "Loss L: 0.2634492\n",
      "Acc L: 0.97511363\n",
      "Loss L: 0.23326463\n",
      "Acc L: 0.9802273\n",
      "Loss L: 0.20609468\n",
      "Acc L: 0.98477274\n",
      "Loss L: 0.18171811\n",
      "Acc L: 0.98829544\n",
      "Loss L: 0.16001101\n",
      "Acc L: 0.9915909\n",
      "Loss L: 0.14075252\n",
      "Acc L: 0.99386364\n",
      "Loss L: 0.1237809\n",
      "Acc L: 0.99556816\n",
      "Loss L: 0.10897543\n",
      "Acc L: 0.99625\n",
      "Loss L: 0.096160345\n",
      "Acc L: 0.9977273\n",
      "Loss L: 0.08478168\n",
      "Acc L: 0.9982954\n",
      "Loss L: 0.07479398\n",
      "Acc L: 0.9990909\n",
      "Loss L: 0.06604205\n",
      "Acc L: 0.9993182\n",
      "Loss L: 0.0583803\n",
      "Acc L: 0.9993182\n",
      "Loss L: 0.051681697\n",
      "Acc L: 0.99954545\n",
      "Loss L: 0.045834247\n",
      "Acc L: 0.99965906\n",
      "Loss L: 0.040720787\n",
      "Acc L: 0.9997727\n",
      "Loss L: 0.036246803\n",
      "Acc L: 0.9997727\n",
      "Loss L: 0.03233296\n",
      "Acc L: 0.99988633\n",
      "Loss L: 0.028911246\n",
      "Acc L: 0.99988633\n",
      "Loss L: 0.025920795\n",
      "Acc L: 0.99988633\n",
      "Loss L: 0.023307523\n",
      "Acc L: 0.99988633\n",
      "Loss L: 0.021023175\n",
      "Acc L: 0.99988633\n",
      "Loss L: 0.019024992\n",
      "Acc L: 0.99988633\n",
      "Loss L: 0.017274281\n",
      "Acc L: 0.99988633\n",
      "Loss L: 0.015735976\n",
      "Acc L: 1.0\n",
      "Loss L: 0.014381683\n",
      "Acc L: 1.0\n",
      "Loss L: 0.013187216\n",
      "Acc L: 1.0\n",
      "Loss L: 0.012130418\n",
      "Acc L: 1.0\n",
      "Loss L: 0.011192985\n",
      "Acc L: 1.0\n",
      "Loss L: 0.0103589725\n",
      "Acc L: 1.0\n",
      "Loss L: 0.009614354\n",
      "Acc L: 1.0\n",
      "Loss L: 0.0089473985\n",
      "Acc L: 1.0\n",
      "Loss L: 0.008348684\n",
      "Acc L: 1.0\n",
      "Loss L: 0.007809464\n",
      "Acc L: 1.0\n",
      "Loss L: 0.007322852\n",
      "Acc L: 1.0\n",
      "Loss L: 0.006882532\n",
      "Acc L: 1.0\n",
      "Loss L: 0.006483117\n",
      "Acc L: 1.0\n",
      "Loss L: 0.0061208652\n",
      "Acc L: 1.0\n",
      "Loss L: 0.005797002\n",
      "Acc L: 1.0\n",
      "Loss L: 0.0055001834\n",
      "Acc L: 1.0\n",
      "Loss L: 0.00522735\n",
      "Acc L: 1.0\n",
      "Loss L: 0.0049762684\n",
      "Acc L: 1.0\n",
      "Loss L: 0.0047445814\n",
      "Acc L: 1.0\n",
      "Loss L: 0.0045301667\n",
      "Acc L: 1.0\n",
      "Loss L: 0.004331493\n",
      "Acc L: 1.0\n",
      "Loss L: 0.004147025\n",
      "Acc L: 1.0\n",
      "Loss L: 0.003975466\n",
      "Acc L: 1.0\n",
      "Loss L: 0.003815634\n",
      "Acc L: 1.0\n",
      "Loss L: 0.0036669413\n",
      "Acc L: 1.0\n",
      "Loss L: 0.003528086\n",
      "Acc L: 1.0\n",
      "Loss L: 0.0033983595\n",
      "Acc L: 1.0\n",
      "Loss L: 0.0032770524\n",
      "Acc L: 1.0\n",
      "Loss L: 0.0031634546\n",
      "Acc L: 1.0\n",
      "Loss L: 0.003056856\n",
      "Acc L: 1.0\n",
      "Loss L: 0.002956902\n",
      "Acc L: 1.0\n",
      "Loss L: 0.0028630004\n",
      "Acc L: 1.0\n",
      "Loss L: 0.002774796\n",
      "Acc L: 1.0\n",
      "Loss L: 0.0026915772\n",
      "Acc L: 1.0\n",
      "Loss L: 0.0026131074\n",
      "Acc L: 1.0\n",
      "Loss L: 0.0025389122\n",
      "Acc L: 1.0\n",
      "Loss L: 0.0024686358\n",
      "Acc L: 1.0\n",
      "Loss L: 0.002402041\n",
      "Acc L: 1.0\n",
      "Loss L: 0.002338653\n",
      "Acc L: 1.0\n",
      "Loss L: 0.002278353\n",
      "Acc L: 1.0\n",
      "Loss L: 0.0022209045\n",
      "Acc L: 1.0\n",
      "Loss L: 0.0021660693\n",
      "Acc L: 1.0\n",
      "Loss L: 0.0021137295\n",
      "Acc L: 1.0\n",
      "Loss L: 0.002063528\n",
      "Acc L: 1.0\n",
      "Loss L: 0.0020153467\n",
      "Acc L: 1.0\n",
      "Loss L: 0.0019691854\n",
      "Acc L: 1.0\n",
      "Loss L: 0.0019248069\n",
      "Acc L: 1.0\n",
      "Loss L: 0.0018819731\n",
      "Acc L: 1.0\n",
      "Loss L: 0.0018408034\n",
      "Acc L: 1.0\n",
      "Loss L: 0.001801179\n",
      "Acc L: 1.0\n",
      "Loss L: 0.001762862\n",
      "Acc L: 1.0\n",
      "Loss L: 0.0017258525\n",
      "Acc L: 1.0\n",
      "Loss L: 0.0016901507\n",
      "Acc L: 1.0\n",
      "Loss L: 0.0016556378\n",
      "Acc L: 1.0\n",
      "Loss L: 0.0016221949\n",
      "Acc L: 1.0\n"
     ]
    }
   ],
   "source": [
    "#Train neural network model\n",
    "n_ep = 100\n",
    "with tf.Session() as sess:\n",
    "    init = tf.global_variables_initializer()\n",
    "    sess.run(init)\n",
    "    for ep in range(n_ep):\n",
    "        _, l_nn, a_nn = sess.run([train_nn, loss_nn, acc_nn], feed_dict={x: train_data, y_true: train_labels})\n",
    "        print('Loss L: ' + str(l_nn[0]))\n",
    "        print('Acc L: ' + str(a_nn))\n",
    "    saver_nn.save(sess, \"saved_models/model_nn.ckpt\", write_meta_graph=False)"
   ]
  },
  {
   "cell_type": "code",
   "execution_count": 23,
   "metadata": {},
   "outputs": [
    {
     "name": "stdout",
     "output_type": "stream",
     "text": [
      "INFO:tensorflow:Restoring parameters from saved_models/model_nn.ckpt\n",
      "Loss L: 0.15371905\n",
      "Acc L: 1.0\n"
     ]
    }
   ],
   "source": [
    "#Get validation results for the neural network model with different temperatures\n",
    "with tf.Session() as sess:\n",
    "    init = tf.global_variables_initializer()\n",
    "    sess.run(init)\n",
    "    saver_nn.restore(sess, \"saved_models/model_nn.ckpt\")\n",
    "    l_nn, a_nn = sess.run([loss_nn, acc_nn], feed_dict={x: val_data, y_true: val_labels})\n",
    "    print('Loss L: ' + str(l_nn[0]))\n",
    "    print('Acc L: ' + str(a_nn))"
   ]
  },
  {
   "cell_type": "code",
   "execution_count": 24,
   "metadata": {},
   "outputs": [
    {
     "name": "stdout",
     "output_type": "stream",
     "text": [
      "INFO:tensorflow:Restoring parameters from saved_models/model_nn.ckpt\n",
      "Loss L: 0.007196339\n",
      "Acc L: 1.0\n"
     ]
    }
   ],
   "source": [
    "#Get test results for the neural network model\n",
    "with tf.Session() as sess:\n",
    "    init = tf.global_variables_initializer()\n",
    "    sess.run(init)\n",
    "    saver_nn.restore(sess, \"saved_models/model_nn.ckpt\")\n",
    "    l_nn, a_nn = sess.run([loss_nn, acc_nn], feed_dict={x: test_data, y_true: test_labels})\n",
    "    print('Loss L: ' + str(l_nn[0]))\n",
    "    print('Acc L: ' + str(a_nn))"
   ]
  },
  {
   "cell_type": "code",
   "execution_count": 25,
   "metadata": {},
   "outputs": [
    {
     "name": "stdout",
     "output_type": "stream",
     "text": [
      "INFO:tensorflow:Restoring parameters from saved_models/model_nn.ckpt\n"
     ]
    }
   ],
   "source": [
    "#Get test data gradients for the neural network model\n",
    "\n",
    "with tf.Session() as sess:\n",
    "    init = tf.global_variables_initializer()\n",
    "    sess.run(init)\n",
    "    saver_nn.restore(sess, \"saved_models/model_nn.ckpt\")\n",
    "    #Get gradients for class 0 for class 0 inputs\n",
    "    x_0 = test_data[where_test_0[0],:,:]\n",
    "    \n",
    "    grad_nn_0 = sess.run(g_nn, feed_dict={x: x_0, y_true: test_labels[where_test_0[0]]}) \n",
    "    \n",
    "    #Get gradients for class 1 for class 1 inputs\n",
    "    x_1 =test_data[where_test_1[0],:,:]\n",
    "    \n",
    "    grad_nn_1 = sess.run(g_nn, feed_dict={x: x_1, y_true: test_labels[where_test_1[0]]})\n",
    "    \n",
    "    #Get gradients for class 2 for class 2 inputs\n",
    "    x_2 =test_data[where_test_2[0],:,:]\n",
    "\n",
    "    grad_nn_2 = sess.run(g_nn, feed_dict={x: x_2, y_true: test_labels[where_test_2[0]]})\n",
    "    \n",
    "    #Get gradients for class 1 for class 0 inputs\n",
    "    grad_nn_0_1 = sess.run(g_nn, feed_dict={x: x_0, y_true: 1.0*np.ones(test_labels[where_test_0[0]].shape)}) \n",
    "    \n",
    "    #Get gradients for class 2 for class 0 inputs\n",
    "    grad_nn_0_2 = sess.run(g_nn, feed_dict={x: x_0, y_true: 2.0*np.ones(test_labels[where_test_0[0]].shape)}) \n",
    "    \n",
    "    #Get gradients for class 0 for class 1 inputs \n",
    "    grad_nn_1_0 = sess.run(g_nn, feed_dict={x: x_1, y_true: 0.0*np.ones(test_labels[where_test_1[0]].shape)}) \n",
    "    \n",
    "    #Get gradients for class 2 for class 1 inputs\n",
    "    grad_nn_1_2 = sess.run(g_nn, feed_dict={x: x_1, y_true: 2.0*np.ones(test_labels[where_test_1[0]].shape)}) \n",
    "    \n",
    "    #Get gradients for class 0 for class 2 inputs\n",
    "    grad_nn_2_0 = sess.run(g_nn, feed_dict={x: x_2, y_true: 0.0*np.ones(test_labels[where_test_2[0]].shape)}) \n",
    "    \n",
    "    #Get gradients for class 1 for class 2 inputs\n",
    "    grad_nn_2_1 = sess.run(g_nn, feed_dict={x: x_2, y_true: 1.0*np.ones(test_labels[where_test_2[0]].shape)})"
   ]
  },
  {
   "cell_type": "code",
   "execution_count": 41,
   "metadata": {},
   "outputs": [
    {
     "data": {
      "text/plain": [
       "<matplotlib.image.AxesImage at 0x7fcaa1e7f2b0>"
      ]
     },
     "execution_count": 41,
     "metadata": {},
     "output_type": "execute_result"
    },
    {
     "data": {
      "image/png": "[encoded data removed]",
      "text/plain": [
       "<Figure size 288x288 with 1 Axes>"
      ]
     },
     "metadata": {
      "needs_background": "light"
     },
     "output_type": "display_data"
    },
    {
     "data": {
      "image/png": "[encoded data removed]",
      "text/plain": [
       "<Figure size 288x288 with 1 Axes>"
      ]
     },
     "metadata": {
      "needs_background": "light"
     },
     "output_type": "display_data"
    },
    {
     "data": {
      "image/png": "[encoded data removed]",
      "text/plain": [
       "<Figure size 288x288 with 1 Axes>"
      ]
     },
     "metadata": {
      "needs_background": "light"
     },
     "output_type": "display_data"
    },
    {
     "data": {
      "image/png": "[encoded data removed]",
      "text/plain": [
       "<Figure size 288x288 with 1 Axes>"
      ]
     },
     "metadata": {
      "needs_background": "light"
     },
     "output_type": "display_data"
    },
    {
     "data": {
      "image/png": "[encoded data removed]",
      "text/plain": [
       "<Figure size 288x288 with 1 Axes>"
      ]
     },
     "metadata": {
      "needs_background": "light"
     },
     "output_type": "display_data"
    },
    {
     "data": {
      "image/png": "[encoded data removed]",
      "text/plain": [
       "<Figure size 288x288 with 1 Axes>"
      ]
     },
     "metadata": {
      "needs_background": "light"
     },
     "output_type": "display_data"
    },
    {
     "data": {
      "image/png": "[encoded data removed]",
      "text/plain": [
       "<Figure size 288x288 with 1 Axes>"
      ]
     },
     "metadata": {
      "needs_background": "light"
     },
     "output_type": "display_data"
    },
    {
     "data": {
      "image/png": "[encoded data removed]",
      "text/plain": [
       "<Figure size 288x288 with 1 Axes>"
      ]
     },
     "metadata": {
      "needs_background": "light"
     },
     "output_type": "display_data"
    },
    {
     "data": {
      "image/png": "[encoded data removed]",
      "text/plain": [
       "<Figure size 288x288 with 1 Axes>"
      ]
     },
     "metadata": {
      "needs_background": "light"
     },
     "output_type": "display_data"
    }
   ],
   "source": [
    "#Plot gradients for the neural network model\n",
    "\n",
    "#Plot gradients for class 0 for class 0 inputs\n",
    "clim = np.abs(grad_nn_0[0].mean(axis=0)).max()\n",
    "plt.matshow(np.reshape(grad_nn_0[0].mean(axis=0),[32,32]),cmap='seismic',vmin=-1.0*clim,vmax=clim)\n",
    "\n",
    "#Plot gradients for class 1 for class 1 inputs\n",
    "clim = np.abs(grad_nn_1[0].mean(axis=0)).max()\n",
    "plt.matshow(np.reshape(grad_nn_1[0].mean(axis=0),[32,32]),cmap='seismic',vmin=-1.0*clim,vmax=clim)\n",
    "\n",
    "#Plot gradientws for class 2 for class 2 inputs\n",
    "clim = np.abs(grad_nn_2[0].mean(axis=0)).max()\n",
    "plt.matshow(np.reshape(grad_nn_2[0].mean(axis=0),[32,32]),cmap='seismic',vmin=-1.0*clim,vmax=clim)\n",
    "\n",
    "#Plot gradients for class 1 for class 0 inputs\n",
    "clim = np.abs(grad_nn_0_1[0].mean(axis=0)).max()\n",
    "plt.matshow(np.reshape(grad_nn_0_1[0].mean(axis=0),[32,32]),cmap='seismic',vmin=-1.0*clim,vmax=clim)\n",
    "\n",
    "#Plot gradients for class 2 for class 0 inputs\n",
    "clim = np.abs(grad_nn_0_2[0].mean(axis=0)).max()\n",
    "plt.matshow(np.reshape(grad_nn_0_2[0].mean(axis=0),[32,32]),cmap='seismic',vmin=-1.0*clim,vmax=clim)\n",
    "\n",
    "#Plot gradients for class 0 for class 1 inputs\n",
    "clim = np.abs(grad_nn_1_0[0].mean(axis=0)).max()\n",
    "plt.matshow(np.reshape(grad_nn_1_0[0].mean(axis=0),[32,32]),cmap='seismic',vmin=-1.0*clim,vmax=clim)\n",
    "\n",
    "#Plot gradients for class 2 for class 1 inputs\n",
    "clim = np.abs(grad_nn_1_2[0].mean(axis=0)).max()\n",
    "plt.matshow(np.reshape(grad_nn_1_2[0].mean(axis=0),[32,32]),cmap='seismic',vmin=-1.0*clim,vmax=clim)\n",
    "\n",
    "#Plot gradients for class 0 for class 2 inputs\n",
    "clim = np.abs(grad_nn_2_0[0].mean(axis=0)).max()\n",
    "plt.matshow(np.reshape(grad_nn_2_0[0].mean(axis=0),[32,32]),cmap='seismic',vmin=-1.0*clim,vmax=clim)\n",
    "\n",
    "#Plot gradients for class 1 for class 2 inputs\n",
    "clim = np.abs(grad_nn_2_1[0].mean(axis=0)).max()\n",
    "plt.matshow(np.reshape(grad_nn_2_1[0].mean(axis=0),[32,32]),cmap='seismic',vmin=-1.0*clim,vmax=clim)"
   ]
  },
  {
   "cell_type": "code",
   "execution_count": 27,
   "metadata": {},
   "outputs": [
    {
     "name": "stdout",
     "output_type": "stream",
     "text": [
      "INFO:tensorflow:Restoring parameters from saved_models/model_nn.ckpt\n"
     ]
    }
   ],
   "source": [
    "#Get test data gradients for the neural network model with SmoothGrad\n",
    "\n",
    "with tf.Session() as sess:\n",
    "    init = tf.global_variables_initializer()\n",
    "    sess.run(init)\n",
    "    saver_nn.restore(sess, \"saved_models/model_nn.ckpt\")\n",
    "    #Get gradients for class 0 for class 0 inputs\n",
    "    x_0 = test_data[where_test_0[0],:,:]\n",
    "    \n",
    "    grads = []\n",
    "    for m in range(10):\n",
    "        grads.append(sess.run(g_nn, feed_dict={x: x_0+np.random.normal(loc=0.0,scale=0.3,size=x_0.shape), y_true: test_labels[where_test_0[0]]})[0])\n",
    "    grad_sg_0 = np.array(grads).mean(axis=0,keepdims=True) \n",
    "    \n",
    "    #Get gradients for class 1 for class 1 inputs\n",
    "    x_1 =test_data[where_test_1[0],:,:]\n",
    "    \n",
    "    grads = []\n",
    "    for m in range(10):\n",
    "        grads.append(sess.run(g_nn, feed_dict={x: x_1+np.random.normal(loc=0.0,scale=0.3,size=x_1.shape), y_true: test_labels[where_test_1[0]]})[0])\n",
    "    grad_sg_1 = np.array(grads).mean(axis=0,keepdims=True) \n",
    "    \n",
    "    #Get gradients for class 2 for class 2 inputs\n",
    "    x_2 =test_data[where_test_2[0],:,:]\n",
    "    \n",
    "    grads = []\n",
    "    for m in range(10):\n",
    "        grads.append(sess.run(g_nn, feed_dict={x: x_2+np.random.normal(loc=0.0,scale=0.3,size=x_2.shape), y_true: test_labels[where_test_2[0]]})[0])\n",
    "    grad_sg_2 = np.array(grads).mean(axis=0,keepdims=True) \n",
    "    \n",
    "    #Get gradients for class 1 for class 0 inputs\n",
    "    grads = []\n",
    "    for m in range(10):\n",
    "        grads.append(sess.run(g_nn, feed_dict={x: x_0+np.random.normal(loc=0.0,scale=0.3,size=x_0.shape), y_true: 1.0*np.ones(test_labels[where_test_0[0]].shape)})[0])\n",
    "    grad_sg_0_1 = np.array(grads).mean(axis=0,keepdims=True)  \n",
    "    \n",
    "    #Get gradients for class 2 for class 0 inputs\n",
    "    grads = []\n",
    "    for m in range(10):\n",
    "        grads.append(sess.run(g_nn, feed_dict={x: x_0+np.random.normal(loc=0.0,scale=0.3,size=x_0.shape), y_true: 2.0*np.ones(test_labels[where_test_0[0]].shape)})[0])\n",
    "    grad_sg_0_2 = np.array(grads).mean(axis=0,keepdims=True)  \n",
    "    \n",
    "    #Get gradients for class 0 for class 1 inputs\n",
    "    grads = []\n",
    "    for m in range(10):\n",
    "        grads.append(sess.run(g_nn, feed_dict={x: x_1+np.random.normal(loc=0.0,scale=0.3,size=x_1.shape), y_true: 0.0*np.ones(test_labels[where_test_1[0]].shape)})[0])\n",
    "    grad_sg_1_0 = np.array(grads).mean(axis=0,keepdims=True)\n",
    "    \n",
    "    #Get gradients for class 2 for class 1 inputs\n",
    "    grads = []\n",
    "    for m in range(10):\n",
    "        grads.append(sess.run(g_nn, feed_dict={x: x_1+np.random.normal(loc=0.0,scale=0.3,size=x_1.shape), y_true: 2.0*np.ones(test_labels[where_test_1[0]].shape)})[0])\n",
    "    grad_sg_1_2 = np.array(grads).mean(axis=0,keepdims=True)\n",
    "    \n",
    "    #Get gradients for class 0 for class 2 inputs\n",
    "    grads = []\n",
    "    for m in range(10):\n",
    "        grads.append(sess.run(g_nn, feed_dict={x: x_2+np.random.normal(loc=0.0,scale=0.3,size=x_2.shape), y_true: 0.0*np.ones(test_labels[where_test_2[0]].shape)})[0])\n",
    "    grad_sg_2_0 = np.array(grads).mean(axis=0,keepdims=True)\n",
    "    \n",
    "    #Get gradients for class 1 for class 2 inputs\n",
    "    grads = []\n",
    "    for m in range(10):\n",
    "        grads.append(sess.run(g_nn, feed_dict={x: x_2+np.random.normal(loc=0.0,scale=0.3,size=x_2.shape), y_true: 1.0*np.ones(test_labels[where_test_2[0]].shape)})[0])\n",
    "    grad_sg_2_1 = np.array(grads).mean(axis=0,keepdims=True)"
   ]
  },
  {
   "cell_type": "code",
   "execution_count": 42,
   "metadata": {},
   "outputs": [
    {
     "data": {
      "text/plain": [
       "<matplotlib.image.AxesImage at 0x7fca6053bb00>"
      ]
     },
     "execution_count": 42,
     "metadata": {},
     "output_type": "execute_result"
    },
    {
     "data": {
      "image/png": "[encoded data removed]",
      "text/plain": [
       "<Figure size 288x288 with 1 Axes>"
      ]
     },
     "metadata": {
      "needs_background": "light"
     },
     "output_type": "display_data"
    },
    {
     "data": {
      "image/png": "[encoded data removed]",
      "text/plain": [
       "<Figure size 288x288 with 1 Axes>"
      ]
     },
     "metadata": {
      "needs_background": "light"
     },
     "output_type": "display_data"
    },
    {
     "data": {
      "image/png": "[encoded data removed]",
      "text/plain": [
       "<Figure size 288x288 with 1 Axes>"
      ]
     },
     "metadata": {
      "needs_background": "light"
     },
     "output_type": "display_data"
    },
    {
     "data": {
      "image/png": "[encoded data removed]",
      "text/plain": [
       "<Figure size 288x288 with 1 Axes>"
      ]
     },
     "metadata": {
      "needs_background": "light"
     },
     "output_type": "display_data"
    },
    {
     "data": {
      "image/png": "[encoded data removed]",
      "text/plain": [
       "<Figure size 288x288 with 1 Axes>"
      ]
     },
     "metadata": {
      "needs_background": "light"
     },
     "output_type": "display_data"
    },
    {
     "data": {
      "image/png": "[encoded data removed]",
      "text/plain": [
       "<Figure size 288x288 with 1 Axes>"
      ]
     },
     "metadata": {
      "needs_background": "light"
     },
     "output_type": "display_data"
    },
    {
     "data": {
      "image/png": "[encoded data removed]",
      "text/plain": [
       "<Figure size 288x288 with 1 Axes>"
      ]
     },
     "metadata": {
      "needs_background": "light"
     },
     "output_type": "display_data"
    },
    {
     "data": {
      "image/png": "[encoded data removed]",
      "text/plain": [
       "<Figure size 288x288 with 1 Axes>"
      ]
     },
     "metadata": {
      "needs_background": "light"
     },
     "output_type": "display_data"
    },
    {
     "data": {
      "image/png": "[encoded data removed]",
      "text/plain": [
       "<Figure size 288x288 with 1 Axes>"
      ]
     },
     "metadata": {
      "needs_background": "light"
     },
     "output_type": "display_data"
    }
   ],
   "source": [
    "#Plot gradients for the neural network model with SmoothGrad\n",
    "\n",
    "#Plot gradients for class 0 for class 0 inputs\n",
    "clim = np.abs(grad_sg_0[0].mean(axis=0)).max()\n",
    "plt.matshow(np.reshape(grad_sg_0[0].mean(axis=0),[32,32]),cmap='seismic',vmin=-1.0*clim,vmax=clim)\n",
    "\n",
    "#Plot gradients for class 1 for class 1 inputs\n",
    "clim = np.abs(grad_sg_1[0].mean(axis=0)).max()\n",
    "plt.matshow(np.reshape(grad_sg_1[0].mean(axis=0),[32,32]),cmap='seismic',vmin=-1.0*clim,vmax=clim)\n",
    "\n",
    "#Plot gradientws for class 2 for class 2 inputs\n",
    "clim = np.abs(grad_sg_2[0].mean(axis=0)).max()\n",
    "plt.matshow(np.reshape(grad_sg_2[0].mean(axis=0),[32,32]),cmap='seismic',vmin=-1.0*clim,vmax=clim)\n",
    "\n",
    "#Plot gradients for class 1 for class 0 inputs\n",
    "clim = np.abs(grad_sg_0_1[0].mean(axis=0)).max()\n",
    "plt.matshow(np.reshape(grad_sg_0_1[0].mean(axis=0),[32,32]),cmap='seismic',vmin=-1.0*clim,vmax=clim)\n",
    "\n",
    "#Plot gradients for class 2 for class 0 inputs\n",
    "clim = np.abs(grad_sg_0_2[0].mean(axis=0)).max()\n",
    "plt.matshow(np.reshape(grad_sg_0_2[0].mean(axis=0),[32,32]),cmap='seismic',vmin=-1.0*clim,vmax=clim)\n",
    "\n",
    "#Plot gradients for class 0 for class 1 inputs\n",
    "clim = np.abs(grad_sg_1_0[0].mean(axis=0)).max()\n",
    "plt.matshow(np.reshape(grad_sg_1_0[0].mean(axis=0),[32,32]),cmap='seismic',vmin=-1.0*clim,vmax=clim)\n",
    "\n",
    "#Plot gradients for class 2 for class 1 inputs\n",
    "clim = np.abs(grad_sg_1_2[0].mean(axis=0)).max()\n",
    "plt.matshow(np.reshape(grad_sg_1_2[0].mean(axis=0),[32,32]),cmap='seismic',vmin=-1.0*clim,vmax=clim)\n",
    "\n",
    "#Plot gradients for class 0 for class 2 inputs\n",
    "clim = np.abs(grad_sg_2_0[0].mean(axis=0)).max()\n",
    "plt.matshow(np.reshape(grad_sg_2_0[0].mean(axis=0),[32,32]),cmap='seismic',vmin=-1.0*clim,vmax=clim)\n",
    "\n",
    "#Plot gradients for class 1 for class 2 inputs\n",
    "clim = np.abs(grad_sg_2_1[0].mean(axis=0)).max()\n",
    "plt.matshow(np.reshape(grad_sg_2_1[0].mean(axis=0),[32,32]),cmap='seismic',vmin=-1.0*clim,vmax=clim)"
   ]
  },
  {
   "cell_type": "code",
   "execution_count": 29,
   "metadata": {},
   "outputs": [],
   "source": [
    "#Define function to generate uniform spherical noise\n",
    "def get_sph_noise(shape,epsilon):\n",
    "    n_noise_samples = shape[0]\n",
    "    shape.pop(0)\n",
    "    noise = []\n",
    "    for n in range(n_noise_samples):\n",
    "        noise_tmp = np.random.normal(size=shape)\n",
    "        u = np.random.uniform(size=())\n",
    "        noise_tmp = (epsilon*(u**(1.0/float(np.prod(np.array(shape))))) * noise_tmp / (np.linalg.norm(noise_tmp)+1e-16))  \n",
    "        noise.append(noise_tmp)\n",
    "    return np.array(noise)"
   ]
  },
  {
   "cell_type": "code",
   "execution_count": 30,
   "metadata": {},
   "outputs": [
    {
     "name": "stdout",
     "output_type": "stream",
     "text": [
      "Loss L: 0.35516226\n",
      "Acc L: 0.3203409\n",
      "Loss L: 0.33223337\n",
      "Acc L: 0.34556818\n",
      "Loss L: 0.29738718\n",
      "Acc L: 0.37579545\n",
      "Loss L: 0.3031356\n",
      "Acc L: 0.41931817\n",
      "Loss L: 0.2628153\n",
      "Acc L: 0.46272728\n",
      "Loss L: 0.24758966\n",
      "Acc L: 0.50852275\n",
      "Loss L: 0.24369283\n",
      "Acc L: 0.5544318\n",
      "Loss L: 0.20840332\n",
      "Acc L: 0.5985227\n",
      "Loss L: 0.21289\n",
      "Acc L: 0.6448864\n",
      "Loss L: 0.20453757\n",
      "Acc L: 0.68795455\n",
      "Loss L: 0.1892368\n",
      "Acc L: 0.7278409\n",
      "Loss L: 0.17114137\n",
      "Acc L: 0.76954544\n",
      "Loss L: 0.17873392\n",
      "Acc L: 0.8001136\n",
      "Loss L: 0.16631207\n",
      "Acc L: 0.8306818\n",
      "Loss L: 0.15476038\n",
      "Acc L: 0.85545456\n",
      "Loss L: 0.13837004\n",
      "Acc L: 0.87772727\n",
      "Loss L: 0.14081548\n",
      "Acc L: 0.90181816\n",
      "Loss L: 0.12619089\n",
      "Acc L: 0.9196591\n",
      "Loss L: 0.122782394\n",
      "Acc L: 0.9365909\n",
      "Loss L: 0.10977602\n",
      "Acc L: 0.95022726\n",
      "Loss L: 0.089600496\n",
      "Acc L: 0.9606818\n",
      "Loss L: 0.07690103\n",
      "Acc L: 0.9703409\n",
      "Loss L: 0.08039294\n",
      "Acc L: 0.9768182\n",
      "Loss L: 0.06442189\n",
      "Acc L: 0.9825\n",
      "Loss L: 0.057754774\n",
      "Acc L: 0.98545456\n",
      "Loss L: 0.055180054\n",
      "Acc L: 0.9892045\n",
      "Loss L: 0.053401046\n",
      "Acc L: 0.9917045\n",
      "Loss L: 0.043006077\n",
      "Acc L: 0.99363637\n",
      "Loss L: 0.0403334\n",
      "Acc L: 0.99556816\n",
      "Loss L: 0.03404831\n",
      "Acc L: 0.9968182\n",
      "Loss L: 0.03100768\n",
      "Acc L: 0.99738634\n",
      "Loss L: 0.026531953\n",
      "Acc L: 0.99795455\n",
      "Loss L: 0.024425175\n",
      "Acc L: 0.9984091\n",
      "Loss L: 0.020576118\n",
      "Acc L: 0.9992045\n",
      "Loss L: 0.016244903\n",
      "Acc L: 0.9993182\n",
      "Loss L: 0.018590147\n",
      "Acc L: 0.9994318\n",
      "Loss L: 0.01514237\n",
      "Acc L: 0.9994318\n",
      "Loss L: 0.015077554\n",
      "Acc L: 0.99954545\n",
      "Loss L: 0.011599124\n",
      "Acc L: 0.99954545\n",
      "Loss L: 0.011800484\n",
      "Acc L: 0.99954545\n",
      "Loss L: 0.010067046\n",
      "Acc L: 0.9997727\n",
      "Loss L: 0.010125107\n",
      "Acc L: 0.9997727\n",
      "Loss L: 0.008810219\n",
      "Acc L: 0.99988633\n",
      "Loss L: 0.0074123126\n",
      "Acc L: 0.99988633\n",
      "Loss L: 0.008083013\n",
      "Acc L: 0.99988633\n",
      "Loss L: 0.006841568\n",
      "Acc L: 0.99988633\n",
      "Loss L: 0.006573719\n",
      "Acc L: 0.99988633\n",
      "Loss L: 0.005841446\n",
      "Acc L: 1.0\n",
      "Loss L: 0.005940638\n",
      "Acc L: 1.0\n",
      "Loss L: 0.0051222756\n",
      "Acc L: 1.0\n",
      "Loss L: 0.004328644\n",
      "Acc L: 1.0\n",
      "Loss L: 0.004664018\n",
      "Acc L: 1.0\n",
      "Loss L: 0.004819918\n",
      "Acc L: 1.0\n",
      "Loss L: 0.0036672975\n",
      "Acc L: 1.0\n",
      "Loss L: 0.003676918\n",
      "Acc L: 1.0\n",
      "Loss L: 0.003896028\n",
      "Acc L: 1.0\n",
      "Loss L: 0.003519058\n",
      "Acc L: 1.0\n",
      "Loss L: 0.0033311136\n",
      "Acc L: 1.0\n",
      "Loss L: 0.0029912512\n",
      "Acc L: 1.0\n",
      "Loss L: 0.0031792594\n",
      "Acc L: 1.0\n",
      "Loss L: 0.0031516901\n",
      "Acc L: 1.0\n",
      "Loss L: 0.002584096\n",
      "Acc L: 1.0\n",
      "Loss L: 0.0028893887\n",
      "Acc L: 1.0\n",
      "Loss L: 0.002714998\n",
      "Acc L: 1.0\n",
      "Loss L: 0.0027435303\n",
      "Acc L: 1.0\n",
      "Loss L: 0.0020833947\n",
      "Acc L: 1.0\n",
      "Loss L: 0.002535464\n",
      "Acc L: 1.0\n",
      "Loss L: 0.0021527468\n",
      "Acc L: 1.0\n",
      "Loss L: 0.002130978\n",
      "Acc L: 1.0\n",
      "Loss L: 0.002166902\n",
      "Acc L: 1.0\n",
      "Loss L: 0.0020343815\n",
      "Acc L: 1.0\n",
      "Loss L: 0.0018705506\n",
      "Acc L: 1.0\n",
      "Loss L: 0.0019483647\n",
      "Acc L: 1.0\n",
      "Loss L: 0.0017003854\n",
      "Acc L: 1.0\n",
      "Loss L: 0.0019324216\n",
      "Acc L: 1.0\n",
      "Loss L: 0.0017006233\n",
      "Acc L: 1.0\n",
      "Loss L: 0.0017016944\n",
      "Acc L: 1.0\n",
      "Loss L: 0.001711929\n",
      "Acc L: 1.0\n",
      "Loss L: 0.0017472729\n",
      "Acc L: 1.0\n",
      "Loss L: 0.0015679221\n",
      "Acc L: 1.0\n",
      "Loss L: 0.001529358\n",
      "Acc L: 1.0\n",
      "Loss L: 0.0014435358\n",
      "Acc L: 1.0\n",
      "Loss L: 0.001529239\n",
      "Acc L: 1.0\n",
      "Loss L: 0.0014237753\n",
      "Acc L: 1.0\n",
      "Loss L: 0.0013043714\n",
      "Acc L: 1.0\n",
      "Loss L: 0.0014061574\n",
      "Acc L: 1.0\n",
      "Loss L: 0.001438179\n",
      "Acc L: 1.0\n",
      "Loss L: 0.0013942531\n",
      "Acc L: 1.0\n",
      "Loss L: 0.0014873405\n",
      "Acc L: 1.0\n",
      "Loss L: 0.0011853104\n",
      "Acc L: 1.0\n",
      "Loss L: 0.0011929307\n",
      "Acc L: 1.0\n",
      "Loss L: 0.0013771107\n",
      "Acc L: 1.0\n",
      "Loss L: 0.0012122195\n",
      "Acc L: 1.0\n",
      "Loss L: 0.0012161486\n",
      "Acc L: 1.0\n",
      "Loss L: 0.0010873126\n",
      "Acc L: 1.0\n",
      "Loss L: 0.0010645682\n",
      "Acc L: 1.0\n",
      "Loss L: 0.001109104\n",
      "Acc L: 1.0\n",
      "Loss L: 0.0010151477\n",
      "Acc L: 1.0\n",
      "Loss L: 0.0010854073\n",
      "Acc L: 1.0\n",
      "Loss L: 0.0010007379\n",
      "Acc L: 1.0\n"
     ]
    }
   ],
   "source": [
    "#Train neural network model with random spherical noise\n",
    "n_ep = 100\n",
    "with tf.Session() as sess:\n",
    "    init = tf.global_variables_initializer()\n",
    "    sess.run(init)\n",
    "    for ep in range(n_ep):\n",
    "        noise = get_sph_noise(list(train_data.shape),1.0)\n",
    "        _, l_sph, a_sph = sess.run([train_sph, loss_sph, acc_sph], feed_dict={x: train_data+noise, y_true: train_labels})\n",
    "        print('Loss L: ' + str(l_sph[0]))\n",
    "        print('Acc L: ' + str(a_sph))\n",
    "    saver_sph.save(sess, \"saved_models/model_sph.ckpt\", write_meta_graph=False)"
   ]
  },
  {
   "cell_type": "code",
   "execution_count": 31,
   "metadata": {},
   "outputs": [
    {
     "name": "stdout",
     "output_type": "stream",
     "text": [
      "INFO:tensorflow:Restoring parameters from saved_models/model_sph.ckpt\n",
      "Loss L: 0.123603396\n",
      "Acc L: 1.0\n"
     ]
    }
   ],
   "source": [
    "#Get validation results for the neural network model trained with spherical noise\n",
    "with tf.Session() as sess:\n",
    "    init = tf.global_variables_initializer()\n",
    "    sess.run(init)\n",
    "    saver_sph.restore(sess, \"saved_models/model_sph.ckpt\")\n",
    "    l_sph, a_sph = sess.run([loss_sph, acc_sph], feed_dict={x: val_data, y_true: val_labels})\n",
    "    print('Loss L: ' + str(l_sph[0]))\n",
    "    print('Acc L: ' + str(a_sph))"
   ]
  },
  {
   "cell_type": "code",
   "execution_count": 32,
   "metadata": {},
   "outputs": [
    {
     "name": "stdout",
     "output_type": "stream",
     "text": [
      "INFO:tensorflow:Restoring parameters from saved_models/model_sph.ckpt\n",
      "Loss L: 0.02130772\n",
      "Acc L: 1.0\n"
     ]
    }
   ],
   "source": [
    "#Get test results for the neural network model trained with spherical noise\n",
    "with tf.Session() as sess:\n",
    "    init = tf.global_variables_initializer()\n",
    "    sess.run(init)\n",
    "    saver_sph.restore(sess, \"saved_models/model_sph.ckpt\")\n",
    "    l_sph, a_sph = sess.run([loss_sph, acc_sph], feed_dict={x: test_data, y_true: test_labels})\n",
    "    print('Loss L: ' + str(l_sph[0]))\n",
    "    print('Acc L: ' + str(a_sph))"
   ]
  },
  {
   "cell_type": "code",
   "execution_count": 33,
   "metadata": {},
   "outputs": [
    {
     "name": "stdout",
     "output_type": "stream",
     "text": [
      "INFO:tensorflow:Restoring parameters from saved_models/model_sph.ckpt\n"
     ]
    }
   ],
   "source": [
    "#Get test data gradients for the neural network model trained with spherical noise\n",
    "\n",
    "with tf.Session() as sess:\n",
    "    init = tf.global_variables_initializer()\n",
    "    sess.run(init)\n",
    "    saver_sph.restore(sess, \"saved_models/model_sph.ckpt\")\n",
    "    #Get gradients for class 0 for class 0 inputs\n",
    "    x_0 = test_data[where_test_0[0],:,:]\n",
    "    \n",
    "    grad_sph_0 = sess.run(g_sph, feed_dict={x: x_0, y_true: test_labels[where_test_0[0]]}) \n",
    "    \n",
    "    #Get gradients for class 1 for class 1 inputs\n",
    "    x_1 =test_data[where_test_1[0],:,:]\n",
    "    \n",
    "    grad_sph_1 = sess.run(g_sph, feed_dict={x: x_1, y_true: test_labels[where_test_1[0]]})\n",
    "    \n",
    "    #Get gradients for class 2 for class 2 inputs\n",
    "    x_2 =test_data[where_test_2[0],:,:]\n",
    "\n",
    "    grad_sph_2 = sess.run(g_sph, feed_dict={x: x_2, y_true: test_labels[where_test_2[0]]})\n",
    "    \n",
    "    #Get gradients for class 1 for class 0 inputs\n",
    "    grad_sph_0_1 = sess.run(g_sph, feed_dict={x: x_0, y_true: 1.0*np.ones(test_labels[where_test_0[0]].shape)}) \n",
    "    \n",
    "    #Get gradients for class 2 for class 0 inputs\n",
    "    grad_sph_0_2 = sess.run(g_sph, feed_dict={x: x_0, y_true: 2.0*np.ones(test_labels[where_test_0[0]].shape)}) \n",
    "    \n",
    "    #Get gradients for class 0 for class 1 inputs \n",
    "    grad_sph_1_0 = sess.run(g_sph, feed_dict={x: x_1, y_true: 0.0*np.ones(test_labels[where_test_1[0]].shape)}) \n",
    "    \n",
    "    #Get gradients for class 2 for class 1 inputs\n",
    "    grad_sph_1_2 = sess.run(g_sph, feed_dict={x: x_1, y_true: 2.0*np.ones(test_labels[where_test_1[0]].shape)}) \n",
    "    \n",
    "    #Get gradients for class 0 for class 2 inputs\n",
    "    grad_sph_2_0 = sess.run(g_sph, feed_dict={x: x_2, y_true: 0.0*np.ones(test_labels[where_test_2[0]].shape)}) \n",
    "    \n",
    "    #Get gradients for class 1 for class 2 inputs\n",
    "    grad_sph_2_1 = sess.run(g_sph, feed_dict={x: x_2, y_true: 1.0*np.ones(test_labels[where_test_2[0]].shape)})"
   ]
  },
  {
   "cell_type": "code",
   "execution_count": 43,
   "metadata": {},
   "outputs": [
    {
     "data": {
      "text/plain": [
       "<matplotlib.image.AxesImage at 0x7fcaa1d992e8>"
      ]
     },
     "execution_count": 43,
     "metadata": {},
     "output_type": "execute_result"
    },
    {
     "data": {
      "image/png": "[encoded data removed]",
      "text/plain": [
       "<Figure size 288x288 with 1 Axes>"
      ]
     },
     "metadata": {
      "needs_background": "light"
     },
     "output_type": "display_data"
    },
    {
     "data": {
      "image/png": "[encoded data removed]",
      "text/plain": [
       "<Figure size 288x288 with 1 Axes>"
      ]
     },
     "metadata": {
      "needs_background": "light"
     },
     "output_type": "display_data"
    },
    {
     "data": {
      "image/png": "[encoded data removed]",
      "text/plain": [
       "<Figure size 288x288 with 1 Axes>"
      ]
     },
     "metadata": {
      "needs_background": "light"
     },
     "output_type": "display_data"
    },
    {
     "data": {
      "image/png": "[encoded data removed]",
      "text/plain": [
       "<Figure size 288x288 with 1 Axes>"
      ]
     },
     "metadata": {
      "needs_background": "light"
     },
     "output_type": "display_data"
    },
    {
     "data": {
      "image/png": "[encoded data removed]",
      "text/plain": [
       "<Figure size 288x288 with 1 Axes>"
      ]
     },
     "metadata": {
      "needs_background": "light"
     },
     "output_type": "display_data"
    },
    {
     "data": {
      "image/png": "[encoded data removed]",
      "text/plain": [
       "<Figure size 288x288 with 1 Axes>"
      ]
     },
     "metadata": {
      "needs_background": "light"
     },
     "output_type": "display_data"
    },
    {
     "data": {
      "image/png": "[encoded data removed]",
      "text/plain": [
       "<Figure size 288x288 with 1 Axes>"
      ]
     },
     "metadata": {
      "needs_background": "light"
     },
     "output_type": "display_data"
    },
    {
     "data": {
      "image/png": "[encoded data removed]",
      "text/plain": [
       "<Figure size 288x288 with 1 Axes>"
      ]
     },
     "metadata": {
      "needs_background": "light"
     },
     "output_type": "display_data"
    },
    {
     "data": {
      "image/png": "[encoded data removed]",
      "text/plain": [
       "<Figure size 288x288 with 1 Axes>"
      ]
     },
     "metadata": {
      "needs_background": "light"
     },
     "output_type": "display_data"
    }
   ],
   "source": [
    "#Plot gradients for the neural network model trained with spherical noise\n",
    "\n",
    "#Plot gradients for class 0 for class 0 inputs\n",
    "clim = np.abs(grad_sph_0[0].mean(axis=0)).max()\n",
    "plt.matshow(np.reshape(grad_sph_0[0].mean(axis=0),[32,32]),cmap='seismic',vmin=-1.0*clim,vmax=clim)\n",
    "\n",
    "#Plot gradients for class 1 for class 1 inputs\n",
    "clim = np.abs(grad_sph_1[0].mean(axis=0)).max()\n",
    "plt.matshow(np.reshape(grad_sph_1[0].mean(axis=0),[32,32]),cmap='seismic',vmin=-1.0*clim,vmax=clim)\n",
    "\n",
    "#Plot gradientws for class 2 for class 2 inputs\n",
    "clim = np.abs(grad_sph_2[0].mean(axis=0)).max()\n",
    "plt.matshow(np.reshape(grad_sph_2[0].mean(axis=0),[32,32]),cmap='seismic',vmin=-1.0*clim,vmax=clim)\n",
    "\n",
    "#Plot gradients for class 1 for class 0 inputs\n",
    "clim = np.abs(grad_sph_0_1[0].mean(axis=0)).max()\n",
    "plt.matshow(np.reshape(grad_sph_0_1[0].mean(axis=0),[32,32]),cmap='seismic',vmin=-1.0*clim,vmax=clim)\n",
    "\n",
    "#Plot gradients for class 2 for class 0 inputs\n",
    "clim = np.abs(grad_sph_0_2[0].mean(axis=0)).max()\n",
    "plt.matshow(np.reshape(grad_sph_0_2[0].mean(axis=0),[32,32]),cmap='seismic',vmin=-1.0*clim,vmax=clim)\n",
    "\n",
    "#Plot gradients for class 0 for class 1 inputs\n",
    "clim = np.abs(grad_sph_1_0[0].mean(axis=0)).max()\n",
    "plt.matshow(np.reshape(grad_sph_1_0[0].mean(axis=0),[32,32]),cmap='seismic',vmin=-1.0*clim,vmax=clim)\n",
    "\n",
    "#Plot gradients for class 2 for class 1 inputs\n",
    "clim = np.abs(grad_sph_1_2[0].mean(axis=0)).max()\n",
    "plt.matshow(np.reshape(grad_sph_1_2[0].mean(axis=0),[32,32]),cmap='seismic',vmin=-1.0*clim,vmax=clim)\n",
    "\n",
    "#Plot gradients for class 0 for class 2 inputs\n",
    "clim = np.abs(grad_sph_2_0[0].mean(axis=0)).max()\n",
    "plt.matshow(np.reshape(grad_sph_2_0[0].mean(axis=0),[32,32]),cmap='seismic',vmin=-1.0*clim,vmax=clim)\n",
    "\n",
    "#Plot gradients for class 1 for class 2 inputs\n",
    "clim = np.abs(grad_sph_2_1[0].mean(axis=0)).max()\n",
    "plt.matshow(np.reshape(grad_sph_2_1[0].mean(axis=0),[32,32]),cmap='seismic',vmin=-1.0*clim,vmax=clim)"
   ]
  },
  {
   "cell_type": "code",
   "execution_count": 45,
   "metadata": {
    "scrolled": true
   },
   "outputs": [
    {
     "name": "stdout",
     "output_type": "stream",
     "text": [
      "Loss L: 0.5139222\n",
      "Acc L: 0.38352272\n",
      "Loss L: 0.49762505\n",
      "Acc L: 0.4715909\n",
      "Loss L: 0.4767861\n",
      "Acc L: 0.56113636\n",
      "Loss L: 0.4866257\n",
      "Acc L: 0.65261364\n",
      "Loss L: 0.49412102\n",
      "Acc L: 0.73397726\n",
      "Loss L: 0.48981398\n",
      "Acc L: 0.80545455\n",
      "Loss L: 0.46565396\n",
      "Acc L: 0.8703409\n",
      "Loss L: 0.42405322\n",
      "Acc L: 0.91738635\n",
      "Loss L: 0.36837852\n",
      "Acc L: 0.9507955\n",
      "Loss L: 0.31229556\n",
      "Acc L: 0.9709091\n",
      "Loss L: 0.25975326\n",
      "Acc L: 0.98477274\n",
      "Loss L: 0.21290107\n",
      "Acc L: 0.9934091\n",
      "Loss L: 0.17450017\n",
      "Acc L: 0.9967045\n",
      "Loss L: 0.14009596\n",
      "Acc L: 0.9984091\n",
      "Loss L: 0.10998162\n",
      "Acc L: 0.9997727\n",
      "Loss L: 0.085891694\n",
      "Acc L: 1.0\n",
      "Loss L: 0.066908285\n",
      "Acc L: 1.0\n",
      "Loss L: 0.052249033\n",
      "Acc L: 1.0\n",
      "Loss L: 0.0406813\n",
      "Acc L: 1.0\n",
      "Loss L: 0.031592637\n",
      "Acc L: 1.0\n",
      "Loss L: 0.024527427\n",
      "Acc L: 1.0\n",
      "Loss L: 0.019367166\n",
      "Acc L: 1.0\n",
      "Loss L: 0.015524258\n",
      "Acc L: 1.0\n",
      "Loss L: 0.012719457\n",
      "Acc L: 1.0\n",
      "Loss L: 0.010486501\n",
      "Acc L: 1.0\n",
      "Loss L: 0.0087272655\n",
      "Acc L: 1.0\n",
      "Loss L: 0.007351253\n",
      "Acc L: 1.0\n",
      "Loss L: 0.0062804474\n",
      "Acc L: 1.0\n",
      "Loss L: 0.0054450533\n",
      "Acc L: 1.0\n",
      "Loss L: 0.004786462\n",
      "Acc L: 1.0\n",
      "Loss L: 0.0042651403\n",
      "Acc L: 1.0\n",
      "Loss L: 0.0038447285\n",
      "Acc L: 1.0\n",
      "Loss L: 0.0034983882\n",
      "Acc L: 1.0\n",
      "Loss L: 0.0032138384\n",
      "Acc L: 1.0\n",
      "Loss L: 0.002999452\n",
      "Acc L: 1.0\n",
      "Loss L: 0.0028136687\n",
      "Acc L: 1.0\n",
      "Loss L: 0.0026502032\n",
      "Acc L: 1.0\n",
      "Loss L: 0.0025047855\n",
      "Acc L: 1.0\n",
      "Loss L: 0.0023738558\n",
      "Acc L: 1.0\n",
      "Loss L: 0.0022545652\n",
      "Acc L: 1.0\n",
      "Loss L: 0.0021446578\n",
      "Acc L: 1.0\n",
      "Loss L: 0.0020423522\n",
      "Acc L: 1.0\n",
      "Loss L: 0.001946937\n",
      "Acc L: 1.0\n",
      "Loss L: 0.0018580569\n",
      "Acc L: 1.0\n",
      "Loss L: 0.0017747618\n",
      "Acc L: 1.0\n",
      "Loss L: 0.0016968151\n",
      "Acc L: 1.0\n",
      "Loss L: 0.001623742\n",
      "Acc L: 1.0\n",
      "Loss L: 0.0015550675\n",
      "Acc L: 1.0\n",
      "Loss L: 0.0014899593\n",
      "Acc L: 1.0\n",
      "Loss L: 0.0014280608\n",
      "Acc L: 1.0\n"
     ]
    }
   ],
   "source": [
    "#Train neural network model with adversarial noise\n",
    "n_ep = 50\n",
    "with tf.Session() as sess:\n",
    "    init = tf.global_variables_initializer()\n",
    "    sess.run(init)\n",
    "    for ep in range(n_ep):\n",
    "        _, l_adv, a_adv, grads_adv = sess.run([train_adv, loss_adv, acc_adv, g_adv], feed_dict={x: train_data, y_true: train_labels})\n",
    "        del_1 = grads_adv[0]\n",
    "        norm_del_1 = np.linalg.norm(del_1,axis=(1,2))\n",
    "        norm_where = np.where(norm_del_1>0.0)\n",
    "        norm_del_1 = np.reshape(norm_del_1,(-1,1,1))\n",
    "        del_1[norm_where] = del_1[norm_where] / norm_del_1[norm_where]\n",
    "        del_1 *= -0.1\n",
    "        del_2 = sess.run(g_adv, feed_dict={x: train_data + del_1, y_true: train_labels})[0]\n",
    "        norm_del_2 = np.linalg.norm(del_2,axis=(1,2))\n",
    "        norm_where = np.where(norm_del_2>0.0)\n",
    "        norm_del_2 = np.reshape(norm_del_2,(-1,1,1))\n",
    "        del_2[norm_where] = del_2[norm_where] / norm_del_2[norm_where]\n",
    "        del_2 = del_1 - 1.0 * del_2\n",
    "        del_3 = sess.run(g_adv, feed_dict={x: train_data + del_2, y_true: train_labels})[0]\n",
    "        norm_del_3 = np.linalg.norm(del_3,axis=(1,2))\n",
    "        norm_where = np.where(norm_del_3>0.0)\n",
    "        norm_del_3 = np.reshape(norm_del_3,(-1,1,1))\n",
    "        del_3[norm_where] = del_3[norm_where] / norm_del_3[norm_where]\n",
    "        del_3 = del_2 - 0.1 * del_3\n",
    "        norm_del_3 =  np.linalg.norm(del_3,axis=(1,2))\n",
    "        norm_where = np.where(norm_del_3>1.0)\n",
    "        norm_del_3 = np.reshape(norm_del_3,(-1,1,1))\n",
    "        if len(norm_where) > 0:\n",
    "            del_3[norm_where] = 1.0 * del_3[norm_where] / norm_del_3[norm_where] \n",
    "        _ = sess.run(train_adv, feed_dict={x: (train_data + del_3), y_true: train_labels})\n",
    "        print('Loss L: ' + str(l_adv[0]))\n",
    "        print('Acc L: ' + str(a_adv))\n",
    "    saver_adv.save(sess, \"saved_models/model_adv.ckpt\", write_meta_graph=False)"
   ]
  },
  {
   "cell_type": "code",
   "execution_count": 46,
   "metadata": {},
   "outputs": [
    {
     "name": "stdout",
     "output_type": "stream",
     "text": [
      "INFO:tensorflow:Restoring parameters from saved_models/model_adv.ckpt\n",
      "Loss L: 0.03669863\n",
      "Acc L: 1.0\n"
     ]
    }
   ],
   "source": [
    "#Get validation results for the neural network model trained with adversarial noise\n",
    "with tf.Session() as sess:\n",
    "    init = tf.global_variables_initializer()\n",
    "    sess.run(init)\n",
    "    saver_adv.restore(sess, \"saved_models/model_adv.ckpt\")\n",
    "    l_adv, a_adv = sess.run([loss_adv, acc_adv], feed_dict={x: val_data, y_true: val_labels})\n",
    "    print('Loss L: ' + str(l_adv[0]))\n",
    "    print('Acc L: ' + str(a_adv))"
   ]
  },
  {
   "cell_type": "code",
   "execution_count": 47,
   "metadata": {},
   "outputs": [
    {
     "name": "stdout",
     "output_type": "stream",
     "text": [
      "INFO:tensorflow:Restoring parameters from saved_models/model_adv.ckpt\n",
      "Loss L: 0.020574132\n",
      "Acc L: 1.0\n"
     ]
    }
   ],
   "source": [
    "#Get test results for the neural network model trained with adversarial noise\n",
    "with tf.Session() as sess:\n",
    "    init = tf.global_variables_initializer()\n",
    "    sess.run(init)\n",
    "    saver_adv.restore(sess, \"saved_models/model_adv.ckpt\")\n",
    "    l_adv, a_adv = sess.run([loss_adv, acc_adv], feed_dict={x: test_data, y_true: test_labels})\n",
    "    print('Loss L: ' + str(l_adv[0]))\n",
    "    print('Acc L: ' + str(a_adv))"
   ]
  },
  {
   "cell_type": "code",
   "execution_count": 48,
   "metadata": {},
   "outputs": [
    {
     "name": "stdout",
     "output_type": "stream",
     "text": [
      "INFO:tensorflow:Restoring parameters from saved_models/model_adv.ckpt\n"
     ]
    }
   ],
   "source": [
    "#Get test data gradients for the neural network model trained with adversarial noise\n",
    "\n",
    "with tf.Session() as sess:\n",
    "    init = tf.global_variables_initializer()\n",
    "    sess.run(init)\n",
    "    saver_adv.restore(sess, \"saved_models/model_adv.ckpt\")\n",
    "    #Get gradients for class 0 for class 0 inputs\n",
    "    x_0 = test_data[where_test_0[0],:,:]\n",
    "    \n",
    "    grad_adv_0 = sess.run(g_adv, feed_dict={x: x_0, y_true: test_labels[where_test_0[0]]}) \n",
    "    \n",
    "    #Get gradients for class 1 for class 1 inputs\n",
    "    x_1 =test_data[where_test_1[0],:,:]\n",
    "    \n",
    "    grad_adv_1 = sess.run(g_adv, feed_dict={x: x_1, y_true: test_labels[where_test_1[0]]})\n",
    "    \n",
    "    #Get gradients for class 2 for class 2 inputs\n",
    "    x_2 =test_data[where_test_2[0],:,:]\n",
    "\n",
    "    grad_adv_2 = sess.run(g_adv, feed_dict={x: x_2, y_true: test_labels[where_test_2[0]]})\n",
    "    \n",
    "    #Get gradients for class 1 for class 0 inputs\n",
    "    grad_adv_0_1 = sess.run(g_adv, feed_dict={x: x_0, y_true: 1.0*np.ones(test_labels[where_test_0[0]].shape)}) \n",
    "    \n",
    "    #Get gradients for class 2 for class 0 inputs\n",
    "    grad_adv_0_2 = sess.run(g_adv, feed_dict={x: x_0, y_true: 2.0*np.ones(test_labels[where_test_0[0]].shape)}) \n",
    "    \n",
    "    #Get gradients for class 0 for class 1 inputs \n",
    "    grad_adv_1_0 = sess.run(g_adv, feed_dict={x: x_1, y_true: 0.0*np.ones(test_labels[where_test_1[0]].shape)}) \n",
    "    \n",
    "    #Get gradients for class 2 for class 1 inputs\n",
    "    grad_adv_1_2 = sess.run(g_adv, feed_dict={x: x_1, y_true: 2.0*np.ones(test_labels[where_test_1[0]].shape)}) \n",
    "    \n",
    "    #Get gradients for class 0 for class 2 inputs\n",
    "    grad_adv_2_0 = sess.run(g_adv, feed_dict={x: x_2, y_true: 0.0*np.ones(test_labels[where_test_2[0]].shape)}) \n",
    "    \n",
    "    #Get gradients for class 1 for class 2 inputs\n",
    "    grad_adv_2_1 = sess.run(g_adv, feed_dict={x: x_2, y_true: 1.0*np.ones(test_labels[where_test_2[0]].shape)})"
   ]
  },
  {
   "cell_type": "code",
   "execution_count": 49,
   "metadata": {},
   "outputs": [
    {
     "data": {
      "text/plain": [
       "<matplotlib.image.AxesImage at 0x7fca607245f8>"
      ]
     },
     "execution_count": 49,
     "metadata": {},
     "output_type": "execute_result"
    },
    {
     "data": {
      "image/png": "[encoded data removed]",
      "text/plain": [
       "<Figure size 288x288 with 1 Axes>"
      ]
     },
     "metadata": {
      "needs_background": "light"
     },
     "output_type": "display_data"
    },
    {
     "data": {
      "image/png": "[encoded data removed]",
      "text/plain": [
       "<Figure size 288x288 with 1 Axes>"
      ]
     },
     "metadata": {
      "needs_background": "light"
     },
     "output_type": "display_data"
    },
    {
     "data": {
      "image/png": "[encoded data removed]",
      "text/plain": [
       "<Figure size 288x288 with 1 Axes>"
      ]
     },
     "metadata": {
      "needs_background": "light"
     },
     "output_type": "display_data"
    },
    {
     "data": {
      "image/png": "[encoded data removed]",
      "text/plain": [
       "<Figure size 288x288 with 1 Axes>"
      ]
     },
     "metadata": {
      "needs_background": "light"
     },
     "output_type": "display_data"
    },
    {
     "data": {
      "image/png": "[encoded data removed]",
      "text/plain": [
       "<Figure size 288x288 with 1 Axes>"
      ]
     },
     "metadata": {
      "needs_background": "light"
     },
     "output_type": "display_data"
    },
    {
     "data": {
      "image/png": "[encoded data removed]",
      "text/plain": [
       "<Figure size 288x288 with 1 Axes>"
      ]
     },
     "metadata": {
      "needs_background": "light"
     },
     "output_type": "display_data"
    },
    {
     "data": {
      "image/png": "[encoded data removed]",
      "text/plain": [
       "<Figure size 288x288 with 1 Axes>"
      ]
     },
     "metadata": {
      "needs_background": "light"
     },
     "output_type": "display_data"
    },
    {
     "data": {
      "image/png": "[encoded data removed]",
      "text/plain": [
       "<Figure size 288x288 with 1 Axes>"
      ]
     },
     "metadata": {
      "needs_background": "light"
     },
     "output_type": "display_data"
    },
    {
     "data": {
      "image/png": "[encoded data removed]",
      "text/plain": [
       "<Figure size 288x288 with 1 Axes>"
      ]
     },
     "metadata": {
      "needs_background": "light"
     },
     "output_type": "display_data"
    }
   ],
   "source": [
    "#Plot gradients for the neural network model trained with adversarial noise\n",
    "\n",
    "#Plot gradients for class 0 for class 0 inputs\n",
    "clim = np.abs(grad_adv_0[0].mean(axis=0)).max()\n",
    "plt.matshow(np.reshape(grad_adv_0[0].mean(axis=0),[32,32]),cmap='seismic',vmin=-1.0*clim,vmax=clim)\n",
    "\n",
    "#Plot gradients for class 1 for class 1 inputs\n",
    "clim = np.abs(grad_adv_1[0].mean(axis=0)).max()\n",
    "plt.matshow(np.reshape(grad_adv_1[0].mean(axis=0),[32,32]),cmap='seismic',vmin=-1.0*clim,vmax=clim)\n",
    "\n",
    "#Plot gradientws for class 2 for class 2 inputs\n",
    "clim = np.abs(grad_adv_2[0].mean(axis=0)).max()\n",
    "plt.matshow(np.reshape(grad_adv_2[0].mean(axis=0),[32,32]),cmap='seismic',vmin=-1.0*clim,vmax=clim)\n",
    "\n",
    "#Plot gradients for class 1 for class 0 inputs\n",
    "clim = np.abs(grad_adv_0_1[0].mean(axis=0)).max()\n",
    "plt.matshow(np.reshape(grad_adv_0_1[0].mean(axis=0),[32,32]),cmap='seismic',vmin=-1.0*clim,vmax=clim)\n",
    "\n",
    "#Plot gradients for class 2 for class 0 inputs\n",
    "clim = np.abs(grad_adv_0_2[0].mean(axis=0)).max()\n",
    "plt.matshow(np.reshape(grad_adv_0_2[0].mean(axis=0),[32,32]),cmap='seismic',vmin=-1.0*clim,vmax=clim)\n",
    "\n",
    "#Plot gradients for class 0 for class 1 inputs\n",
    "clim = np.abs(grad_adv_1_0[0].mean(axis=0)).max()\n",
    "plt.matshow(np.reshape(grad_adv_1_0[0].mean(axis=0),[32,32]),cmap='seismic',vmin=-1.0*clim,vmax=clim)\n",
    "\n",
    "#Plot gradients for class 2 for class 1 inputs\n",
    "clim = np.abs(grad_adv_1_2[0].mean(axis=0)).max()\n",
    "plt.matshow(np.reshape(grad_adv_1_2[0].mean(axis=0),[32,32]),cmap='seismic',vmin=-1.0*clim,vmax=clim)\n",
    "\n",
    "#Plot gradients for class 0 for class 2 inputs\n",
    "clim = np.abs(grad_adv_2_0[0].mean(axis=0)).max()\n",
    "plt.matshow(np.reshape(grad_adv_2_0[0].mean(axis=0),[32,32]),cmap='seismic',vmin=-1.0*clim,vmax=clim)\n",
    "\n",
    "#Plot gradients for class 1 for class 2 inputs\n",
    "clim = np.abs(grad_adv_2_1[0].mean(axis=0)).max()\n",
    "plt.matshow(np.reshape(grad_adv_2_1[0].mean(axis=0),[32,32]),cmap='seismic',vmin=-1.0*clim,vmax=clim)"
   ]
  },
  {
   "cell_type": "code",
   "execution_count": 50,
   "metadata": {},
   "outputs": [],
   "source": [
    "from scipy.stats import pearsonr\n",
    "from scipy.stats import ttest_rel"
   ]
  },
  {
   "cell_type": "code",
   "execution_count": 52,
   "metadata": {},
   "outputs": [
    {
     "data": {
      "text/plain": [
       "(0.4384282886924128, 2.4010001226022086e-49)"
      ]
     },
     "execution_count": 52,
     "metadata": {},
     "output_type": "execute_result"
    }
   ],
   "source": [
    "#Correlation between the class 0 template minus the average template and the class 0 weights\n",
    "pearsonr(np.reshape(weights_l_0[0].mean(axis=0),(-1)),np.reshape(diff_0,(-1)))"
   ]
  },
  {
   "cell_type": "code",
   "execution_count": 53,
   "metadata": {},
   "outputs": [
    {
     "data": {
      "text/plain": [
       "(0.6082362882542584, 1.2372656175840904e-104)"
      ]
     },
     "execution_count": 53,
     "metadata": {},
     "output_type": "execute_result"
    }
   ],
   "source": [
    "#Correlation between the class 0 template minus the average template and the average class 0 linear model gradient for class 0 inputs\n",
    "pearsonr(np.reshape(grad_l_0[0].mean(axis=0),(-1)),np.reshape(diff_0,(-1)))"
   ]
  },
  {
   "cell_type": "code",
   "execution_count": 55,
   "metadata": {},
   "outputs": [
    {
     "data": {
      "text/plain": [
       "(0.6857851016758257, 3.461425500376813e-143)"
      ]
     },
     "execution_count": 55,
     "metadata": {},
     "output_type": "execute_result"
    }
   ],
   "source": [
    "#Correlation between the class 0 template minus the average template and the average class 0 neural network gradient for class 0 inputs\n",
    "pearsonr(np.reshape(grad_nn_0[0].mean(axis=0),(-1)),np.reshape(diff_0,(-1)))"
   ]
  },
  {
   "cell_type": "code",
   "execution_count": 122,
   "metadata": {},
   "outputs": [
    {
     "data": {
      "text/plain": [
       "(0.6804235266935702, 3.895328373801468e-140)"
      ]
     },
     "execution_count": 122,
     "metadata": {},
     "output_type": "execute_result"
    }
   ],
   "source": [
    "#Correlation between the class 0 template minus the average template and the average class 0 neural network trained with spherical noise gradient for class 0 inputs\n",
    "pearsonr(np.reshape(grad_sph_0[0].mean(axis=0),(-1)),np.reshape(diff_0,(-1)))"
   ]
  },
  {
   "cell_type": "code",
   "execution_count": 56,
   "metadata": {},
   "outputs": [
    {
     "data": {
      "text/plain": [
       "(0.6804481830955837, 3.772782207130515e-140)"
      ]
     },
     "execution_count": 56,
     "metadata": {},
     "output_type": "execute_result"
    }
   ],
   "source": [
    "#Correlation between the class 0 template minus the average template and the average class 0 neural network SmoothGrad gradient for class 0 inputs\n",
    "pearsonr(np.reshape(grad_sg_0.mean(axis=0).mean(axis=0),(-1)),np.reshape(diff_0,(-1)))"
   ]
  },
  {
   "cell_type": "code",
   "execution_count": 119,
   "metadata": {},
   "outputs": [
    {
     "data": {
      "text/plain": [
       "(0.9306328419620203, 0.0)"
      ]
     },
     "execution_count": 119,
     "metadata": {},
     "output_type": "execute_result"
    }
   ],
   "source": [
    "#Correlation between the class 0 template minus the average template and the average class 0 neural network with adversarial training gradient for class 0 inputs\n",
    "pearsonr(np.reshape(grad_adv_0[0].mean(axis=0),(-1)),np.reshape(diff_0,(-1)))"
   ]
  },
  {
   "cell_type": "code",
   "execution_count": 60,
   "metadata": {},
   "outputs": [
    {
     "data": {
      "text/plain": [
       "(0.41240289064402963, 2.5602717658520584e-43)"
      ]
     },
     "execution_count": 60,
     "metadata": {},
     "output_type": "execute_result"
    }
   ],
   "source": [
    "#Correlation between the class 1 template minus the average template and the class 1 weights\n",
    "pearsonr(np.reshape(weights_l_1[0].mean(axis=0),(-1)),np.reshape(diff_1,(-1)))"
   ]
  },
  {
   "cell_type": "code",
   "execution_count": 61,
   "metadata": {},
   "outputs": [
    {
     "data": {
      "text/plain": [
       "(0.5720613264309488, 4.684567997860931e-90)"
      ]
     },
     "execution_count": 61,
     "metadata": {},
     "output_type": "execute_result"
    }
   ],
   "source": [
    "#Correlation between the class 1 template minus the average template and the average class 1 linear model gradient for class 1 inputs\n",
    "pearsonr(np.reshape(grad_l_1[0].mean(axis=0),(-1)),np.reshape(diff_1,(-1)))"
   ]
  },
  {
   "cell_type": "code",
   "execution_count": 64,
   "metadata": {},
   "outputs": [
    {
     "data": {
      "text/plain": [
       "(0.7291164076656629, 1.6371215111607417e-170)"
      ]
     },
     "execution_count": 64,
     "metadata": {},
     "output_type": "execute_result"
    }
   ],
   "source": [
    "#Correlation between the class 1 template minus the average template and the average class 1 neural network gradient for class 1 inputs\n",
    "pearsonr(np.reshape(grad_nn_1[0].mean(axis=0),(-1)),np.reshape(diff_1,(-1)))"
   ]
  },
  {
   "cell_type": "code",
   "execution_count": 124,
   "metadata": {},
   "outputs": [
    {
     "data": {
      "text/plain": [
       "(0.7052579391183167, 7.550661898866675e-155)"
      ]
     },
     "execution_count": 124,
     "metadata": {},
     "output_type": "execute_result"
    }
   ],
   "source": [
    "#Correlation between the class 1 template minus the average template and the average class 1 neural network trained with spherical noise gradient for class 1 inputs\n",
    "pearsonr(np.reshape(grad_sph_1[0].mean(axis=0),(-1)),np.reshape(diff_1,(-1)))"
   ]
  },
  {
   "cell_type": "code",
   "execution_count": 65,
   "metadata": {},
   "outputs": [
    {
     "data": {
      "text/plain": [
       "(0.7314951617751495, 3.63358744233482e-172)"
      ]
     },
     "execution_count": 65,
     "metadata": {},
     "output_type": "execute_result"
    }
   ],
   "source": [
    "#Correlation between the class 1 template minus the average template and the average class 1 neural network SmoothGrad gradient for class 1 inputs\n",
    "pearsonr(np.reshape(grad_sg_1.mean(axis=0).mean(axis=0),(-1)),np.reshape(diff_1,(-1)))"
   ]
  },
  {
   "cell_type": "code",
   "execution_count": 66,
   "metadata": {},
   "outputs": [
    {
     "data": {
      "text/plain": [
       "(0.9228565115603691, 0.0)"
      ]
     },
     "execution_count": 66,
     "metadata": {},
     "output_type": "execute_result"
    }
   ],
   "source": [
    "#Correlation between the class 1 template minus the average template and the average class 1 neural network with adversarial training gradient for class 1 inputs\n",
    "pearsonr(np.reshape(grad_adv_1[0].mean(axis=0),(-1)),np.reshape(diff_1,(-1)))"
   ]
  },
  {
   "cell_type": "code",
   "execution_count": 69,
   "metadata": {},
   "outputs": [
    {
     "data": {
      "text/plain": [
       "(0.41013627194609587, 8.102811811138237e-43)"
      ]
     },
     "execution_count": 69,
     "metadata": {},
     "output_type": "execute_result"
    }
   ],
   "source": [
    "#Correlation between the class 2 template minus the average template and the class 2 weights\n",
    "pearsonr(np.reshape(weights_l_2[0].mean(axis=0),(-1)),np.reshape(diff_2,(-1)))"
   ]
  },
  {
   "cell_type": "code",
   "execution_count": 70,
   "metadata": {},
   "outputs": [
    {
     "data": {
      "text/plain": [
       "(0.5756364836235778, 2.043040640805722e-91)"
      ]
     },
     "execution_count": 70,
     "metadata": {},
     "output_type": "execute_result"
    }
   ],
   "source": [
    "#Correlation between the class 2 template minus the average template and the average class 2 linear model gradient for class 2 inputs\n",
    "pearsonr(np.reshape(grad_l_2[0].mean(axis=0),(-1)),np.reshape(diff_2,(-1)))"
   ]
  },
  {
   "cell_type": "code",
   "execution_count": 73,
   "metadata": {},
   "outputs": [
    {
     "data": {
      "text/plain": [
       "(0.7155655072754881, 2.0376259741730923e-161)"
      ]
     },
     "execution_count": 73,
     "metadata": {},
     "output_type": "execute_result"
    }
   ],
   "source": [
    "#Correlation between the class 2 template minus the average template and the average class 2 neural network gradient for class 2 inputs\n",
    "pearsonr(np.reshape(grad_nn_2[0].mean(axis=0),(-1)),np.reshape(diff_2,(-1)))"
   ]
  },
  {
   "cell_type": "code",
   "execution_count": 125,
   "metadata": {},
   "outputs": [
    {
     "data": {
      "text/plain": [
       "(0.6980181577938744, 2.1063538026782098e-150)"
      ]
     },
     "execution_count": 125,
     "metadata": {},
     "output_type": "execute_result"
    }
   ],
   "source": [
    "#Correlation between the class 2 template minus the average template and the average class 2 neural network trained with spherical noise gradient for class 2 inputs\n",
    "pearsonr(np.reshape(grad_sph_2[0].mean(axis=0),(-1)),np.reshape(diff_2,(-1)))"
   ]
  },
  {
   "cell_type": "code",
   "execution_count": 74,
   "metadata": {},
   "outputs": [
    {
     "data": {
      "text/plain": [
       "(0.7190423303608041, 1.0638790905872048e-163)"
      ]
     },
     "execution_count": 74,
     "metadata": {},
     "output_type": "execute_result"
    }
   ],
   "source": [
    "#Correlation between the class 2 template minus the average template and the average class 2 neural network SmoothGrad gradient for class 2 inputs\n",
    "pearsonr(np.reshape(grad_sg_2.mean(axis=0).mean(axis=0),(-1)),np.reshape(diff_2,(-1)))"
   ]
  },
  {
   "cell_type": "code",
   "execution_count": 75,
   "metadata": {},
   "outputs": [
    {
     "data": {
      "text/plain": [
       "(0.9323149887598365, 0.0)"
      ]
     },
     "execution_count": 75,
     "metadata": {},
     "output_type": "execute_result"
    }
   ],
   "source": [
    "#Correlation between the class 2 template minus the average template and the average class 2 neural network with adversarial training gradient for class 2 inputs\n",
    "pearsonr(np.reshape(grad_adv_2[0].mean(axis=0),(-1)),np.reshape(diff_2,(-1)))"
   ]
  },
  {
   "cell_type": "code",
   "execution_count": 77,
   "metadata": {},
   "outputs": [],
   "source": [
    "#Get the correlation between the class template minus the average template and the respective weights for each input\n",
    "corrs_weights = []\n",
    "for i in range(weights_l_0[0].shape[0]):\n",
    "    corrs_weights.append(pearsonr(np.reshape(weights_l_0[0][i],(-1)),np.reshape(diff_0,(-1)))[0])\n",
    "for i in range(weights_l_1[0].shape[0]):\n",
    "    corrs_weights.append(pearsonr(np.reshape(weights_l_1[0][i],(-1)),np.reshape(diff_1,(-1)))[0])\n",
    "for i in range(weights_l_2[0].shape[0]):\n",
    "    corrs_weights.append(pearsonr(np.reshape(weights_l_2[0][i],(-1)),np.reshape(diff_2,(-1)))[0])"
   ]
  },
  {
   "cell_type": "code",
   "execution_count": 78,
   "metadata": {},
   "outputs": [],
   "source": [
    "#Get the correlation between the class template minus the average template and the respective linear model gradient for each input\n",
    "corrs_grad_l = []\n",
    "for i in range(grad_l_0[0].shape[0]):\n",
    "    corrs_grad_l.append(pearsonr(np.reshape(grad_l_0[0][i],(-1)),np.reshape(diff_0,(-1)))[0])\n",
    "for i in range(grad_l_1[0].shape[0]):\n",
    "    corrs_grad_l.append(pearsonr(np.reshape(grad_l_1[0][i],(-1)),np.reshape(diff_1,(-1)))[0])\n",
    "for i in range(grad_l_2[0].shape[0]):\n",
    "    corrs_grad_l.append(pearsonr(np.reshape(grad_l_2[0][i],(-1)),np.reshape(diff_2,(-1)))[0])"
   ]
  },
  {
   "cell_type": "code",
   "execution_count": 80,
   "metadata": {},
   "outputs": [],
   "source": [
    "#Get the correlation between the class template minus the average template and the respective neural network gradient for each input\n",
    "corrs_grad_nn = []\n",
    "for i in range(grad_nn_0[0].shape[0]):\n",
    "    corrs_grad_nn.append(pearsonr(np.reshape(grad_nn_0[0][i],(-1)),np.reshape(diff_0,(-1)))[0])\n",
    "for i in range(grad_nn_1[0].shape[0]):\n",
    "    corrs_grad_nn.append(pearsonr(np.reshape(grad_nn_1[0][i],(-1)),np.reshape(diff_1,(-1)))[0])\n",
    "for i in range(grad_nn_2[0].shape[0]):\n",
    "    corrs_grad_nn.append(pearsonr(np.reshape(grad_nn_2[0][i],(-1)),np.reshape(diff_2,(-1)))[0])"
   ]
  },
  {
   "cell_type": "code",
   "execution_count": 126,
   "metadata": {},
   "outputs": [],
   "source": [
    "#Get the correlation between the class template minus the average template and the respective neural network trained with spherical noise gradient for each input\n",
    "corrs_grad_sph = []\n",
    "for i in range(grad_sph_0[0].shape[0]):\n",
    "    corrs_grad_sph.append(pearsonr(np.reshape(grad_sph_0[0][i],(-1)),np.reshape(diff_0,(-1)))[0])\n",
    "for i in range(grad_sph_1[0].shape[0]):\n",
    "    corrs_grad_sph.append(pearsonr(np.reshape(grad_sph_1[0][i],(-1)),np.reshape(diff_1,(-1)))[0])\n",
    "for i in range(grad_sph_2[0].shape[0]):\n",
    "    corrs_grad_sph.append(pearsonr(np.reshape(grad_sph_2[0][i],(-1)),np.reshape(diff_2,(-1)))[0])"
   ]
  },
  {
   "cell_type": "code",
   "execution_count": 81,
   "metadata": {},
   "outputs": [],
   "source": [
    "#Get the correlation between the class template minus the average template and the respective neural network SmoothGrad gradient for each input\n",
    "corrs_grad_sg = []\n",
    "for i in range(grad_sg_0[0].shape[0]):\n",
    "    corrs_grad_sg.append(pearsonr(np.reshape(grad_sg_0[0][i],(-1)),np.reshape(diff_0,(-1)))[0])\n",
    "for i in range(grad_sg_1[0].shape[0]):\n",
    "    corrs_grad_sg.append(pearsonr(np.reshape(grad_sg_1[0][i],(-1)),np.reshape(diff_1,(-1)))[0])\n",
    "for i in range(grad_sg_2[0].shape[0]):\n",
    "    corrs_grad_sg.append(pearsonr(np.reshape(grad_sg_2[0][i],(-1)),np.reshape(diff_2,(-1)))[0])"
   ]
  },
  {
   "cell_type": "code",
   "execution_count": 82,
   "metadata": {},
   "outputs": [],
   "source": [
    "#Get the correlation between the class template minus the average template and the respective neural network with adversarial training gradient for each input\n",
    "corrs_grad_adv = []\n",
    "for i in range(grad_adv_0[0].shape[0]):\n",
    "    corrs_grad_adv.append(pearsonr(np.reshape(grad_adv_0[0][i],(-1)),np.reshape(diff_0,(-1)))[0])\n",
    "for i in range(grad_adv_1[0].shape[0]):\n",
    "    corrs_grad_adv.append(pearsonr(np.reshape(grad_adv_1[0][i],(-1)),np.reshape(diff_1,(-1)))[0])\n",
    "for i in range(grad_adv_2[0].shape[0]):\n",
    "    corrs_grad_adv.append(pearsonr(np.reshape(grad_adv_2[0][i],(-1)),np.reshape(diff_2,(-1)))[0])"
   ]
  },
  {
   "cell_type": "code",
   "execution_count": 83,
   "metadata": {},
   "outputs": [
    {
     "data": {
      "text/plain": [
       "Ttest_relResult(statistic=-109.9709315911095, pvalue=2.6725430857079828e-105)"
      ]
     },
     "execution_count": 83,
     "metadata": {},
     "output_type": "execute_result"
    }
   ],
   "source": [
    "#Perform a paired t-test of the respective template correlation across inputs for the weights and the linear model gradients\n",
    "ttest_rel(corrs_weights,corrs_grad_l)"
   ]
  },
  {
   "cell_type": "code",
   "execution_count": 86,
   "metadata": {},
   "outputs": [
    {
     "data": {
      "text/plain": [
       "Ttest_relResult(statistic=-33.43596860643615, pvalue=9.633082244949304e-56)"
      ]
     },
     "execution_count": 86,
     "metadata": {},
     "output_type": "execute_result"
    }
   ],
   "source": [
    "#Perform a paired t-test of the respective template correlation across inputs for the weights and the neural network gradients\n",
    "ttest_rel(corrs_weights,corrs_grad_nn)"
   ]
  },
  {
   "cell_type": "code",
   "execution_count": 127,
   "metadata": {},
   "outputs": [
    {
     "data": {
      "text/plain": [
       "Ttest_relResult(statistic=-31.288118568644073, pvalue=3.9254932508706375e-53)"
      ]
     },
     "execution_count": 127,
     "metadata": {},
     "output_type": "execute_result"
    }
   ],
   "source": [
    "#Perform a paired t-test of the respective template correlation across inputs for the weights and the neural network trained with spherical noise gradients\n",
    "ttest_rel(corrs_weights,corrs_grad_sph)"
   ]
  },
  {
   "cell_type": "code",
   "execution_count": 87,
   "metadata": {},
   "outputs": [
    {
     "data": {
      "text/plain": [
       "Ttest_relResult(statistic=-41.023167034031175, pvalue=6.0311520868350906e-64)"
      ]
     },
     "execution_count": 87,
     "metadata": {},
     "output_type": "execute_result"
    }
   ],
   "source": [
    "#Perform a paired t-test of the respective template correlation across inputs for the weights and the neural network SmoothGrad gradients\n",
    "ttest_rel(corrs_weights,corrs_grad_sg)"
   ]
  },
  {
   "cell_type": "code",
   "execution_count": 88,
   "metadata": {},
   "outputs": [
    {
     "data": {
      "text/plain": [
       "Ttest_relResult(statistic=-60.42889091387812, pvalue=5.948144622572506e-80)"
      ]
     },
     "execution_count": 88,
     "metadata": {},
     "output_type": "execute_result"
    }
   ],
   "source": [
    "#Perform a paired t-test of the respective template correlation across inputs for the weights and the neural network with adversarial training gradients\n",
    "ttest_rel(corrs_weights,corrs_grad_adv)"
   ]
  },
  {
   "cell_type": "code",
   "execution_count": 89,
   "metadata": {},
   "outputs": [
    {
     "data": {
      "text/plain": [
       "Ttest_relResult(statistic=-9.28709938091965, pvalue=3.9273992754031316e-15)"
      ]
     },
     "execution_count": 89,
     "metadata": {},
     "output_type": "execute_result"
    }
   ],
   "source": [
    "#Perform a paired t-test of the respective template correlation across inputs for the linear model gradients and the neural network gradients\n",
    "ttest_rel(corrs_grad_l,corrs_grad_nn)"
   ]
  },
  {
   "cell_type": "code",
   "execution_count": 128,
   "metadata": {},
   "outputs": [
    {
     "data": {
      "text/plain": [
       "Ttest_relResult(statistic=-6.592750050357675, pvalue=2.1232056260057826e-09)"
      ]
     },
     "execution_count": 128,
     "metadata": {},
     "output_type": "execute_result"
    }
   ],
   "source": [
    "#Perform a paired t-test of the respective template correlation across inputs for the linear model gradients and the neural network trained with spherical noise gradients\n",
    "ttest_rel(corrs_grad_l,corrs_grad_sph)"
   ]
  },
  {
   "cell_type": "code",
   "execution_count": 90,
   "metadata": {},
   "outputs": [
    {
     "data": {
      "text/plain": [
       "Ttest_relResult(statistic=-13.182668721520187, pvalue=1.6200157675793628e-23)"
      ]
     },
     "execution_count": 90,
     "metadata": {},
     "output_type": "execute_result"
    }
   ],
   "source": [
    "#Perform a paired t-test of the respective template correlation across inputs for the linear model gradients and the neural network SmoothGrad gradients\n",
    "ttest_rel(corrs_grad_l,corrs_grad_sg)"
   ]
  },
  {
   "cell_type": "code",
   "execution_count": 91,
   "metadata": {},
   "outputs": [
    {
     "data": {
      "text/plain": [
       "Ttest_relResult(statistic=-38.923845196425376, pvalue=8.097148355444616e-62)"
      ]
     },
     "execution_count": 91,
     "metadata": {},
     "output_type": "execute_result"
    }
   ],
   "source": [
    "#Perform a paired t-test of the respective template correlation across inputs for the linear model gradients and the neural network with adversarial training gradients\n",
    "ttest_rel(corrs_grad_l,corrs_grad_adv)"
   ]
  },
  {
   "cell_type": "code",
   "execution_count": 129,
   "metadata": {},
   "outputs": [
    {
     "data": {
      "text/plain": [
       "Ttest_relResult(statistic=3.8143240890251104, pvalue=0.0002376998237157016)"
      ]
     },
     "execution_count": 129,
     "metadata": {},
     "output_type": "execute_result"
    }
   ],
   "source": [
    "#Perform a paired t-test of the respective template correlation across inputs for the neural network gradients and the neural network trained with spherical noise gradients\n",
    "ttest_rel(corrs_grad_nn,corrs_grad_sph)"
   ]
  },
  {
   "cell_type": "code",
   "execution_count": null,
   "metadata": {},
   "outputs": [],
   "source": [
    "#Perform a paired t-test of the respective template correlation across inputs for the neural network gradients and the neural network SmoothGrad gradients\n",
    "ttest_rel(corrs_grad_nn,corrs_grad_sg)"
   ]
  },
  {
   "cell_type": "code",
   "execution_count": 93,
   "metadata": {},
   "outputs": [
    {
     "data": {
      "text/plain": [
       "Ttest_relResult(statistic=-26.161631399420454, pvalue=2.901666994173513e-46)"
      ]
     },
     "execution_count": 93,
     "metadata": {},
     "output_type": "execute_result"
    }
   ],
   "source": [
    "#Perform a paired t-test of the respective template correlation across inputs for the neural network gradients and the neural network with adversarial training gradients\n",
    "ttest_rel(corrs_grad_nn,corrs_grad_adv)"
   ]
  },
  {
   "cell_type": "code",
   "execution_count": 130,
   "metadata": {},
   "outputs": [
    {
     "data": {
      "text/plain": [
       "Ttest_relResult(statistic=-8.658626360597937, pvalue=9.131592808882788e-14)"
      ]
     },
     "execution_count": 130,
     "metadata": {},
     "output_type": "execute_result"
    }
   ],
   "source": [
    "#Perform a paired t-test of the respective template correlation across inputs for the neural network trained with spherical gradients and the neural network SmoothGrad gradients\n",
    "ttest_rel(corrs_grad_sph,corrs_grad_sg)"
   ]
  },
  {
   "cell_type": "code",
   "execution_count": 131,
   "metadata": {},
   "outputs": [
    {
     "data": {
      "text/plain": [
       "Ttest_relResult(statistic=-26.99077884031141, pvalue=1.925230998897133e-47)"
      ]
     },
     "execution_count": 131,
     "metadata": {},
     "output_type": "execute_result"
    }
   ],
   "source": [
    "#Perform a paired t-test of the respective template correlation across inputs for the neural network trained with spherical gradients and the neural network with adversarial training gradients\n",
    "ttest_rel(corrs_grad_sph,corrs_grad_adv)"
   ]
  },
  {
   "cell_type": "code",
   "execution_count": 94,
   "metadata": {},
   "outputs": [
    {
     "data": {
      "text/plain": [
       "Ttest_relResult(statistic=-25.756283783390256, pvalue=1.1191035825719469e-45)"
      ]
     },
     "execution_count": 94,
     "metadata": {},
     "output_type": "execute_result"
    }
   ],
   "source": [
    "#Perform a paired t-test of the respective template correlation across inputs for the neural network SmoothGrad gradients and the neural network with adversarial training gradients\n",
    "ttest_rel(corrs_grad_sg,corrs_grad_adv)"
   ]
  },
  {
   "cell_type": "code",
   "execution_count": 96,
   "metadata": {},
   "outputs": [
    {
     "data": {
      "text/plain": [
       "0.36400995482762055"
      ]
     },
     "execution_count": 96,
     "metadata": {},
     "output_type": "execute_result"
    }
   ],
   "source": [
    "#Get average correlation between the incorrect class weights and the respective template difference map for class 0 inputs\n",
    "np.array([pearsonr(np.reshape(weights_l_0_1[0].mean(axis=0),(-1)),np.reshape(temp_1-temp_0,(-1)))[0],\n",
    "pearsonr(np.reshape(weights_l_0_2[0].mean(axis=0),(-1)),np.reshape(temp_2-temp_0,(-1)))[0],\n",
    "pearsonr(np.reshape(weights_l_1_0[0].mean(axis=0),(-1)),np.reshape(temp_0-temp_1,(-1)))[0],\n",
    "pearsonr(np.reshape(weights_l_1_2[0].mean(axis=0),(-1)),np.reshape(temp_2-temp_1,(-1)))[0],\n",
    "pearsonr(np.reshape(weights_l_2_0[0].mean(axis=0),(-1)),np.reshape(temp_0-temp_2,(-1)))[0],\n",
    "pearsonr(np.reshape(weights_l_2_1[0].mean(axis=0),(-1)),np.reshape(temp_1-temp_2,(-1)))[0]]).mean()"
   ]
  },
  {
   "cell_type": "code",
   "execution_count": 97,
   "metadata": {},
   "outputs": [
    {
     "data": {
      "text/plain": [
       "0.5839459237717086"
      ]
     },
     "execution_count": 97,
     "metadata": {},
     "output_type": "execute_result"
    }
   ],
   "source": [
    "#Get average correlation between the incorrect class linear model gradient and the respective template difference map for class 0 inputs\n",
    "np.array([pearsonr(np.reshape(grad_l_0_1[0].mean(axis=0),(-1)),np.reshape(temp_1-temp_0,(-1)))[0],\n",
    "pearsonr(np.reshape(grad_l_0_2[0].mean(axis=0),(-1)),np.reshape(temp_2-temp_0,(-1)))[0],\n",
    "pearsonr(np.reshape(grad_l_1_0[0].mean(axis=0),(-1)),np.reshape(temp_0-temp_1,(-1)))[0],\n",
    "pearsonr(np.reshape(grad_l_1_2[0].mean(axis=0),(-1)),np.reshape(temp_2-temp_1,(-1)))[0],\n",
    "pearsonr(np.reshape(grad_l_2_0[0].mean(axis=0),(-1)),np.reshape(temp_0-temp_2,(-1)))[0],\n",
    "pearsonr(np.reshape(grad_l_2_1[0].mean(axis=0),(-1)),np.reshape(temp_1-temp_2,(-1)))[0]]).mean()"
   ]
  },
  {
   "cell_type": "code",
   "execution_count": 100,
   "metadata": {},
   "outputs": [
    {
     "data": {
      "text/plain": [
       "0.7140247382612332"
      ]
     },
     "execution_count": 100,
     "metadata": {},
     "output_type": "execute_result"
    }
   ],
   "source": [
    "#Get average correlation between the incorrect class neural network gradient and the respective template difference map for class 0 inputs\n",
    "np.array([pearsonr(np.reshape(grad_nn_0_1[0].mean(axis=0),(-1)),np.reshape(temp_1-temp_0,(-1)))[0],\n",
    "pearsonr(np.reshape(grad_nn_0_2[0].mean(axis=0),(-1)),np.reshape(temp_2-temp_0,(-1)))[0],\n",
    "pearsonr(np.reshape(grad_nn_1_0[0].mean(axis=0),(-1)),np.reshape(temp_0-temp_1,(-1)))[0],\n",
    "pearsonr(np.reshape(grad_nn_1_2[0].mean(axis=0),(-1)),np.reshape(temp_2-temp_1,(-1)))[0],\n",
    "pearsonr(np.reshape(grad_nn_2_0[0].mean(axis=0),(-1)),np.reshape(temp_0-temp_2,(-1)))[0],\n",
    "pearsonr(np.reshape(grad_nn_2_1[0].mean(axis=0),(-1)),np.reshape(temp_1-temp_2,(-1)))[0]]).mean()"
   ]
  },
  {
   "cell_type": "code",
   "execution_count": 120,
   "metadata": {},
   "outputs": [
    {
     "data": {
      "text/plain": [
       "0.697405631672711"
      ]
     },
     "execution_count": 120,
     "metadata": {},
     "output_type": "execute_result"
    }
   ],
   "source": [
    "#Get average correlation between the incorrect class neural network trained with spherical noise gradient and the respective template difference map for class 0 inputs\n",
    "np.array([pearsonr(np.reshape(grad_sph_0_1[0].mean(axis=0),(-1)),np.reshape(temp_1-temp_0,(-1)))[0],\n",
    "pearsonr(np.reshape(grad_sph_0_2[0].mean(axis=0),(-1)),np.reshape(temp_2-temp_0,(-1)))[0],\n",
    "pearsonr(np.reshape(grad_sph_1_0[0].mean(axis=0),(-1)),np.reshape(temp_0-temp_1,(-1)))[0],\n",
    "pearsonr(np.reshape(grad_sph_1_2[0].mean(axis=0),(-1)),np.reshape(temp_2-temp_1,(-1)))[0],\n",
    "pearsonr(np.reshape(grad_sph_2_0[0].mean(axis=0),(-1)),np.reshape(temp_0-temp_2,(-1)))[0],\n",
    "pearsonr(np.reshape(grad_sph_2_1[0].mean(axis=0),(-1)),np.reshape(temp_1-temp_2,(-1)))[0]]).mean()"
   ]
  },
  {
   "cell_type": "code",
   "execution_count": 132,
   "metadata": {},
   "outputs": [
    {
     "data": {
      "text/plain": [
       "0.716116959254047"
      ]
     },
     "execution_count": 132,
     "metadata": {},
     "output_type": "execute_result"
    }
   ],
   "source": [
    "#Get average correlation between the incorrect class neural network SmoothGrad gradient and the respective template difference map for class 0 inputs\n",
    "np.array([pearsonr(np.reshape(grad_sg_0_1[0].mean(axis=0),(-1)),np.reshape(temp_1-temp_0,(-1)))[0],\n",
    "pearsonr(np.reshape(grad_sg_0_2[0].mean(axis=0),(-1)),np.reshape(temp_2-temp_0,(-1)))[0],\n",
    "pearsonr(np.reshape(grad_sg_1_0[0].mean(axis=0),(-1)),np.reshape(temp_0-temp_1,(-1)))[0],\n",
    "pearsonr(np.reshape(grad_sg_1_2[0].mean(axis=0),(-1)),np.reshape(temp_2-temp_1,(-1)))[0],\n",
    "pearsonr(np.reshape(grad_sg_2_0[0].mean(axis=0),(-1)),np.reshape(temp_0-temp_2,(-1)))[0],\n",
    "pearsonr(np.reshape(grad_sg_2_1[0].mean(axis=0),(-1)),np.reshape(temp_1-temp_2,(-1)))[0]]).mean()"
   ]
  },
  {
   "cell_type": "code",
   "execution_count": 133,
   "metadata": {},
   "outputs": [
    {
     "data": {
      "text/plain": [
       "0.9291893410875143"
      ]
     },
     "execution_count": 133,
     "metadata": {},
     "output_type": "execute_result"
    }
   ],
   "source": [
    "#Get average correlation between the incorrect class neural network with adversarial training gradient and the respective template difference map for class 0 inputs\n",
    "np.array([pearsonr(np.reshape(grad_adv_0_1[0].mean(axis=0),(-1)),np.reshape(temp_1-temp_0,(-1)))[0],\n",
    "pearsonr(np.reshape(grad_adv_0_2[0].mean(axis=0),(-1)),np.reshape(temp_2-temp_0,(-1)))[0],\n",
    "pearsonr(np.reshape(grad_adv_1_0[0].mean(axis=0),(-1)),np.reshape(temp_0-temp_1,(-1)))[0],\n",
    "pearsonr(np.reshape(grad_adv_1_2[0].mean(axis=0),(-1)),np.reshape(temp_2-temp_1,(-1)))[0],\n",
    "pearsonr(np.reshape(grad_adv_2_0[0].mean(axis=0),(-1)),np.reshape(temp_0-temp_2,(-1)))[0],\n",
    "pearsonr(np.reshape(grad_adv_2_1[0].mean(axis=0),(-1)),np.reshape(temp_1-temp_2,(-1)))[0]]).mean()"
   ]
  },
  {
   "cell_type": "code",
   "execution_count": 104,
   "metadata": {},
   "outputs": [],
   "source": [
    "#Get average correlation between the incorrect class weights and the respective template difference map for each input\n",
    "corrs_weights_diffs = []\n",
    "\n",
    "for i in range(weights_l_0_1[0].shape[0]):\n",
    "    corrs_tmp = 0\n",
    "    corrs_tmp += pearsonr(np.reshape(weights_l_0_1[0][i],(-1)),np.reshape(temp_1-temp_0,(-1)))[0]\n",
    "    corrs_tmp += pearsonr(np.reshape(weights_l_0_2[0][i],(-1)),np.reshape(temp_2-temp_0,(-1)))[0]\n",
    "    corrs_weights_diffs.append(corrs_tmp/2.0)\n",
    "    \n",
    "for i in range(weights_l_1_0[0].shape[0]):\n",
    "    corrs_tmp = 0\n",
    "    corrs_tmp += pearsonr(np.reshape(weights_l_1_0[0][i],(-1)),np.reshape(temp_0-temp_1,(-1)))[0]\n",
    "    corrs_tmp += pearsonr(np.reshape(weights_l_1_2[0][i],(-1)),np.reshape(temp_2-temp_1,(-1)))[0]\n",
    "    corrs_weights_diffs.append(corrs_tmp/2.0)\n",
    "for i in range(weights_l_2_0[0].shape[0]):    \n",
    "    corrs_tmp = 0\n",
    "    corrs_tmp += pearsonr(np.reshape(weights_l_2_0[0][i],(-1)),np.reshape(temp_0-temp_2,(-1)))[0]\n",
    "    corrs_tmp += pearsonr(np.reshape(weights_l_2_1[0][i],(-1)),np.reshape(temp_1-temp_2,(-1)))[0]\n",
    "    corrs_weights_diffs.append(corrs_tmp/2.0)"
   ]
  },
  {
   "cell_type": "code",
   "execution_count": 105,
   "metadata": {},
   "outputs": [],
   "source": [
    "#Get average correlation between the incorrect class linear model gradient and the respective template difference map for each input\n",
    "corrs_grad_l_diffs = []\n",
    "\n",
    "for i in range(grad_l_0_1[0].shape[0]):\n",
    "    corrs_tmp = 0\n",
    "    corrs_tmp += pearsonr(np.reshape(grad_l_0_1[0][i],(-1)),np.reshape(temp_1-temp_0,(-1)))[0]\n",
    "    corrs_tmp += pearsonr(np.reshape(grad_l_0_2[0][i],(-1)),np.reshape(temp_2-temp_0,(-1)))[0]\n",
    "    corrs_grad_l_diffs.append(corrs_tmp/2.0)\n",
    "    \n",
    "for i in range(grad_l_1_0[0].shape[0]):\n",
    "    corrs_tmp = 0\n",
    "    corrs_tmp += pearsonr(np.reshape(grad_l_1_0[0][i],(-1)),np.reshape(temp_0-temp_1,(-1)))[0]\n",
    "    corrs_tmp += pearsonr(np.reshape(grad_l_1_2[0][i],(-1)),np.reshape(temp_2-temp_1,(-1)))[0]\n",
    "    corrs_grad_l_diffs.append(corrs_tmp/2.0)\n",
    "for i in range(grad_l_2_0[0].shape[0]):    \n",
    "    corrs_tmp = 0\n",
    "    corrs_tmp += pearsonr(np.reshape(grad_l_2_0[0][i],(-1)),np.reshape(temp_0-temp_2,(-1)))[0]\n",
    "    corrs_tmp += pearsonr(np.reshape(grad_l_2_1[0][i],(-1)),np.reshape(temp_1-temp_2,(-1)))[0]\n",
    "    corrs_grad_l_diffs.append(corrs_tmp/2.0)"
   ]
  },
  {
   "cell_type": "code",
   "execution_count": 107,
   "metadata": {},
   "outputs": [],
   "source": [
    "#Get average correlation between the incorrect class neural network gradient and the respective template difference map for each input\n",
    "corrs_grad_nn_diffs = []\n",
    "\n",
    "for i in range(grad_nn_0_1[0].shape[0]):\n",
    "    corrs_tmp = 0\n",
    "    corrs_tmp += pearsonr(np.reshape(grad_nn_0_1[0][i],(-1)),np.reshape(temp_1-temp_0,(-1)))[0]\n",
    "    corrs_tmp += pearsonr(np.reshape(grad_nn_0_2[0][i],(-1)),np.reshape(temp_2-temp_0,(-1)))[0]\n",
    "    corrs_grad_nn_diffs.append(corrs_tmp/2.0)\n",
    "    \n",
    "for i in range(grad_nn_1_0[0].shape[0]):\n",
    "    corrs_tmp = 0\n",
    "    corrs_tmp += pearsonr(np.reshape(grad_nn_1_0[0][i],(-1)),np.reshape(temp_0-temp_1,(-1)))[0]\n",
    "    corrs_tmp += pearsonr(np.reshape(grad_nn_1_2[0][i],(-1)),np.reshape(temp_2-temp_1,(-1)))[0]\n",
    "    corrs_grad_nn_diffs.append(corrs_tmp/2.0)\n",
    "for i in range(grad_nn_2_0[0].shape[0]):    \n",
    "    corrs_tmp = 0\n",
    "    corrs_tmp += pearsonr(np.reshape(grad_nn_2_0[0][i],(-1)),np.reshape(temp_0-temp_2,(-1)))[0]\n",
    "    corrs_tmp += pearsonr(np.reshape(grad_nn_2_1[0][i],(-1)),np.reshape(temp_1-temp_2,(-1)))[0]\n",
    "    corrs_grad_nn_diffs.append(corrs_tmp/2.0)"
   ]
  },
  {
   "cell_type": "code",
   "execution_count": 134,
   "metadata": {},
   "outputs": [],
   "source": [
    "#Get average correlation between the incorrect class neural network trained with spherical noise gradient and the respective template difference map for each input\n",
    "corrs_grad_sph_diffs = []\n",
    "\n",
    "for i in range(grad_sph_0_1[0].shape[0]):\n",
    "    corrs_tmp = 0\n",
    "    corrs_tmp += pearsonr(np.reshape(grad_sph_0_1[0][i],(-1)),np.reshape(temp_1-temp_0,(-1)))[0]\n",
    "    corrs_tmp += pearsonr(np.reshape(grad_sph_0_2[0][i],(-1)),np.reshape(temp_2-temp_0,(-1)))[0]\n",
    "    corrs_grad_sph_diffs.append(corrs_tmp/2.0)\n",
    "    \n",
    "for i in range(grad_sph_1_0[0].shape[0]):\n",
    "    corrs_tmp = 0\n",
    "    corrs_tmp += pearsonr(np.reshape(grad_sph_1_0[0][i],(-1)),np.reshape(temp_0-temp_1,(-1)))[0]\n",
    "    corrs_tmp += pearsonr(np.reshape(grad_sph_1_2[0][i],(-1)),np.reshape(temp_2-temp_1,(-1)))[0]\n",
    "    corrs_grad_sph_diffs.append(corrs_tmp/2.0)\n",
    "for i in range(grad_sph_2_0[0].shape[0]):    \n",
    "    corrs_tmp = 0\n",
    "    corrs_tmp += pearsonr(np.reshape(grad_sph_2_0[0][i],(-1)),np.reshape(temp_0-temp_2,(-1)))[0]\n",
    "    corrs_tmp += pearsonr(np.reshape(grad_sph_2_1[0][i],(-1)),np.reshape(temp_1-temp_2,(-1)))[0]\n",
    "    corrs_grad_sph_diffs.append(corrs_tmp/2.0)"
   ]
  },
  {
   "cell_type": "code",
   "execution_count": 135,
   "metadata": {},
   "outputs": [],
   "source": [
    "#Get average correlation between the incorrect class neural network SmoothGrad gradient and the respective template difference map for each input\n",
    "corrs_grad_sg_diffs = []\n",
    "\n",
    "for i in range(grad_sg_0_1[0].shape[0]):\n",
    "    corrs_tmp = 0\n",
    "    corrs_tmp += pearsonr(np.reshape(grad_sg_0_1[0][i],(-1)),np.reshape(temp_1-temp_0,(-1)))[0]\n",
    "    corrs_tmp += pearsonr(np.reshape(grad_sg_0_2[0][i],(-1)),np.reshape(temp_2-temp_0,(-1)))[0]\n",
    "    corrs_grad_sg_diffs.append(corrs_tmp/2.0)\n",
    "    \n",
    "for i in range(grad_sg_1_0[0].shape[0]):\n",
    "    corrs_tmp = 0\n",
    "    corrs_tmp += pearsonr(np.reshape(grad_sg_1_0[0][i],(-1)),np.reshape(temp_0-temp_1,(-1)))[0]\n",
    "    corrs_tmp += pearsonr(np.reshape(grad_sg_1_2[0][i],(-1)),np.reshape(temp_2-temp_1,(-1)))[0]\n",
    "    corrs_grad_sg_diffs.append(corrs_tmp/2.0)\n",
    "for i in range(grad_sg_2_0[0].shape[0]):    \n",
    "    corrs_tmp = 0\n",
    "    corrs_tmp += pearsonr(np.reshape(grad_sg_2_0[0][i],(-1)),np.reshape(temp_0-temp_2,(-1)))[0]\n",
    "    corrs_tmp += pearsonr(np.reshape(grad_sg_2_1[0][i],(-1)),np.reshape(temp_1-temp_2,(-1)))[0]\n",
    "    corrs_grad_sg_diffs.append(corrs_tmp/2.0)"
   ]
  },
  {
   "cell_type": "code",
   "execution_count": 136,
   "metadata": {},
   "outputs": [],
   "source": [
    "#Get average correlation between the incorrect class neural network with adversarial training gradient and the respective template difference map for each input\n",
    "\n",
    "corrs_grad_adv_diffs = []\n",
    "\n",
    "for i in range(grad_adv_0_1[0].shape[0]):\n",
    "    corrs_tmp = 0\n",
    "    corrs_tmp += pearsonr(np.reshape(grad_adv_0_1[0][i],(-1)),np.reshape(temp_1-temp_0,(-1)))[0]\n",
    "    corrs_tmp += pearsonr(np.reshape(grad_adv_0_2[0][i],(-1)),np.reshape(temp_2-temp_0,(-1)))[0]\n",
    "    corrs_grad_adv_diffs.append(corrs_tmp/2.0)\n",
    "    \n",
    "for i in range(grad_adv_1_0[0].shape[0]):\n",
    "    corrs_tmp = 0\n",
    "    corrs_tmp += pearsonr(np.reshape(grad_adv_1_0[0][i],(-1)),np.reshape(temp_0-temp_1,(-1)))[0]\n",
    "    corrs_tmp += pearsonr(np.reshape(grad_adv_1_2[0][i],(-1)),np.reshape(temp_2-temp_1,(-1)))[0]\n",
    "    corrs_grad_adv_diffs.append(corrs_tmp/2.0)\n",
    "for i in range(grad_adv_2_0[0].shape[0]):    \n",
    "    corrs_tmp = 0\n",
    "    corrs_tmp += pearsonr(np.reshape(grad_adv_2_0[0][i],(-1)),np.reshape(temp_0-temp_2,(-1)))[0]\n",
    "    corrs_tmp += pearsonr(np.reshape(grad_adv_2_1[0][i],(-1)),np.reshape(temp_1-temp_2,(-1)))[0]\n",
    "    corrs_grad_adv_diffs.append(corrs_tmp/2.0)"
   ]
  },
  {
   "cell_type": "code",
   "execution_count": 110,
   "metadata": {},
   "outputs": [
    {
     "data": {
      "text/plain": [
       "Ttest_relResult(statistic=-155.71850743588212, pvalue=3.618771602923314e-120)"
      ]
     },
     "execution_count": 110,
     "metadata": {},
     "output_type": "execute_result"
    }
   ],
   "source": [
    "#Perform a paired t-test of the respective template difference map correlation across inputs for the weights and the linear model gradients\n",
    "ttest_rel(corrs_weights_diffs,corrs_grad_l_diffs)"
   ]
  },
  {
   "cell_type": "code",
   "execution_count": 111,
   "metadata": {},
   "outputs": [
    {
     "data": {
      "text/plain": [
       "Ttest_relResult(statistic=-67.68021051540151, pvalue=1.0378531225937044e-84)"
      ]
     },
     "execution_count": 111,
     "metadata": {},
     "output_type": "execute_result"
    }
   ],
   "source": [
    "#Perform a paired t-test of the respective template difference map correlation across inputs for the weights and the neural network gradients\n",
    "ttest_rel(corrs_weights_diffs,corrs_grad_nn_diffs)"
   ]
  },
  {
   "cell_type": "code",
   "execution_count": 137,
   "metadata": {},
   "outputs": [
    {
     "data": {
      "text/plain": [
       "Ttest_relResult(statistic=-66.87039422840476, pvalue=3.332117329282975e-84)"
      ]
     },
     "execution_count": 137,
     "metadata": {},
     "output_type": "execute_result"
    }
   ],
   "source": [
    "#Perform a paired t-test of the respective template difference map correlation across inputs for the weights and the neural network trained with spherical noise gradients\n",
    "ttest_rel(corrs_weights_diffs,corrs_grad_sph_diffs)"
   ]
  },
  {
   "cell_type": "code",
   "execution_count": 112,
   "metadata": {},
   "outputs": [
    {
     "data": {
      "text/plain": [
       "Ttest_relResult(statistic=-107.37017685531008, pvalue=2.802088616518545e-104)"
      ]
     },
     "execution_count": 112,
     "metadata": {},
     "output_type": "execute_result"
    }
   ],
   "source": [
    "#Perform a paired t-test of the respective template difference map correlation across inputs for the weights and the neural network gradients\n",
    "ttest_rel(corrs_weights_diffs,corrs_grad_adv_diffs)"
   ]
  },
  {
   "cell_type": "code",
   "execution_count": 113,
   "metadata": {},
   "outputs": [
    {
     "data": {
      "text/plain": [
       "Ttest_relResult(statistic=-16.01604602853731, pvalue=3.0818091143537544e-29)"
      ]
     },
     "execution_count": 113,
     "metadata": {},
     "output_type": "execute_result"
    }
   ],
   "source": [
    "#Perform a paired t-test of the respective template difference map correlation across inputs for the linear model gradients and the neural network gradients\n",
    "ttest_rel(corrs_grad_l_diffs,corrs_grad_nn_diffs)"
   ]
  },
  {
   "cell_type": "code",
   "execution_count": 138,
   "metadata": {},
   "outputs": [
    {
     "data": {
      "text/plain": [
       "Ttest_relResult(statistic=-10.535099570217765, pvalue=7.464678632135253e-18)"
      ]
     },
     "execution_count": 138,
     "metadata": {},
     "output_type": "execute_result"
    }
   ],
   "source": [
    "#Perform a paired t-test of the respective template difference map correlation across inputs for the linear model gradients and the neural network trained with spherical noise gradients\n",
    "ttest_rel(corrs_grad_l_diffs,corrs_grad_sph_diffs)"
   ]
  },
  {
   "cell_type": "code",
   "execution_count": 114,
   "metadata": {},
   "outputs": [
    {
     "data": {
      "text/plain": [
       "Ttest_relResult(statistic=-25.03961298186853, pvalue=1.265583263061558e-44)"
      ]
     },
     "execution_count": 114,
     "metadata": {},
     "output_type": "execute_result"
    }
   ],
   "source": [
    "#Perform a paired t-test of the respective template difference map correlation across inputs for the linear model gradients and the neural network SmoothGrad gradients\n",
    "ttest_rel(corrs_grad_l_diffs,corrs_grad_sg_diffs)"
   ]
  },
  {
   "cell_type": "code",
   "execution_count": 139,
   "metadata": {},
   "outputs": [
    {
     "data": {
      "text/plain": [
       "Ttest_relResult(statistic=-59.331897505140404, pvalue=3.47621623014004e-79)"
      ]
     },
     "execution_count": 139,
     "metadata": {},
     "output_type": "execute_result"
    }
   ],
   "source": [
    "#Perform a paired t-test of the respective template difference map correlation across inputs for the linear model gradients and the neural network with adversarial training gradients\n",
    "ttest_rel(corrs_grad_l_diffs,corrs_grad_adv_diffs)"
   ]
  },
  {
   "cell_type": "code",
   "execution_count": 140,
   "metadata": {},
   "outputs": [
    {
     "data": {
      "text/plain": [
       "Ttest_relResult(statistic=6.414505538142555, pvalue=4.870407151614064e-09)"
      ]
     },
     "execution_count": 140,
     "metadata": {},
     "output_type": "execute_result"
    }
   ],
   "source": [
    "#Perform a paired t-test of the respective template difference map correlation across inputs for the neural network gradients and the neural network trained with spherical noise gradients\n",
    "ttest_rel(corrs_grad_nn_diffs,corrs_grad_sph_diffs)"
   ]
  },
  {
   "cell_type": "code",
   "execution_count": 141,
   "metadata": {},
   "outputs": [
    {
     "data": {
      "text/plain": [
       "Ttest_relResult(statistic=-9.600761891258712, pvalue=8.129720567209312e-16)"
      ]
     },
     "execution_count": 141,
     "metadata": {},
     "output_type": "execute_result"
    }
   ],
   "source": [
    "#Perform a paired t-test of the respective template difference map correlation across inputs for the neural network gradients and the neural network SmoothGrad gradients\n",
    "ttest_rel(corrs_grad_nn_diffs,corrs_grad_sg_diffs)"
   ]
  },
  {
   "cell_type": "code",
   "execution_count": 142,
   "metadata": {},
   "outputs": [
    {
     "data": {
      "text/plain": [
       "Ttest_relResult(statistic=-39.198302641474505, pvalue=4.211695677464169e-62)"
      ]
     },
     "execution_count": 142,
     "metadata": {},
     "output_type": "execute_result"
    }
   ],
   "source": [
    "#Perform a paired t-test of the respective template difference map correlation across inputs for the neural network gradients and the neural network with adversarial training gradients\n",
    "ttest_rel(corrs_grad_nn_diffs,corrs_grad_adv_diffs)"
   ]
  },
  {
   "cell_type": "code",
   "execution_count": 143,
   "metadata": {},
   "outputs": [
    {
     "data": {
      "text/plain": [
       "Ttest_relResult(statistic=-13.210695703546023, pvalue=1.4157197684854322e-23)"
      ]
     },
     "execution_count": 143,
     "metadata": {},
     "output_type": "execute_result"
    }
   ],
   "source": [
    "#Perform a paired t-test of the respective template difference map correlation across inputs for the neural network trained with spherical noise gradients and the neural network SmoothGrad gradients\n",
    "ttest_rel(corrs_grad_sph_diffs,corrs_grad_sg_diffs)"
   ]
  },
  {
   "cell_type": "code",
   "execution_count": 144,
   "metadata": {},
   "outputs": [
    {
     "data": {
      "text/plain": [
       "Ttest_relResult(statistic=-40.21093502724892, pvalue=3.9085422702677484e-63)"
      ]
     },
     "execution_count": 144,
     "metadata": {},
     "output_type": "execute_result"
    }
   ],
   "source": [
    "#Perform a paired t-test of the respective template difference map correlation across inputs for the neural network trained with spherical noise gradients and the neural network with adversarial training gradients\n",
    "ttest_rel(corrs_grad_sph_diffs,corrs_grad_adv_diffs)"
   ]
  },
  {
   "cell_type": "code",
   "execution_count": 145,
   "metadata": {},
   "outputs": [
    {
     "data": {
      "text/plain": [
       "Ttest_relResult(statistic=-38.52733485662872, pvalue=2.0968573444508738e-61)"
      ]
     },
     "execution_count": 145,
     "metadata": {},
     "output_type": "execute_result"
    }
   ],
   "source": [
    "#Perform a paired t-test of the respective template difference map correlation across inputs for the neural network SmoothGrad gradients and the neural network with adversarial training gradients\n",
    "ttest_rel(corrs_grad_sg_diffs,corrs_grad_adv_diffs)"
   ]
  }
 ],
 "metadata": {
  "kernelspec": {
   "display_name": "Python 3",
   "language": "python",
   "name": "python3"
  },
  "language_info": {
   "codemirror_mode": {
    "name": "ipython",
    "version": 3
   },
   "file_extension": ".py",
   "mimetype": "text/x-python",
   "name": "python",
   "nbconvert_exporter": "python",
   "pygments_lexer": "ipython3",
   "version": "3.6.7"
  }
 },
 "nbformat": 4,
 "nbformat_minor": 4
}
